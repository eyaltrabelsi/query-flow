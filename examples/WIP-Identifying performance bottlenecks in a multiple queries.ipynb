{
 "cells": [
  {
   "cell_type": "markdown",
   "metadata": {},
   "source": [
    "# Identifying performance bottlenecks in a multiple queries\n"
   ]
  },
  {
   "cell_type": "code",
   "execution_count": 2,
   "metadata": {},
   "outputs": [
    {
     "data": {
      "text/html": [
       "        <script type=\"text/javascript\">\n",
       "        window.PlotlyConfig = {MathJaxConfig: 'local'};\n",
       "        if (window.MathJax) {MathJax.Hub.Config({SVG: {font: \"STIX-Web\"}});}\n",
       "        if (typeof require !== 'undefined') {\n",
       "        require.undef(\"plotly\");\n",
       "        requirejs.config({\n",
       "            paths: {\n",
       "                'plotly': ['https://cdn.plot.ly/plotly-latest.min']\n",
       "            }\n",
       "        });\n",
       "        require(['plotly'], function(Plotly) {\n",
       "            window._Plotly = Plotly;\n",
       "        });\n",
       "        }\n",
       "        </script>\n",
       "        "
      ]
     },
     "metadata": {},
     "output_type": "display_data"
    }
   ],
   "source": [
    "import pandas as pd\n",
    "\n",
    "from plotly.offline import init_notebook_mode\n",
    "from sqlalchemy import create_engine\n",
    "\n",
    "from query_flow.parsers.postgres_parser import PostgresParser\n",
    "from query_flow.vizualizers.query_vizualizer import QueryVizualizer\n",
    "from plotly.offline import plot, iplot"
   ]
  },
  {
   "cell_type": "markdown",
   "metadata": {},
   "source": [
    "**Slow queries are common and can be caused by various reasons. This makes optimizing queries extremely hard. The main reason multi-queries optimization is even harder is that one query may affect the other. Thus, it is critical to make sure that we take other queries into consideration.** \n",
    "\n",
    "Using QueryFlow we can visualize the queries’ sub-expressions characteristics. Since the execution time of a sub-expression can be caused by several reasons, we might need to visualize the cardinality (actual_rows), duration (actual_duration), and other statistics like whether the operation spilled to disk.\n",
    "\n",
    "We can use QueryFlow as is and visualize two separate Sankies for each of our queries. But we can make it even easier if we construct one Sankey for multiple queries. To do so we need to modify both the parsing and the visualization algorithm. \n",
    "\n",
    "In the parsing algorithm, we add a step that checks if a sub-expression was already seen and assigns the current sub-expression with that expression id. To make this possible instead of calculating the node id as an incremental integer, we use a hash function on operation_type, label, and label_metadata. This allows us to see our queries in a compact form as our sub-expressions “share” nodes. The modification for the algorithm can be seen in figure 50.\n",
    "\n",
    "To make differentiating the two queries, we assign each query its color. There is no change required in the enrichment algorithm, as this is done in the visualization phase. The algorithm calculates the hue (color) for each metric in step 5 and then modifies each rows’ hue according to its corresponding metric. The modification for the visualization algorithm can be seen in figure 51\n",
    "\n",
    "To illustrate the gist of the MQO problem, we use two simple queries. The first query is the same example as in 4.2. The query can be seen in figure 52. \n",
    "\n",
    " \n",
    "\t¬¬              Figure 52 – Identify Performance Bottleneck First Query\n",
    "\n",
    "The second query we use is the same example as in chapter 3. The query can be seen in figure 53. \n"
   ]
  },
  {
   "cell_type": "code",
   "execution_count": 3,
   "metadata": {},
   "outputs": [],
   "source": [
    "con_str = 'postgresql:///etrabelsi_thesis'\n",
    "query_renderer = QueryVizualizer(parser=PostgresParser(is_compact=True))\n",
    "with create_engine(con_str).connect() as con:\n",
    "    con.execute(\"DROP INDEX if exists crew_index\")\n",
    "    con.execute(\"DROP INDEX if exists titles_index\")\n",
    "query1 = \"\"\"\n",
    "SELECT titles.title_id\n",
    "FROM titles\n",
    "INNER JOIN crew ON crew.title_id = titles.title_id\n",
    "INNER JOIN people ON people.person_id = crew.person_id\n",
    "WHERE genres like '%Comedy%' \n",
    "  AND name in ('Owen Wilson', 'Adam Sandler', 'Jason Segel')\n",
    "\"\"\"\n",
    "\n",
    "\n",
    "query2 = \"\"\"\n",
    "SELECT titles.title_id\n",
    "FROM titles\n",
    "WHERE genres = 'Comedy' \n",
    "UNION ALL\n",
    "SELECT titles.title_id\n",
    "FROM titles\n",
    "WHERE genres = 'Action' \n",
    "\"\"\"\n",
    "\n",
    "queries = [query2, query1]\n",
    "flow_df = query_renderer.get_flow_df(queries, con_str=con_str)\n",
    "query_renderer.vizualize(flow_df, metrics=[\"actual_duration\"], title=\"multiple queries optimization\",open_=False)    "
   ]
  },
  {
   "cell_type": "markdown",
   "metadata": {},
   "source": [
    "We can see that the same logical operations can share the same nodes and each query gets its own color (hue), the first query is  represented in yellow and the second query is  represented in green.\n",
    "\n",
    "In terms of optimizing our queries, we can see that only a few rows are retrieved from the People* ⋈ Crew due to the filter on the People relation and the same goes for Title relation filtered, which indicates there might be a good candidate for optimization. \n",
    "\n",
    "To get more information, we created another Sankey that represents the duration of our example, and it can be seen in the next cell.\n"
   ]
  },
  {
   "cell_type": "code",
   "execution_count": 20,
   "metadata": {},
   "outputs": [
    {
     "data": {
      "application/vnd.plotly.v1+json": {
       "config": {
        "linkText": "Export to plot.ly",
        "plotlyServerURL": "https://plot.ly",
        "showLink": false
       },
       "data": [
        {
         "link": {
          "color": [
           "#ffffb2",
           "#ffffb2",
           "#ffffb2",
           "#ffffb2",
           "#ffffb2",
           "#b2ffb2",
           "#b2ffb2",
           "#b2ffb2",
           "#ffffb2",
           "#b2ffb2",
           "#ffffb2",
           "#b2ffb2"
          ],
          "label": [
           "\nDescription: Finds relevant records by sequentially scanning the input record set. When reading from a table, Seq Scans (unlike Index Scans) perform a single read operation (only the table is read).",
           "\nDescription: Filter relation to hold only relevant records.Filter condition: (people.name = ANY ('{\"Owen Wilson\",\"Adam Sandler\",\"Jason Segel\"}'::text[]))",
           "\nDescription: Finds relevant records by sequentially scanning the input record set. When reading from a table, Seq Scans (unlike Index Scans) perform a single read operation (only the table is read).",
           "\nDescription: Joins to record sets by hashing one of them (using a Hash Scan).Inner Join with (crew.person_id = people.person_id)",
           "\nDescription: Joins to record sets by hashing one of them (using a Hash Scan).Inner Join with (titles.title_id = crew.title_id)",
           "\nDescription: Finds relevant records by sequentially scanning the input record set. When reading from a table, Seq Scans (unlike Index Scans) perform a single read operation (only the table is read).",
           "\nDescription: Filter relation to hold only relevant records.Filter condition: (titles_1.genres ~~ '%Action%'::text)",
           "\nDescription: Finds relevant records by sequentially scanning the input record set. When reading from a table, Seq Scans (unlike Index Scans) perform a single read operation (only the table is read).",
           "\nDescription: Finds relevant records by sequentially scanning the input record set. When reading from a table, Seq Scans (unlike Index Scans) perform a single read operation (only the table is read).",
           "\nDescription: Filter relation to hold only relevant records.Filter condition: (titles.genres ~~ '%Comedy%'::text)",
           "\nDescription: Filter relation to hold only relevant records.Filter condition: (titles.genres ~~ '%Comedy%'::text)",
           "\nDescription: Used in a UNION to merge multiple record sets by appending them together."
          ],
          "source": [
           0,
           1,
           2,
           3,
           4,
           5,
           6,
           7,
           7,
           8,
           8,
           9
          ],
          "target": [
           1,
           3,
           3,
           4,
           11,
           6,
           9,
           8,
           8,
           9,
           4,
           10
          ],
          "value": [
           3560478,
           3,
           14269149,
           572,
           188,
           2522032,
           104355,
           7566096,
           2522032,
           1555693,
           518564,
           1868758
          ]
         },
         "node": {
          "color": [
           "black",
           "black",
           "black",
           "black",
           "black",
           "black",
           "black",
           "black",
           "black",
           "black",
           "black",
           "black"
          ],
          "label": [
           "People",
           "People*",
           "Crew",
           "People* ⋈ Crew",
           "People* ⋈ Crew ⋈ Titles*",
           "Titles_1",
           "Titles*",
           "Titles",
           "Titles*",
           "Titles* U Titles*"
          ],
          "pad": 200
         },
         "orientation": "h",
         "type": "sankey",
         "valueformat": ",",
         "valuesuffix": [
          " Rows",
          " Rows",
          " Rows",
          " Rows",
          " Rows",
          " Rows",
          " Rows",
          " Rows",
          " Rows",
          " Rows",
          " Rows",
          " Rows"
         ]
        }
       ],
       "layout": {
        "font": {
         "size": 10
        },
        "height": 750,
        "title": "multiple queries optimization-actual_rows",
        "updatemenus": [
         {
          "buttons": [
           {
            "args": [
             "orientation",
             "h"
            ],
            "label": "Horizontal",
            "method": "restyle"
           },
           {
            "args": [
             "orientation",
             "v"
            ],
            "label": "Vertical",
            "method": "restyle"
           }
          ],
          "y": 0.6
         }
        ]
       }
      },
      "text/html": [
       "<div>\n",
       "        \n",
       "        \n",
       "            <div id=\"5c4fb573-d8b8-4e7e-aaea-6b41ea533267\" class=\"plotly-graph-div\" style=\"height:750px; width:100%;\"></div>\n",
       "            <script type=\"text/javascript\">\n",
       "                require([\"plotly\"], function(Plotly) {\n",
       "                    window.PLOTLYENV=window.PLOTLYENV || {};\n",
       "                    \n",
       "                if (document.getElementById(\"5c4fb573-d8b8-4e7e-aaea-6b41ea533267\")) {\n",
       "                    Plotly.newPlot(\n",
       "                        '5c4fb573-d8b8-4e7e-aaea-6b41ea533267',\n",
       "                        [{\"link\": {\"color\": [\"#ffffb2\", \"#ffffb2\", \"#ffffb2\", \"#ffffb2\", \"#ffffb2\", \"#b2ffb2\", \"#b2ffb2\", \"#b2ffb2\", \"#ffffb2\", \"#b2ffb2\", \"#ffffb2\", \"#b2ffb2\"], \"label\": [\"\\nDescription: Finds relevant records by sequentially scanning the input record set. When reading from a table, Seq Scans (unlike Index Scans) perform a single read operation (only the table is read).\", \"\\nDescription: Filter relation to hold only relevant records.Filter condition: (people.name = ANY ('{\\\"Owen Wilson\\\",\\\"Adam Sandler\\\",\\\"Jason Segel\\\"}'::text[]))\", \"\\nDescription: Finds relevant records by sequentially scanning the input record set. When reading from a table, Seq Scans (unlike Index Scans) perform a single read operation (only the table is read).\", \"\\nDescription: Joins to record sets by hashing one of them (using a Hash Scan).Inner Join with (crew.person_id = people.person_id)\", \"\\nDescription: Joins to record sets by hashing one of them (using a Hash Scan).Inner Join with (titles.title_id = crew.title_id)\", \"\\nDescription: Finds relevant records by sequentially scanning the input record set. When reading from a table, Seq Scans (unlike Index Scans) perform a single read operation (only the table is read).\", \"\\nDescription: Filter relation to hold only relevant records.Filter condition: (titles_1.genres ~~ '%Action%'::text)\", \"\\nDescription: Finds relevant records by sequentially scanning the input record set. When reading from a table, Seq Scans (unlike Index Scans) perform a single read operation (only the table is read).\", \"\\nDescription: Finds relevant records by sequentially scanning the input record set. When reading from a table, Seq Scans (unlike Index Scans) perform a single read operation (only the table is read).\", \"\\nDescription: Filter relation to hold only relevant records.Filter condition: (titles.genres ~~ '%Comedy%'::text)\", \"\\nDescription: Filter relation to hold only relevant records.Filter condition: (titles.genres ~~ '%Comedy%'::text)\", \"\\nDescription: Used in a UNION to merge multiple record sets by appending them together.\"], \"source\": [0, 1, 2, 3, 4, 5, 6, 7, 7, 8, 8, 9], \"target\": [1, 3, 3, 4, 11, 6, 9, 8, 8, 9, 4, 10], \"value\": [3560478, 3, 14269149, 572, 188, 2522032, 104355, 7566096, 2522032, 1555693, 518564, 1868758]}, \"node\": {\"color\": [\"black\", \"black\", \"black\", \"black\", \"black\", \"black\", \"black\", \"black\", \"black\", \"black\", \"black\", \"black\"], \"label\": [\"People\", \"People*\", \"Crew\", \"People* \\u22c8 Crew\", \"People* \\u22c8 Crew \\u22c8 Titles*\", \"Titles_1\", \"Titles*\", \"Titles\", \"Titles*\", \"Titles* U Titles*\"], \"pad\": 200}, \"orientation\": \"h\", \"type\": \"sankey\", \"valueformat\": \",\", \"valuesuffix\": [\" Rows\", \" Rows\", \" Rows\", \" Rows\", \" Rows\", \" Rows\", \" Rows\", \" Rows\", \" Rows\", \" Rows\", \" Rows\", \" Rows\"]}],\n",
       "                        {\"font\": {\"size\": 10}, \"height\": 750, \"title\": \"multiple queries optimization-actual_rows\", \"updatemenus\": [{\"buttons\": [{\"args\": [\"orientation\", \"h\"], \"label\": \"Horizontal\", \"method\": \"restyle\"}, {\"args\": [\"orientation\", \"v\"], \"label\": \"Vertical\", \"method\": \"restyle\"}], \"y\": 0.6}]},\n",
       "                        {\"responsive\": true}\n",
       "                    ).then(function(){\n",
       "                            \n",
       "var gd = document.getElementById('5c4fb573-d8b8-4e7e-aaea-6b41ea533267');\n",
       "var x = new MutationObserver(function (mutations, observer) {{\n",
       "        var display = window.getComputedStyle(gd).display;\n",
       "        if (!display || display === 'none') {{\n",
       "            console.log([gd, 'removed!']);\n",
       "            Plotly.purge(gd);\n",
       "            observer.disconnect();\n",
       "        }}\n",
       "}});\n",
       "\n",
       "// Listen for the removal of the full notebook cells\n",
       "var notebookContainer = gd.closest('#notebook-container');\n",
       "if (notebookContainer) {{\n",
       "    x.observe(notebookContainer, {childList: true});\n",
       "}}\n",
       "\n",
       "// Listen for the clearing of the current output cell\n",
       "var outputEl = gd.closest('.output');\n",
       "if (outputEl) {{\n",
       "    x.observe(outputEl, {childList: true});\n",
       "}}\n",
       "\n",
       "                        })\n",
       "                };\n",
       "                });\n",
       "            </script>\n",
       "        </div>"
      ]
     },
     "metadata": {},
     "output_type": "display_data"
    }
   ],
   "source": [
    "query_renderer.vizualize(flow_df, metrics=[\"actual_rows\"], title=\"multiple queries optimization\",open_=False)"
   ]
  },
  {
   "cell_type": "markdown",
   "metadata": {},
   "source": [
    "The total query duration of both queries is 7.5 seconds (from the “Total time”); we can see that the longest operation (3.6 seconds) is the People* ⋈ Crew.\n",
    "\n",
    "We can improve our query performance in multiple ways. The easiest one is to add a new index to the Crew relation using the person_id column. The reason an index improves our query execution time is that there are a lot of rows that can be skipped in the Crew scan. This allows us to use PostgreSQL’ Hash Join in a performant way (Index Join).  \n",
    "\n",
    "The index creation query on the crew relation with the person_id column can be seen in the next cell. \n"
   ]
  },
  {
   "cell_type": "code",
   "execution_count": 38,
   "metadata": {},
   "outputs": [],
   "source": [
    "with create_engine(con_str).connect() as con:\n",
    "    con.execute(\"CREATE INDEX if not exists crew_index ON crew(person_id)\")\n",
    "flow_df = query_renderer.get_flow_df(queries, con_str=con_str)\n",
    "query_renderer.vizualize(flow_df, metrics=[\"actual_duration\"], title=\"multiple queries optimization\",open_=False)"
   ]
  },
  {
   "cell_type": "markdown",
   "metadata": {},
   "source": [
    "The total query duration is 4.5 seconds (from the “Total time” of the last node); we can see  that it improved both the People* ⋈ Crew and the scan on the Crew relation.  \n",
    "\n",
    "Performance optimization is an iterative process. To illustrate the MQO in the best way, we continue to improve our queries. We see that both queries uses Title scan and have predicates. We add an index to the Titles relation using the title_id and genres columns.The corresponding Sankey that represents the duration of our query can be seen in the next cell."
   ]
  },
  {
   "cell_type": "code",
   "execution_count": 24,
   "metadata": {},
   "outputs": [],
   "source": [
    "with create_engine(con_str).connect() as con:\n",
    "    con.execute(\"CREATE INDEX if not exists titles_index ON titles (title_id,genres) WHERE genres like '%%Comedy%%'\")\n",
    "flow_df = query_renderer.get_flow_df(queries[::-1], con_str=con_str)\n",
    "query_renderer.vizualize(flow_df, metrics=[\"actual_duration\"], title=\"multiple queries optimization\",open_=False)\n",
    "    "
   ]
  },
  {
   "cell_type": "markdown",
   "metadata": {},
   "source": [
    "The total query duration is 3.5 seconds (from the “Total time” of the last node) we can see that it improved both table Scans on the Titles* relation.  We can continue to improve our query in the same manner if needed.\n",
    "\n",
    "It’s important to understand that it’s not practical to take every pair of queries and do the same process. "
   ]
  },
  {
   "cell_type": "code",
   "execution_count": null,
   "metadata": {},
   "outputs": [],
   "source": []
  }
 ],
 "metadata": {
  "kernelspec": {
   "display_name": "Python 3 (ipykernel)",
   "language": "python",
   "name": "python3"
  },
  "language_info": {
   "codemirror_mode": {
    "name": "ipython",
    "version": 3
   },
   "file_extension": ".py",
   "mimetype": "text/x-python",
   "name": "python",
   "nbconvert_exporter": "python",
   "pygments_lexer": "ipython3",
   "version": "3.7.10"
  }
 },
 "nbformat": 4,
 "nbformat_minor": 4
}
