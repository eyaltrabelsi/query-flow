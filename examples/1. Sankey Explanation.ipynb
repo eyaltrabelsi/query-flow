{
 "cells": [
  {
   "cell_type": "code",
   "execution_count": 29,
   "metadata": {},
   "outputs": [],
   "source": [
    "from plotly.offline import iplot, init_notebook_mode"
   ]
  },
  {
   "cell_type": "code",
   "execution_count": 30,
   "metadata": {},
   "outputs": [],
   "source": [
    "color  = ['purple', 'blue', 'LightGreen', 'red']\n",
    "label  = [\"Team A\", \"Team B\", \"Sold\", \"Not Sold\"]\n",
    "source = [0, 0, 1, 1]\n",
    "target = [2, 3, 2, 3]\n",
    "value  = [10, 5, 1, 10]"
   ]
  },
  {
   "cell_type": "code",
   "execution_count": 31,
   "metadata": {},
   "outputs": [],
   "source": [
    "data_trace = dict(type=\"sankey\",\n",
    "                  orientation=\"h\",\n",
    "                  hoverinfo=\"all\",\n",
    "                  valueformat=\",\",\n",
    "                  node=dict(pad=200, label=label, color=color),\n",
    "                  link=dict(source=source, target=target, value=value))\n",
    "\n",
    "layout = dict(title=\"Sales funnel\", font=dict(size=10), height=750)\n"
   ]
  },
  {
   "cell_type": "code",
   "execution_count": 32,
   "metadata": {},
   "outputs": [
    {
     "data": {
      "application/vnd.plotly.v1+json": {
       "config": {
        "linkText": "Export to plot.ly",
        "plotlyServerURL": "https://plot.ly",
        "showLink": false
       },
       "data": [
        {
         "hoverinfo": "all",
         "link": {
          "source": [
           0,
           0,
           1,
           1
          ],
          "target": [
           2,
           3,
           2,
           3
          ],
          "value": [
           10,
           5,
           1,
           10
          ]
         },
         "node": {
          "color": [
           "purple",
           "blue",
           "LightGreen",
           "red"
          ],
          "label": [
           "Team A",
           "Team B",
           "Sold",
           "Not Sold"
          ],
          "pad": 200
         },
         "orientation": "h",
         "type": "sankey",
         "valueformat": ","
        }
       ],
       "layout": {
        "font": {
         "size": 10
        },
        "height": 750,
        "title": "Sales funnel"
       }
      },
      "text/html": [
       "<div>\n",
       "        \n",
       "        \n",
       "            <div id=\"b92c874a-19ac-4bfa-9f32-ed09a3327988\" class=\"plotly-graph-div\" style=\"height:750px; width:100%;\"></div>\n",
       "            <script type=\"text/javascript\">\n",
       "                require([\"plotly\"], function(Plotly) {\n",
       "                    window.PLOTLYENV=window.PLOTLYENV || {};\n",
       "                    \n",
       "                if (document.getElementById(\"b92c874a-19ac-4bfa-9f32-ed09a3327988\")) {\n",
       "                    Plotly.newPlot(\n",
       "                        'b92c874a-19ac-4bfa-9f32-ed09a3327988',\n",
       "                        [{\"hoverinfo\": \"all\", \"link\": {\"source\": [0, 0, 1, 1], \"target\": [2, 3, 2, 3], \"value\": [10, 5, 1, 10]}, \"node\": {\"color\": [\"purple\", \"blue\", \"LightGreen\", \"red\"], \"label\": [\"Team A\", \"Team B\", \"Sold\", \"Not Sold\"], \"pad\": 200}, \"orientation\": \"h\", \"type\": \"sankey\", \"valueformat\": \",\"}],\n",
       "                        {\"font\": {\"size\": 10}, \"height\": 750, \"title\": \"Sales funnel\"},\n",
       "                        {\"responsive\": true}\n",
       "                    ).then(function(){\n",
       "                            \n",
       "var gd = document.getElementById('b92c874a-19ac-4bfa-9f32-ed09a3327988');\n",
       "var x = new MutationObserver(function (mutations, observer) {{\n",
       "        var display = window.getComputedStyle(gd).display;\n",
       "        if (!display || display === 'none') {{\n",
       "            console.log([gd, 'removed!']);\n",
       "            Plotly.purge(gd);\n",
       "            observer.disconnect();\n",
       "        }}\n",
       "}});\n",
       "\n",
       "// Listen for the removal of the full notebook cells\n",
       "var notebookContainer = gd.closest('#notebook-container');\n",
       "if (notebookContainer) {{\n",
       "    x.observe(notebookContainer, {childList: true});\n",
       "}}\n",
       "\n",
       "// Listen for the clearing of the current output cell\n",
       "var outputEl = gd.closest('.output');\n",
       "if (outputEl) {{\n",
       "    x.observe(outputEl, {childList: true});\n",
       "}}\n",
       "\n",
       "                        })\n",
       "                };\n",
       "                });\n",
       "            </script>\n",
       "        </div>"
      ]
     },
     "metadata": {},
     "output_type": "display_data"
    }
   ],
   "source": [
    "iplot(dict(data=[data_trace], layout=layout), validate=False)"
   ]
  },
  {
   "cell_type": "code",
   "execution_count": null,
   "metadata": {},
   "outputs": [],
   "source": []
  }
 ],
 "metadata": {
  "kernelspec": {
   "display_name": "Python 3",
   "language": "python",
   "name": "python3"
  },
  "language_info": {
   "codemirror_mode": {
    "name": "ipython",
    "version": 3
   },
   "file_extension": ".py",
   "mimetype": "text/x-python",
   "name": "python",
   "nbconvert_exporter": "python",
   "pygments_lexer": "ipython3",
   "version": "3.7.4"
  }
 },
 "nbformat": 4,
 "nbformat_minor": 4
}
