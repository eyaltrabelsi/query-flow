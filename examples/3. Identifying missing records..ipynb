{
 "cells": [
  {
   "cell_type": "code",
   "execution_count": 1,
   "metadata": {},
   "outputs": [],
   "source": [
    "import pandas as pd \n",
    "\n",
    "from plotly.offline import init_notebook_mode\n",
    "from sqlalchemy import create_engine\n",
    "\n",
    "from query_flow.parsers.postgres_parser import PostgresParser\n",
    "from query_flow.vizualizers.query_vizualizer import QueryVizualizer"
   ]
  },
  {
   "cell_type": "code",
   "execution_count": 2,
   "metadata": {},
   "outputs": [
    {
     "data": {
      "text/html": [
       "        <script type=\"text/javascript\">\n",
       "        window.PlotlyConfig = {MathJaxConfig: 'local'};\n",
       "        if (window.MathJax) {MathJax.Hub.Config({SVG: {font: \"STIX-Web\"}});}\n",
       "        if (typeof require !== 'undefined') {\n",
       "        require.undef(\"plotly\");\n",
       "        requirejs.config({\n",
       "            paths: {\n",
       "                'plotly': ['https://cdn.plot.ly/plotly-latest.min']\n",
       "            }\n",
       "        });\n",
       "        require(['plotly'], function(Plotly) {\n",
       "            window._Plotly = Plotly;\n",
       "        });\n",
       "        }\n",
       "        </script>\n",
       "        "
      ]
     },
     "metadata": {},
     "output_type": "display_data"
    }
   ],
   "source": [
    "%load_ext autoreload\n",
    "%autoreload 2\n",
    "\n",
    "init_notebook_mode(connected=True)"
   ]
  },
  {
   "cell_type": "code",
   "execution_count": 3,
   "metadata": {},
   "outputs": [],
   "source": [
    "con_str = 'postgresql:///etrabelsi_thesis'"
   ]
  },
  {
   "cell_type": "markdown",
   "metadata": {},
   "source": [
    "## Identifying missing records"
   ]
  },
  {
   "cell_type": "code",
   "execution_count": 4,
   "metadata": {},
   "outputs": [],
   "source": [
    "query_renderer = QueryVizualizer(parser=PostgresParser())"
   ]
  },
  {
   "cell_type": "code",
   "execution_count": 5,
   "metadata": {},
   "outputs": [],
   "source": [
    "query = \"\"\"\n",
    "SELECT titles.title_id\n",
    "FROM titles\n",
    "INNER JOIN crew ON crew.title_id = titles.title_id\n",
    "INNER JOIN people ON people.person_id = crew.person_id\n",
    "WHERE genres = 'comedy'\n",
    "  AND name in ('Owen Wilson', 'Adam Sandler', 'Jason Segel')\n",
    "\"\"\""
   ]
  },
  {
   "cell_type": "code",
   "execution_count": 6,
   "metadata": {},
   "outputs": [
    {
     "data": {
      "application/vnd.plotly.v1+json": {
       "config": {
        "linkText": "Export to plot.ly",
        "plotlyServerURL": "https://plot.ly",
        "showLink": false
       },
       "data": [
        {
         "link": {
          "color": [
           "red",
           "red",
           "silver",
           "silver",
           "silver",
           "silver",
           "silver"
          ],
          "label": [
           "Join Filter ('Inner', '(crew.title_id = titles.title_id)')",
           "Filter condition: (titles.genres = 'comedy'::text)",
           null,
           "Hash Cond ('Inner', '(crew.person_id = people.person_id)')",
           null,
           "Filter condition: (people.name = ANY ('{\"Owen Wilson\",\"Adam Sandler\",\"Jason Segel\"}'::text[]))",
           null
          ],
          "source": [
           6,
           5,
           4,
           3,
           2,
           1,
           0
          ],
          "target": [
           7,
           6,
           5,
           6,
           3,
           3,
           1
          ],
          "value": [
           1,
           1,
           2379234,
           1695,
           40955703,
           9,
           10338782
          ]
         },
         "node": {
          "color": [
           null,
           null,
           null,
           null,
           null,
           null,
           null
          ],
          "label": [
           "Titles* ⋈ JOIN",
           "Titles*",
           "Titles",
           "Crew ⋈ People*",
           "Crew",
           "People*",
           "People"
          ],
          "pad": 200
         },
         "orientation": "h",
         "type": "sankey",
         "valueformat": ",",
         "valuesuffix": [
          " Rows",
          " Rows",
          " Rows",
          " Rows",
          " Rows",
          " Rows",
          " Rows"
         ]
        }
       ],
       "layout": {
        "font": {
         "size": 10
        },
        "height": 750,
        "title": "Identifying missing records",
        "updatemenus": [
         {
          "buttons": [
           {
            "args": [
             "orientation",
             "h"
            ],
            "label": "Horizontal",
            "method": "restyle"
           },
           {
            "args": [
             "orientation",
             "v"
            ],
            "label": "Vertical",
            "method": "restyle"
           }
          ],
          "y": 0.6
         }
        ]
       }
      },
      "text/html": [
       "<div>\n",
       "        \n",
       "        \n",
       "            <div id=\"9cf83993-8229-424b-812a-a7078b7d36d7\" class=\"plotly-graph-div\" style=\"height:750px; width:100%;\"></div>\n",
       "            <script type=\"text/javascript\">\n",
       "                require([\"plotly\"], function(Plotly) {\n",
       "                    window.PLOTLYENV=window.PLOTLYENV || {};\n",
       "                    \n",
       "                if (document.getElementById(\"9cf83993-8229-424b-812a-a7078b7d36d7\")) {\n",
       "                    Plotly.newPlot(\n",
       "                        '9cf83993-8229-424b-812a-a7078b7d36d7',\n",
       "                        [{\"link\": {\"color\": [\"red\", \"red\", \"silver\", \"silver\", \"silver\", \"silver\", \"silver\"], \"label\": [\"Join Filter ('Inner', '(crew.title_id = titles.title_id)')\", \"Filter condition: (titles.genres = 'comedy'::text)\", null, \"Hash Cond ('Inner', '(crew.person_id = people.person_id)')\", null, \"Filter condition: (people.name = ANY ('{\\\"Owen Wilson\\\",\\\"Adam Sandler\\\",\\\"Jason Segel\\\"}'::text[]))\", null], \"source\": [6, 5, 4, 3, 2, 1, 0], \"target\": [7, 6, 5, 6, 3, 3, 1], \"value\": [1, 1, 2379234, 1695, 40955703, 9, 10338782]}, \"node\": {\"color\": [null, null, null, null, null, null, null], \"label\": [\"Titles* \\u22c8 JOIN\", \"Titles*\", \"Titles\", \"Crew \\u22c8 People*\", \"Crew\", \"People*\", \"People\"], \"pad\": 200}, \"orientation\": \"h\", \"type\": \"sankey\", \"valueformat\": \",\", \"valuesuffix\": [\" Rows\", \" Rows\", \" Rows\", \" Rows\", \" Rows\", \" Rows\", \" Rows\"]}],\n",
       "                        {\"font\": {\"size\": 10}, \"height\": 750, \"title\": \"Identifying missing records\", \"updatemenus\": [{\"buttons\": [{\"args\": [\"orientation\", \"h\"], \"label\": \"Horizontal\", \"method\": \"restyle\"}, {\"args\": [\"orientation\", \"v\"], \"label\": \"Vertical\", \"method\": \"restyle\"}], \"y\": 0.6}]},\n",
       "                        {\"responsive\": true}\n",
       "                    ).then(function(){\n",
       "                            \n",
       "var gd = document.getElementById('9cf83993-8229-424b-812a-a7078b7d36d7');\n",
       "var x = new MutationObserver(function (mutations, observer) {{\n",
       "        var display = window.getComputedStyle(gd).display;\n",
       "        if (!display || display === 'none') {{\n",
       "            console.log([gd, 'removed!']);\n",
       "            Plotly.purge(gd);\n",
       "            observer.disconnect();\n",
       "        }}\n",
       "}});\n",
       "\n",
       "// Listen for the removal of the full notebook cells\n",
       "var notebookContainer = gd.closest('#notebook-container');\n",
       "if (notebookContainer) {{\n",
       "    x.observe(notebookContainer, {childList: true});\n",
       "}}\n",
       "\n",
       "// Listen for the clearing of the current output cell\n",
       "var outputEl = gd.closest('.output');\n",
       "if (outputEl) {{\n",
       "    x.observe(outputEl, {childList: true});\n",
       "}}\n",
       "\n",
       "                        })\n",
       "                };\n",
       "                });\n",
       "            </script>\n",
       "        </div>"
      ]
     },
     "metadata": {},
     "output_type": "display_data"
    }
   ],
   "source": [
    "# cardinality_df = query_renderer.get_cardinality_df(query, con_str)\n",
    "cardinality_df = pd.read_csv(\"../proposal/data/missing_records_query_flow_representation.csv\")\n",
    "query_renderer.vizualize(cardinality_df, title=\"Identifying missing records\", metrics=[\"actual_rows\"], open_=False)"
   ]
  },
  {
   "cell_type": "code",
   "execution_count": 7,
   "metadata": {},
   "outputs": [],
   "source": [
    "query =\"\"\"\n",
    "SELECT titles.title_id\n",
    "FROM titles\n",
    "INNER JOIN crew ON crew.title_id = titles.title_id\n",
    "INNER JOIN people ON people.person_id = crew.person_id\n",
    "WHERE genres like '%Comedy%' \n",
    "  AND name in ('Owen Wilson', 'Adam Sandler', 'Jason Segel')\n",
    "\"\"\""
   ]
  },
  {
   "cell_type": "code",
   "execution_count": 8,
   "metadata": {},
   "outputs": [
    {
     "data": {
      "application/vnd.plotly.v1+json": {
       "config": {
        "linkText": "Export to plot.ly",
        "plotlyServerURL": "https://plot.ly",
        "showLink": false
       },
       "data": [
        {
         "link": {
          "color": [
           "silver",
           "silver",
           "silver",
           "silver",
           "silver",
           "silver",
           "silver"
          ],
          "label": [
           "",
           "Filter condition: (people.name = ANY ('{\"Owen Wilson\",\"Adam Sandler\",\"Jason Segel\"}'::text[]))",
           "",
           "Hash Cond ('Inner', '(crew.person_id = people.person_id)')",
           "",
           "Filter condition: (titles.genres ~~ '%Comedy%'::text)",
           "Hash Cond ('Inner', '(titles.title_id = crew.title_id)')"
          ],
          "source": [
           0,
           1,
           2,
           3,
           4,
           5,
           6
          ],
          "target": [
           1,
           3,
           3,
           6,
           5,
           6,
           7
          ],
          "value": [
           3446261,
           3,
           13651901,
           565,
           2379234,
           489076,
           186
          ]
         },
         "node": {
          "color": [
           null,
           null,
           null,
           null,
           null,
           null,
           null
          ],
          "label": [
           "People",
           "People*",
           "Crew",
           "People* ⋈ Crew",
           "Titles",
           "Titles*",
           "People* ⋈ Crew ⋈ Titles*"
          ],
          "pad": 200
         },
         "orientation": "h",
         "type": "sankey",
         "valueformat": ",",
         "valuesuffix": [
          " Rows",
          " Rows",
          " Rows",
          " Rows",
          " Rows",
          " Rows",
          " Rows"
         ]
        }
       ],
       "layout": {
        "font": {
         "size": 10
        },
        "height": 750,
        "title": "Missing Records in Where Clause",
        "updatemenus": [
         {
          "buttons": [
           {
            "args": [
             "orientation",
             "h"
            ],
            "label": "Horizontal",
            "method": "restyle"
           },
           {
            "args": [
             "orientation",
             "v"
            ],
            "label": "Vertical",
            "method": "restyle"
           }
          ],
          "y": 0.6
         }
        ]
       }
      },
      "text/html": [
       "<div>\n",
       "        \n",
       "        \n",
       "            <div id=\"c5d3513d-badf-43c1-8b96-3f5facccb101\" class=\"plotly-graph-div\" style=\"height:750px; width:100%;\"></div>\n",
       "            <script type=\"text/javascript\">\n",
       "                require([\"plotly\"], function(Plotly) {\n",
       "                    window.PLOTLYENV=window.PLOTLYENV || {};\n",
       "                    \n",
       "                if (document.getElementById(\"c5d3513d-badf-43c1-8b96-3f5facccb101\")) {\n",
       "                    Plotly.newPlot(\n",
       "                        'c5d3513d-badf-43c1-8b96-3f5facccb101',\n",
       "                        [{\"link\": {\"color\": [\"silver\", \"silver\", \"silver\", \"silver\", \"silver\", \"silver\", \"silver\"], \"label\": [\"\", \"Filter condition: (people.name = ANY ('{\\\"Owen Wilson\\\",\\\"Adam Sandler\\\",\\\"Jason Segel\\\"}'::text[]))\", \"\", \"Hash Cond ('Inner', '(crew.person_id = people.person_id)')\", \"\", \"Filter condition: (titles.genres ~~ '%Comedy%'::text)\", \"Hash Cond ('Inner', '(titles.title_id = crew.title_id)')\"], \"source\": [0, 1, 2, 3, 4, 5, 6], \"target\": [1, 3, 3, 6, 5, 6, 7], \"value\": [3446261, 3, 13651901, 565, 2379234, 489076, 186]}, \"node\": {\"color\": [null, null, null, null, null, null, null], \"label\": [\"People\", \"People*\", \"Crew\", \"People* \\u22c8 Crew\", \"Titles\", \"Titles*\", \"People* \\u22c8 Crew \\u22c8 Titles*\"], \"pad\": 200}, \"orientation\": \"h\", \"type\": \"sankey\", \"valueformat\": \",\", \"valuesuffix\": [\" Rows\", \" Rows\", \" Rows\", \" Rows\", \" Rows\", \" Rows\", \" Rows\"]}],\n",
       "                        {\"font\": {\"size\": 10}, \"height\": 750, \"title\": \"Missing Records in Where Clause\", \"updatemenus\": [{\"buttons\": [{\"args\": [\"orientation\", \"h\"], \"label\": \"Horizontal\", \"method\": \"restyle\"}, {\"args\": [\"orientation\", \"v\"], \"label\": \"Vertical\", \"method\": \"restyle\"}], \"y\": 0.6}]},\n",
       "                        {\"responsive\": true}\n",
       "                    ).then(function(){\n",
       "                            \n",
       "var gd = document.getElementById('c5d3513d-badf-43c1-8b96-3f5facccb101');\n",
       "var x = new MutationObserver(function (mutations, observer) {{\n",
       "        var display = window.getComputedStyle(gd).display;\n",
       "        if (!display || display === 'none') {{\n",
       "            console.log([gd, 'removed!']);\n",
       "            Plotly.purge(gd);\n",
       "            observer.disconnect();\n",
       "        }}\n",
       "}});\n",
       "\n",
       "// Listen for the removal of the full notebook cells\n",
       "var notebookContainer = gd.closest('#notebook-container');\n",
       "if (notebookContainer) {{\n",
       "    x.observe(notebookContainer, {childList: true});\n",
       "}}\n",
       "\n",
       "// Listen for the clearing of the current output cell\n",
       "var outputEl = gd.closest('.output');\n",
       "if (outputEl) {{\n",
       "    x.observe(outputEl, {childList: true});\n",
       "}}\n",
       "\n",
       "                        })\n",
       "                };\n",
       "                });\n",
       "            </script>\n",
       "        </div>"
      ]
     },
     "metadata": {},
     "output_type": "display_data"
    }
   ],
   "source": [
    "cardinality_df = query_renderer.get_cardinality_df(query, con_str)\n",
    "query_renderer.vizualize(cardinality_df, title=\"Missing Records in Where Clause\", metrics=[\"actual_rows\"], open_=False)\n"
   ]
  },
  {
   "cell_type": "code",
   "execution_count": null,
   "metadata": {},
   "outputs": [],
   "source": []
  }
 ],
 "metadata": {
  "kernelspec": {
   "display_name": "Python 3",
   "language": "python",
   "name": "python3"
  },
  "language_info": {
   "codemirror_mode": {
    "name": "ipython",
    "version": 3
   },
   "file_extension": ".py",
   "mimetype": "text/x-python",
   "name": "python",
   "nbconvert_exporter": "python",
   "pygments_lexer": "ipython3",
   "version": "3.7.4"
  }
 },
 "nbformat": 4,
 "nbformat_minor": 4
}
