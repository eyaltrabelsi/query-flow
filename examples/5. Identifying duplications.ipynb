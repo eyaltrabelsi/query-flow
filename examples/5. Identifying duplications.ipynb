{
 "cells": [
  {
   "cell_type": "code",
   "execution_count": 1,
   "metadata": {},
   "outputs": [],
   "source": [
    "import pandas as pd\n",
    "\n",
    "from plotly.offline import init_notebook_mode\n",
    "from sqlalchemy import create_engine\n",
    "\n",
    "from query_flow.parsers.postgres_parser import PostgresParser\n",
    "from query_flow.vizualizers.query_vizualizer import QueryVizualizer"
   ]
  },
  {
   "cell_type": "code",
   "execution_count": 2,
   "metadata": {},
   "outputs": [
    {
     "data": {
      "text/html": [
       "        <script type=\"text/javascript\">\n",
       "        window.PlotlyConfig = {MathJaxConfig: 'local'};\n",
       "        if (window.MathJax) {MathJax.Hub.Config({SVG: {font: \"STIX-Web\"}});}\n",
       "        if (typeof require !== 'undefined') {\n",
       "        require.undef(\"plotly\");\n",
       "        requirejs.config({\n",
       "            paths: {\n",
       "                'plotly': ['https://cdn.plot.ly/plotly-latest.min']\n",
       "            }\n",
       "        });\n",
       "        require(['plotly'], function(Plotly) {\n",
       "            window._Plotly = Plotly;\n",
       "        });\n",
       "        }\n",
       "        </script>\n",
       "        "
      ]
     },
     "metadata": {},
     "output_type": "display_data"
    }
   ],
   "source": [
    "%load_ext autoreload\n",
    "%autoreload 2\n",
    "\n",
    "init_notebook_mode(connected=True)"
   ]
  },
  {
   "cell_type": "code",
   "execution_count": 3,
   "metadata": {},
   "outputs": [],
   "source": [
    "con_str = 'postgresql:///etrabelsi_thesis'\n",
    "query_renderer = QueryVizualizer(parser=PostgresParser())"
   ]
  },
  {
   "cell_type": "markdown",
   "metadata": {},
   "source": [
    "## Identifying duplications"
   ]
  },
  {
   "cell_type": "code",
   "execution_count": 4,
   "metadata": {},
   "outputs": [],
   "source": [
    "query = \"\"\"\n",
    "SELECT *\n",
    "FROM (SELECT *,\n",
    "             row_number() OVER (PARTITION BY titles.title_id) as row_num\n",
    "      FROM titles\n",
    "      INNER JOIN generes\n",
    "              ON generes.genere_name LIKE '%'|| titles.genres || '%'\n",
    "      WHERE titles.premiered >= date_part('year', CURRENT_DATE) - 2 AND\n",
    "            generes.kid_safe = True\n",
    "     ) as t\n",
    "WHERE row_num = 1\n",
    "\"\"\""
   ]
  },
  {
   "cell_type": "code",
   "execution_count": 5,
   "metadata": {},
   "outputs": [],
   "source": [
    "query = \"\"\"\n",
    "SELECT *\n",
    "FROM titles\n",
    "INNER JOIN generes\n",
    "        ON position(generes.genere_name in titles.genres) > 0\n",
    "WHERE titles.premiered >= date_part('year', CURRENT_DATE) - 2 AND\n",
    "      generes.kid_safe = True\n",
    "\"\"\""
   ]
  },
  {
   "cell_type": "code",
   "execution_count": 6,
   "metadata": {},
   "outputs": [
    {
     "ename": "NameError",
     "evalue": "name 'query_renderer' is not defined",
     "output_type": "error",
     "traceback": [
      "\u001b[0;31m---------------------------------------------------------------------------\u001b[0m",
      "\u001b[0;31mNameError\u001b[0m                                 Traceback (most recent call last)",
      "\u001b[0;32m<ipython-input-6-278912070575>\u001b[0m in \u001b[0;36m<module>\u001b[0;34m\u001b[0m\n\u001b[0;32m----> 1\u001b[0;31m \u001b[0mcardinality_df\u001b[0m \u001b[0;34m=\u001b[0m \u001b[0mquery_renderer\u001b[0m\u001b[0;34m.\u001b[0m\u001b[0mget_cardinality_df\u001b[0m\u001b[0;34m(\u001b[0m\u001b[0mquery\u001b[0m\u001b[0;34m,\u001b[0m \u001b[0mcon_str\u001b[0m\u001b[0;34m)\u001b[0m\u001b[0;34m\u001b[0m\u001b[0;34m\u001b[0m\u001b[0m\n\u001b[0m\u001b[1;32m      2\u001b[0m \u001b[0mquery_renderer\u001b[0m\u001b[0;34m.\u001b[0m\u001b[0mvizualize\u001b[0m\u001b[0;34m(\u001b[0m\u001b[0mcardinality_df\u001b[0m\u001b[0;34m,\u001b[0m \u001b[0mtitle\u001b[0m\u001b[0;34m=\u001b[0m\u001b[0;34m\"Identifying duplications\"\u001b[0m\u001b[0;34m,\u001b[0m \u001b[0mmetrics\u001b[0m\u001b[0;34m=\u001b[0m\u001b[0;34m[\u001b[0m\u001b[0;34m\"actual_rows\"\u001b[0m\u001b[0;34m]\u001b[0m\u001b[0;34m,\u001b[0m \u001b[0mopen_\u001b[0m\u001b[0;34m=\u001b[0m\u001b[0;32mFalse\u001b[0m\u001b[0;34m)\u001b[0m\u001b[0;34m\u001b[0m\u001b[0;34m\u001b[0m\u001b[0m\n",
      "\u001b[0;31mNameError\u001b[0m: name 'query_renderer' is not defined"
     ]
    }
   ],
   "source": [
    "cardinality_df = query_renderer.get_cardinality_df(query, con_str)\n",
    "query_renderer.vizualize(cardinality_df, title=\"Identifying duplications\", metrics=[\"actual_rows\"], open_=False)"
   ]
  },
  {
   "cell_type": "code",
   "execution_count": 10,
   "metadata": {},
   "outputs": [],
   "source": [
    "query = \"\"\"\n",
    "SELECT *\n",
    "FROM (SELECT *,\n",
    "             row_number() OVER (PARTITION BY titles.title_id) as row_num\n",
    "      FROM titles\n",
    "      INNER JOIN generes\n",
    "              ON generes.genere_name LIKE '%'|| titles.genres || '%'\n",
    "      WHERE titles.premiered >= date_part('year', CURRENT_DATE) - 2  AND\n",
    "            generes.kid_safe = True\n",
    "     ) as t\n",
    "WHERE row_num = 1\n",
    "\"\"\""
   ]
  },
  {
   "cell_type": "code",
   "execution_count": 11,
   "metadata": {},
   "outputs": [],
   "source": [
    "query = \"\"\"\n",
    "SELECT *\n",
    "FROM (SELECT *,\n",
    "             row_number() OVER (PARTITION BY titles.title_id) as row_num\n",
    "      FROM titles\n",
    "      INNER JOIN generes\n",
    "              ON position(generes.genere_name in titles.genres) > 0\n",
    "      WHERE titles.premiered >= date_part('year', CURRENT_DATE) - 2  AND\n",
    "            generes.kid_safe = True\n",
    "     ) as t\n",
    "WHERE row_num = 1\n",
    "\"\"\""
   ]
  },
  {
   "cell_type": "code",
   "execution_count": 13,
   "metadata": {},
   "outputs": [
    {
     "data": {
      "application/vnd.plotly.v1+json": {
       "config": {
        "linkText": "Export to plot.ly",
        "plotlyServerURL": "https://plot.ly",
        "showLink": false
       },
       "data": [
        {
         "link": {
          "color": [
           "silver",
           "silver",
           "silver",
           "silver",
           "silver"
          ],
          "label": [
           null,
           "Filter condition: generes.kid_safe",
           null,
           "Filter condition: (titles.premiered >= (date_part('year'::text, (CURRENT_DATE)::timestamp without time zone) - '2'::double precision))",
           "Join Filter ('Inner', '(\"position\"(titles.genres, generes.genere_name) > 0)')"
          ],
          "source": [
           0,
           1,
           2,
           3,
           4
          ],
          "target": [
           1,
           4,
           3,
           4,
           5
          ],
          "value": [
           29,
           27,
           7137701,
           911257,
           1338247
          ]
         },
         "node": {
          "color": [
           null,
           null,
           null,
           null,
           null
          ],
          "label": [
           "Generes",
           "Generes*",
           "Titles",
           "Titles*",
           "Generes* ⋈ Titles*"
          ],
          "pad": 200
         },
         "orientation": "h",
         "type": "sankey",
         "valueformat": ",",
         "valuesuffix": [
          " Rows",
          " Rows",
          " Rows",
          " Rows",
          " Rows"
         ]
        }
       ],
       "layout": {
        "font": {
         "size": 10
        },
        "height": 750,
        "title": "Identifying duplications",
        "updatemenus": [
         {
          "buttons": [
           {
            "args": [
             "orientation",
             "h"
            ],
            "label": "Horizontal",
            "method": "restyle"
           },
           {
            "args": [
             "orientation",
             "v"
            ],
            "label": "Vertical",
            "method": "restyle"
           }
          ],
          "y": 0.6
         }
        ]
       }
      },
      "text/html": [
       "<div>\n",
       "        \n",
       "        \n",
       "            <div id=\"f0d71d11-d9df-4a49-a120-cc2325027bb4\" class=\"plotly-graph-div\" style=\"height:750px; width:100%;\"></div>\n",
       "            <script type=\"text/javascript\">\n",
       "                require([\"plotly\"], function(Plotly) {\n",
       "                    window.PLOTLYENV=window.PLOTLYENV || {};\n",
       "                    \n",
       "                if (document.getElementById(\"f0d71d11-d9df-4a49-a120-cc2325027bb4\")) {\n",
       "                    Plotly.newPlot(\n",
       "                        'f0d71d11-d9df-4a49-a120-cc2325027bb4',\n",
       "                        [{\"link\": {\"color\": [\"silver\", \"silver\", \"silver\", \"silver\", \"silver\"], \"label\": [null, \"Filter condition: generes.kid_safe\", null, \"Filter condition: (titles.premiered >= (date_part('year'::text, (CURRENT_DATE)::timestamp without time zone) - '2'::double precision))\", \"Join Filter ('Inner', '(\\\"position\\\"(titles.genres, generes.genere_name) > 0)')\"], \"source\": [0, 1, 2, 3, 4], \"target\": [1, 4, 3, 4, 5], \"value\": [29, 27, 7137701, 911257, 1338247]}, \"node\": {\"color\": [null, null, null, null, null], \"label\": [\"Generes\", \"Generes*\", \"Titles\", \"Titles*\", \"Generes* \\u22c8 Titles*\"], \"pad\": 200}, \"orientation\": \"h\", \"type\": \"sankey\", \"valueformat\": \",\", \"valuesuffix\": [\" Rows\", \" Rows\", \" Rows\", \" Rows\", \" Rows\"]}],\n",
       "                        {\"font\": {\"size\": 10}, \"height\": 750, \"title\": \"Identifying duplications\", \"updatemenus\": [{\"buttons\": [{\"args\": [\"orientation\", \"h\"], \"label\": \"Horizontal\", \"method\": \"restyle\"}, {\"args\": [\"orientation\", \"v\"], \"label\": \"Vertical\", \"method\": \"restyle\"}], \"y\": 0.6}]},\n",
       "                        {\"responsive\": true}\n",
       "                    ).then(function(){\n",
       "                            \n",
       "var gd = document.getElementById('f0d71d11-d9df-4a49-a120-cc2325027bb4');\n",
       "var x = new MutationObserver(function (mutations, observer) {{\n",
       "        var display = window.getComputedStyle(gd).display;\n",
       "        if (!display || display === 'none') {{\n",
       "            console.log([gd, 'removed!']);\n",
       "            Plotly.purge(gd);\n",
       "            observer.disconnect();\n",
       "        }}\n",
       "}});\n",
       "\n",
       "// Listen for the removal of the full notebook cells\n",
       "var notebookContainer = gd.closest('#notebook-container');\n",
       "if (notebookContainer) {{\n",
       "    x.observe(notebookContainer, {childList: true});\n",
       "}}\n",
       "\n",
       "// Listen for the clearing of the current output cell\n",
       "var outputEl = gd.closest('.output');\n",
       "if (outputEl) {{\n",
       "    x.observe(outputEl, {childList: true});\n",
       "}}\n",
       "\n",
       "                        })\n",
       "                };\n",
       "                });\n",
       "            </script>\n",
       "        </div>"
      ]
     },
     "metadata": {},
     "output_type": "display_data"
    }
   ],
   "source": [
    "cardinality_df = query_renderer.get_cardinality_df(query, con_str)\n",
    "cardinality_df = pd.read_csv(\"../proposal/data/fixed_identifying_duplications_query_flow_representation.csv\")\n",
    "query_renderer.vizualize(cardinality_df, title=\"Identifying duplications\", metrics=[\"actual_rows\"], open_=False)"
   ]
  }
 ],
 "metadata": {
  "kernelspec": {
   "display_name": "Python 3",
   "language": "python",
   "name": "python3"
  },
  "language_info": {
   "codemirror_mode": {
    "name": "ipython",
    "version": 3
   },
   "file_extension": ".py",
   "mimetype": "text/x-python",
   "name": "python",
   "nbconvert_exporter": "python",
   "pygments_lexer": "ipython3",
   "version": "3.7.4"
  }
 },
 "nbformat": 4,
 "nbformat_minor": 4
}
