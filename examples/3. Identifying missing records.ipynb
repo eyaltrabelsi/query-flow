{
 "cells": [
  {
   "cell_type": "code",
   "execution_count": 10,
   "metadata": {},
   "outputs": [],
   "source": [
    "import pandas as pd \n",
    "\n",
    "from plotly.offline import init_notebook_mode\n",
    "from sqlalchemy import create_engine\n",
    "\n",
    "from query_flow.parsers.postgres_parser import PostgresParser\n",
    "from query_flow.vizualizers.query_vizualizer import QueryVizualizer"
   ]
  },
  {
   "cell_type": "code",
   "execution_count": 11,
   "metadata": {},
   "outputs": [
    {
     "name": "stdout",
     "output_type": "stream",
     "text": [
      "The autoreload extension is already loaded. To reload it, use:\n",
      "  %reload_ext autoreload\n"
     ]
    },
    {
     "data": {
      "text/html": [
       "        <script type=\"text/javascript\">\n",
       "        window.PlotlyConfig = {MathJaxConfig: 'local'};\n",
       "        if (window.MathJax) {MathJax.Hub.Config({SVG: {font: \"STIX-Web\"}});}\n",
       "        if (typeof require !== 'undefined') {\n",
       "        require.undef(\"plotly\");\n",
       "        requirejs.config({\n",
       "            paths: {\n",
       "                'plotly': ['https://cdn.plot.ly/plotly-latest.min']\n",
       "            }\n",
       "        });\n",
       "        require(['plotly'], function(Plotly) {\n",
       "            window._Plotly = Plotly;\n",
       "        });\n",
       "        }\n",
       "        </script>\n",
       "        "
      ]
     },
     "metadata": {},
     "output_type": "display_data"
    }
   ],
   "source": [
    "%load_ext autoreload\n",
    "%autoreload 2\n",
    "\n",
    "init_notebook_mode(connected=True)"
   ]
  },
  {
   "cell_type": "code",
   "execution_count": 12,
   "metadata": {},
   "outputs": [],
   "source": [
    "con_str = 'postgresql:///etrabelsi_thesis'"
   ]
  },
  {
   "cell_type": "markdown",
   "metadata": {},
   "source": [
    "## Identifying missing records"
   ]
  },
  {
   "cell_type": "code",
   "execution_count": 14,
   "metadata": {},
   "outputs": [],
   "source": [
    "query_renderer = QueryVizualizer(parser=PostgresParser())"
   ]
  },
  {
   "cell_type": "code",
   "execution_count": 15,
   "metadata": {},
   "outputs": [],
   "source": [
    "query = \"\"\"\n",
    "SELECT titles.title_id\n",
    "FROM titles\n",
    "INNER JOIN crew ON crew.title_id = titles.title_id\n",
    "INNER JOIN people ON people.person_id = crew.person_id\n",
    "WHERE genres = 'comedy'\n",
    "  AND name in ('Owen Wilson', 'Adam Sandler', 'Jason Segel')\n",
    "\"\"\""
   ]
  },
  {
   "cell_type": "code",
   "execution_count": 22,
   "metadata": {},
   "outputs": [
    {
     "data": {
      "application/vnd.plotly.v1+json": {
       "config": {
        "linkText": "Export to plot.ly",
        "plotlyServerURL": "https://plot.ly",
        "showLink": false
       },
       "data": [
        {
         "link": {
          "color": [
           "red",
           "silver",
           "silver",
           "silver",
           "silver",
           "silver"
          ],
          "label": [
           "",
           "",
           "Filter condition: (people.name = ANY ('{\"Owen Wilson\",\"Adam Sandler\",\"Jason Segel\"}'::text[]))",
           "",
           "Hash Cond ('Inner', '(crew.person_id = people.person_id)')",
           ""
          ],
          "source": [
           0,
           1,
           2,
           3,
           4,
           5
          ],
          "target": [
           5,
           2,
           4,
           4,
           5,
           6
          ],
          "value": [
           1,
           3446261,
           3,
           13651901,
           565,
           186
          ]
         },
         "node": {
          "color": [
           null,
           null,
           null,
           null,
           null,
           null
          ],
          "label": [
           "Titles_Index",
           "People",
           "People*",
           "Crew",
           "People* ⋈ Crew",
           "Titles_Index ⋈ People* ⋈ Crew"
          ],
          "pad": 200
         },
         "orientation": "h",
         "type": "sankey",
         "valueformat": ",",
         "valuesuffix": [
          " Rows",
          " Rows",
          " Rows",
          " Rows",
          " Rows",
          " Rows"
         ]
        }
       ],
       "layout": {
        "font": {
         "size": 10
        },
        "height": 750,
        "title": "Identifying missing records",
        "updatemenus": [
         {
          "buttons": [
           {
            "args": [
             "orientation",
             "h"
            ],
            "label": "Horizontal",
            "method": "restyle"
           },
           {
            "args": [
             "orientation",
             "v"
            ],
            "label": "Vertical",
            "method": "restyle"
           }
          ],
          "y": 0.6
         }
        ]
       }
      },
      "text/html": [
       "<div>\n",
       "        \n",
       "        \n",
       "            <div id=\"774b60af-db8b-471c-a7e7-814a066f805f\" class=\"plotly-graph-div\" style=\"height:750px; width:100%;\"></div>\n",
       "            <script type=\"text/javascript\">\n",
       "                require([\"plotly\"], function(Plotly) {\n",
       "                    window.PLOTLYENV=window.PLOTLYENV || {};\n",
       "                    \n",
       "                if (document.getElementById(\"774b60af-db8b-471c-a7e7-814a066f805f\")) {\n",
       "                    Plotly.newPlot(\n",
       "                        '774b60af-db8b-471c-a7e7-814a066f805f',\n",
       "                        [{\"link\": {\"color\": [\"red\", \"silver\", \"silver\", \"silver\", \"silver\", \"silver\"], \"label\": [\"\", \"\", \"Filter condition: (people.name = ANY ('{\\\"Owen Wilson\\\",\\\"Adam Sandler\\\",\\\"Jason Segel\\\"}'::text[]))\", \"\", \"Hash Cond ('Inner', '(crew.person_id = people.person_id)')\", \"\"], \"source\": [0, 1, 2, 3, 4, 5], \"target\": [5, 2, 4, 4, 5, 6], \"value\": [1, 3446261, 3, 13651901, 565, 186]}, \"node\": {\"color\": [null, null, null, null, null, null], \"label\": [\"Titles_Index\", \"People\", \"People*\", \"Crew\", \"People* \\u22c8 Crew\", \"Titles_Index \\u22c8 People* \\u22c8 Crew\"], \"pad\": 200}, \"orientation\": \"h\", \"type\": \"sankey\", \"valueformat\": \",\", \"valuesuffix\": [\" Rows\", \" Rows\", \" Rows\", \" Rows\", \" Rows\", \" Rows\"]}],\n",
       "                        {\"font\": {\"size\": 10}, \"height\": 750, \"title\": \"Identifying missing records\", \"updatemenus\": [{\"buttons\": [{\"args\": [\"orientation\", \"h\"], \"label\": \"Horizontal\", \"method\": \"restyle\"}, {\"args\": [\"orientation\", \"v\"], \"label\": \"Vertical\", \"method\": \"restyle\"}], \"y\": 0.6}]},\n",
       "                        {\"responsive\": true}\n",
       "                    ).then(function(){\n",
       "                            \n",
       "var gd = document.getElementById('774b60af-db8b-471c-a7e7-814a066f805f');\n",
       "var x = new MutationObserver(function (mutations, observer) {{\n",
       "        var display = window.getComputedStyle(gd).display;\n",
       "        if (!display || display === 'none') {{\n",
       "            console.log([gd, 'removed!']);\n",
       "            Plotly.purge(gd);\n",
       "            observer.disconnect();\n",
       "        }}\n",
       "}});\n",
       "\n",
       "// Listen for the removal of the full notebook cells\n",
       "var notebookContainer = gd.closest('#notebook-container');\n",
       "if (notebookContainer) {{\n",
       "    x.observe(notebookContainer, {childList: true});\n",
       "}}\n",
       "\n",
       "// Listen for the clearing of the current output cell\n",
       "var outputEl = gd.closest('.output');\n",
       "if (outputEl) {{\n",
       "    x.observe(outputEl, {childList: true});\n",
       "}}\n",
       "\n",
       "                        })\n",
       "                };\n",
       "                });\n",
       "            </script>\n",
       "        </div>"
      ]
     },
     "metadata": {},
     "output_type": "display_data"
    }
   ],
   "source": [
    "cardinality_df = query_renderer.get_cardinality_df(query, con_str)\n",
    "query_renderer.vizualize(cardinality_df, title=\"Identifying missing records\", metrics=[\"actual_rows\"], open_=False)"
   ]
  },
  {
   "cell_type": "code",
   "execution_count": 29,
   "metadata": {},
   "outputs": [],
   "source": [
    "query =\"\"\"\n",
    "SELECT titles.title_id\n",
    "FROM titles\n",
    "INNER JOIN crew ON crew.title_id = titles.title_id\n",
    "INNER JOIN people ON people.person_id = crew.person_id\n",
    "WHERE genres ilike '%Comedy%' \n",
    "  AND name in ('Owen Wilson', 'Adam Sandler', 'Jason Segel')\n",
    "\"\"\""
   ]
  },
  {
   "cell_type": "code",
   "execution_count": 30,
   "metadata": {},
   "outputs": [
    {
     "data": {
      "application/vnd.plotly.v1+json": {
       "config": {
        "linkText": "Export to plot.ly",
        "plotlyServerURL": "https://plot.ly",
        "showLink": false
       },
       "data": [
        {
         "link": {
          "color": [
           "silver",
           "silver",
           "silver",
           "silver",
           "silver",
           "silver",
           "silver"
          ],
          "label": [
           "",
           "Filter condition: (people.name = ANY ('{\"Owen Wilson\",\"Adam Sandler\",\"Jason Segel\"}'::text[]))",
           "",
           "Hash Cond ('Inner', '(crew.person_id = people.person_id)')",
           "",
           "Filter condition: (titles.genres ~~* '%Comedy%'::text)",
           "Hash Cond ('Inner', '(titles.title_id = crew.title_id)')"
          ],
          "source": [
           0,
           1,
           2,
           3,
           4,
           5,
           6
          ],
          "target": [
           1,
           3,
           3,
           6,
           5,
           6,
           7
          ],
          "value": [
           3446261,
           3,
           13651901,
           565,
           2379234,
           489076,
           186
          ]
         },
         "node": {
          "color": [
           null,
           null,
           null,
           null,
           null,
           null,
           null
          ],
          "label": [
           "People",
           "People*",
           "Crew",
           "People* ⋈ Crew",
           "Titles",
           "Titles*",
           "People* ⋈ Crew ⋈ Titles*"
          ],
          "pad": 200
         },
         "orientation": "h",
         "type": "sankey",
         "valueformat": ",",
         "valuesuffix": [
          " Rows",
          " Rows",
          " Rows",
          " Rows",
          " Rows",
          " Rows",
          " Rows"
         ]
        }
       ],
       "layout": {
        "font": {
         "size": 10
        },
        "height": 750,
        "title": "Missing Records in Where Clause",
        "updatemenus": [
         {
          "buttons": [
           {
            "args": [
             "orientation",
             "h"
            ],
            "label": "Horizontal",
            "method": "restyle"
           },
           {
            "args": [
             "orientation",
             "v"
            ],
            "label": "Vertical",
            "method": "restyle"
           }
          ],
          "y": 0.6
         }
        ]
       }
      },
      "text/html": [
       "<div>\n",
       "        \n",
       "        \n",
       "            <div id=\"7f768d8c-8942-4a9f-a32d-11d2f5e7b24f\" class=\"plotly-graph-div\" style=\"height:750px; width:100%;\"></div>\n",
       "            <script type=\"text/javascript\">\n",
       "                require([\"plotly\"], function(Plotly) {\n",
       "                    window.PLOTLYENV=window.PLOTLYENV || {};\n",
       "                    \n",
       "                if (document.getElementById(\"7f768d8c-8942-4a9f-a32d-11d2f5e7b24f\")) {\n",
       "                    Plotly.newPlot(\n",
       "                        '7f768d8c-8942-4a9f-a32d-11d2f5e7b24f',\n",
       "                        [{\"link\": {\"color\": [\"silver\", \"silver\", \"silver\", \"silver\", \"silver\", \"silver\", \"silver\"], \"label\": [\"\", \"Filter condition: (people.name = ANY ('{\\\"Owen Wilson\\\",\\\"Adam Sandler\\\",\\\"Jason Segel\\\"}'::text[]))\", \"\", \"Hash Cond ('Inner', '(crew.person_id = people.person_id)')\", \"\", \"Filter condition: (titles.genres ~~* '%Comedy%'::text)\", \"Hash Cond ('Inner', '(titles.title_id = crew.title_id)')\"], \"source\": [0, 1, 2, 3, 4, 5, 6], \"target\": [1, 3, 3, 6, 5, 6, 7], \"value\": [3446261, 3, 13651901, 565, 2379234, 489076, 186]}, \"node\": {\"color\": [null, null, null, null, null, null, null], \"label\": [\"People\", \"People*\", \"Crew\", \"People* \\u22c8 Crew\", \"Titles\", \"Titles*\", \"People* \\u22c8 Crew \\u22c8 Titles*\"], \"pad\": 200}, \"orientation\": \"h\", \"type\": \"sankey\", \"valueformat\": \",\", \"valuesuffix\": [\" Rows\", \" Rows\", \" Rows\", \" Rows\", \" Rows\", \" Rows\", \" Rows\"]}],\n",
       "                        {\"font\": {\"size\": 10}, \"height\": 750, \"title\": \"Missing Records in Where Clause\", \"updatemenus\": [{\"buttons\": [{\"args\": [\"orientation\", \"h\"], \"label\": \"Horizontal\", \"method\": \"restyle\"}, {\"args\": [\"orientation\", \"v\"], \"label\": \"Vertical\", \"method\": \"restyle\"}], \"y\": 0.6}]},\n",
       "                        {\"responsive\": true}\n",
       "                    ).then(function(){\n",
       "                            \n",
       "var gd = document.getElementById('7f768d8c-8942-4a9f-a32d-11d2f5e7b24f');\n",
       "var x = new MutationObserver(function (mutations, observer) {{\n",
       "        var display = window.getComputedStyle(gd).display;\n",
       "        if (!display || display === 'none') {{\n",
       "            console.log([gd, 'removed!']);\n",
       "            Plotly.purge(gd);\n",
       "            observer.disconnect();\n",
       "        }}\n",
       "}});\n",
       "\n",
       "// Listen for the removal of the full notebook cells\n",
       "var notebookContainer = gd.closest('#notebook-container');\n",
       "if (notebookContainer) {{\n",
       "    x.observe(notebookContainer, {childList: true});\n",
       "}}\n",
       "\n",
       "// Listen for the clearing of the current output cell\n",
       "var outputEl = gd.closest('.output');\n",
       "if (outputEl) {{\n",
       "    x.observe(outputEl, {childList: true});\n",
       "}}\n",
       "\n",
       "                        })\n",
       "                };\n",
       "                });\n",
       "            </script>\n",
       "        </div>"
      ]
     },
     "metadata": {},
     "output_type": "display_data"
    }
   ],
   "source": [
    "cardinality_df = query_renderer.get_cardinality_df(query, con_str)\n",
    "query_renderer.vizualize(cardinality_df, title=\"Missing Records in Where Clause\", metrics=[\"actual_rows\"], open_=False)\n"
   ]
  },
  {
   "cell_type": "code",
   "execution_count": null,
   "metadata": {},
   "outputs": [],
   "source": []
  }
 ],
 "metadata": {
  "kernelspec": {
   "display_name": "Python 3",
   "language": "python",
   "name": "python3"
  },
  "language_info": {
   "codemirror_mode": {
    "name": "ipython",
    "version": 3
   },
   "file_extension": ".py",
   "mimetype": "text/x-python",
   "name": "python",
   "nbconvert_exporter": "python",
   "pygments_lexer": "ipython3",
   "version": "3.7.4"
  }
 },
 "nbformat": 4,
 "nbformat_minor": 4
}
