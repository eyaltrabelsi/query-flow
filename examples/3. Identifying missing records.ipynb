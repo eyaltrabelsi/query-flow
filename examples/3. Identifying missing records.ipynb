{
 "cells": [
  {
   "cell_type": "code",
   "execution_count": 1,
   "metadata": {},
   "outputs": [],
   "source": [
    "import pandas as pd \n",
    "\n",
    "from plotly.offline import init_notebook_mode\n",
    "from sqlalchemy import create_engine\n",
    "\n",
    "from query_flow.parsers.postgres_parser import PostgresParser\n",
    "from query_flow.vizualizers.query_vizualizer import QueryVizualizer"
   ]
  },
  {
   "cell_type": "code",
   "execution_count": 11,
   "metadata": {},
   "outputs": [
    {
     "name": "stdout",
     "output_type": "stream",
     "text": [
      "The autoreload extension is already loaded. To reload it, use:\n",
      "  %reload_ext autoreload\n"
     ]
    },
    {
     "data": {
      "text/html": [
       "        <script type=\"text/javascript\">\n",
       "        window.PlotlyConfig = {MathJaxConfig: 'local'};\n",
       "        if (window.MathJax) {MathJax.Hub.Config({SVG: {font: \"STIX-Web\"}});}\n",
       "        if (typeof require !== 'undefined') {\n",
       "        require.undef(\"plotly\");\n",
       "        requirejs.config({\n",
       "            paths: {\n",
       "                'plotly': ['https://cdn.plot.ly/plotly-latest.min']\n",
       "            }\n",
       "        });\n",
       "        require(['plotly'], function(Plotly) {\n",
       "            window._Plotly = Plotly;\n",
       "        });\n",
       "        }\n",
       "        </script>\n",
       "        "
      ]
     },
     "metadata": {},
     "output_type": "display_data"
    }
   ],
   "source": [
    "%load_ext autoreload\n",
    "%autoreload 2\n",
    "\n",
    "init_notebook_mode(connected=True)"
   ]
  },
  {
   "cell_type": "code",
   "execution_count": 2,
   "metadata": {},
   "outputs": [],
   "source": [
    "con_str = 'postgresql:///etrabelsi_thesis'"
   ]
  },
  {
   "cell_type": "markdown",
   "metadata": {},
   "source": [
    "## Identifying missing records"
   ]
  },
  {
   "cell_type": "code",
   "execution_count": 5,
   "metadata": {},
   "outputs": [],
   "source": [
    "query_renderer = QueryVizualizer(parser=PostgresParser())"
   ]
  },
  {
   "cell_type": "code",
   "execution_count": 6,
   "metadata": {},
   "outputs": [],
   "source": [
    "query = \"\"\"\n",
    "SELECT titles.title_id\n",
    "FROM titles\n",
    "INNER JOIN crew ON crew.title_id = titles.title_id\n",
    "INNER JOIN people ON people.person_id = crew.person_id\n",
    "WHERE genres = 'comedy'\n",
    "  AND name in ('Owen Wilson', 'Adam Sandler', 'Jason Segel')\n",
    "\"\"\""
   ]
  },
  {
   "cell_type": "code",
   "execution_count": 7,
   "metadata": {},
   "outputs": [
    {
     "data": {
      "text/plain": [
       "{'Node Type': 'Nested Loop',\n",
       " 'Parallel Aware': False,\n",
       " 'Join Type': 'Inner',\n",
       " 'Startup Cost': 143258.67,\n",
       " 'Total Cost': 935485.66,\n",
       " 'Plan Rows': 1,\n",
       " 'Plan Width': 10,\n",
       " 'Actual Startup Time': 377.606,\n",
       " 'Actual Total Time': 377.606,\n",
       " 'Actual Rows': 0,\n",
       " 'Actual Loops': 1,\n",
       " 'Output': ['titles.title_id'],\n",
       " 'Inner Unique': False,\n",
       " 'Join Filter': '(crew.title_id = titles.title_id)',\n",
       " 'Rows Removed by Join Filter': 0,\n",
       " 'Shared Hit Blocks': 4668,\n",
       " 'Shared Read Blocks': 118825,\n",
       " 'Shared Dirtied Blocks': 0,\n",
       " 'Shared Written Blocks': 0,\n",
       " 'Local Hit Blocks': 0,\n",
       " 'Local Read Blocks': 0,\n",
       " 'Local Dirtied Blocks': 0,\n",
       " 'Local Written Blocks': 0,\n",
       " 'Temp Read Blocks': 0,\n",
       " 'Temp Written Blocks': 0,\n",
       " 'Plans': [{'Node Type': 'Gather',\n",
       "   'Parent Relationship': 'Outer',\n",
       "   'Parallel Aware': False,\n",
       "   'Startup Cost': 1000.0,\n",
       "   'Total Cost': 161779.45,\n",
       "   'Plan Rows': 1229,\n",
       "   'Plan Width': 10,\n",
       "   'Actual Startup Time': 377.606,\n",
       "   'Actual Total Time': 379.456,\n",
       "   'Actual Rows': 0,\n",
       "   'Actual Loops': 1,\n",
       "   'Output': ['titles.title_id'],\n",
       "   'Workers Planned': 2,\n",
       "   'Workers Launched': 2,\n",
       "   'Single Copy': False,\n",
       "   'Shared Hit Blocks': 4668,\n",
       "   'Shared Read Blocks': 118825,\n",
       "   'Shared Dirtied Blocks': 0,\n",
       "   'Shared Written Blocks': 0,\n",
       "   'Local Hit Blocks': 0,\n",
       "   'Local Read Blocks': 0,\n",
       "   'Local Dirtied Blocks': 0,\n",
       "   'Local Written Blocks': 0,\n",
       "   'Temp Read Blocks': 0,\n",
       "   'Temp Written Blocks': 0,\n",
       "   'Plans': [{'Node Type': 'Seq Scan',\n",
       "     'Parent Relationship': 'Outer',\n",
       "     'Parallel Aware': True,\n",
       "     'Relation Name': 'titles',\n",
       "     'Schema': 'public',\n",
       "     'Alias': 'titles',\n",
       "     'Startup Cost': 0.0,\n",
       "     'Total Cost': 160656.55,\n",
       "     'Plan Rows': 512,\n",
       "     'Plan Width': 10,\n",
       "     'Actual Startup Time': 375.073,\n",
       "     'Actual Total Time': 375.073,\n",
       "     'Actual Rows': 0,\n",
       "     'Actual Loops': 3,\n",
       "     'Output': ['titles.title_id'],\n",
       "     'Filter': \"(titles.genres = 'comedy'::text)\",\n",
       "     'Rows Removed by Filter': 2379234,\n",
       "     'Shared Hit Blocks': 4668,\n",
       "     'Shared Read Blocks': 118825,\n",
       "     'Shared Dirtied Blocks': 0,\n",
       "     'Shared Written Blocks': 0,\n",
       "     'Local Hit Blocks': 0,\n",
       "     'Local Read Blocks': 0,\n",
       "     'Local Dirtied Blocks': 0,\n",
       "     'Local Written Blocks': 0,\n",
       "     'Temp Read Blocks': 0,\n",
       "     'Temp Written Blocks': 0,\n",
       "     'Workers': [{'Worker Number': 0,\n",
       "       'Actual Startup Time': 373.86,\n",
       "       'Actual Total Time': 373.86,\n",
       "       'Actual Rows': 0,\n",
       "       'Actual Loops': 1,\n",
       "       'Shared Hit Blocks': 1549,\n",
       "       'Shared Read Blocks': 39433,\n",
       "       'Shared Dirtied Blocks': 0,\n",
       "       'Shared Written Blocks': 0,\n",
       "       'Local Hit Blocks': 0,\n",
       "       'Local Read Blocks': 0,\n",
       "       'Local Dirtied Blocks': 0,\n",
       "       'Local Written Blocks': 0,\n",
       "       'Temp Read Blocks': 0,\n",
       "       'Temp Written Blocks': 0},\n",
       "      {'Worker Number': 1,\n",
       "       'Actual Startup Time': 374.056,\n",
       "       'Actual Total Time': 374.056,\n",
       "       'Actual Rows': 0,\n",
       "       'Actual Loops': 1,\n",
       "       'Shared Hit Blocks': 1560,\n",
       "       'Shared Read Blocks': 39511,\n",
       "       'Shared Dirtied Blocks': 0,\n",
       "       'Shared Written Blocks': 0,\n",
       "       'Local Hit Blocks': 0,\n",
       "       'Local Read Blocks': 0,\n",
       "       'Local Dirtied Blocks': 0,\n",
       "       'Local Written Blocks': 0,\n",
       "       'Temp Read Blocks': 0,\n",
       "       'Temp Written Blocks': 0}]}]},\n",
       "  {'Node Type': 'Materialize',\n",
       "   'Parent Relationship': 'Inner',\n",
       "   'Parallel Aware': False,\n",
       "   'Startup Cost': 142258.67,\n",
       "   'Total Cost': 772766.16,\n",
       "   'Plan Rows': 51,\n",
       "   'Plan Width': 10,\n",
       "   'Actual Startup Time': 0.0,\n",
       "   'Actual Total Time': 0.0,\n",
       "   'Actual Rows': 0,\n",
       "   'Actual Loops': 0,\n",
       "   'Output': ['crew.title_id'],\n",
       "   'Shared Hit Blocks': 0,\n",
       "   'Shared Read Blocks': 0,\n",
       "   'Shared Dirtied Blocks': 0,\n",
       "   'Shared Written Blocks': 0,\n",
       "   'Local Hit Blocks': 0,\n",
       "   'Local Read Blocks': 0,\n",
       "   'Local Dirtied Blocks': 0,\n",
       "   'Local Written Blocks': 0,\n",
       "   'Temp Read Blocks': 0,\n",
       "   'Temp Written Blocks': 0,\n",
       "   'Plans': [{'Node Type': 'Gather',\n",
       "     'Parent Relationship': 'Outer',\n",
       "     'Parallel Aware': False,\n",
       "     'Startup Cost': 142258.67,\n",
       "     'Total Cost': 772765.9,\n",
       "     'Plan Rows': 51,\n",
       "     'Plan Width': 10,\n",
       "     'Actual Startup Time': 0.0,\n",
       "     'Actual Total Time': 0.0,\n",
       "     'Actual Rows': 0,\n",
       "     'Actual Loops': 0,\n",
       "     'Output': ['crew.title_id'],\n",
       "     'Workers Planned': 2,\n",
       "     'Workers Launched': 0,\n",
       "     'Single Copy': False,\n",
       "     'Shared Hit Blocks': 0,\n",
       "     'Shared Read Blocks': 0,\n",
       "     'Shared Dirtied Blocks': 0,\n",
       "     'Shared Written Blocks': 0,\n",
       "     'Local Hit Blocks': 0,\n",
       "     'Local Read Blocks': 0,\n",
       "     'Local Dirtied Blocks': 0,\n",
       "     'Local Written Blocks': 0,\n",
       "     'Temp Read Blocks': 0,\n",
       "     'Temp Written Blocks': 0,\n",
       "     'Plans': [{'Node Type': 'Hash Join',\n",
       "       'Parent Relationship': 'Outer',\n",
       "       'Parallel Aware': True,\n",
       "       'Join Type': 'Inner',\n",
       "       'Startup Cost': 141258.67,\n",
       "       'Total Cost': 771760.8,\n",
       "       'Plan Rows': 21,\n",
       "       'Plan Width': 10,\n",
       "       'Actual Startup Time': 0.0,\n",
       "       'Actual Total Time': 0.0,\n",
       "       'Actual Rows': 0,\n",
       "       'Actual Loops': 0,\n",
       "       'Output': ['crew.title_id'],\n",
       "       'Inner Unique': False,\n",
       "       'Hash Cond': '(crew.person_id = people.person_id)',\n",
       "       'Shared Hit Blocks': 0,\n",
       "       'Shared Read Blocks': 0,\n",
       "       'Shared Dirtied Blocks': 0,\n",
       "       'Shared Written Blocks': 0,\n",
       "       'Local Hit Blocks': 0,\n",
       "       'Local Read Blocks': 0,\n",
       "       'Local Dirtied Blocks': 0,\n",
       "       'Local Written Blocks': 0,\n",
       "       'Temp Read Blocks': 0,\n",
       "       'Temp Written Blocks': 0,\n",
       "       'Plans': [{'Node Type': 'Seq Scan',\n",
       "         'Parent Relationship': 'Outer',\n",
       "         'Parallel Aware': True,\n",
       "         'Relation Name': 'crew',\n",
       "         'Schema': 'public',\n",
       "         'Alias': 'crew',\n",
       "         'Startup Cost': 0.0,\n",
       "         'Total Cost': 566508.77,\n",
       "         'Plan Rows': 17064877,\n",
       "         'Plan Width': 20,\n",
       "         'Actual Startup Time': 0.0,\n",
       "         'Actual Total Time': 0.0,\n",
       "         'Actual Rows': 0,\n",
       "         'Actual Loops': 0,\n",
       "         'Output': ['crew.index',\n",
       "          'crew.title_id',\n",
       "          'crew.person_id',\n",
       "          'crew.category',\n",
       "          'crew.job',\n",
       "          'crew.characters'],\n",
       "         'Shared Hit Blocks': 0,\n",
       "         'Shared Read Blocks': 0,\n",
       "         'Shared Dirtied Blocks': 0,\n",
       "         'Shared Written Blocks': 0,\n",
       "         'Local Hit Blocks': 0,\n",
       "         'Local Read Blocks': 0,\n",
       "         'Local Dirtied Blocks': 0,\n",
       "         'Local Written Blocks': 0,\n",
       "         'Temp Read Blocks': 0,\n",
       "         'Temp Written Blocks': 0},\n",
       "        {'Node Type': 'Hash',\n",
       "         'Parent Relationship': 'Inner',\n",
       "         'Parallel Aware': True,\n",
       "         'Startup Cost': 141258.61,\n",
       "         'Total Cost': 141258.61,\n",
       "         'Plan Rows': 5,\n",
       "         'Plan Width': 10,\n",
       "         'Actual Startup Time': 0.0,\n",
       "         'Actual Total Time': 0.0,\n",
       "         'Actual Rows': 0,\n",
       "         'Actual Loops': 0,\n",
       "         'Output': ['people.person_id'],\n",
       "         'Shared Hit Blocks': 0,\n",
       "         'Shared Read Blocks': 0,\n",
       "         'Shared Dirtied Blocks': 0,\n",
       "         'Shared Written Blocks': 0,\n",
       "         'Local Hit Blocks': 0,\n",
       "         'Local Read Blocks': 0,\n",
       "         'Local Dirtied Blocks': 0,\n",
       "         'Local Written Blocks': 0,\n",
       "         'Temp Read Blocks': 0,\n",
       "         'Temp Written Blocks': 0,\n",
       "         'Plans': [{'Node Type': 'Seq Scan',\n",
       "           'Parent Relationship': 'Outer',\n",
       "           'Parallel Aware': True,\n",
       "           'Relation Name': 'people',\n",
       "           'Schema': 'public',\n",
       "           'Alias': 'people',\n",
       "           'Startup Cost': 0.0,\n",
       "           'Total Cost': 141258.61,\n",
       "           'Plan Rows': 5,\n",
       "           'Plan Width': 10,\n",
       "           'Actual Startup Time': 0.0,\n",
       "           'Actual Total Time': 0.0,\n",
       "           'Actual Rows': 0,\n",
       "           'Actual Loops': 0,\n",
       "           'Output': ['people.person_id'],\n",
       "           'Filter': '(people.name = ANY (\\'{\"Owen Wilson\",\"Adam Sandler\",\"Jason Segel\"}\\'::text[]))',\n",
       "           'Rows Removed by Filter': 0,\n",
       "           'Shared Hit Blocks': 0,\n",
       "           'Shared Read Blocks': 0,\n",
       "           'Shared Dirtied Blocks': 0,\n",
       "           'Shared Written Blocks': 0,\n",
       "           'Local Hit Blocks': 0,\n",
       "           'Local Read Blocks': 0,\n",
       "           'Local Dirtied Blocks': 0,\n",
       "           'Local Written Blocks': 0,\n",
       "           'Temp Read Blocks': 0,\n",
       "           'Temp Written Blocks': 0}]}]}]}]}]}"
      ]
     },
     "execution_count": 7,
     "metadata": {},
     "output_type": "execute_result"
    }
   ],
   "source": [
    "query_renderer.parser.from_query(query, con_str)"
   ]
  },
  {
   "cell_type": "code",
   "execution_count": 8,
   "metadata": {},
   "outputs": [
    {
     "name": "stderr",
     "output_type": "stream",
     "text": [
      "/Users/etrabelsi/IdeaProjects/thesis/query_flow/parsers/postgres_parser.py:280: RuntimeWarning:\n",
      "\n",
      "divide by zero encountered in long_scalars\n",
      "\n"
     ]
    }
   ],
   "source": [
    "cardinality_df = query_renderer.get_cardinality_df(query, con_str)[[\"source\",\"target\",\"operation_type\",\"actual_rows\",\"label\",\"label_metadata\"]]\n",
    "cardinality_df.to_csv(\"/Users/etrabelsi/IdeaProjects/thesis/tests/parsers/data/missing_records/cardinality.csv\", index=False)\n"
   ]
  },
  {
   "cell_type": "code",
   "execution_count": 22,
   "metadata": {},
   "outputs": [
    {
     "data": {
      "application/vnd.plotly.v1+json": {
       "config": {
        "linkText": "Export to plot.ly",
        "plotlyServerURL": "https://plot.ly",
        "showLink": false
       },
       "data": [
        {
         "link": {
          "color": [
           "red",
           "silver",
           "silver",
           "silver",
           "silver",
           "silver"
          ],
          "label": [
           "",
           "",
           "Filter condition: (people.name = ANY ('{\"Owen Wilson\",\"Adam Sandler\",\"Jason Segel\"}'::text[]))",
           "",
           "Hash Cond ('Inner', '(crew.person_id = people.person_id)')",
           ""
          ],
          "source": [
           0,
           1,
           2,
           3,
           4,
           5
          ],
          "target": [
           5,
           2,
           4,
           4,
           5,
           6
          ],
          "value": [
           1,
           3446261,
           3,
           13651901,
           565,
           186
          ]
         },
         "node": {
          "color": [
           null,
           null,
           null,
           null,
           null,
           null
          ],
          "label": [
           "Titles_Index",
           "People",
           "People*",
           "Crew",
           "People* ⋈ Crew",
           "Titles_Index ⋈ People* ⋈ Crew"
          ],
          "pad": 200
         },
         "orientation": "h",
         "type": "sankey",
         "valueformat": ",",
         "valuesuffix": [
          " Rows",
          " Rows",
          " Rows",
          " Rows",
          " Rows",
          " Rows"
         ]
        }
       ],
       "layout": {
        "font": {
         "size": 10
        },
        "height": 750,
        "title": "Identifying missing records",
        "updatemenus": [
         {
          "buttons": [
           {
            "args": [
             "orientation",
             "h"
            ],
            "label": "Horizontal",
            "method": "restyle"
           },
           {
            "args": [
             "orientation",
             "v"
            ],
            "label": "Vertical",
            "method": "restyle"
           }
          ],
          "y": 0.6
         }
        ]
       }
      },
      "text/html": [
       "<div>\n",
       "        \n",
       "        \n",
       "            <div id=\"774b60af-db8b-471c-a7e7-814a066f805f\" class=\"plotly-graph-div\" style=\"height:750px; width:100%;\"></div>\n",
       "            <script type=\"text/javascript\">\n",
       "                require([\"plotly\"], function(Plotly) {\n",
       "                    window.PLOTLYENV=window.PLOTLYENV || {};\n",
       "                    \n",
       "                if (document.getElementById(\"774b60af-db8b-471c-a7e7-814a066f805f\")) {\n",
       "                    Plotly.newPlot(\n",
       "                        '774b60af-db8b-471c-a7e7-814a066f805f',\n",
       "                        [{\"link\": {\"color\": [\"red\", \"silver\", \"silver\", \"silver\", \"silver\", \"silver\"], \"label\": [\"\", \"\", \"Filter condition: (people.name = ANY ('{\\\"Owen Wilson\\\",\\\"Adam Sandler\\\",\\\"Jason Segel\\\"}'::text[]))\", \"\", \"Hash Cond ('Inner', '(crew.person_id = people.person_id)')\", \"\"], \"source\": [0, 1, 2, 3, 4, 5], \"target\": [5, 2, 4, 4, 5, 6], \"value\": [1, 3446261, 3, 13651901, 565, 186]}, \"node\": {\"color\": [null, null, null, null, null, null], \"label\": [\"Titles_Index\", \"People\", \"People*\", \"Crew\", \"People* \\u22c8 Crew\", \"Titles_Index \\u22c8 People* \\u22c8 Crew\"], \"pad\": 200}, \"orientation\": \"h\", \"type\": \"sankey\", \"valueformat\": \",\", \"valuesuffix\": [\" Rows\", \" Rows\", \" Rows\", \" Rows\", \" Rows\", \" Rows\"]}],\n",
       "                        {\"font\": {\"size\": 10}, \"height\": 750, \"title\": \"Identifying missing records\", \"updatemenus\": [{\"buttons\": [{\"args\": [\"orientation\", \"h\"], \"label\": \"Horizontal\", \"method\": \"restyle\"}, {\"args\": [\"orientation\", \"v\"], \"label\": \"Vertical\", \"method\": \"restyle\"}], \"y\": 0.6}]},\n",
       "                        {\"responsive\": true}\n",
       "                    ).then(function(){\n",
       "                            \n",
       "var gd = document.getElementById('774b60af-db8b-471c-a7e7-814a066f805f');\n",
       "var x = new MutationObserver(function (mutations, observer) {{\n",
       "        var display = window.getComputedStyle(gd).display;\n",
       "        if (!display || display === 'none') {{\n",
       "            console.log([gd, 'removed!']);\n",
       "            Plotly.purge(gd);\n",
       "            observer.disconnect();\n",
       "        }}\n",
       "}});\n",
       "\n",
       "// Listen for the removal of the full notebook cells\n",
       "var notebookContainer = gd.closest('#notebook-container');\n",
       "if (notebookContainer) {{\n",
       "    x.observe(notebookContainer, {childList: true});\n",
       "}}\n",
       "\n",
       "// Listen for the clearing of the current output cell\n",
       "var outputEl = gd.closest('.output');\n",
       "if (outputEl) {{\n",
       "    x.observe(outputEl, {childList: true});\n",
       "}}\n",
       "\n",
       "                        })\n",
       "                };\n",
       "                });\n",
       "            </script>\n",
       "        </div>"
      ]
     },
     "metadata": {},
     "output_type": "display_data"
    }
   ],
   "source": [
    "cardinality_df = query_renderer.get_cardinality_df(query, con_str)\n",
    "query_renderer.vizualize(cardinality_df, title=\"Identifying missing records\", metrics=[\"actual_rows\"], open_=False)"
   ]
  },
  {
   "cell_type": "code",
   "execution_count": 29,
   "metadata": {},
   "outputs": [],
   "source": [
    "query =\"\"\"\n",
    "SELECT titles.title_id\n",
    "FROM titles\n",
    "INNER JOIN crew ON crew.title_id = titles.title_id\n",
    "INNER JOIN people ON people.person_id = crew.person_id\n",
    "WHERE genres ilike '%Comedy%' \n",
    "  AND name in ('Owen Wilson', 'Adam Sandler', 'Jason Segel')\n",
    "\"\"\""
   ]
  },
  {
   "cell_type": "code",
   "execution_count": 30,
   "metadata": {},
   "outputs": [
    {
     "data": {
      "application/vnd.plotly.v1+json": {
       "config": {
        "linkText": "Export to plot.ly",
        "plotlyServerURL": "https://plot.ly",
        "showLink": false
       },
       "data": [
        {
         "link": {
          "color": [
           "silver",
           "silver",
           "silver",
           "silver",
           "silver",
           "silver",
           "silver"
          ],
          "label": [
           "",
           "Filter condition: (people.name = ANY ('{\"Owen Wilson\",\"Adam Sandler\",\"Jason Segel\"}'::text[]))",
           "",
           "Hash Cond ('Inner', '(crew.person_id = people.person_id)')",
           "",
           "Filter condition: (titles.genres ~~* '%Comedy%'::text)",
           "Hash Cond ('Inner', '(titles.title_id = crew.title_id)')"
          ],
          "source": [
           0,
           1,
           2,
           3,
           4,
           5,
           6
          ],
          "target": [
           1,
           3,
           3,
           6,
           5,
           6,
           7
          ],
          "value": [
           3446261,
           3,
           13651901,
           565,
           2379234,
           489076,
           186
          ]
         },
         "node": {
          "color": [
           null,
           null,
           null,
           null,
           null,
           null,
           null
          ],
          "label": [
           "People",
           "People*",
           "Crew",
           "People* ⋈ Crew",
           "Titles",
           "Titles*",
           "People* ⋈ Crew ⋈ Titles*"
          ],
          "pad": 200
         },
         "orientation": "h",
         "type": "sankey",
         "valueformat": ",",
         "valuesuffix": [
          " Rows",
          " Rows",
          " Rows",
          " Rows",
          " Rows",
          " Rows",
          " Rows"
         ]
        }
       ],
       "layout": {
        "font": {
         "size": 10
        },
        "height": 750,
        "title": "Missing Records in Where Clause",
        "updatemenus": [
         {
          "buttons": [
           {
            "args": [
             "orientation",
             "h"
            ],
            "label": "Horizontal",
            "method": "restyle"
           },
           {
            "args": [
             "orientation",
             "v"
            ],
            "label": "Vertical",
            "method": "restyle"
           }
          ],
          "y": 0.6
         }
        ]
       }
      },
      "text/html": [
       "<div>\n",
       "        \n",
       "        \n",
       "            <div id=\"7f768d8c-8942-4a9f-a32d-11d2f5e7b24f\" class=\"plotly-graph-div\" style=\"height:750px; width:100%;\"></div>\n",
       "            <script type=\"text/javascript\">\n",
       "                require([\"plotly\"], function(Plotly) {\n",
       "                    window.PLOTLYENV=window.PLOTLYENV || {};\n",
       "                    \n",
       "                if (document.getElementById(\"7f768d8c-8942-4a9f-a32d-11d2f5e7b24f\")) {\n",
       "                    Plotly.newPlot(\n",
       "                        '7f768d8c-8942-4a9f-a32d-11d2f5e7b24f',\n",
       "                        [{\"link\": {\"color\": [\"silver\", \"silver\", \"silver\", \"silver\", \"silver\", \"silver\", \"silver\"], \"label\": [\"\", \"Filter condition: (people.name = ANY ('{\\\"Owen Wilson\\\",\\\"Adam Sandler\\\",\\\"Jason Segel\\\"}'::text[]))\", \"\", \"Hash Cond ('Inner', '(crew.person_id = people.person_id)')\", \"\", \"Filter condition: (titles.genres ~~* '%Comedy%'::text)\", \"Hash Cond ('Inner', '(titles.title_id = crew.title_id)')\"], \"source\": [0, 1, 2, 3, 4, 5, 6], \"target\": [1, 3, 3, 6, 5, 6, 7], \"value\": [3446261, 3, 13651901, 565, 2379234, 489076, 186]}, \"node\": {\"color\": [null, null, null, null, null, null, null], \"label\": [\"People\", \"People*\", \"Crew\", \"People* \\u22c8 Crew\", \"Titles\", \"Titles*\", \"People* \\u22c8 Crew \\u22c8 Titles*\"], \"pad\": 200}, \"orientation\": \"h\", \"type\": \"sankey\", \"valueformat\": \",\", \"valuesuffix\": [\" Rows\", \" Rows\", \" Rows\", \" Rows\", \" Rows\", \" Rows\", \" Rows\"]}],\n",
       "                        {\"font\": {\"size\": 10}, \"height\": 750, \"title\": \"Missing Records in Where Clause\", \"updatemenus\": [{\"buttons\": [{\"args\": [\"orientation\", \"h\"], \"label\": \"Horizontal\", \"method\": \"restyle\"}, {\"args\": [\"orientation\", \"v\"], \"label\": \"Vertical\", \"method\": \"restyle\"}], \"y\": 0.6}]},\n",
       "                        {\"responsive\": true}\n",
       "                    ).then(function(){\n",
       "                            \n",
       "var gd = document.getElementById('7f768d8c-8942-4a9f-a32d-11d2f5e7b24f');\n",
       "var x = new MutationObserver(function (mutations, observer) {{\n",
       "        var display = window.getComputedStyle(gd).display;\n",
       "        if (!display || display === 'none') {{\n",
       "            console.log([gd, 'removed!']);\n",
       "            Plotly.purge(gd);\n",
       "            observer.disconnect();\n",
       "        }}\n",
       "}});\n",
       "\n",
       "// Listen for the removal of the full notebook cells\n",
       "var notebookContainer = gd.closest('#notebook-container');\n",
       "if (notebookContainer) {{\n",
       "    x.observe(notebookContainer, {childList: true});\n",
       "}}\n",
       "\n",
       "// Listen for the clearing of the current output cell\n",
       "var outputEl = gd.closest('.output');\n",
       "if (outputEl) {{\n",
       "    x.observe(outputEl, {childList: true});\n",
       "}}\n",
       "\n",
       "                        })\n",
       "                };\n",
       "                });\n",
       "            </script>\n",
       "        </div>"
      ]
     },
     "metadata": {},
     "output_type": "display_data"
    }
   ],
   "source": [
    "cardinality_df = query_renderer.get_cardinality_df(query, con_str)\n",
    "query_renderer.vizualize(cardinality_df, title=\"Missing Records in Where Clause\", metrics=[\"actual_rows\"], open_=False)\n"
   ]
  },
  {
   "cell_type": "code",
   "execution_count": null,
   "metadata": {},
   "outputs": [],
   "source": []
  }
 ],
 "metadata": {
  "kernelspec": {
   "display_name": "Python 3",
   "language": "python",
   "name": "python3"
  },
  "language_info": {
   "codemirror_mode": {
    "name": "ipython",
    "version": 3
   },
   "file_extension": ".py",
   "mimetype": "text/x-python",
   "name": "python",
   "nbconvert_exporter": "python",
   "pygments_lexer": "ipython3",
   "version": "3.7.4"
  }
 },
 "nbformat": 4,
 "nbformat_minor": 4
}
