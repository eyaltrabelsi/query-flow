{
 "cells": [
  {
   "cell_type": "markdown",
   "metadata": {},
   "source": [
    "# Optimiser bad estimations"
   ]
  },
  {
   "cell_type": "code",
   "execution_count": null,
   "metadata": {},
   "outputs": [],
   "source": [
    "from plotly.offline import init_notebook_mode\n",
    "from psycopg2.extensions import ISOLATION_LEVEL_AUTOCOMMIT\n",
    "from sqlalchemy import create_engine\n",
    "from query_flow.parsers.postgres_parser import PostgresParser\n",
    "from query_flow.vizualizers.query_vizualizer import QueryVizualizer"
   ]
  },
  {
   "cell_type": "markdown",
   "metadata": {},
   "source": [
    "**Problems related to the optimizer work are hard to detect for regular users. Using QueryFlow we can visualize and compare the optimizer estimations to the actual statistics after executions. **\n",
    "\n",
    "To visualize multiple metrics in the same Sankey-diagrams we adjusts the luminance of the color for different metrics.  \n",
    "We are using QueryFlow to identify if we have stale statistics and where it was originated. \n",
    "The corresponding Sankey that represents the estimated cardinality compared to the actual cardinality can be seen in the next cell, but to make it work without generating the database we will use a mock."
   ]
  },
  {
   "cell_type": "code",
   "execution_count": null,
   "metadata": {},
   "outputs": [],
   "source": [
    "con_str = 'postgresql:///etrabelsi_thesis'\n",
    "with create_engine(con_str).connect() as con:\n",
    "    execution_plan = con.execute(\"UPDATE crew set title_id=title_id\")\n",
    "query_renderer = QueryVizualizer(parser=PostgresParser())\n",
    "query =\"\"\"\n",
    "SELECT titles.title_id\n",
    "FROM titles\n",
    "INNER JOIN crew ON crew.title_id = titles.title_id\n",
    "INNER JOIN people ON people.person_id = crew.person_id\n",
    "WHERE genres like '%Comedy%' \n",
    "  AND name in ('Owen Wilson', 'Adam Sandler', 'Jason Segel')\n",
    "\"\"\"\n",
    "flow_df = query_renderer.get_flow_df(query, con_str=con_str)\n",
    "query_renderer.vizualize(flow_df, title=\"Bad estimation for query 1\", metrics=[\"actual_rows\", \"plan_rows\"], open_=False)"
   ]
  },
  {
   "cell_type": "code",
   "execution_count": null,
   "metadata": {},
   "outputs": [],
   "source": []
  },
  {
   "cell_type": "markdown",
   "metadata": {},
   "source": [
    "We can see that each metric gets its own color; the darker gray represents the actual_rows metric and the darker lighter gray represents the plan_rows metric. \n",
    "\n",
    "We can see  that the optimizer was way off for the Crew scan, as the light gray edge is much thicker than the darker one. The reason the optimizer estimation is skewed is due to PostgreSQL’s mechanism for deleting and updating records. When an update or a delete occurs, it does not create extra space in the system. PostgreSQL rather flags these tuples as “dead tuples” and to remove those, one needs to use the VACUUM clause. \n",
    "\n",
    "We can clean the dead tuple in the Crew relation using the vacuum command only on the Crew relation. The vacuum query can be seen in the next cell. \n"
   ]
  },
  {
   "cell_type": "code",
   "execution_count": null,
   "metadata": {},
   "outputs": [],
   "source": [
    "\n",
    "engine =  create_engine(con_str)\n",
    "connection = engine.raw_connection()\n",
    "connection.set_isolation_level(ISOLATION_LEVEL_AUTOCOMMIT)\n",
    "cursor = connection.cursor()\n",
    "cursor.execute(\"VACUUM FULL crew\")"
   ]
  },
  {
   "cell_type": "markdown",
   "metadata": {},
   "source": [
    "To confirm that the optimizer statistics are up to date, we use QueryFlow to visualize the cardinality again. The corresponding Sankey that represents the estimated cardinality compared to the actual cardinality after the vacuum command can be seen in the next cell."
   ]
  },
  {
   "cell_type": "code",
   "execution_count": null,
   "metadata": {},
   "outputs": [],
   "source": [
    "flow_df = query_renderer.get_flow_df(query, con_str=con_str)\n",
    "query_renderer.vizualize(flow_df, title=\"Bad estimation for query 1\", metrics=[\"actual_rows\", \"plan_rows\"], open_=False)"
   ]
  },
  {
   "cell_type": "markdown",
   "metadata": {},
   "source": [
    "We can immediately see  that the Crew scan is no longer skewed as it used to be, as the darker and lighter edges of the Crew sub-expression are proportional."
   ]
  },
  {
   "cell_type": "code",
   "execution_count": null,
   "metadata": {},
   "outputs": [],
   "source": []
  }
 ],
 "metadata": {
  "kernelspec": {
   "display_name": "Python 3 (ipykernel)",
   "language": "python",
   "name": "python3"
  },
  "language_info": {
   "codemirror_mode": {
    "name": "ipython",
    "version": 3
   },
   "file_extension": ".py",
   "mimetype": "text/x-python",
   "name": "python",
   "nbconvert_exporter": "python",
   "pygments_lexer": "ipython3",
   "version": "3.7.10"
  }
 },
 "nbformat": 4,
 "nbformat_minor": 4
}
