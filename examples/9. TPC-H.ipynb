{
 "cells": [
  {
   "cell_type": "code",
   "execution_count": 1,
   "metadata": {},
   "outputs": [],
   "source": [
    "# Fixing working directory of the execution\n",
    "\n",
    "from sys import path\n",
    "from os.path import dirname\n",
    "\n",
    "path.append(dirname(path[0]))\n",
    "__package__ = \"basic\""
   ]
  },
  {
   "cell_type": "code",
   "execution_count": 2,
   "metadata": {},
   "outputs": [],
   "source": [
    "from plotly.offline import init_notebook_mode\n",
    "from sqlalchemy import create_engine\n",
    "\n",
    "from query_flow.parsers.postgres_parser import PostgresParser\n",
    "from query_flow.vizualizers.query_vizualizer import QueryVizualizer"
   ]
  },
  {
   "cell_type": "code",
   "execution_count": 3,
   "metadata": {},
   "outputs": [
    {
     "data": {
      "text/html": [
       "        <script type=\"text/javascript\">\n",
       "        window.PlotlyConfig = {MathJaxConfig: 'local'};\n",
       "        if (window.MathJax) {MathJax.Hub.Config({SVG: {font: \"STIX-Web\"}});}\n",
       "        if (typeof require !== 'undefined') {\n",
       "        require.undef(\"plotly\");\n",
       "        requirejs.config({\n",
       "            paths: {\n",
       "                'plotly': ['https://cdn.plot.ly/plotly-latest.min']\n",
       "            }\n",
       "        });\n",
       "        require(['plotly'], function(Plotly) {\n",
       "            window._Plotly = Plotly;\n",
       "        });\n",
       "        }\n",
       "        </script>\n",
       "        "
      ]
     },
     "metadata": {},
     "output_type": "display_data"
    }
   ],
   "source": [
    "%load_ext autoreload\n",
    "%autoreload 2\n",
    "\n",
    "init_notebook_mode(connected=True)"
   ]
  },
  {
   "cell_type": "code",
   "execution_count": 4,
   "metadata": {},
   "outputs": [],
   "source": [
    "con_str = 'postgresql:///etrabelsi_thesis'\n"
   ]
  },
  {
   "cell_type": "code",
   "execution_count": 12,
   "metadata": {},
   "outputs": [
    {
     "data": {
      "text/plain": [
       "[('etrabelsi_thesis', 'public', 'table_name', 'BASE TABLE', None, None, None, None, None, 'YES', 'NO', None),\n",
       " ('etrabelsi_thesis', 'public', 'titles', 'BASE TABLE', None, None, None, None, None, 'YES', 'NO', None),\n",
       " ('etrabelsi_thesis', 'public', 'generes', 'BASE TABLE', None, None, None, None, None, 'YES', 'NO', None),\n",
       " ('etrabelsi_thesis', 'public', ' people', 'BASE TABLE', None, None, None, None, None, 'YES', 'NO', None),\n",
       " ('etrabelsi_thesis', 'pg_catalog', 'pg_statistic', 'BASE TABLE', None, None, None, None, None, 'YES', 'NO', None),\n",
       " ('etrabelsi_thesis', 'pg_catalog', 'pg_type', 'BASE TABLE', None, None, None, None, None, 'YES', 'NO', None),\n",
       " ('etrabelsi_thesis', 'public', 'part', 'BASE TABLE', None, None, None, None, None, 'YES', 'NO', None),\n",
       " ('etrabelsi_thesis', 'public', 'region', 'BASE TABLE', None, None, None, None, None, 'YES', 'NO', None),\n",
       " ('etrabelsi_thesis', 'public', 'nation', 'BASE TABLE', None, None, None, None, None, 'YES', 'NO', None),\n",
       " ('etrabelsi_thesis', 'public', 'supplier', 'BASE TABLE', None, None, None, None, None, 'YES', 'NO', None),\n",
       " ('etrabelsi_thesis', 'public', 'customer', 'BASE TABLE', None, None, None, None, None, 'YES', 'NO', None),\n",
       " ('etrabelsi_thesis', 'public', 'partsupp', 'BASE TABLE', None, None, None, None, None, 'YES', 'NO', None),\n",
       " ('etrabelsi_thesis', 'public', 'orders', 'BASE TABLE', None, None, None, None, None, 'YES', 'NO', None),\n",
       " ('etrabelsi_thesis', 'public', 'people', 'BASE TABLE', None, None, None, None, None, 'YES', 'NO', None),\n",
       " ('etrabelsi_thesis', 'public', 'akas', 'BASE TABLE', None, None, None, None, None, 'YES', 'NO', None),\n",
       " ('etrabelsi_thesis', 'public', 'crew', 'BASE TABLE', None, None, None, None, None, 'YES', 'NO', None),\n",
       " ('etrabelsi_thesis', 'pg_catalog', 'pg_foreign_server', 'BASE TABLE', None, None, None, None, None, 'YES', 'NO', None),\n",
       " ('etrabelsi_thesis', 'pg_catalog', 'pg_authid', 'BASE TABLE', None, None, None, None, None, 'YES', 'NO', None),\n",
       " ('etrabelsi_thesis', 'pg_catalog', 'pg_shadow', 'VIEW', None, None, None, None, None, 'NO', 'NO', None),\n",
       " ('etrabelsi_thesis', 'public', 'episodes', 'BASE TABLE', None, None, None, None, None, 'YES', 'NO', None),\n",
       " ('etrabelsi_thesis', 'pg_catalog', 'pg_statistic_ext_data', 'BASE TABLE', None, None, None, None, None, 'YES', 'NO', None),\n",
       " ('etrabelsi_thesis', 'pg_catalog', 'pg_roles', 'VIEW', None, None, None, None, None, 'NO', 'NO', None),\n",
       " ('etrabelsi_thesis', 'public', 'ratings', 'BASE TABLE', None, None, None, None, None, 'YES', 'NO', None),\n",
       " ('etrabelsi_thesis', 'public', 'rotten_tomatos', 'BASE TABLE', None, None, None, None, None, 'YES', 'NO', None),\n",
       " ('etrabelsi_thesis', 'pg_catalog', 'pg_settings', 'VIEW', None, None, None, None, None, 'NO', 'NO', None),\n",
       " ('etrabelsi_thesis', 'pg_catalog', 'pg_file_settings', 'VIEW', None, None, None, None, None, 'NO', 'NO', None),\n",
       " ('etrabelsi_thesis', 'pg_catalog', 'pg_hba_file_rules', 'VIEW', None, None, None, None, None, 'NO', 'NO', None),\n",
       " ('etrabelsi_thesis', 'pg_catalog', 'pg_config', 'VIEW', None, None, None, None, None, 'NO', 'NO', None),\n",
       " ('etrabelsi_thesis', 'pg_catalog', 'pg_cursors', 'VIEW', None, None, None, None, None, 'NO', 'NO', None),\n",
       " ('etrabelsi_thesis', 'pg_catalog', 'pg_user_mapping', 'BASE TABLE', None, None, None, None, None, 'YES', 'NO', None),\n",
       " ('etrabelsi_thesis', 'pg_catalog', 'pg_stat_bgwriter', 'VIEW', None, None, None, None, None, 'NO', 'NO', None),\n",
       " ('etrabelsi_thesis', 'pg_catalog', 'pg_replication_origin_status', 'VIEW', None, None, None, None, None, 'NO', 'NO', None),\n",
       " ('etrabelsi_thesis', 'pg_catalog', 'pg_subscription', 'BASE TABLE', None, None, None, None, None, 'YES', 'NO', None),\n",
       " ('etrabelsi_thesis', 'pg_catalog', 'pg_stat_progress_vacuum', 'VIEW', None, None, None, None, None, 'NO', 'NO', None),\n",
       " ('etrabelsi_thesis', 'pg_catalog', 'pg_stat_progress_cluster', 'VIEW', None, None, None, None, None, 'NO', 'NO', None),\n",
       " ('etrabelsi_thesis', 'pg_catalog', 'pg_attribute', 'BASE TABLE', None, None, None, None, None, 'YES', 'NO', None),\n",
       " ('etrabelsi_thesis', 'pg_catalog', 'pg_proc', 'BASE TABLE', None, None, None, None, None, 'YES', 'NO', None),\n",
       " ('etrabelsi_thesis', 'pg_catalog', 'pg_class', 'BASE TABLE', None, None, None, None, None, 'YES', 'NO', None),\n",
       " ('etrabelsi_thesis', 'pg_catalog', 'pg_attrdef', 'BASE TABLE', None, None, None, None, None, 'YES', 'NO', None),\n",
       " ('etrabelsi_thesis', 'pg_catalog', 'pg_constraint', 'BASE TABLE', None, None, None, None, None, 'YES', 'NO', None),\n",
       " ('etrabelsi_thesis', 'pg_catalog', 'pg_inherits', 'BASE TABLE', None, None, None, None, None, 'YES', 'NO', None),\n",
       " ('etrabelsi_thesis', 'pg_catalog', 'pg_index', 'BASE TABLE', None, None, None, None, None, 'YES', 'NO', None),\n",
       " ('etrabelsi_thesis', 'pg_catalog', 'pg_operator', 'BASE TABLE', None, None, None, None, None, 'YES', 'NO', None),\n",
       " ('etrabelsi_thesis', 'pg_catalog', 'pg_opfamily', 'BASE TABLE', None, None, None, None, None, 'YES', 'NO', None),\n",
       " ('etrabelsi_thesis', 'pg_catalog', 'pg_opclass', 'BASE TABLE', None, None, None, None, None, 'YES', 'NO', None),\n",
       " ('etrabelsi_thesis', 'pg_catalog', 'pg_am', 'BASE TABLE', None, None, None, None, None, 'YES', 'NO', None),\n",
       " ('etrabelsi_thesis', 'pg_catalog', 'pg_amop', 'BASE TABLE', None, None, None, None, None, 'YES', 'NO', None),\n",
       " ('etrabelsi_thesis', 'pg_catalog', 'pg_amproc', 'BASE TABLE', None, None, None, None, None, 'YES', 'NO', None),\n",
       " ('etrabelsi_thesis', 'pg_catalog', 'pg_language', 'BASE TABLE', None, None, None, None, None, 'YES', 'NO', None),\n",
       " ('etrabelsi_thesis', 'pg_catalog', 'pg_largeobject_metadata', 'BASE TABLE', None, None, None, None, None, 'YES', 'NO', None),\n",
       " ('etrabelsi_thesis', 'pg_catalog', 'pg_aggregate', 'BASE TABLE', None, None, None, None, None, 'YES', 'NO', None),\n",
       " ('etrabelsi_thesis', 'pg_catalog', 'pg_stat_progress_create_index', 'VIEW', None, None, None, None, None, 'NO', 'NO', None),\n",
       " ('etrabelsi_thesis', 'pg_catalog', 'pg_user_mappings', 'VIEW', None, None, None, None, None, 'NO', 'NO', None),\n",
       " ('etrabelsi_thesis', 'pg_catalog', 'pg_largeobject', 'BASE TABLE', None, None, None, None, None, 'YES', 'NO', None),\n",
       " ('etrabelsi_thesis', 'pg_catalog', 'pg_statistic_ext', 'BASE TABLE', None, None, None, None, None, 'YES', 'NO', None),\n",
       " ('etrabelsi_thesis', 'pg_catalog', 'pg_rewrite', 'BASE TABLE', None, None, None, None, None, 'YES', 'NO', None),\n",
       " ('etrabelsi_thesis', 'pg_catalog', 'pg_trigger', 'BASE TABLE', None, None, None, None, None, 'YES', 'NO', None),\n",
       " ('etrabelsi_thesis', 'pg_catalog', 'pg_event_trigger', 'BASE TABLE', None, None, None, None, None, 'YES', 'NO', None),\n",
       " ('etrabelsi_thesis', 'pg_catalog', 'pg_description', 'BASE TABLE', None, None, None, None, None, 'YES', 'NO', None),\n",
       " ('etrabelsi_thesis', 'pg_catalog', 'pg_cast', 'BASE TABLE', None, None, None, None, None, 'YES', 'NO', None),\n",
       " ('etrabelsi_thesis', 'pg_catalog', 'pg_enum', 'BASE TABLE', None, None, None, None, None, 'YES', 'NO', None),\n",
       " ('etrabelsi_thesis', 'pg_catalog', 'pg_namespace', 'BASE TABLE', None, None, None, None, None, 'YES', 'NO', None),\n",
       " ('etrabelsi_thesis', 'pg_catalog', 'pg_conversion', 'BASE TABLE', None, None, None, None, None, 'YES', 'NO', None),\n",
       " ('etrabelsi_thesis', 'pg_catalog', 'pg_depend', 'BASE TABLE', None, None, None, None, None, 'YES', 'NO', None),\n",
       " ('etrabelsi_thesis', 'pg_catalog', 'pg_database', 'BASE TABLE', None, None, None, None, None, 'YES', 'NO', None),\n",
       " ('etrabelsi_thesis', 'pg_catalog', 'pg_db_role_setting', 'BASE TABLE', None, None, None, None, None, 'YES', 'NO', None),\n",
       " ('etrabelsi_thesis', 'pg_catalog', 'pg_tablespace', 'BASE TABLE', None, None, None, None, None, 'YES', 'NO', None),\n",
       " ('etrabelsi_thesis', 'pg_catalog', 'pg_pltemplate', 'BASE TABLE', None, None, None, None, None, 'YES', 'NO', None),\n",
       " ('etrabelsi_thesis', 'pg_catalog', 'pg_auth_members', 'BASE TABLE', None, None, None, None, None, 'YES', 'NO', None),\n",
       " ('etrabelsi_thesis', 'pg_catalog', 'pg_shdepend', 'BASE TABLE', None, None, None, None, None, 'YES', 'NO', None),\n",
       " ('etrabelsi_thesis', 'pg_catalog', 'pg_shdescription', 'BASE TABLE', None, None, None, None, None, 'YES', 'NO', None),\n",
       " ('etrabelsi_thesis', 'pg_catalog', 'pg_ts_config', 'BASE TABLE', None, None, None, None, None, 'YES', 'NO', None),\n",
       " ('etrabelsi_thesis', 'pg_catalog', 'pg_ts_config_map', 'BASE TABLE', None, None, None, None, None, 'YES', 'NO', None),\n",
       " ('etrabelsi_thesis', 'pg_catalog', 'pg_ts_dict', 'BASE TABLE', None, None, None, None, None, 'YES', 'NO', None),\n",
       " ('etrabelsi_thesis', 'pg_catalog', 'pg_ts_parser', 'BASE TABLE', None, None, None, None, None, 'YES', 'NO', None),\n",
       " ('etrabelsi_thesis', 'pg_catalog', 'pg_ts_template', 'BASE TABLE', None, None, None, None, None, 'YES', 'NO', None),\n",
       " ('etrabelsi_thesis', 'pg_catalog', 'pg_extension', 'BASE TABLE', None, None, None, None, None, 'YES', 'NO', None),\n",
       " ('etrabelsi_thesis', 'pg_catalog', 'pg_foreign_data_wrapper', 'BASE TABLE', None, None, None, None, None, 'YES', 'NO', None),\n",
       " ('etrabelsi_thesis', 'pg_catalog', 'pg_foreign_table', 'BASE TABLE', None, None, None, None, None, 'YES', 'NO', None),\n",
       " ('etrabelsi_thesis', 'pg_catalog', 'pg_policy', 'BASE TABLE', None, None, None, None, None, 'YES', 'NO', None),\n",
       " ('etrabelsi_thesis', 'pg_catalog', 'pg_replication_origin', 'BASE TABLE', None, None, None, None, None, 'YES', 'NO', None),\n",
       " ('etrabelsi_thesis', 'pg_catalog', 'pg_default_acl', 'BASE TABLE', None, None, None, None, None, 'YES', 'NO', None),\n",
       " ('etrabelsi_thesis', 'pg_catalog', 'pg_init_privs', 'BASE TABLE', None, None, None, None, None, 'YES', 'NO', None),\n",
       " ('etrabelsi_thesis', 'pg_catalog', 'pg_seclabel', 'BASE TABLE', None, None, None, None, None, 'YES', 'NO', None),\n",
       " ('etrabelsi_thesis', 'pg_catalog', 'pg_shseclabel', 'BASE TABLE', None, None, None, None, None, 'YES', 'NO', None),\n",
       " ('etrabelsi_thesis', 'pg_catalog', 'pg_collation', 'BASE TABLE', None, None, None, None, None, 'YES', 'NO', None),\n",
       " ('etrabelsi_thesis', 'pg_catalog', 'pg_partitioned_table', 'BASE TABLE', None, None, None, None, None, 'YES', 'NO', None),\n",
       " ('etrabelsi_thesis', 'pg_catalog', 'pg_range', 'BASE TABLE', None, None, None, None, None, 'YES', 'NO', None),\n",
       " ('etrabelsi_thesis', 'pg_catalog', 'pg_transform', 'BASE TABLE', None, None, None, None, None, 'YES', 'NO', None),\n",
       " ('etrabelsi_thesis', 'pg_catalog', 'pg_sequence', 'BASE TABLE', None, None, None, None, None, 'YES', 'NO', None),\n",
       " ('etrabelsi_thesis', 'pg_catalog', 'pg_publication', 'BASE TABLE', None, None, None, None, None, 'YES', 'NO', None),\n",
       " ('etrabelsi_thesis', 'pg_catalog', 'pg_publication_rel', 'BASE TABLE', None, None, None, None, None, 'YES', 'NO', None),\n",
       " ('etrabelsi_thesis', 'pg_catalog', 'pg_subscription_rel', 'BASE TABLE', None, None, None, None, None, 'YES', 'NO', None),\n",
       " ('etrabelsi_thesis', 'pg_catalog', 'pg_group', 'VIEW', None, None, None, None, None, 'YES', 'NO', None),\n",
       " ('etrabelsi_thesis', 'pg_catalog', 'pg_user', 'VIEW', None, None, None, None, None, 'NO', 'NO', None),\n",
       " ('etrabelsi_thesis', 'pg_catalog', 'pg_policies', 'VIEW', None, None, None, None, None, 'NO', 'NO', None),\n",
       " ('etrabelsi_thesis', 'pg_catalog', 'pg_rules', 'VIEW', None, None, None, None, None, 'NO', 'NO', None),\n",
       " ('etrabelsi_thesis', 'pg_catalog', 'pg_views', 'VIEW', None, None, None, None, None, 'NO', 'NO', None),\n",
       " ('etrabelsi_thesis', 'pg_catalog', 'pg_tables', 'VIEW', None, None, None, None, None, 'NO', 'NO', None),\n",
       " ('etrabelsi_thesis', 'pg_catalog', 'pg_matviews', 'VIEW', None, None, None, None, None, 'NO', 'NO', None),\n",
       " ('etrabelsi_thesis', 'pg_catalog', 'pg_indexes', 'VIEW', None, None, None, None, None, 'NO', 'NO', None),\n",
       " ('etrabelsi_thesis', 'pg_catalog', 'pg_sequences', 'VIEW', None, None, None, None, None, 'NO', 'NO', None),\n",
       " ('etrabelsi_thesis', 'pg_catalog', 'pg_stats', 'VIEW', None, None, None, None, None, 'NO', 'NO', None),\n",
       " ('etrabelsi_thesis', 'pg_catalog', 'pg_stats_ext', 'VIEW', None, None, None, None, None, 'NO', 'NO', None),\n",
       " ('etrabelsi_thesis', 'pg_catalog', 'pg_publication_tables', 'VIEW', None, None, None, None, None, 'NO', 'NO', None),\n",
       " ('etrabelsi_thesis', 'pg_catalog', 'pg_locks', 'VIEW', None, None, None, None, None, 'NO', 'NO', None),\n",
       " ('etrabelsi_thesis', 'pg_catalog', 'pg_available_extensions', 'VIEW', None, None, None, None, None, 'NO', 'NO', None),\n",
       " ('etrabelsi_thesis', 'pg_catalog', 'pg_available_extension_versions', 'VIEW', None, None, None, None, None, 'NO', 'NO', None),\n",
       " ('etrabelsi_thesis', 'pg_catalog', 'pg_prepared_xacts', 'VIEW', None, None, None, None, None, 'NO', 'NO', None),\n",
       " ('etrabelsi_thesis', 'pg_catalog', 'pg_prepared_statements', 'VIEW', None, None, None, None, None, 'NO', 'NO', None),\n",
       " ('etrabelsi_thesis', 'pg_catalog', 'pg_seclabels', 'VIEW', None, None, None, None, None, 'NO', 'NO', None),\n",
       " ('etrabelsi_thesis', 'pg_catalog', 'pg_statio_sys_tables', 'VIEW', None, None, None, None, None, 'NO', 'NO', None),\n",
       " ('etrabelsi_thesis', 'pg_catalog', 'pg_timezone_abbrevs', 'VIEW', None, None, None, None, None, 'NO', 'NO', None),\n",
       " ('etrabelsi_thesis', 'pg_catalog', 'pg_timezone_names', 'VIEW', None, None, None, None, None, 'NO', 'NO', None),\n",
       " ('etrabelsi_thesis', 'pg_catalog', 'pg_statio_user_tables', 'VIEW', None, None, None, None, None, 'NO', 'NO', None),\n",
       " ('etrabelsi_thesis', 'pg_catalog', 'pg_stat_all_tables', 'VIEW', None, None, None, None, None, 'NO', 'NO', None),\n",
       " ('etrabelsi_thesis', 'pg_catalog', 'pg_stat_xact_all_tables', 'VIEW', None, None, None, None, None, 'NO', 'NO', None),\n",
       " ('etrabelsi_thesis', 'pg_catalog', 'pg_stat_sys_tables', 'VIEW', None, None, None, None, None, 'NO', 'NO', None),\n",
       " ('etrabelsi_thesis', 'pg_catalog', 'pg_stat_xact_sys_tables', 'VIEW', None, None, None, None, None, 'NO', 'NO', None),\n",
       " ('etrabelsi_thesis', 'pg_catalog', 'pg_stat_user_tables', 'VIEW', None, None, None, None, None, 'NO', 'NO', None),\n",
       " ('etrabelsi_thesis', 'pg_catalog', 'pg_stat_xact_user_tables', 'VIEW', None, None, None, None, None, 'NO', 'NO', None),\n",
       " ('etrabelsi_thesis', 'pg_catalog', 'pg_statio_all_tables', 'VIEW', None, None, None, None, None, 'NO', 'NO', None),\n",
       " ('etrabelsi_thesis', 'pg_catalog', 'pg_stat_all_indexes', 'VIEW', None, None, None, None, None, 'NO', 'NO', None),\n",
       " ('etrabelsi_thesis', 'pg_catalog', 'pg_stat_sys_indexes', 'VIEW', None, None, None, None, None, 'NO', 'NO', None),\n",
       " ('etrabelsi_thesis', 'pg_catalog', 'pg_stat_user_indexes', 'VIEW', None, None, None, None, None, 'NO', 'NO', None),\n",
       " ('etrabelsi_thesis', 'pg_catalog', 'pg_statio_all_indexes', 'VIEW', None, None, None, None, None, 'NO', 'NO', None),\n",
       " ('etrabelsi_thesis', 'pg_catalog', 'pg_statio_sys_indexes', 'VIEW', None, None, None, None, None, 'NO', 'NO', None),\n",
       " ('etrabelsi_thesis', 'pg_catalog', 'pg_statio_user_indexes', 'VIEW', None, None, None, None, None, 'NO', 'NO', None),\n",
       " ('etrabelsi_thesis', 'pg_catalog', 'pg_statio_all_sequences', 'VIEW', None, None, None, None, None, 'NO', 'NO', None),\n",
       " ('etrabelsi_thesis', 'pg_catalog', 'pg_statio_sys_sequences', 'VIEW', None, None, None, None, None, 'NO', 'NO', None),\n",
       " ('etrabelsi_thesis', 'pg_catalog', 'pg_statio_user_sequences', 'VIEW', None, None, None, None, None, 'NO', 'NO', None),\n",
       " ('etrabelsi_thesis', 'pg_catalog', 'pg_stat_activity', 'VIEW', None, None, None, None, None, 'NO', 'NO', None),\n",
       " ('etrabelsi_thesis', 'pg_catalog', 'pg_stat_replication', 'VIEW', None, None, None, None, None, 'NO', 'NO', None),\n",
       " ('etrabelsi_thesis', 'pg_catalog', 'pg_stat_wal_receiver', 'VIEW', None, None, None, None, None, 'NO', 'NO', None),\n",
       " ('etrabelsi_thesis', 'pg_catalog', 'pg_stat_subscription', 'VIEW', None, None, None, None, None, 'NO', 'NO', None),\n",
       " ('etrabelsi_thesis', 'pg_catalog', 'pg_stat_ssl', 'VIEW', None, None, None, None, None, 'NO', 'NO', None),\n",
       " ('etrabelsi_thesis', 'pg_catalog', 'pg_stat_gssapi', 'VIEW', None, None, None, None, None, 'NO', 'NO', None),\n",
       " ('etrabelsi_thesis', 'pg_catalog', 'pg_replication_slots', 'VIEW', None, None, None, None, None, 'NO', 'NO', None),\n",
       " ('etrabelsi_thesis', 'pg_catalog', 'pg_stat_database', 'VIEW', None, None, None, None, None, 'NO', 'NO', None),\n",
       " ('etrabelsi_thesis', 'pg_catalog', 'pg_stat_database_conflicts', 'VIEW', None, None, None, None, None, 'YES', 'NO', None),\n",
       " ('etrabelsi_thesis', 'pg_catalog', 'pg_stat_user_functions', 'VIEW', None, None, None, None, None, 'NO', 'NO', None),\n",
       " ('etrabelsi_thesis', 'pg_catalog', 'pg_stat_xact_user_functions', 'VIEW', None, None, None, None, None, 'NO', 'NO', None),\n",
       " ('etrabelsi_thesis', 'pg_catalog', 'pg_stat_archiver', 'VIEW', None, None, None, None, None, 'NO', 'NO', None),\n",
       " ('etrabelsi_thesis', 'information_schema', 'information_schema_catalog_name', 'VIEW', None, None, None, None, None, 'NO', 'NO', None),\n",
       " ('etrabelsi_thesis', 'information_schema', 'check_constraint_routine_usage', 'VIEW', None, None, None, None, None, 'NO', 'NO', None),\n",
       " ('etrabelsi_thesis', 'information_schema', 'applicable_roles', 'VIEW', None, None, None, None, None, 'NO', 'NO', None),\n",
       " ('etrabelsi_thesis', 'information_schema', 'administrable_role_authorizations', 'VIEW', None, None, None, None, None, 'NO', 'NO', None),\n",
       " ('etrabelsi_thesis', 'information_schema', 'collation_character_set_applicability', 'VIEW', None, None, None, None, None, 'NO', 'NO', None),\n",
       " ('etrabelsi_thesis', 'information_schema', 'attributes', 'VIEW', None, None, None, None, None, 'NO', 'NO', None),\n",
       " ('etrabelsi_thesis', 'information_schema', 'check_constraints', 'VIEW', None, None, None, None, None, 'NO', 'NO', None),\n",
       " ('etrabelsi_thesis', 'information_schema', 'character_sets', 'VIEW', None, None, None, None, None, 'NO', 'NO', None),\n",
       " ('etrabelsi_thesis', 'information_schema', 'collations', 'VIEW', None, None, None, None, None, 'NO', 'NO', None),\n",
       " ('etrabelsi_thesis', 'information_schema', 'column_domain_usage', 'VIEW', None, None, None, None, None, 'NO', 'NO', None),\n",
       " ('etrabelsi_thesis', 'information_schema', 'column_column_usage', 'VIEW', None, None, None, None, None, 'NO', 'NO', None),\n",
       " ('etrabelsi_thesis', 'information_schema', 'column_privileges', 'VIEW', None, None, None, None, None, 'NO', 'NO', None),\n",
       " ('etrabelsi_thesis', 'information_schema', 'column_udt_usage', 'VIEW', None, None, None, None, None, 'NO', 'NO', None),\n",
       " ('etrabelsi_thesis', 'information_schema', 'columns', 'VIEW', None, None, None, None, None, 'NO', 'NO', None),\n",
       " ('etrabelsi_thesis', 'information_schema', 'constraint_column_usage', 'VIEW', None, None, None, None, None, 'NO', 'NO', None),\n",
       " ('etrabelsi_thesis', 'information_schema', 'schemata', 'VIEW', None, None, None, None, None, 'NO', 'NO', None),\n",
       " ('etrabelsi_thesis', 'information_schema', 'constraint_table_usage', 'VIEW', None, None, None, None, None, 'NO', 'NO', None),\n",
       " ('etrabelsi_thesis', 'information_schema', 'domain_constraints', 'VIEW', None, None, None, None, None, 'NO', 'NO', None),\n",
       " ('etrabelsi_thesis', 'information_schema', 'sql_packages', 'BASE TABLE', None, None, None, None, None, 'YES', 'NO', None),\n",
       " ('etrabelsi_thesis', 'information_schema', 'domain_udt_usage', 'VIEW', None, None, None, None, None, 'NO', 'NO', None),\n",
       " ('etrabelsi_thesis', 'information_schema', 'sequences', 'VIEW', None, None, None, None, None, 'NO', 'NO', None),\n",
       " ('etrabelsi_thesis', 'information_schema', 'domains', 'VIEW', None, None, None, None, None, 'NO', 'NO', None),\n",
       " ('etrabelsi_thesis', 'information_schema', 'enabled_roles', 'VIEW', None, None, None, None, None, 'NO', 'NO', None),\n",
       " ('etrabelsi_thesis', 'information_schema', 'key_column_usage', 'VIEW', None, None, None, None, None, 'NO', 'NO', None),\n",
       " ('etrabelsi_thesis', 'information_schema', 'parameters', 'VIEW', None, None, None, None, None, 'NO', 'NO', None),\n",
       " ('etrabelsi_thesis', 'information_schema', 'referential_constraints', 'VIEW', None, None, None, None, None, 'NO', 'NO', None),\n",
       " ('etrabelsi_thesis', 'information_schema', 'sql_features', 'BASE TABLE', None, None, None, None, None, 'YES', 'NO', None),\n",
       " ('etrabelsi_thesis', 'information_schema', 'role_column_grants', 'VIEW', None, None, None, None, None, 'NO', 'NO', None),\n",
       " ('etrabelsi_thesis', 'information_schema', 'routine_privileges', 'VIEW', None, None, None, None, None, 'NO', 'NO', None),\n",
       " ('etrabelsi_thesis', 'information_schema', 'role_routine_grants', 'VIEW', None, None, None, None, None, 'NO', 'NO', None),\n",
       " ('etrabelsi_thesis', 'information_schema', 'routines', 'VIEW', None, None, None, None, None, 'NO', 'NO', None),\n",
       " ('etrabelsi_thesis', 'information_schema', 'sql_implementation_info', 'BASE TABLE', None, None, None, None, None, 'YES', 'NO', None),\n",
       " ('etrabelsi_thesis', 'information_schema', 'sql_parts', 'BASE TABLE', None, None, None, None, None, 'YES', 'NO', None),\n",
       " ('etrabelsi_thesis', 'information_schema', 'sql_languages', 'BASE TABLE', None, None, None, None, None, 'YES', 'NO', None),\n",
       " ('etrabelsi_thesis', 'information_schema', 'sql_sizing', 'BASE TABLE', None, None, None, None, None, 'YES', 'NO', None),\n",
       " ('etrabelsi_thesis', 'information_schema', 'sql_sizing_profiles', 'BASE TABLE', None, None, None, None, None, 'YES', 'NO', None),\n",
       " ('etrabelsi_thesis', 'information_schema', 'table_constraints', 'VIEW', None, None, None, None, None, 'NO', 'NO', None),\n",
       " ('etrabelsi_thesis', 'information_schema', 'table_privileges', 'VIEW', None, None, None, None, None, 'NO', 'NO', None),\n",
       " ('etrabelsi_thesis', 'information_schema', 'role_table_grants', 'VIEW', None, None, None, None, None, 'NO', 'NO', None),\n",
       " ('etrabelsi_thesis', 'information_schema', 'views', 'VIEW', None, None, None, None, None, 'NO', 'NO', None),\n",
       " ('etrabelsi_thesis', 'information_schema', 'tables', 'VIEW', None, None, None, None, None, 'NO', 'NO', None),\n",
       " ('etrabelsi_thesis', 'information_schema', 'transforms', 'VIEW', None, None, None, None, None, 'NO', 'NO', None),\n",
       " ('etrabelsi_thesis', 'information_schema', 'triggered_update_columns', 'VIEW', None, None, None, None, None, 'NO', 'NO', None),\n",
       " ('etrabelsi_thesis', 'information_schema', '_pg_foreign_servers', 'VIEW', None, None, None, None, None, 'NO', 'NO', None),\n",
       " ('etrabelsi_thesis', 'information_schema', 'triggers', 'VIEW', None, None, None, None, None, 'NO', 'NO', None),\n",
       " ('etrabelsi_thesis', 'information_schema', 'data_type_privileges', 'VIEW', None, None, None, None, None, 'NO', 'NO', None),\n",
       " ('etrabelsi_thesis', 'information_schema', 'udt_privileges', 'VIEW', None, None, None, None, None, 'NO', 'NO', None),\n",
       " ('etrabelsi_thesis', 'information_schema', 'role_udt_grants', 'VIEW', None, None, None, None, None, 'NO', 'NO', None),\n",
       " ('etrabelsi_thesis', 'information_schema', 'usage_privileges', 'VIEW', None, None, None, None, None, 'NO', 'NO', None),\n",
       " ('etrabelsi_thesis', 'information_schema', 'element_types', 'VIEW', None, None, None, None, None, 'NO', 'NO', None),\n",
       " ('etrabelsi_thesis', 'information_schema', 'role_usage_grants', 'VIEW', None, None, None, None, None, 'NO', 'NO', None),\n",
       " ('etrabelsi_thesis', 'information_schema', 'user_defined_types', 'VIEW', None, None, None, None, None, 'NO', 'NO', None),\n",
       " ('etrabelsi_thesis', 'information_schema', '_pg_foreign_table_columns', 'VIEW', None, None, None, None, None, 'NO', 'NO', None),\n",
       " ('etrabelsi_thesis', 'information_schema', 'view_column_usage', 'VIEW', None, None, None, None, None, 'NO', 'NO', None),\n",
       " ('etrabelsi_thesis', 'information_schema', 'view_routine_usage', 'VIEW', None, None, None, None, None, 'NO', 'NO', None),\n",
       " ('etrabelsi_thesis', 'information_schema', 'view_table_usage', 'VIEW', None, None, None, None, None, 'NO', 'NO', None),\n",
       " ('etrabelsi_thesis', 'information_schema', 'foreign_server_options', 'VIEW', None, None, None, None, None, 'NO', 'NO', None),\n",
       " ('etrabelsi_thesis', 'information_schema', 'column_options', 'VIEW', None, None, None, None, None, 'NO', 'NO', None),\n",
       " ('etrabelsi_thesis', 'information_schema', '_pg_foreign_data_wrappers', 'VIEW', None, None, None, None, None, 'NO', 'NO', None),\n",
       " ('etrabelsi_thesis', 'information_schema', 'foreign_data_wrapper_options', 'VIEW', None, None, None, None, None, 'NO', 'NO', None),\n",
       " ('etrabelsi_thesis', 'information_schema', 'foreign_tables', 'VIEW', None, None, None, None, None, 'NO', 'NO', None),\n",
       " ('etrabelsi_thesis', 'information_schema', 'foreign_data_wrappers', 'VIEW', None, None, None, None, None, 'NO', 'NO', None),\n",
       " ('etrabelsi_thesis', 'information_schema', 'foreign_servers', 'VIEW', None, None, None, None, None, 'NO', 'NO', None),\n",
       " ('etrabelsi_thesis', 'information_schema', '_pg_foreign_tables', 'VIEW', None, None, None, None, None, 'NO', 'NO', None),\n",
       " ('etrabelsi_thesis', 'information_schema', 'foreign_table_options', 'VIEW', None, None, None, None, None, 'NO', 'NO', None),\n",
       " ('etrabelsi_thesis', 'information_schema', '_pg_user_mappings', 'VIEW', None, None, None, None, None, 'NO', 'NO', None),\n",
       " ('etrabelsi_thesis', 'information_schema', 'user_mappings', 'VIEW', None, None, None, None, None, 'NO', 'NO', None),\n",
       " ('etrabelsi_thesis', 'information_schema', 'user_mapping_options', 'VIEW', None, None, None, None, None, 'NO', 'NO', None),\n",
       " ('etrabelsi_thesis', 'public', 'lineitem', 'BASE TABLE', None, None, None, None, None, 'YES', 'NO', None)]"
      ]
     },
     "execution_count": 12,
     "metadata": {},
     "output_type": "execute_result"
    }
   ],
   "source": [
    "with create_engine(con_str).connect() as con:\n",
    "    execution_plan = con.execute(\"select * from information_schema.tables\").fetchall()\n",
    "execution_plan    "
   ]
  },
  {
   "cell_type": "markdown",
   "metadata": {},
   "source": [
    "## query 1"
   ]
  },
  {
   "cell_type": "code",
   "execution_count": 5,
   "metadata": {},
   "outputs": [],
   "source": [
    "query_renderer = QueryVizualizer(parser=PostgresParser(explain_prefix=\"EXPLAIN(ANALYZE, COSTS, FORMAT JSON)\"))"
   ]
  },
  {
   "cell_type": "code",
   "execution_count": 19,
   "metadata": {},
   "outputs": [],
   "source": [
    "query =\"\"\"\n",
    "select l_returnflag,\n",
    "       l_linestatus,\n",
    "       sum(l_quantity) as sum_qty,\n",
    "       sum(l_extendedprice) as sum_base_price,\n",
    "       sum(l_extendedprice * (1 - l_discount)) as sum_disc_price,\n",
    "       sum(l_extendedprice * (1 - l_discount) * (1 + l_tax)) as sum_charge,\n",
    "       avg(l_quantity) as avg_qty,\n",
    "       avg(l_extendedprice) as avg_price,\n",
    "       avg(l_discount) as avg_disc,\n",
    "count(*) as count_order\n",
    "from\n",
    "lineitem\n",
    "where l_shipdate <= date '1998-12-01' - interval '10' day\n",
    "group by l_returnflag, l_linestatus\n",
    "order by l_returnflag, l_linestatus\"\"\""
   ]
  },
  {
   "cell_type": "code",
   "execution_count": 21,
   "metadata": {},
   "outputs": [
    {
     "data": {
      "application/vnd.plotly.v1+json": {
       "config": {
        "linkText": "Export to plot.ly",
        "plotlyServerURL": "https://plot.ly",
        "showLink": false
       },
       "data": [
        {
         "link": {
          "color": [
           "silver",
           "silver",
           "silver",
           "silver"
          ],
          "label": [
           "",
           "Filter condition: (lineitem.l_shipdate <= '1998-11-21 00:00:00'::timestamp without time zone)",
           "Group key: ['lineitem.l_returnflag', 'lineitem.l_linestatus']\nOutput: ['l_returnflag', 'l_linestatus', 'PARTIAL sum(l_quantity)', 'PARTIAL sum(l_extendedprice)', \"PARTIAL sum((l_extendedprice * ('1'::numeric - l_discount)))\", \"PARTIAL sum(((l_extendedprice * ('1'::numeric - l_discount)) * ('1'::numeric + l_tax)))\", 'PARTIAL avg(l_quantity)', 'PARTIAL avg(l_extendedprice)', 'PARTIAL avg(l_discount)', 'PARTIAL count(*)']",
           "Group key: ['lineitem.l_returnflag', 'lineitem.l_linestatus']\nOutput: ['l_returnflag', 'l_linestatus', 'sum(l_quantity)', 'sum(l_extendedprice)', \"sum((l_extendedprice * ('1'::numeric - l_discount)))\", \"sum(((l_extendedprice * ('1'::numeric - l_discount)) * ('1'::numeric + l_tax)))\", 'avg(l_quantity)', 'avg(l_extendedprice)', 'avg(l_discount)', 'count(*)']"
          ],
          "source": [
           0,
           1,
           2,
           3
          ],
          "target": [
           1,
           2,
           3,
           4
          ],
          "value": [
           836,
           1,
           3369,
           3
          ]
         },
         "node": {
          "color": [
           null,
           null,
           null,
           null
          ],
          "label": [
           "Lineitem",
           "Lineitem*",
           "AGG",
           "AGG"
          ],
          "pad": 200
         },
         "orientation": "h",
         "type": "sankey",
         "valueformat": ",",
         "valuesuffix": [
          " Seconds",
          " Seconds",
          " Seconds",
          " Seconds"
         ]
        }
       ],
       "layout": {
        "font": {
         "size": 10
        },
        "height": 750,
        "title": "bla",
        "updatemenus": [
         {
          "buttons": [
           {
            "args": [
             "orientation",
             "h"
            ],
            "label": "Horizontal",
            "method": "restyle"
           },
           {
            "args": [
             "orientation",
             "v"
            ],
            "label": "Vertical",
            "method": "restyle"
           }
          ],
          "y": 0.6
         }
        ]
       }
      },
      "text/html": [
       "<div>\n",
       "        \n",
       "        \n",
       "            <div id=\"7f73cdb8-41c1-4fd7-9537-1abe02b9d480\" class=\"plotly-graph-div\" style=\"height:750px; width:100%;\"></div>\n",
       "            <script type=\"text/javascript\">\n",
       "                require([\"plotly\"], function(Plotly) {\n",
       "                    window.PLOTLYENV=window.PLOTLYENV || {};\n",
       "                    \n",
       "                if (document.getElementById(\"7f73cdb8-41c1-4fd7-9537-1abe02b9d480\")) {\n",
       "                    Plotly.newPlot(\n",
       "                        '7f73cdb8-41c1-4fd7-9537-1abe02b9d480',\n",
       "                        [{\"link\": {\"color\": [\"silver\", \"silver\", \"silver\", \"silver\"], \"label\": [\"\", \"Filter condition: (lineitem.l_shipdate <= '1998-11-21 00:00:00'::timestamp without time zone)\", \"Group key: ['lineitem.l_returnflag', 'lineitem.l_linestatus']\\nOutput: ['l_returnflag', 'l_linestatus', 'PARTIAL sum(l_quantity)', 'PARTIAL sum(l_extendedprice)', \\\"PARTIAL sum((l_extendedprice * ('1'::numeric - l_discount)))\\\", \\\"PARTIAL sum(((l_extendedprice * ('1'::numeric - l_discount)) * ('1'::numeric + l_tax)))\\\", 'PARTIAL avg(l_quantity)', 'PARTIAL avg(l_extendedprice)', 'PARTIAL avg(l_discount)', 'PARTIAL count(*)']\", \"Group key: ['lineitem.l_returnflag', 'lineitem.l_linestatus']\\nOutput: ['l_returnflag', 'l_linestatus', 'sum(l_quantity)', 'sum(l_extendedprice)', \\\"sum((l_extendedprice * ('1'::numeric - l_discount)))\\\", \\\"sum(((l_extendedprice * ('1'::numeric - l_discount)) * ('1'::numeric + l_tax)))\\\", 'avg(l_quantity)', 'avg(l_extendedprice)', 'avg(l_discount)', 'count(*)']\"], \"source\": [0, 1, 2, 3], \"target\": [1, 2, 3, 4], \"value\": [836, 1, 3369, 3]}, \"node\": {\"color\": [null, null, null, null], \"label\": [\"Lineitem\", \"Lineitem*\", \"AGG\", \"AGG\"], \"pad\": 200}, \"orientation\": \"h\", \"type\": \"sankey\", \"valueformat\": \",\", \"valuesuffix\": [\" Seconds\", \" Seconds\", \" Seconds\", \" Seconds\"]}],\n",
       "                        {\"font\": {\"size\": 10}, \"height\": 750, \"title\": \"bla\", \"updatemenus\": [{\"buttons\": [{\"args\": [\"orientation\", \"h\"], \"label\": \"Horizontal\", \"method\": \"restyle\"}, {\"args\": [\"orientation\", \"v\"], \"label\": \"Vertical\", \"method\": \"restyle\"}], \"y\": 0.6}]},\n",
       "                        {\"responsive\": true}\n",
       "                    ).then(function(){\n",
       "                            \n",
       "var gd = document.getElementById('7f73cdb8-41c1-4fd7-9537-1abe02b9d480');\n",
       "var x = new MutationObserver(function (mutations, observer) {{\n",
       "        var display = window.getComputedStyle(gd).display;\n",
       "        if (!display || display === 'none') {{\n",
       "            console.log([gd, 'removed!']);\n",
       "            Plotly.purge(gd);\n",
       "            observer.disconnect();\n",
       "        }}\n",
       "}});\n",
       "\n",
       "// Listen for the removal of the full notebook cells\n",
       "var notebookContainer = gd.closest('#notebook-container');\n",
       "if (notebookContainer) {{\n",
       "    x.observe(notebookContainer, {childList: true});\n",
       "}}\n",
       "\n",
       "// Listen for the clearing of the current output cell\n",
       "var outputEl = gd.closest('.output');\n",
       "if (outputEl) {{\n",
       "    x.observe(outputEl, {childList: true});\n",
       "}}\n",
       "\n",
       "                        })\n",
       "                };\n",
       "                });\n",
       "            </script>\n",
       "        </div>"
      ]
     },
     "metadata": {},
     "output_type": "display_data"
    }
   ],
   "source": [
    "cardinality_df = query_renderer.get_cardinality_df(query, con_str)\n",
    "query_renderer.vizualize(cardinality_df, title=\"bla\", metrics=[\"actual_duration\"], open_=False)"
   ]
  },
  {
   "cell_type": "code",
   "execution_count": null,
   "metadata": {},
   "outputs": [],
   "source": [
    "query =\"\"\"\n",
    "select l_returnflag,\n",
    "       l_linestatus,\n",
    "       sum(l_quantity) as sum_qty,\n",
    "       sum(l_extendedprice) as sum_base_price,\n",
    "       sum(l_extendedprice * (1 - l_discount)) as sum_disc_price,\n",
    "       sum(l_extendedprice * (1 - l_discount) * (1 + l_tax)) as sum_charge,\n",
    "       avg(l_quantity) as avg_qty,\n",
    "       avg(l_extendedprice) as avg_price,\n",
    "       avg(l_discount) as avg_disc,\n",
    "count(*) as count_order\n",
    "from\n",
    "lineitem\n",
    "where l_shipdate <= date '1998-12-01' - interval '10' day\n",
    "group by l_returnflag, l_linestatus\n",
    "order by l_returnflag, l_linestatus\"\"\""
   ]
  },
  {
   "cell_type": "code",
   "execution_count": null,
   "metadata": {},
   "outputs": [],
   "source": [
    "cardinality_df = query_renderer.get_cardinality_df(query, con_str)\n",
    "query_renderer.vizualize(cardinality_df, title=\"bla\", metrics=[\"actual_duration\"], open_=False)"
   ]
  }
 ],
 "metadata": {
  "kernelspec": {
   "display_name": "Python 3",
   "language": "python",
   "name": "python3"
  },
  "language_info": {
   "codemirror_mode": {
    "name": "ipython",
    "version": 3
   },
   "file_extension": ".py",
   "mimetype": "text/x-python",
   "name": "python",
   "nbconvert_exporter": "python",
   "pygments_lexer": "ipython3",
   "version": "3.7.4"
  }
 },
 "nbformat": 4,
 "nbformat_minor": 4
}
