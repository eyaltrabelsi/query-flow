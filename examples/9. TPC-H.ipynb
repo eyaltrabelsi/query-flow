{
 "cells": [
  {
   "cell_type": "code",
   "execution_count": 1,
   "metadata": {},
   "outputs": [],
   "source": [
    "from plotly.offline import init_notebook_mode\n",
    "from sqlalchemy import create_engine\n",
    "\n",
    "from query_flow.parsers.postgres_parser import PostgresParser\n",
    "from query_flow.vizualizers.query_vizualizer import QueryVizualizer"
   ]
  },
  {
   "cell_type": "code",
   "execution_count": 2,
   "metadata": {},
   "outputs": [
    {
     "data": {
      "text/html": [
       "        <script type=\"text/javascript\">\n",
       "        window.PlotlyConfig = {MathJaxConfig: 'local'};\n",
       "        if (window.MathJax) {MathJax.Hub.Config({SVG: {font: \"STIX-Web\"}});}\n",
       "        if (typeof require !== 'undefined') {\n",
       "        require.undef(\"plotly\");\n",
       "        requirejs.config({\n",
       "            paths: {\n",
       "                'plotly': ['https://cdn.plot.ly/plotly-latest.min']\n",
       "            }\n",
       "        });\n",
       "        require(['plotly'], function(Plotly) {\n",
       "            window._Plotly = Plotly;\n",
       "        });\n",
       "        }\n",
       "        </script>\n",
       "        "
      ]
     },
     "metadata": {},
     "output_type": "display_data"
    }
   ],
   "source": [
    "%load_ext autoreload\n",
    "%autoreload 2\n",
    "\n",
    "init_notebook_mode(connected=True)"
   ]
  },
  {
   "cell_type": "code",
   "execution_count": 3,
   "metadata": {},
   "outputs": [],
   "source": [
    "con_str = 'postgresql:///etrabelsi_thesis'\n"
   ]
  },
  {
   "cell_type": "markdown",
   "metadata": {},
   "source": [
    "## query 1"
   ]
  },
  {
   "cell_type": "code",
   "execution_count": 5,
   "metadata": {},
   "outputs": [],
   "source": [
    "query_renderer = QueryVizualizer(parser=PostgresParser(explain_prefix=\"EXPLAIN(ANALYZE, COSTS, FORMAT JSON)\"))"
   ]
  },
  {
   "cell_type": "code",
   "execution_count": 6,
   "metadata": {},
   "outputs": [],
   "source": [
    "query =\"\"\"\n",
    "select l_returnflag,\n",
    "       l_linestatus,\n",
    "       sum(l_quantity) as sum_qty,\n",
    "       sum(l_extendedprice) as sum_base_price,\n",
    "       sum(l_extendedprice * (1 - l_discount)) as sum_disc_price,\n",
    "       sum(l_extendedprice * (1 - l_discount) * (1 + l_tax)) as sum_charge,\n",
    "       avg(l_quantity) as avg_qty,\n",
    "       avg(l_extendedprice) as avg_price,\n",
    "       avg(l_discount) as avg_disc,\n",
    "count(*) as count_order\n",
    "from\n",
    "lineitem\n",
    "where l_shipdate <= date '1998-12-01' - interval '10' day\n",
    "group by l_returnflag, l_linestatus\n",
    "order by l_returnflag, l_linestatus\"\"\""
   ]
  },
  {
   "cell_type": "code",
   "execution_count": 7,
   "metadata": {},
   "outputs": [
    {
     "data": {
      "application/vnd.plotly.v1+json": {
       "config": {
        "linkText": "Export to plot.ly",
        "plotlyServerURL": "https://plot.ly",
        "showLink": false
       },
       "data": [
        {
         "link": {
          "color": [
           "silver",
           "silver",
           "silver",
           "silver"
          ],
          "label": [
           "",
           "Filter condition: (lineitem.l_shipdate <= '1998-11-21 00:00:00'::timestamp without time zone)",
           "Group key: ['lineitem.l_returnflag', 'lineitem.l_linestatus']\nOutput: ['l_returnflag', 'l_linestatus', 'PARTIAL sum(l_quantity)', 'PARTIAL sum(l_extendedprice)', \"PARTIAL sum((l_extendedprice * ('1'::numeric - l_discount)))\", \"PARTIAL sum(((l_extendedprice * ('1'::numeric - l_discount)) * ('1'::numeric + l_tax)))\", 'PARTIAL avg(l_quantity)', 'PARTIAL avg(l_extendedprice)', 'PARTIAL avg(l_discount)', 'PARTIAL count(*)']",
           "Group key: ['lineitem.l_returnflag', 'lineitem.l_linestatus']\nOutput: ['l_returnflag', 'l_linestatus', 'sum(l_quantity)', 'sum(l_extendedprice)', \"sum((l_extendedprice * ('1'::numeric - l_discount)))\", \"sum(((l_extendedprice * ('1'::numeric - l_discount)) * ('1'::numeric + l_tax)))\", 'avg(l_quantity)', 'avg(l_extendedprice)', 'avg(l_discount)', 'count(*)']"
          ],
          "source": [
           0,
           1,
           2,
           3
          ],
          "target": [
           1,
           2,
           3,
           4
          ],
          "value": [
           5832,
           1,
           2220,
           7
          ]
         },
         "node": {
          "color": [
           null,
           null,
           null,
           null
          ],
          "label": [
           "Lineitem",
           "Lineitem*",
           "AGG",
           "AGG"
          ],
          "pad": 200
         },
         "orientation": "h",
         "type": "sankey",
         "valueformat": ",",
         "valuesuffix": [
          " Seconds",
          " Seconds",
          " Seconds",
          " Seconds"
         ]
        }
       ],
       "layout": {
        "font": {
         "size": 10
        },
        "height": 750,
        "title": "bla",
        "updatemenus": [
         {
          "buttons": [
           {
            "args": [
             "orientation",
             "h"
            ],
            "label": "Horizontal",
            "method": "restyle"
           },
           {
            "args": [
             "orientation",
             "v"
            ],
            "label": "Vertical",
            "method": "restyle"
           }
          ],
          "y": 0.6
         }
        ]
       }
      },
      "text/html": [
       "<div>\n",
       "        \n",
       "        \n",
       "            <div id=\"4d1ecf7f-e589-4ccf-83cb-22c148f77ec4\" class=\"plotly-graph-div\" style=\"height:750px; width:100%;\"></div>\n",
       "            <script type=\"text/javascript\">\n",
       "                require([\"plotly\"], function(Plotly) {\n",
       "                    window.PLOTLYENV=window.PLOTLYENV || {};\n",
       "                    \n",
       "                if (document.getElementById(\"4d1ecf7f-e589-4ccf-83cb-22c148f77ec4\")) {\n",
       "                    Plotly.newPlot(\n",
       "                        '4d1ecf7f-e589-4ccf-83cb-22c148f77ec4',\n",
       "                        [{\"link\": {\"color\": [\"silver\", \"silver\", \"silver\", \"silver\"], \"label\": [\"\", \"Filter condition: (lineitem.l_shipdate <= '1998-11-21 00:00:00'::timestamp without time zone)\", \"Group key: ['lineitem.l_returnflag', 'lineitem.l_linestatus']\\nOutput: ['l_returnflag', 'l_linestatus', 'PARTIAL sum(l_quantity)', 'PARTIAL sum(l_extendedprice)', \\\"PARTIAL sum((l_extendedprice * ('1'::numeric - l_discount)))\\\", \\\"PARTIAL sum(((l_extendedprice * ('1'::numeric - l_discount)) * ('1'::numeric + l_tax)))\\\", 'PARTIAL avg(l_quantity)', 'PARTIAL avg(l_extendedprice)', 'PARTIAL avg(l_discount)', 'PARTIAL count(*)']\", \"Group key: ['lineitem.l_returnflag', 'lineitem.l_linestatus']\\nOutput: ['l_returnflag', 'l_linestatus', 'sum(l_quantity)', 'sum(l_extendedprice)', \\\"sum((l_extendedprice * ('1'::numeric - l_discount)))\\\", \\\"sum(((l_extendedprice * ('1'::numeric - l_discount)) * ('1'::numeric + l_tax)))\\\", 'avg(l_quantity)', 'avg(l_extendedprice)', 'avg(l_discount)', 'count(*)']\"], \"source\": [0, 1, 2, 3], \"target\": [1, 2, 3, 4], \"value\": [5832, 1, 2220, 7]}, \"node\": {\"color\": [null, null, null, null], \"label\": [\"Lineitem\", \"Lineitem*\", \"AGG\", \"AGG\"], \"pad\": 200}, \"orientation\": \"h\", \"type\": \"sankey\", \"valueformat\": \",\", \"valuesuffix\": [\" Seconds\", \" Seconds\", \" Seconds\", \" Seconds\"]}],\n",
       "                        {\"font\": {\"size\": 10}, \"height\": 750, \"title\": \"bla\", \"updatemenus\": [{\"buttons\": [{\"args\": [\"orientation\", \"h\"], \"label\": \"Horizontal\", \"method\": \"restyle\"}, {\"args\": [\"orientation\", \"v\"], \"label\": \"Vertical\", \"method\": \"restyle\"}], \"y\": 0.6}]},\n",
       "                        {\"responsive\": true}\n",
       "                    ).then(function(){\n",
       "                            \n",
       "var gd = document.getElementById('4d1ecf7f-e589-4ccf-83cb-22c148f77ec4');\n",
       "var x = new MutationObserver(function (mutations, observer) {{\n",
       "        var display = window.getComputedStyle(gd).display;\n",
       "        if (!display || display === 'none') {{\n",
       "            console.log([gd, 'removed!']);\n",
       "            Plotly.purge(gd);\n",
       "            observer.disconnect();\n",
       "        }}\n",
       "}});\n",
       "\n",
       "// Listen for the removal of the full notebook cells\n",
       "var notebookContainer = gd.closest('#notebook-container');\n",
       "if (notebookContainer) {{\n",
       "    x.observe(notebookContainer, {childList: true});\n",
       "}}\n",
       "\n",
       "// Listen for the clearing of the current output cell\n",
       "var outputEl = gd.closest('.output');\n",
       "if (outputEl) {{\n",
       "    x.observe(outputEl, {childList: true});\n",
       "}}\n",
       "\n",
       "                        })\n",
       "                };\n",
       "                });\n",
       "            </script>\n",
       "        </div>"
      ]
     },
     "metadata": {},
     "output_type": "display_data"
    }
   ],
   "source": [
    "cardinality_df = query_renderer.get_cardinality_df(query, con_str)\n",
    "query_renderer.vizualize(cardinality_df, title=\"bla\", metrics=[\"actual_duration\"], open_=False)"
   ]
  },
  {
   "cell_type": "code",
   "execution_count": 8,
   "metadata": {},
   "outputs": [],
   "source": [
    "query =\"\"\"\n",
    "select l_returnflag,\n",
    "       l_linestatus,\n",
    "       sum(l_quantity) as sum_qty,\n",
    "       sum(l_extendedprice) as sum_base_price,\n",
    "       sum(l_extendedprice * (1 - l_discount)) as sum_disc_price,\n",
    "       sum(l_extendedprice * (1 - l_discount) * (1 + l_tax)) as sum_charge,\n",
    "       avg(l_quantity) as avg_qty,\n",
    "       avg(l_extendedprice) as avg_price,\n",
    "       avg(l_discount) as avg_disc,\n",
    "count(*) as count_order\n",
    "from\n",
    "lineitem\n",
    "where l_shipdate <= date '1998-12-01' - interval '10' day\n",
    "group by l_returnflag, l_linestatus\n",
    "order by l_returnflag, l_linestatus\"\"\""
   ]
  },
  {
   "cell_type": "code",
   "execution_count": 9,
   "metadata": {},
   "outputs": [
    {
     "data": {
      "application/vnd.plotly.v1+json": {
       "config": {
        "linkText": "Export to plot.ly",
        "plotlyServerURL": "https://plot.ly",
        "showLink": false
       },
       "data": [
        {
         "link": {
          "color": [
           "silver",
           "silver",
           "silver",
           "silver"
          ],
          "label": [
           "",
           "Filter condition: (lineitem.l_shipdate <= '1998-11-21 00:00:00'::timestamp without time zone)",
           "Group key: ['lineitem.l_returnflag', 'lineitem.l_linestatus']\nOutput: ['l_returnflag', 'l_linestatus', 'PARTIAL sum(l_quantity)', 'PARTIAL sum(l_extendedprice)', \"PARTIAL sum((l_extendedprice * ('1'::numeric - l_discount)))\", \"PARTIAL sum(((l_extendedprice * ('1'::numeric - l_discount)) * ('1'::numeric + l_tax)))\", 'PARTIAL avg(l_quantity)', 'PARTIAL avg(l_extendedprice)', 'PARTIAL avg(l_discount)', 'PARTIAL count(*)']",
           "Group key: ['lineitem.l_returnflag', 'lineitem.l_linestatus']\nOutput: ['l_returnflag', 'l_linestatus', 'sum(l_quantity)', 'sum(l_extendedprice)', \"sum((l_extendedprice * ('1'::numeric - l_discount)))\", \"sum(((l_extendedprice * ('1'::numeric - l_discount)) * ('1'::numeric + l_tax)))\", 'avg(l_quantity)', 'avg(l_extendedprice)', 'avg(l_discount)', 'count(*)']"
          ],
          "source": [
           0,
           1,
           2,
           3
          ],
          "target": [
           1,
           2,
           3,
           4
          ],
          "value": [
           491,
           1,
           2081,
           3
          ]
         },
         "node": {
          "color": [
           null,
           null,
           null,
           null
          ],
          "label": [
           "Lineitem",
           "Lineitem*",
           "AGG",
           "AGG"
          ],
          "pad": 200
         },
         "orientation": "h",
         "type": "sankey",
         "valueformat": ",",
         "valuesuffix": [
          " Seconds",
          " Seconds",
          " Seconds",
          " Seconds"
         ]
        }
       ],
       "layout": {
        "font": {
         "size": 10
        },
        "height": 750,
        "title": "bla",
        "updatemenus": [
         {
          "buttons": [
           {
            "args": [
             "orientation",
             "h"
            ],
            "label": "Horizontal",
            "method": "restyle"
           },
           {
            "args": [
             "orientation",
             "v"
            ],
            "label": "Vertical",
            "method": "restyle"
           }
          ],
          "y": 0.6
         }
        ]
       }
      },
      "text/html": [
       "<div>\n",
       "        \n",
       "        \n",
       "            <div id=\"b63d436b-c937-4d73-8bb8-cc0c7029e40c\" class=\"plotly-graph-div\" style=\"height:750px; width:100%;\"></div>\n",
       "            <script type=\"text/javascript\">\n",
       "                require([\"plotly\"], function(Plotly) {\n",
       "                    window.PLOTLYENV=window.PLOTLYENV || {};\n",
       "                    \n",
       "                if (document.getElementById(\"b63d436b-c937-4d73-8bb8-cc0c7029e40c\")) {\n",
       "                    Plotly.newPlot(\n",
       "                        'b63d436b-c937-4d73-8bb8-cc0c7029e40c',\n",
       "                        [{\"link\": {\"color\": [\"silver\", \"silver\", \"silver\", \"silver\"], \"label\": [\"\", \"Filter condition: (lineitem.l_shipdate <= '1998-11-21 00:00:00'::timestamp without time zone)\", \"Group key: ['lineitem.l_returnflag', 'lineitem.l_linestatus']\\nOutput: ['l_returnflag', 'l_linestatus', 'PARTIAL sum(l_quantity)', 'PARTIAL sum(l_extendedprice)', \\\"PARTIAL sum((l_extendedprice * ('1'::numeric - l_discount)))\\\", \\\"PARTIAL sum(((l_extendedprice * ('1'::numeric - l_discount)) * ('1'::numeric + l_tax)))\\\", 'PARTIAL avg(l_quantity)', 'PARTIAL avg(l_extendedprice)', 'PARTIAL avg(l_discount)', 'PARTIAL count(*)']\", \"Group key: ['lineitem.l_returnflag', 'lineitem.l_linestatus']\\nOutput: ['l_returnflag', 'l_linestatus', 'sum(l_quantity)', 'sum(l_extendedprice)', \\\"sum((l_extendedprice * ('1'::numeric - l_discount)))\\\", \\\"sum(((l_extendedprice * ('1'::numeric - l_discount)) * ('1'::numeric + l_tax)))\\\", 'avg(l_quantity)', 'avg(l_extendedprice)', 'avg(l_discount)', 'count(*)']\"], \"source\": [0, 1, 2, 3], \"target\": [1, 2, 3, 4], \"value\": [491, 1, 2081, 3]}, \"node\": {\"color\": [null, null, null, null], \"label\": [\"Lineitem\", \"Lineitem*\", \"AGG\", \"AGG\"], \"pad\": 200}, \"orientation\": \"h\", \"type\": \"sankey\", \"valueformat\": \",\", \"valuesuffix\": [\" Seconds\", \" Seconds\", \" Seconds\", \" Seconds\"]}],\n",
       "                        {\"font\": {\"size\": 10}, \"height\": 750, \"title\": \"bla\", \"updatemenus\": [{\"buttons\": [{\"args\": [\"orientation\", \"h\"], \"label\": \"Horizontal\", \"method\": \"restyle\"}, {\"args\": [\"orientation\", \"v\"], \"label\": \"Vertical\", \"method\": \"restyle\"}], \"y\": 0.6}]},\n",
       "                        {\"responsive\": true}\n",
       "                    ).then(function(){\n",
       "                            \n",
       "var gd = document.getElementById('b63d436b-c937-4d73-8bb8-cc0c7029e40c');\n",
       "var x = new MutationObserver(function (mutations, observer) {{\n",
       "        var display = window.getComputedStyle(gd).display;\n",
       "        if (!display || display === 'none') {{\n",
       "            console.log([gd, 'removed!']);\n",
       "            Plotly.purge(gd);\n",
       "            observer.disconnect();\n",
       "        }}\n",
       "}});\n",
       "\n",
       "// Listen for the removal of the full notebook cells\n",
       "var notebookContainer = gd.closest('#notebook-container');\n",
       "if (notebookContainer) {{\n",
       "    x.observe(notebookContainer, {childList: true});\n",
       "}}\n",
       "\n",
       "// Listen for the clearing of the current output cell\n",
       "var outputEl = gd.closest('.output');\n",
       "if (outputEl) {{\n",
       "    x.observe(outputEl, {childList: true});\n",
       "}}\n",
       "\n",
       "                        })\n",
       "                };\n",
       "                });\n",
       "            </script>\n",
       "        </div>"
      ]
     },
     "metadata": {},
     "output_type": "display_data"
    }
   ],
   "source": [
    "cardinality_df = query_renderer.get_cardinality_df(query, con_str)\n",
    "query_renderer.vizualize(cardinality_df, title=\"bla\", metrics=[\"actual_duration\"], open_=False)"
   ]
  },
  {
   "cell_type": "code",
   "execution_count": null,
   "metadata": {},
   "outputs": [],
   "source": []
  }
 ],
 "metadata": {
  "kernelspec": {
   "display_name": "Python 3",
   "language": "python",
   "name": "python3"
  },
  "language_info": {
   "codemirror_mode": {
    "name": "ipython",
    "version": 3
   },
   "file_extension": ".py",
   "mimetype": "text/x-python",
   "name": "python",
   "nbconvert_exporter": "python",
   "pygments_lexer": "ipython3",
   "version": "3.7.4"
  }
 },
 "nbformat": 4,
 "nbformat_minor": 4
}
