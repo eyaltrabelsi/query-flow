{
 "cells": [
  {
   "cell_type": "code",
   "execution_count": 1,
   "metadata": {},
   "outputs": [],
   "source": [
    "import pandas as pd\n",
    "\n",
    "from plotly.offline import init_notebook_mode\n",
    "from sqlalchemy import create_engine\n",
    "\n",
    "from query_flow.parsers.postgres_parser import PostgresParser\n",
    "from query_flow.vizualizers.query_vizualizer import QueryVizualizer"
   ]
  },
  {
   "cell_type": "code",
   "execution_count": 2,
   "metadata": {},
   "outputs": [
    {
     "data": {
      "text/html": [
       "        <script type=\"text/javascript\">\n",
       "        window.PlotlyConfig = {MathJaxConfig: 'local'};\n",
       "        if (window.MathJax) {MathJax.Hub.Config({SVG: {font: \"STIX-Web\"}});}\n",
       "        if (typeof require !== 'undefined') {\n",
       "        require.undef(\"plotly\");\n",
       "        requirejs.config({\n",
       "            paths: {\n",
       "                'plotly': ['https://cdn.plot.ly/plotly-latest.min']\n",
       "            }\n",
       "        });\n",
       "        require(['plotly'], function(Plotly) {\n",
       "            window._Plotly = Plotly;\n",
       "        });\n",
       "        }\n",
       "        </script>\n",
       "        "
      ]
     },
     "metadata": {},
     "output_type": "display_data"
    }
   ],
   "source": [
    "%load_ext autoreload\n",
    "%autoreload 2\n",
    "\n",
    "init_notebook_mode(connected=True)"
   ]
  },
  {
   "cell_type": "code",
   "execution_count": 3,
   "metadata": {},
   "outputs": [],
   "source": [
    "con_str = 'postgresql:///etrabelsi_thesis'"
   ]
  },
  {
   "cell_type": "markdown",
   "metadata": {},
   "source": [
    "## Identifying performance bottlenecks in a single query"
   ]
  },
  {
   "cell_type": "code",
   "execution_count": 4,
   "metadata": {},
   "outputs": [],
   "source": [
    "with create_engine(con_str).connect() as con:\n",
    "    execution_plan = con.execute(\"DROP INDEX if exists crew_index\")"
   ]
  },
  {
   "cell_type": "code",
   "execution_count": 5,
   "metadata": {},
   "outputs": [],
   "source": [
    "query_renderer = QueryVizualizer(parser=PostgresParser())"
   ]
  },
  {
   "cell_type": "code",
   "execution_count": 6,
   "metadata": {},
   "outputs": [],
   "source": [
    "query = \"\"\"\n",
    "SELECT titles.title_id\n",
    "FROM titles\n",
    "INNER JOIN crew ON crew.title_id = titles.title_id\n",
    "INNER JOIN people ON people.person_id = crew.person_id\n",
    "WHERE genres like '%Comedy%' \n",
    "  AND name in ('Owen Wilson', 'Adam Sandler', 'Jason Segel')\n",
    "\"\"\""
   ]
  },
  {
   "cell_type": "code",
   "execution_count": 7,
   "metadata": {},
   "outputs": [
    {
     "name": "stderr",
     "output_type": "stream",
     "text": [
      "/Users/etrabelsi/IdeaProjects/thesis/query_flow/parsers/postgres_parser.py:311: RuntimeWarning:\n",
      "\n",
      "divide by zero encountered in long_scalars\n",
      "\n"
     ]
    },
    {
     "data": {
      "application/vnd.plotly.v1+json": {
       "config": {
        "linkText": "Export to plot.ly",
        "plotlyServerURL": "https://plot.ly",
        "showLink": false
       },
       "data": [
        {
         "link": {
          "color": [
           "red",
           "silver",
           "silver",
           "silver",
           "silver",
           "silver"
          ],
          "label": [
           "",
           "",
           "Filter condition: (people.name = ANY ('{\"Owen Wilson\",\"Adam Sandler\",\"Jason Segel\"}'::text[]))",
           "",
           "Hash Cond ('Inner', '(crew.person_id = people.person_id)')",
           ""
          ],
          "source": [
           0,
           1,
           2,
           3,
           4,
           5
          ],
          "target": [
           5,
           2,
           4,
           4,
           5,
           6
          ],
          "value": [
           1,
           5169390,
           4,
           20477852,
           848,
           279
          ]
         },
         "node": {
          "color": [
           null,
           null,
           null,
           null,
           null,
           null
          ],
          "label": [
           "Titles_Index",
           "People",
           "People*",
           "Crew",
           "People* ⋈ Crew",
           "Titles_Index ⋈ People* ⋈ Crew"
          ],
          "pad": 200
         },
         "orientation": "h",
         "type": "sankey",
         "valueformat": ",",
         "valuesuffix": [
          " Rows",
          " Rows",
          " Rows",
          " Rows",
          " Rows",
          " Rows"
         ]
        }
       ],
       "layout": {
        "font": {
         "size": 10
        },
        "height": 750,
        "title": "Identifying performance bottlenecks in a single query",
        "updatemenus": [
         {
          "buttons": [
           {
            "args": [
             "orientation",
             "h"
            ],
            "label": "Horizontal",
            "method": "restyle"
           },
           {
            "args": [
             "orientation",
             "v"
            ],
            "label": "Vertical",
            "method": "restyle"
           }
          ],
          "y": 0.6
         }
        ]
       }
      },
      "text/html": [
       "<div>\n",
       "        \n",
       "        \n",
       "            <div id=\"269d8dec-6177-4a76-9ae3-d02237df54cc\" class=\"plotly-graph-div\" style=\"height:750px; width:100%;\"></div>\n",
       "            <script type=\"text/javascript\">\n",
       "                require([\"plotly\"], function(Plotly) {\n",
       "                    window.PLOTLYENV=window.PLOTLYENV || {};\n",
       "                    \n",
       "                if (document.getElementById(\"269d8dec-6177-4a76-9ae3-d02237df54cc\")) {\n",
       "                    Plotly.newPlot(\n",
       "                        '269d8dec-6177-4a76-9ae3-d02237df54cc',\n",
       "                        [{\"link\": {\"color\": [\"red\", \"silver\", \"silver\", \"silver\", \"silver\", \"silver\"], \"label\": [\"\", \"\", \"Filter condition: (people.name = ANY ('{\\\"Owen Wilson\\\",\\\"Adam Sandler\\\",\\\"Jason Segel\\\"}'::text[]))\", \"\", \"Hash Cond ('Inner', '(crew.person_id = people.person_id)')\", \"\"], \"source\": [0, 1, 2, 3, 4, 5], \"target\": [5, 2, 4, 4, 5, 6], \"value\": [1, 5169390, 4, 20477852, 848, 279]}, \"node\": {\"color\": [null, null, null, null, null, null], \"label\": [\"Titles_Index\", \"People\", \"People*\", \"Crew\", \"People* \\u22c8 Crew\", \"Titles_Index \\u22c8 People* \\u22c8 Crew\"], \"pad\": 200}, \"orientation\": \"h\", \"type\": \"sankey\", \"valueformat\": \",\", \"valuesuffix\": [\" Rows\", \" Rows\", \" Rows\", \" Rows\", \" Rows\", \" Rows\"]}],\n",
       "                        {\"font\": {\"size\": 10}, \"height\": 750, \"title\": \"Identifying performance bottlenecks in a single query\", \"updatemenus\": [{\"buttons\": [{\"args\": [\"orientation\", \"h\"], \"label\": \"Horizontal\", \"method\": \"restyle\"}, {\"args\": [\"orientation\", \"v\"], \"label\": \"Vertical\", \"method\": \"restyle\"}], \"y\": 0.6}]},\n",
       "                        {\"responsive\": true}\n",
       "                    ).then(function(){\n",
       "                            \n",
       "var gd = document.getElementById('269d8dec-6177-4a76-9ae3-d02237df54cc');\n",
       "var x = new MutationObserver(function (mutations, observer) {{\n",
       "        var display = window.getComputedStyle(gd).display;\n",
       "        if (!display || display === 'none') {{\n",
       "            console.log([gd, 'removed!']);\n",
       "            Plotly.purge(gd);\n",
       "            observer.disconnect();\n",
       "        }}\n",
       "}});\n",
       "\n",
       "// Listen for the removal of the full notebook cells\n",
       "var notebookContainer = gd.closest('#notebook-container');\n",
       "if (notebookContainer) {{\n",
       "    x.observe(notebookContainer, {childList: true});\n",
       "}}\n",
       "\n",
       "// Listen for the clearing of the current output cell\n",
       "var outputEl = gd.closest('.output');\n",
       "if (outputEl) {{\n",
       "    x.observe(outputEl, {childList: true});\n",
       "}}\n",
       "\n",
       "                        })\n",
       "                };\n",
       "                });\n",
       "            </script>\n",
       "        </div>"
      ]
     },
     "metadata": {},
     "output_type": "display_data"
    }
   ],
   "source": [
    "cardinality_df = query_renderer.get_cardinality_df(query, con_str=con_str)\n",
    "query_renderer.vizualize(cardinality_df, title=\"Identifying performance bottlenecks in a single query\", metrics=[\"actual_rows\"], open_=False)"
   ]
  },
  {
   "cell_type": "code",
   "execution_count": 8,
   "metadata": {},
   "outputs": [
    {
     "data": {
      "text/html": [
       "<div>\n",
       "<style scoped>\n",
       "    .dataframe tbody tr th:only-of-type {\n",
       "        vertical-align: middle;\n",
       "    }\n",
       "\n",
       "    .dataframe tbody tr th {\n",
       "        vertical-align: top;\n",
       "    }\n",
       "\n",
       "    .dataframe thead th {\n",
       "        text-align: right;\n",
       "    }\n",
       "</style>\n",
       "<table border=\"1\" class=\"dataframe\">\n",
       "  <thead>\n",
       "    <tr style=\"text-align: right;\">\n",
       "      <th></th>\n",
       "      <th>source</th>\n",
       "      <th>target</th>\n",
       "      <th>operation_type</th>\n",
       "      <th>shared_hit_blocks</th>\n",
       "      <th>local_hit_blocks</th>\n",
       "      <th>local_dirtied_blocks</th>\n",
       "      <th>actual_rows</th>\n",
       "      <th>local_written_blocks</th>\n",
       "      <th>shared_dirtied_blocks</th>\n",
       "      <th>shared_read_blocks</th>\n",
       "      <th>...</th>\n",
       "      <th>temp_written_blocks</th>\n",
       "      <th>label</th>\n",
       "      <th>label_metadata</th>\n",
       "      <th>actual_duration</th>\n",
       "      <th>estimated_cost</th>\n",
       "      <th>actual_startup_duration</th>\n",
       "      <th>redundent_operation</th>\n",
       "      <th>actual_duration_pct</th>\n",
       "      <th>estimated_cost_pct</th>\n",
       "      <th>actual_plan_rows_ratio</th>\n",
       "    </tr>\n",
       "  </thead>\n",
       "  <tbody>\n",
       "    <tr>\n",
       "      <th>0</th>\n",
       "      <td>0</td>\n",
       "      <td>5</td>\n",
       "      <td>Index Only Scan</td>\n",
       "      <td>5644</td>\n",
       "      <td>0</td>\n",
       "      <td>0</td>\n",
       "      <td>0</td>\n",
       "      <td>0</td>\n",
       "      <td>0</td>\n",
       "      <td>0</td>\n",
       "      <td>...</td>\n",
       "      <td>0</td>\n",
       "      <td>Titles_Index</td>\n",
       "      <td></td>\n",
       "      <td>0.044</td>\n",
       "      <td>1.57</td>\n",
       "      <td>0.044</td>\n",
       "      <td>False</td>\n",
       "      <td>100.000000</td>\n",
       "      <td>100.000000</td>\n",
       "      <td>True</td>\n",
       "    </tr>\n",
       "    <tr>\n",
       "      <th>1</th>\n",
       "      <td>1</td>\n",
       "      <td>2</td>\n",
       "      <td>Seq Scan</td>\n",
       "      <td>36718</td>\n",
       "      <td>0</td>\n",
       "      <td>0</td>\n",
       "      <td>5169390</td>\n",
       "      <td>0</td>\n",
       "      <td>0</td>\n",
       "      <td>45308</td>\n",
       "      <td>...</td>\n",
       "      <td>0</td>\n",
       "      <td>People</td>\n",
       "      <td></td>\n",
       "      <td>8936.956</td>\n",
       "      <td>141258.61</td>\n",
       "      <td>679.943</td>\n",
       "      <td>False</td>\n",
       "      <td>100.000000</td>\n",
       "      <td>100.000000</td>\n",
       "      <td>True</td>\n",
       "    </tr>\n",
       "    <tr>\n",
       "      <th>2</th>\n",
       "      <td>2</td>\n",
       "      <td>4</td>\n",
       "      <td>Where</td>\n",
       "      <td>36718</td>\n",
       "      <td>0</td>\n",
       "      <td>0</td>\n",
       "      <td>4</td>\n",
       "      <td>0</td>\n",
       "      <td>0</td>\n",
       "      <td>45308</td>\n",
       "      <td>...</td>\n",
       "      <td>0</td>\n",
       "      <td>People*</td>\n",
       "      <td>Filter condition: (people.name = ANY ('{\"Owen ...</td>\n",
       "      <td>0.000</td>\n",
       "      <td>0.00</td>\n",
       "      <td>-140578.667</td>\n",
       "      <td>False</td>\n",
       "      <td>0.000000</td>\n",
       "      <td>0.000000</td>\n",
       "      <td>False</td>\n",
       "    </tr>\n",
       "    <tr>\n",
       "      <th>3</th>\n",
       "      <td>3</td>\n",
       "      <td>4</td>\n",
       "      <td>Seq Scan</td>\n",
       "      <td>395322</td>\n",
       "      <td>0</td>\n",
       "      <td>0</td>\n",
       "      <td>20477852</td>\n",
       "      <td>0</td>\n",
       "      <td>0</td>\n",
       "      <td>538</td>\n",
       "      <td>...</td>\n",
       "      <td>0</td>\n",
       "      <td>Crew</td>\n",
       "      <td></td>\n",
       "      <td>38009.881</td>\n",
       "      <td>566508.77</td>\n",
       "      <td>0.021</td>\n",
       "      <td>False</td>\n",
       "      <td>100.000000</td>\n",
       "      <td>100.000000</td>\n",
       "      <td>False</td>\n",
       "    </tr>\n",
       "    <tr>\n",
       "      <th>4</th>\n",
       "      <td>4</td>\n",
       "      <td>5</td>\n",
       "      <td>Hash Join</td>\n",
       "      <td>432087</td>\n",
       "      <td>0</td>\n",
       "      <td>0</td>\n",
       "      <td>848</td>\n",
       "      <td>0</td>\n",
       "      <td>0</td>\n",
       "      <td>45846</td>\n",
       "      <td>...</td>\n",
       "      <td>0</td>\n",
       "      <td>People* ⋈ Crew</td>\n",
       "      <td>Hash Cond ('Inner', '(crew.person_id = people....</td>\n",
       "      <td>16612.165</td>\n",
       "      <td>205252.03</td>\n",
       "      <td>-557464.568</td>\n",
       "      <td>False</td>\n",
       "      <td>30.412931</td>\n",
       "      <td>26.595291</td>\n",
       "      <td>True</td>\n",
       "    </tr>\n",
       "    <tr>\n",
       "      <th>5</th>\n",
       "      <td>5</td>\n",
       "      <td>6</td>\n",
       "      <td>Nested Loop</td>\n",
       "      <td>437731</td>\n",
       "      <td>0</td>\n",
       "      <td>0</td>\n",
       "      <td>279</td>\n",
       "      <td>0</td>\n",
       "      <td>0</td>\n",
       "      <td>45846</td>\n",
       "      <td>...</td>\n",
       "      <td>0</td>\n",
       "      <td>Titles_Index ⋈ People* ⋈ Crew</td>\n",
       "      <td></td>\n",
       "      <td>39.835</td>\n",
       "      <td>33.25</td>\n",
       "      <td>-762716.489</td>\n",
       "      <td>False</td>\n",
       "      <td>0.072875</td>\n",
       "      <td>0.004308</td>\n",
       "      <td>True</td>\n",
       "    </tr>\n",
       "  </tbody>\n",
       "</table>\n",
       "<p>6 rows × 29 columns</p>\n",
       "</div>"
      ],
      "text/plain": [
       "   source  target   operation_type  shared_hit_blocks  local_hit_blocks  \\\n",
       "0       0       5  Index Only Scan               5644                 0   \n",
       "1       1       2         Seq Scan              36718                 0   \n",
       "2       2       4            Where              36718                 0   \n",
       "3       3       4         Seq Scan             395322                 0   \n",
       "4       4       5        Hash Join             432087                 0   \n",
       "5       5       6      Nested Loop             437731                 0   \n",
       "\n",
       "   local_dirtied_blocks  actual_rows  local_written_blocks  \\\n",
       "0                     0            0                     0   \n",
       "1                     0      5169390                     0   \n",
       "2                     0            4                     0   \n",
       "3                     0     20477852                     0   \n",
       "4                     0          848                     0   \n",
       "5                     0          279                     0   \n",
       "\n",
       "   shared_dirtied_blocks  shared_read_blocks  ...  temp_written_blocks  \\\n",
       "0                      0                   0  ...                    0   \n",
       "1                      0               45308  ...                    0   \n",
       "2                      0               45308  ...                    0   \n",
       "3                      0                 538  ...                    0   \n",
       "4                      0               45846  ...                    0   \n",
       "5                      0               45846  ...                    0   \n",
       "\n",
       "                           label  \\\n",
       "0                   Titles_Index   \n",
       "1                         People   \n",
       "2                        People*   \n",
       "3                           Crew   \n",
       "4                 People* ⋈ Crew   \n",
       "5  Titles_Index ⋈ People* ⋈ Crew   \n",
       "\n",
       "                                      label_metadata  actual_duration  \\\n",
       "0                                                               0.044   \n",
       "1                                                            8936.956   \n",
       "2  Filter condition: (people.name = ANY ('{\"Owen ...            0.000   \n",
       "3                                                           38009.881   \n",
       "4  Hash Cond ('Inner', '(crew.person_id = people....        16612.165   \n",
       "5                                                              39.835   \n",
       "\n",
       "   estimated_cost  actual_startup_duration  redundent_operation  \\\n",
       "0            1.57                    0.044                False   \n",
       "1       141258.61                  679.943                False   \n",
       "2            0.00              -140578.667                False   \n",
       "3       566508.77                    0.021                False   \n",
       "4       205252.03              -557464.568                False   \n",
       "5           33.25              -762716.489                False   \n",
       "\n",
       "   actual_duration_pct  estimated_cost_pct  actual_plan_rows_ratio  \n",
       "0           100.000000          100.000000                    True  \n",
       "1           100.000000          100.000000                    True  \n",
       "2             0.000000            0.000000                   False  \n",
       "3           100.000000          100.000000                   False  \n",
       "4            30.412931           26.595291                    True  \n",
       "5             0.072875            0.004308                    True  \n",
       "\n",
       "[6 rows x 29 columns]"
      ]
     },
     "execution_count": 8,
     "metadata": {},
     "output_type": "execute_result"
    }
   ],
   "source": [
    "cardinality_df"
   ]
  },
  {
   "cell_type": "code",
   "execution_count": 9,
   "metadata": {},
   "outputs": [
    {
     "data": {
      "application/vnd.plotly.v1+json": {
       "config": {
        "linkText": "Export to plot.ly",
        "plotlyServerURL": "https://plot.ly",
        "showLink": false
       },
       "data": [
        {
         "link": {
          "color": [
           "silver",
           "silver",
           "silver",
           "silver",
           "silver",
           "silver"
          ],
          "label": [
           "",
           "",
           "Filter condition: (people.name = ANY ('{\"Owen Wilson\",\"Adam Sandler\",\"Jason Segel\"}'::text[]))",
           "",
           "Hash Cond ('Inner', '(crew.person_id = people.person_id)')",
           ""
          ],
          "source": [
           0,
           1,
           2,
           3,
           4,
           5
          ],
          "target": [
           5,
           2,
           4,
           4,
           5,
           6
          ],
          "value": [
           1,
           8936,
           1,
           38009,
           16612,
           39
          ]
         },
         "node": {
          "color": [
           null,
           null,
           null,
           null,
           null,
           null
          ],
          "label": [
           "Titles_Index",
           "People",
           "People*",
           "Crew",
           "People* ⋈ Crew",
           "Titles_Index ⋈ People* ⋈ Crew"
          ],
          "pad": 200
         },
         "orientation": "h",
         "type": "sankey",
         "valueformat": ",",
         "valuesuffix": [
          " Seconds",
          " Seconds",
          " Seconds",
          " Seconds",
          " Seconds",
          " Seconds"
         ]
        }
       ],
       "layout": {
        "font": {
         "size": 10
        },
        "height": 750,
        "title": "Identifying performance bottlenecks in a single query",
        "updatemenus": [
         {
          "buttons": [
           {
            "args": [
             "orientation",
             "h"
            ],
            "label": "Horizontal",
            "method": "restyle"
           },
           {
            "args": [
             "orientation",
             "v"
            ],
            "label": "Vertical",
            "method": "restyle"
           }
          ],
          "y": 0.6
         }
        ]
       }
      },
      "text/html": [
       "<div>\n",
       "        \n",
       "        \n",
       "            <div id=\"d289696b-89c7-48b0-8478-54549af4c577\" class=\"plotly-graph-div\" style=\"height:750px; width:100%;\"></div>\n",
       "            <script type=\"text/javascript\">\n",
       "                require([\"plotly\"], function(Plotly) {\n",
       "                    window.PLOTLYENV=window.PLOTLYENV || {};\n",
       "                    \n",
       "                if (document.getElementById(\"d289696b-89c7-48b0-8478-54549af4c577\")) {\n",
       "                    Plotly.newPlot(\n",
       "                        'd289696b-89c7-48b0-8478-54549af4c577',\n",
       "                        [{\"link\": {\"color\": [\"silver\", \"silver\", \"silver\", \"silver\", \"silver\", \"silver\"], \"label\": [\"\", \"\", \"Filter condition: (people.name = ANY ('{\\\"Owen Wilson\\\",\\\"Adam Sandler\\\",\\\"Jason Segel\\\"}'::text[]))\", \"\", \"Hash Cond ('Inner', '(crew.person_id = people.person_id)')\", \"\"], \"source\": [0, 1, 2, 3, 4, 5], \"target\": [5, 2, 4, 4, 5, 6], \"value\": [1, 8936, 1, 38009, 16612, 39]}, \"node\": {\"color\": [null, null, null, null, null, null], \"label\": [\"Titles_Index\", \"People\", \"People*\", \"Crew\", \"People* \\u22c8 Crew\", \"Titles_Index \\u22c8 People* \\u22c8 Crew\"], \"pad\": 200}, \"orientation\": \"h\", \"type\": \"sankey\", \"valueformat\": \",\", \"valuesuffix\": [\" Seconds\", \" Seconds\", \" Seconds\", \" Seconds\", \" Seconds\", \" Seconds\"]}],\n",
       "                        {\"font\": {\"size\": 10}, \"height\": 750, \"title\": \"Identifying performance bottlenecks in a single query\", \"updatemenus\": [{\"buttons\": [{\"args\": [\"orientation\", \"h\"], \"label\": \"Horizontal\", \"method\": \"restyle\"}, {\"args\": [\"orientation\", \"v\"], \"label\": \"Vertical\", \"method\": \"restyle\"}], \"y\": 0.6}]},\n",
       "                        {\"responsive\": true}\n",
       "                    ).then(function(){\n",
       "                            \n",
       "var gd = document.getElementById('d289696b-89c7-48b0-8478-54549af4c577');\n",
       "var x = new MutationObserver(function (mutations, observer) {{\n",
       "        var display = window.getComputedStyle(gd).display;\n",
       "        if (!display || display === 'none') {{\n",
       "            console.log([gd, 'removed!']);\n",
       "            Plotly.purge(gd);\n",
       "            observer.disconnect();\n",
       "        }}\n",
       "}});\n",
       "\n",
       "// Listen for the removal of the full notebook cells\n",
       "var notebookContainer = gd.closest('#notebook-container');\n",
       "if (notebookContainer) {{\n",
       "    x.observe(notebookContainer, {childList: true});\n",
       "}}\n",
       "\n",
       "// Listen for the clearing of the current output cell\n",
       "var outputEl = gd.closest('.output');\n",
       "if (outputEl) {{\n",
       "    x.observe(outputEl, {childList: true});\n",
       "}}\n",
       "\n",
       "                        })\n",
       "                };\n",
       "                });\n",
       "            </script>\n",
       "        </div>"
      ]
     },
     "metadata": {},
     "output_type": "display_data"
    }
   ],
   "source": [
    "query_renderer.vizualize(cardinality_df, title=\"Identifying performance bottlenecks in a single query\", metrics=[\"actual_duration\"], open_=False)"
   ]
  },
  {
   "cell_type": "code",
   "execution_count": null,
   "metadata": {},
   "outputs": [],
   "source": [
    "with create_engine(con_str).connect() as con:\n",
    "    execution_plan = con.execute(\"CREATE INDEX if not exists crew_index ON crew(person_id)\")"
   ]
  },
  {
   "cell_type": "code",
   "execution_count": null,
   "metadata": {},
   "outputs": [],
   "source": [
    "cardinality_df = query_renderer.get_cardinality_df(query, con_str=con_str)\n",
    "query_renderer.vizualize(cardinality_df, title=\"Identifying performance bottlenecks in a single query\", metrics=[\"actual_duration\"], open_=False)"
   ]
  },
  {
   "cell_type": "code",
   "execution_count": null,
   "metadata": {},
   "outputs": [],
   "source": [
    "cardinality_df"
   ]
  },
  {
   "cell_type": "code",
   "execution_count": null,
   "metadata": {},
   "outputs": [],
   "source": [
    "with create_engine(con_str).connect() as con:\n",
    "    execution_plan = con.execute(\"DROP INDEX if exists crew_index\")"
   ]
  },
  {
   "cell_type": "code",
   "execution_count": null,
   "metadata": {},
   "outputs": [],
   "source": []
  },
  {
   "cell_type": "code",
   "execution_count": null,
   "metadata": {},
   "outputs": [],
   "source": []
  },
  {
   "cell_type": "code",
   "execution_count": null,
   "metadata": {},
   "outputs": [],
   "source": []
  },
  {
   "cell_type": "code",
   "execution_count": null,
   "metadata": {},
   "outputs": [],
   "source": []
  },
  {
   "cell_type": "code",
   "execution_count": null,
   "metadata": {},
   "outputs": [],
   "source": []
  },
  {
   "cell_type": "code",
   "execution_count": null,
   "metadata": {},
   "outputs": [],
   "source": []
  },
  {
   "cell_type": "code",
   "execution_count": null,
   "metadata": {},
   "outputs": [],
   "source": []
  },
  {
   "cell_type": "code",
   "execution_count": null,
   "metadata": {},
   "outputs": [],
   "source": []
  },
  {
   "cell_type": "code",
   "execution_count": null,
   "metadata": {},
   "outputs": [],
   "source": []
  },
  {
   "cell_type": "code",
   "execution_count": null,
   "metadata": {},
   "outputs": [],
   "source": []
  },
  {
   "cell_type": "code",
   "execution_count": null,
   "metadata": {},
   "outputs": [],
   "source": []
  },
  {
   "cell_type": "code",
   "execution_count": null,
   "metadata": {},
   "outputs": [],
   "source": []
  }
 ],
 "metadata": {
  "kernelspec": {
   "display_name": "Python 3",
   "language": "python",
   "name": "python3"
  },
  "language_info": {
   "codemirror_mode": {
    "name": "ipython",
    "version": 3
   },
   "file_extension": ".py",
   "mimetype": "text/x-python",
   "name": "python",
   "nbconvert_exporter": "python",
   "pygments_lexer": "ipython3",
   "version": "3.7.4"
  }
 },
 "nbformat": 4,
 "nbformat_minor": 4
}
