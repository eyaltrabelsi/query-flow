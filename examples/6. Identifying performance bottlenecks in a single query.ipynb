{
 "cells": [
  {
   "cell_type": "code",
   "execution_count": 1,
   "metadata": {},
   "outputs": [],
   "source": [
    "import pandas as pd\n",
    "\n",
    "from plotly.offline import init_notebook_mode\n",
    "from sqlalchemy import create_engine\n",
    "\n",
    "from query_flow.parsers.postgres_parser import PostgresParser\n",
    "from query_flow.vizualizers.query_vizualizer import QueryVizualizer"
   ]
  },
  {
   "cell_type": "code",
   "execution_count": 2,
   "metadata": {},
   "outputs": [
    {
     "data": {
      "text/html": [
       "        <script type=\"text/javascript\">\n",
       "        window.PlotlyConfig = {MathJaxConfig: 'local'};\n",
       "        if (window.MathJax) {MathJax.Hub.Config({SVG: {font: \"STIX-Web\"}});}\n",
       "        if (typeof require !== 'undefined') {\n",
       "        require.undef(\"plotly\");\n",
       "        requirejs.config({\n",
       "            paths: {\n",
       "                'plotly': ['https://cdn.plot.ly/plotly-latest.min']\n",
       "            }\n",
       "        });\n",
       "        require(['plotly'], function(Plotly) {\n",
       "            window._Plotly = Plotly;\n",
       "        });\n",
       "        }\n",
       "        </script>\n",
       "        "
      ]
     },
     "metadata": {},
     "output_type": "display_data"
    }
   ],
   "source": [
    "%load_ext autoreload\n",
    "%autoreload 2\n",
    "\n",
    "init_notebook_mode(connected=True)"
   ]
  },
  {
   "cell_type": "code",
   "execution_count": 3,
   "metadata": {},
   "outputs": [],
   "source": [
    "con_str = 'postgresql:///etrabelsi_thesis'"
   ]
  },
  {
   "cell_type": "markdown",
   "metadata": {},
   "source": [
    "## Identifying performance bottlenecks in a single query"
   ]
  },
  {
   "cell_type": "code",
   "execution_count": 4,
   "metadata": {},
   "outputs": [],
   "source": [
    "with create_engine(con_str).connect() as con:\n",
    "    execution_plan = con.execute(\"DROP INDEX if exists crew_index\")"
   ]
  },
  {
   "cell_type": "code",
   "execution_count": 5,
   "metadata": {},
   "outputs": [],
   "source": [
    "query_renderer = QueryVizualizer(parser=PostgresParser())"
   ]
  },
  {
   "cell_type": "code",
   "execution_count": 6,
   "metadata": {},
   "outputs": [],
   "source": [
    "query = \"\"\"\n",
    "SELECT titles.title_id\n",
    "FROM titles\n",
    "INNER JOIN crew ON crew.title_id = titles.title_id\n",
    "INNER JOIN people ON people.person_id = crew.person_id\n",
    "WHERE genres like '%Comedy%' \n",
    "  AND name in ('Owen Wilson', 'Adam Sandler', 'Jason Segel')\n",
    "\"\"\""
   ]
  },
  {
   "cell_type": "code",
   "execution_count": 7,
   "metadata": {},
   "outputs": [
    {
     "name": "stderr",
     "output_type": "stream",
     "text": [
      "WARNING:root:Currently cache cleaning is not supported\n"
     ]
    },
    {
     "data": {
      "application/vnd.plotly.v1+json": {
       "config": {
        "linkText": "Export to plot.ly",
        "plotlyServerURL": "https://plot.ly",
        "showLink": false
       },
       "data": [
        {
         "link": {
          "color": [
           "#d9d9d9",
           "#d9d9d9",
           "#d9d9d9",
           "#d9d9d9",
           "#d9d9d9",
           "#d9d9d9",
           "#d9d9d9"
          ],
          "label": [
           "\nDescription: Finds relevant records by sequentially scanning the input record set. When reading from a table, Seq Scans (unlike Index Scans) perform a single read operation (only the table is read).",
           "\nDescription: Filter relation to hold only relevant records.Filter condition: (people.name = ANY ('{\"Owen Wilson\",\"Adam Sandler\",\"Jason Segel\"}'::text[]))",
           "\nDescription: Finds relevant records by sequentially scanning the input record set. When reading from a table, Seq Scans (unlike Index Scans) perform a single read operation (only the table is read).",
           "\nDescription: Joins to record sets by hashing one of them (using a Hash Scan).Inner Join with (crew.person_id = people.person_id)",
           "\nDescription: Finds relevant records by sequentially scanning the input record set. When reading from a table, Seq Scans (unlike Index Scans) perform a single read operation (only the table is read).",
           "\nDescription: Filter relation to hold only relevant records.Filter condition: (titles.genres ~~ '%Comedy%'::text)",
           "\nDescription: Joins to record sets by hashing one of them (using a Hash Scan).Inner Join with (titles.title_id = crew.title_id)"
          ],
          "source": [
           0,
           1,
           2,
           3,
           4,
           5,
           6
          ],
          "target": [
           1,
           3,
           3,
           6,
           5,
           6,
           7
          ],
          "value": [
           3560478,
           3,
           14269149,
           572,
           2522032,
           518564,
           188
          ]
         },
         "node": {
          "color": [
           "black",
           "black",
           "black",
           "black",
           "black",
           "black",
           "black"
          ],
          "label": [
           "People",
           "People*",
           "Crew",
           "People* ⋈ Crew",
           "Titles",
           "Titles*",
           "People* ⋈ Crew ⋈ Titles*"
          ],
          "pad": 200
         },
         "orientation": "h",
         "type": "sankey",
         "valueformat": ",",
         "valuesuffix": [
          " Rows",
          " Rows",
          " Rows",
          " Rows",
          " Rows",
          " Rows",
          " Rows"
         ]
        }
       ],
       "layout": {
        "font": {
         "size": 10
        },
        "height": 750,
        "title": "Identifying performance bottlenecks in a single query-actual_rows",
        "updatemenus": [
         {
          "buttons": [
           {
            "args": [
             "orientation",
             "h"
            ],
            "label": "Horizontal",
            "method": "restyle"
           },
           {
            "args": [
             "orientation",
             "v"
            ],
            "label": "Vertical",
            "method": "restyle"
           }
          ],
          "y": 0.6
         }
        ]
       }
      },
      "text/html": [
       "<div>\n",
       "        \n",
       "        \n",
       "            <div id=\"e1fa84e1-64f6-4d9b-8cd6-a25f280914f9\" class=\"plotly-graph-div\" style=\"height:750px; width:100%;\"></div>\n",
       "            <script type=\"text/javascript\">\n",
       "                require([\"plotly\"], function(Plotly) {\n",
       "                    window.PLOTLYENV=window.PLOTLYENV || {};\n",
       "                    \n",
       "                if (document.getElementById(\"e1fa84e1-64f6-4d9b-8cd6-a25f280914f9\")) {\n",
       "                    Plotly.newPlot(\n",
       "                        'e1fa84e1-64f6-4d9b-8cd6-a25f280914f9',\n",
       "                        [{\"link\": {\"color\": [\"#d9d9d9\", \"#d9d9d9\", \"#d9d9d9\", \"#d9d9d9\", \"#d9d9d9\", \"#d9d9d9\", \"#d9d9d9\"], \"label\": [\"\\nDescription: Finds relevant records by sequentially scanning the input record set. When reading from a table, Seq Scans (unlike Index Scans) perform a single read operation (only the table is read).\", \"\\nDescription: Filter relation to hold only relevant records.Filter condition: (people.name = ANY ('{\\\"Owen Wilson\\\",\\\"Adam Sandler\\\",\\\"Jason Segel\\\"}'::text[]))\", \"\\nDescription: Finds relevant records by sequentially scanning the input record set. When reading from a table, Seq Scans (unlike Index Scans) perform a single read operation (only the table is read).\", \"\\nDescription: Joins to record sets by hashing one of them (using a Hash Scan).Inner Join with (crew.person_id = people.person_id)\", \"\\nDescription: Finds relevant records by sequentially scanning the input record set. When reading from a table, Seq Scans (unlike Index Scans) perform a single read operation (only the table is read).\", \"\\nDescription: Filter relation to hold only relevant records.Filter condition: (titles.genres ~~ '%Comedy%'::text)\", \"\\nDescription: Joins to record sets by hashing one of them (using a Hash Scan).Inner Join with (titles.title_id = crew.title_id)\"], \"source\": [0, 1, 2, 3, 4, 5, 6], \"target\": [1, 3, 3, 6, 5, 6, 7], \"value\": [3560478, 3, 14269149, 572, 2522032, 518564, 188]}, \"node\": {\"color\": [\"black\", \"black\", \"black\", \"black\", \"black\", \"black\", \"black\"], \"label\": [\"People\", \"People*\", \"Crew\", \"People* \\u22c8 Crew\", \"Titles\", \"Titles*\", \"People* \\u22c8 Crew \\u22c8 Titles*\"], \"pad\": 200}, \"orientation\": \"h\", \"type\": \"sankey\", \"valueformat\": \",\", \"valuesuffix\": [\" Rows\", \" Rows\", \" Rows\", \" Rows\", \" Rows\", \" Rows\", \" Rows\"]}],\n",
       "                        {\"font\": {\"size\": 10}, \"height\": 750, \"title\": \"Identifying performance bottlenecks in a single query-actual_rows\", \"updatemenus\": [{\"buttons\": [{\"args\": [\"orientation\", \"h\"], \"label\": \"Horizontal\", \"method\": \"restyle\"}, {\"args\": [\"orientation\", \"v\"], \"label\": \"Vertical\", \"method\": \"restyle\"}], \"y\": 0.6}]},\n",
       "                        {\"responsive\": true}\n",
       "                    ).then(function(){\n",
       "                            \n",
       "var gd = document.getElementById('e1fa84e1-64f6-4d9b-8cd6-a25f280914f9');\n",
       "var x = new MutationObserver(function (mutations, observer) {{\n",
       "        var display = window.getComputedStyle(gd).display;\n",
       "        if (!display || display === 'none') {{\n",
       "            console.log([gd, 'removed!']);\n",
       "            Plotly.purge(gd);\n",
       "            observer.disconnect();\n",
       "        }}\n",
       "}});\n",
       "\n",
       "// Listen for the removal of the full notebook cells\n",
       "var notebookContainer = gd.closest('#notebook-container');\n",
       "if (notebookContainer) {{\n",
       "    x.observe(notebookContainer, {childList: true});\n",
       "}}\n",
       "\n",
       "// Listen for the clearing of the current output cell\n",
       "var outputEl = gd.closest('.output');\n",
       "if (outputEl) {{\n",
       "    x.observe(outputEl, {childList: true});\n",
       "}}\n",
       "\n",
       "                        })\n",
       "                };\n",
       "                });\n",
       "            </script>\n",
       "        </div>"
      ]
     },
     "metadata": {},
     "output_type": "display_data"
    }
   ],
   "source": [
    "flow_df = query_renderer.get_flow_df(query, con_str=con_str)\n",
    "query_renderer.vizualize(flow_df, title=\"Identifying performance bottlenecks in a single query\", metrics=[\"actual_rows\"], open_=False)"
   ]
  },
  {
   "cell_type": "code",
   "execution_count": 8,
   "metadata": {},
   "outputs": [
    {
     "data": {
      "text/html": [
       "<div>\n",
       "<style scoped>\n",
       "    .dataframe tbody tr th:only-of-type {\n",
       "        vertical-align: middle;\n",
       "    }\n",
       "\n",
       "    .dataframe tbody tr th {\n",
       "        vertical-align: top;\n",
       "    }\n",
       "\n",
       "    .dataframe thead th {\n",
       "        text-align: right;\n",
       "    }\n",
       "</style>\n",
       "<table border=\"1\" class=\"dataframe\">\n",
       "  <thead>\n",
       "    <tr style=\"text-align: right;\">\n",
       "      <th></th>\n",
       "      <th>source</th>\n",
       "      <th>target</th>\n",
       "      <th>operation_type</th>\n",
       "      <th>node_hash</th>\n",
       "      <th>shared_hit_blocks</th>\n",
       "      <th>plan_width</th>\n",
       "      <th>shared_dirtied_blocks</th>\n",
       "      <th>temp_written_blocks</th>\n",
       "      <th>shared_written_blocks</th>\n",
       "      <th>shared_read_blocks</th>\n",
       "      <th>...</th>\n",
       "      <th>label</th>\n",
       "      <th>label_metadata</th>\n",
       "      <th>query_hash</th>\n",
       "      <th>estimated_cost</th>\n",
       "      <th>redundent_operation</th>\n",
       "      <th>actual_startup_duration</th>\n",
       "      <th>actual_duration</th>\n",
       "      <th>estimated_cost_pct</th>\n",
       "      <th>actual_duration_pct</th>\n",
       "      <th>actual_plan_rows_ratio</th>\n",
       "    </tr>\n",
       "  </thead>\n",
       "  <tbody>\n",
       "    <tr>\n",
       "      <th>0</th>\n",
       "      <td>0</td>\n",
       "      <td>1</td>\n",
       "      <td>Seq Scan</td>\n",
       "      <td>7b2ff103133a83b22b41108280f7924a25804f91dc2035...</td>\n",
       "      <td>576</td>\n",
       "      <td>10</td>\n",
       "      <td>0</td>\n",
       "      <td>0</td>\n",
       "      <td>0</td>\n",
       "      <td>81450</td>\n",
       "      <td>...</td>\n",
       "      <td>People</td>\n",
       "      <td>\\nDescription: Finds relevant records by seque...</td>\n",
       "      <td>92b91691e897f24d13ca0d9ed35a9df27209676f829eb5...</td>\n",
       "      <td>141258.61</td>\n",
       "      <td>False</td>\n",
       "      <td>147.910</td>\n",
       "      <td>679.258</td>\n",
       "      <td>100.000000</td>\n",
       "      <td>100.00000</td>\n",
       "      <td>689252.200000</td>\n",
       "    </tr>\n",
       "    <tr>\n",
       "      <th>1</th>\n",
       "      <td>1</td>\n",
       "      <td>3</td>\n",
       "      <td>Where</td>\n",
       "      <td>d8b31b60823399b14a499d111a44012b81e010f4b11a0a...</td>\n",
       "      <td>576</td>\n",
       "      <td>10</td>\n",
       "      <td>0</td>\n",
       "      <td>0</td>\n",
       "      <td>0</td>\n",
       "      <td>81450</td>\n",
       "      <td>...</td>\n",
       "      <td>People*</td>\n",
       "      <td>\\nDescription: Filter relation to hold only re...</td>\n",
       "      <td>92b91691e897f24d13ca0d9ed35a9df27209676f829eb5...</td>\n",
       "      <td>0.00</td>\n",
       "      <td>False</td>\n",
       "      <td>-141110.700</td>\n",
       "      <td>0.000</td>\n",
       "      <td>0.000000</td>\n",
       "      <td>0.00000</td>\n",
       "      <td>1.666667</td>\n",
       "    </tr>\n",
       "    <tr>\n",
       "      <th>2</th>\n",
       "      <td>2</td>\n",
       "      <td>3</td>\n",
       "      <td>Seq Scan</td>\n",
       "      <td>b5f8d79f2d02c6cb19e25b0db815b3b3e5b6a1b3134476...</td>\n",
       "      <td>1077</td>\n",
       "      <td>20</td>\n",
       "      <td>0</td>\n",
       "      <td>0</td>\n",
       "      <td>0</td>\n",
       "      <td>394874</td>\n",
       "      <td>...</td>\n",
       "      <td>Crew</td>\n",
       "      <td>\\nDescription: Finds relevant records by seque...</td>\n",
       "      <td>92b91691e897f24d13ca0d9ed35a9df27209676f829eb5...</td>\n",
       "      <td>566549.52</td>\n",
       "      <td>False</td>\n",
       "      <td>0.095</td>\n",
       "      <td>2205.973</td>\n",
       "      <td>100.000000</td>\n",
       "      <td>100.00000</td>\n",
       "      <td>1.249632</td>\n",
       "    </tr>\n",
       "    <tr>\n",
       "      <th>3</th>\n",
       "      <td>3</td>\n",
       "      <td>6</td>\n",
       "      <td>Hash Join</td>\n",
       "      <td>0938bcd8c01c6800ab4264b706fb8b5db5e057ff85258c...</td>\n",
       "      <td>1653</td>\n",
       "      <td>10</td>\n",
       "      <td>0</td>\n",
       "      <td>0</td>\n",
       "      <td>0</td>\n",
       "      <td>476324</td>\n",
       "      <td>...</td>\n",
       "      <td>People* ⋈ Crew</td>\n",
       "      <td>\\nDescription: Joins to record sets by hashing...</td>\n",
       "      <td>92b91691e897f24d13ca0d9ed35a9df27209676f829eb5...</td>\n",
       "      <td>205233.19</td>\n",
       "      <td>False</td>\n",
       "      <td>-565868.990</td>\n",
       "      <td>3071.006</td>\n",
       "      <td>26.592095</td>\n",
       "      <td>58.19629</td>\n",
       "      <td>26.904762</td>\n",
       "    </tr>\n",
       "    <tr>\n",
       "      <th>4</th>\n",
       "      <td>4</td>\n",
       "      <td>5</td>\n",
       "      <td>Seq Scan</td>\n",
       "      <td>d1a40b2d694e5cd4498df2df53650e4ffb9dfd6bbfa550...</td>\n",
       "      <td>2174</td>\n",
       "      <td>10</td>\n",
       "      <td>0</td>\n",
       "      <td>0</td>\n",
       "      <td>0</td>\n",
       "      <td>121319</td>\n",
       "      <td>...</td>\n",
       "      <td>Titles</td>\n",
       "      <td>\\nDescription: Finds relevant records by seque...</td>\n",
       "      <td>92b91691e897f24d13ca0d9ed35a9df27209676f829eb5...</td>\n",
       "      <td>160668.53</td>\n",
       "      <td>False</td>\n",
       "      <td>0.074</td>\n",
       "      <td>986.660</td>\n",
       "      <td>100.000000</td>\n",
       "      <td>100.00000</td>\n",
       "      <td>3.859930</td>\n",
       "    </tr>\n",
       "    <tr>\n",
       "      <th>5</th>\n",
       "      <td>5</td>\n",
       "      <td>6</td>\n",
       "      <td>Where</td>\n",
       "      <td>8a19d9e25a08eb9387a16ac2acc2b2449c55997644e5ae...</td>\n",
       "      <td>2174</td>\n",
       "      <td>10</td>\n",
       "      <td>0</td>\n",
       "      <td>0</td>\n",
       "      <td>0</td>\n",
       "      <td>121319</td>\n",
       "      <td>...</td>\n",
       "      <td>Titles*</td>\n",
       "      <td>\\nDescription: Filter relation to hold only re...</td>\n",
       "      <td>92b91691e897f24d13ca0d9ed35a9df27209676f829eb5...</td>\n",
       "      <td>0.00</td>\n",
       "      <td>False</td>\n",
       "      <td>-160668.456</td>\n",
       "      <td>0.000</td>\n",
       "      <td>0.000000</td>\n",
       "      <td>0.00000</td>\n",
       "      <td>1.260322</td>\n",
       "    </tr>\n",
       "    <tr>\n",
       "      <th>6</th>\n",
       "      <td>6</td>\n",
       "      <td>7</td>\n",
       "      <td>Hash Join</td>\n",
       "      <td>12cdfcecd6fc80cc75de2d14a0fae4eb71cb1925a03c03...</td>\n",
       "      <td>3998</td>\n",
       "      <td>10</td>\n",
       "      <td>0</td>\n",
       "      <td>0</td>\n",
       "      <td>0</td>\n",
       "      <td>597643</td>\n",
       "      <td>...</td>\n",
       "      <td>People* ⋈ Crew ⋈ Titles*</td>\n",
       "      <td>\\nDescription: Joins to record sets by hashing...</td>\n",
       "      <td>92b91691e897f24d13ca0d9ed35a9df27209676f829eb5...</td>\n",
       "      <td>162980.28</td>\n",
       "      <td>False</td>\n",
       "      <td>-766473.231</td>\n",
       "      <td>1092.088</td>\n",
       "      <td>17.435466</td>\n",
       "      <td>17.14675</td>\n",
       "      <td>37.200000</td>\n",
       "    </tr>\n",
       "  </tbody>\n",
       "</table>\n",
       "<p>7 rows × 31 columns</p>\n",
       "</div>"
      ],
      "text/plain": [
       "   source  target operation_type  \\\n",
       "0       0       1       Seq Scan   \n",
       "1       1       3          Where   \n",
       "2       2       3       Seq Scan   \n",
       "3       3       6      Hash Join   \n",
       "4       4       5       Seq Scan   \n",
       "5       5       6          Where   \n",
       "6       6       7      Hash Join   \n",
       "\n",
       "                                           node_hash  shared_hit_blocks  \\\n",
       "0  7b2ff103133a83b22b41108280f7924a25804f91dc2035...                576   \n",
       "1  d8b31b60823399b14a499d111a44012b81e010f4b11a0a...                576   \n",
       "2  b5f8d79f2d02c6cb19e25b0db815b3b3e5b6a1b3134476...               1077   \n",
       "3  0938bcd8c01c6800ab4264b706fb8b5db5e057ff85258c...               1653   \n",
       "4  d1a40b2d694e5cd4498df2df53650e4ffb9dfd6bbfa550...               2174   \n",
       "5  8a19d9e25a08eb9387a16ac2acc2b2449c55997644e5ae...               2174   \n",
       "6  12cdfcecd6fc80cc75de2d14a0fae4eb71cb1925a03c03...               3998   \n",
       "\n",
       "   plan_width  shared_dirtied_blocks  temp_written_blocks  \\\n",
       "0          10                      0                    0   \n",
       "1          10                      0                    0   \n",
       "2          20                      0                    0   \n",
       "3          10                      0                    0   \n",
       "4          10                      0                    0   \n",
       "5          10                      0                    0   \n",
       "6          10                      0                    0   \n",
       "\n",
       "   shared_written_blocks  shared_read_blocks  ...                     label  \\\n",
       "0                      0               81450  ...                    People   \n",
       "1                      0               81450  ...                   People*   \n",
       "2                      0              394874  ...                      Crew   \n",
       "3                      0              476324  ...            People* ⋈ Crew   \n",
       "4                      0              121319  ...                    Titles   \n",
       "5                      0              121319  ...                   Titles*   \n",
       "6                      0              597643  ...  People* ⋈ Crew ⋈ Titles*   \n",
       "\n",
       "                                      label_metadata  \\\n",
       "0  \\nDescription: Finds relevant records by seque...   \n",
       "1  \\nDescription: Filter relation to hold only re...   \n",
       "2  \\nDescription: Finds relevant records by seque...   \n",
       "3  \\nDescription: Joins to record sets by hashing...   \n",
       "4  \\nDescription: Finds relevant records by seque...   \n",
       "5  \\nDescription: Filter relation to hold only re...   \n",
       "6  \\nDescription: Joins to record sets by hashing...   \n",
       "\n",
       "                                          query_hash  estimated_cost  \\\n",
       "0  92b91691e897f24d13ca0d9ed35a9df27209676f829eb5...       141258.61   \n",
       "1  92b91691e897f24d13ca0d9ed35a9df27209676f829eb5...            0.00   \n",
       "2  92b91691e897f24d13ca0d9ed35a9df27209676f829eb5...       566549.52   \n",
       "3  92b91691e897f24d13ca0d9ed35a9df27209676f829eb5...       205233.19   \n",
       "4  92b91691e897f24d13ca0d9ed35a9df27209676f829eb5...       160668.53   \n",
       "5  92b91691e897f24d13ca0d9ed35a9df27209676f829eb5...            0.00   \n",
       "6  92b91691e897f24d13ca0d9ed35a9df27209676f829eb5...       162980.28   \n",
       "\n",
       "   redundent_operation  actual_startup_duration  actual_duration  \\\n",
       "0                False                  147.910          679.258   \n",
       "1                False              -141110.700            0.000   \n",
       "2                False                    0.095         2205.973   \n",
       "3                False              -565868.990         3071.006   \n",
       "4                False                    0.074          986.660   \n",
       "5                False              -160668.456            0.000   \n",
       "6                False              -766473.231         1092.088   \n",
       "\n",
       "   estimated_cost_pct  actual_duration_pct  actual_plan_rows_ratio  \n",
       "0          100.000000            100.00000           689252.200000  \n",
       "1            0.000000              0.00000                1.666667  \n",
       "2          100.000000            100.00000                1.249632  \n",
       "3           26.592095             58.19629               26.904762  \n",
       "4          100.000000            100.00000                3.859930  \n",
       "5            0.000000              0.00000                1.260322  \n",
       "6           17.435466             17.14675               37.200000  \n",
       "\n",
       "[7 rows x 31 columns]"
      ]
     },
     "execution_count": 8,
     "metadata": {},
     "output_type": "execute_result"
    }
   ],
   "source": [
    "flow_df"
   ]
  },
  {
   "cell_type": "code",
   "execution_count": 9,
   "metadata": {},
   "outputs": [
    {
     "data": {
      "application/vnd.plotly.v1+json": {
       "config": {
        "linkText": "Export to plot.ly",
        "plotlyServerURL": "https://plot.ly",
        "showLink": false
       },
       "data": [
        {
         "link": {
          "color": [
           "#7f7f7f",
           "#7f7f7f",
           "#7f7f7f",
           "#7f7f7f",
           "#7f7f7f",
           "#7f7f7f",
           "#7f7f7f"
          ],
          "label": [
           "\nDescription: Finds relevant records by sequentially scanning the input record set. When reading from a table, Seq Scans (unlike Index Scans) perform a single read operation (only the table is read).",
           "\nDescription: Filter relation to hold only relevant records.Filter condition: (people.name = ANY ('{\"Owen Wilson\",\"Adam Sandler\",\"Jason Segel\"}'::text[]))",
           "\nDescription: Finds relevant records by sequentially scanning the input record set. When reading from a table, Seq Scans (unlike Index Scans) perform a single read operation (only the table is read).",
           "\nDescription: Joins to record sets by hashing one of them (using a Hash Scan).Hash Cond ('Inner', '(crew.person_id = people.person_id)')",
           "\nDescription: Finds relevant records by sequentially scanning the input record set. When reading from a table, Seq Scans (unlike Index Scans) perform a single read operation (only the table is read).",
           "\nDescription: Filter relation to hold only relevant records.Filter condition: (titles.genres ~~ '%Comedy%'::text)",
           "\nDescription: Joins to record sets by hashing one of them (using a Hash Scan).Hash Cond ('Inner', '(titles.title_id = crew.title_id)')"
          ],
          "source": [
           0,
           1,
           2,
           3,
           4,
           5,
           6
          ],
          "target": [
           1,
           3,
           3,
           6,
           5,
           6,
           7
          ],
          "value": [
           679,
           1,
           2205,
           3071,
           986,
           1,
           1092
          ]
         },
         "node": {
          "color": [
           "black",
           "black",
           "black",
           "black",
           "black",
           "black",
           "black"
          ],
          "label": [
           "People",
           "People*",
           "Crew",
           "People* ⋈ Crew",
           "Titles",
           "Titles*",
           "People* ⋈ Crew ⋈ Titles*"
          ],
          "pad": 200
         },
         "orientation": "h",
         "type": "sankey",
         "valueformat": ",",
         "valuesuffix": [
          " Seconds",
          " Seconds",
          " Seconds",
          " Seconds",
          " Seconds",
          " Seconds",
          " Seconds"
         ]
        }
       ],
       "layout": {
        "font": {
         "size": 10
        },
        "height": 750,
        "title": "Identifying performance bottlenecks in a single query",
        "updatemenus": [
         {
          "buttons": [
           {
            "args": [
             "orientation",
             "h"
            ],
            "label": "Horizontal",
            "method": "restyle"
           },
           {
            "args": [
             "orientation",
             "v"
            ],
            "label": "Vertical",
            "method": "restyle"
           }
          ],
          "y": 0.6
         }
        ]
       }
      },
      "text/html": [
       "<div>\n",
       "        \n",
       "        \n",
       "            <div id=\"c2f2cdcd-b8ab-4fe0-bbdc-e4758bc9589e\" class=\"plotly-graph-div\" style=\"height:750px; width:100%;\"></div>\n",
       "            <script type=\"text/javascript\">\n",
       "                require([\"plotly\"], function(Plotly) {\n",
       "                    window.PLOTLYENV=window.PLOTLYENV || {};\n",
       "                    \n",
       "                if (document.getElementById(\"c2f2cdcd-b8ab-4fe0-bbdc-e4758bc9589e\")) {\n",
       "                    Plotly.newPlot(\n",
       "                        'c2f2cdcd-b8ab-4fe0-bbdc-e4758bc9589e',\n",
       "                        [{\"link\": {\"color\": [\"#7f7f7f\", \"#7f7f7f\", \"#7f7f7f\", \"#7f7f7f\", \"#7f7f7f\", \"#7f7f7f\", \"#7f7f7f\"], \"label\": [\"\\nDescription: Finds relevant records by sequentially scanning the input record set. When reading from a table, Seq Scans (unlike Index Scans) perform a single read operation (only the table is read).\", \"\\nDescription: Filter relation to hold only relevant records.Filter condition: (people.name = ANY ('{\\\"Owen Wilson\\\",\\\"Adam Sandler\\\",\\\"Jason Segel\\\"}'::text[]))\", \"\\nDescription: Finds relevant records by sequentially scanning the input record set. When reading from a table, Seq Scans (unlike Index Scans) perform a single read operation (only the table is read).\", \"\\nDescription: Joins to record sets by hashing one of them (using a Hash Scan).Hash Cond ('Inner', '(crew.person_id = people.person_id)')\", \"\\nDescription: Finds relevant records by sequentially scanning the input record set. When reading from a table, Seq Scans (unlike Index Scans) perform a single read operation (only the table is read).\", \"\\nDescription: Filter relation to hold only relevant records.Filter condition: (titles.genres ~~ '%Comedy%'::text)\", \"\\nDescription: Joins to record sets by hashing one of them (using a Hash Scan).Hash Cond ('Inner', '(titles.title_id = crew.title_id)')\"], \"source\": [0, 1, 2, 3, 4, 5, 6], \"target\": [1, 3, 3, 6, 5, 6, 7], \"value\": [679, 1, 2205, 3071, 986, 1, 1092]}, \"node\": {\"color\": [\"black\", \"black\", \"black\", \"black\", \"black\", \"black\", \"black\"], \"label\": [\"People\", \"People*\", \"Crew\", \"People* \\u22c8 Crew\", \"Titles\", \"Titles*\", \"People* \\u22c8 Crew \\u22c8 Titles*\"], \"pad\": 200}, \"orientation\": \"h\", \"type\": \"sankey\", \"valueformat\": \",\", \"valuesuffix\": [\" Seconds\", \" Seconds\", \" Seconds\", \" Seconds\", \" Seconds\", \" Seconds\", \" Seconds\"]}],\n",
       "                        {\"font\": {\"size\": 10}, \"height\": 750, \"title\": \"Identifying performance bottlenecks in a single query\", \"updatemenus\": [{\"buttons\": [{\"args\": [\"orientation\", \"h\"], \"label\": \"Horizontal\", \"method\": \"restyle\"}, {\"args\": [\"orientation\", \"v\"], \"label\": \"Vertical\", \"method\": \"restyle\"}], \"y\": 0.6}]},\n",
       "                        {\"responsive\": true}\n",
       "                    ).then(function(){\n",
       "                            \n",
       "var gd = document.getElementById('c2f2cdcd-b8ab-4fe0-bbdc-e4758bc9589e');\n",
       "var x = new MutationObserver(function (mutations, observer) {{\n",
       "        var display = window.getComputedStyle(gd).display;\n",
       "        if (!display || display === 'none') {{\n",
       "            console.log([gd, 'removed!']);\n",
       "            Plotly.purge(gd);\n",
       "            observer.disconnect();\n",
       "        }}\n",
       "}});\n",
       "\n",
       "// Listen for the removal of the full notebook cells\n",
       "var notebookContainer = gd.closest('#notebook-container');\n",
       "if (notebookContainer) {{\n",
       "    x.observe(notebookContainer, {childList: true});\n",
       "}}\n",
       "\n",
       "// Listen for the clearing of the current output cell\n",
       "var outputEl = gd.closest('.output');\n",
       "if (outputEl) {{\n",
       "    x.observe(outputEl, {childList: true});\n",
       "}}\n",
       "\n",
       "                        })\n",
       "                };\n",
       "                });\n",
       "            </script>\n",
       "        </div>"
      ]
     },
     "metadata": {},
     "output_type": "display_data"
    }
   ],
   "source": [
    "query_renderer.vizualize(flow_df, title=\"Identifying performance bottlenecks in a single query\", metrics=[\"actual_duration\"], open_=False)"
   ]
  },
  {
   "cell_type": "code",
   "execution_count": 10,
   "metadata": {},
   "outputs": [],
   "source": [
    "with create_engine(con_str).connect() as con:\n",
    "    execution_plan = con.execute(\"CREATE INDEX if not exists crew_index ON crew(person_id)\")"
   ]
  },
  {
   "cell_type": "code",
   "execution_count": 11,
   "metadata": {},
   "outputs": [
    {
     "data": {
      "application/vnd.plotly.v1+json": {
       "config": {
        "linkText": "Export to plot.ly",
        "plotlyServerURL": "https://plot.ly",
        "showLink": false
       },
       "data": [
        {
         "link": {
          "color": [
           "#7f7f7f",
           "#7f7f7f",
           "#7f7f7f",
           "#7f7f7f",
           "#7f7f7f",
           "#7f7f7f",
           "#7f7f7f"
          ],
          "label": [
           "\nDescription: Finds relevant records based on an Index. Index Scans perform 2 read operations: one to read the index and another to read the actual value from the table.",
           "\nDescription: Finds relevant records by sequentially scanning the input record set. When reading from a table, Seq Scans (unlike Index Scans) perform a single read operation (only the table is read).",
           "\nDescription: Filter relation to hold only relevant records.Filter condition: (people.name = ANY ('{\"Owen Wilson\",\"Adam Sandler\",\"Jason Segel\"}'::text[]))",
           "\nDescription: Merges two record sets by looping through every record in the first set and trying to find a match in the second set. All matching records are returned.",
           "\nDescription: Finds relevant records by sequentially scanning the input record set. When reading from a table, Seq Scans (unlike Index Scans) perform a single read operation (only the table is read).",
           "\nDescription: Filter relation to hold only relevant records.Filter condition: (titles.genres ~~ '%Comedy%'::text)",
           "\nDescription: Joins to record sets by hashing one of them (using a Hash Scan).Hash Cond ('Inner', '(titles.title_id = crew.title_id)')"
          ],
          "source": [
           0,
           1,
           2,
           3,
           4,
           5,
           6
          ],
          "target": [
           3,
           2,
           3,
           6,
           5,
           6,
           7
          ],
          "value": [
           3,
           982,
           1,
           9,
           844,
           1,
           965
          ]
         },
         "node": {
          "color": [
           "black",
           "black",
           "black",
           "black",
           "black",
           "black",
           "black"
          ],
          "label": [
           "Crew_Index",
           "People",
           "People*",
           "Crew_Index ⋈ People*",
           "Titles",
           "Titles*",
           "Crew_Index ⋈ People* ⋈ Titles*"
          ],
          "pad": 200
         },
         "orientation": "h",
         "type": "sankey",
         "valueformat": ",",
         "valuesuffix": [
          " Seconds",
          " Seconds",
          " Seconds",
          " Seconds",
          " Seconds",
          " Seconds",
          " Seconds"
         ]
        }
       ],
       "layout": {
        "font": {
         "size": 10
        },
        "height": 750,
        "title": "Identifying performance bottlenecks in a single query",
        "updatemenus": [
         {
          "buttons": [
           {
            "args": [
             "orientation",
             "h"
            ],
            "label": "Horizontal",
            "method": "restyle"
           },
           {
            "args": [
             "orientation",
             "v"
            ],
            "label": "Vertical",
            "method": "restyle"
           }
          ],
          "y": 0.6
         }
        ]
       }
      },
      "text/html": [
       "<div>\n",
       "        \n",
       "        \n",
       "            <div id=\"088f0e9c-a79b-4d95-ad0c-72b9ee29918f\" class=\"plotly-graph-div\" style=\"height:750px; width:100%;\"></div>\n",
       "            <script type=\"text/javascript\">\n",
       "                require([\"plotly\"], function(Plotly) {\n",
       "                    window.PLOTLYENV=window.PLOTLYENV || {};\n",
       "                    \n",
       "                if (document.getElementById(\"088f0e9c-a79b-4d95-ad0c-72b9ee29918f\")) {\n",
       "                    Plotly.newPlot(\n",
       "                        '088f0e9c-a79b-4d95-ad0c-72b9ee29918f',\n",
       "                        [{\"link\": {\"color\": [\"#7f7f7f\", \"#7f7f7f\", \"#7f7f7f\", \"#7f7f7f\", \"#7f7f7f\", \"#7f7f7f\", \"#7f7f7f\"], \"label\": [\"\\nDescription: Finds relevant records based on an Index. Index Scans perform 2 read operations: one to read the index and another to read the actual value from the table.\", \"\\nDescription: Finds relevant records by sequentially scanning the input record set. When reading from a table, Seq Scans (unlike Index Scans) perform a single read operation (only the table is read).\", \"\\nDescription: Filter relation to hold only relevant records.Filter condition: (people.name = ANY ('{\\\"Owen Wilson\\\",\\\"Adam Sandler\\\",\\\"Jason Segel\\\"}'::text[]))\", \"\\nDescription: Merges two record sets by looping through every record in the first set and trying to find a match in the second set. All matching records are returned.\", \"\\nDescription: Finds relevant records by sequentially scanning the input record set. When reading from a table, Seq Scans (unlike Index Scans) perform a single read operation (only the table is read).\", \"\\nDescription: Filter relation to hold only relevant records.Filter condition: (titles.genres ~~ '%Comedy%'::text)\", \"\\nDescription: Joins to record sets by hashing one of them (using a Hash Scan).Hash Cond ('Inner', '(titles.title_id = crew.title_id)')\"], \"source\": [0, 1, 2, 3, 4, 5, 6], \"target\": [3, 2, 3, 6, 5, 6, 7], \"value\": [3, 982, 1, 9, 844, 1, 965]}, \"node\": {\"color\": [\"black\", \"black\", \"black\", \"black\", \"black\", \"black\", \"black\"], \"label\": [\"Crew_Index\", \"People\", \"People*\", \"Crew_Index \\u22c8 People*\", \"Titles\", \"Titles*\", \"Crew_Index \\u22c8 People* \\u22c8 Titles*\"], \"pad\": 200}, \"orientation\": \"h\", \"type\": \"sankey\", \"valueformat\": \",\", \"valuesuffix\": [\" Seconds\", \" Seconds\", \" Seconds\", \" Seconds\", \" Seconds\", \" Seconds\", \" Seconds\"]}],\n",
       "                        {\"font\": {\"size\": 10}, \"height\": 750, \"title\": \"Identifying performance bottlenecks in a single query\", \"updatemenus\": [{\"buttons\": [{\"args\": [\"orientation\", \"h\"], \"label\": \"Horizontal\", \"method\": \"restyle\"}, {\"args\": [\"orientation\", \"v\"], \"label\": \"Vertical\", \"method\": \"restyle\"}], \"y\": 0.6}]},\n",
       "                        {\"responsive\": true}\n",
       "                    ).then(function(){\n",
       "                            \n",
       "var gd = document.getElementById('088f0e9c-a79b-4d95-ad0c-72b9ee29918f');\n",
       "var x = new MutationObserver(function (mutations, observer) {{\n",
       "        var display = window.getComputedStyle(gd).display;\n",
       "        if (!display || display === 'none') {{\n",
       "            console.log([gd, 'removed!']);\n",
       "            Plotly.purge(gd);\n",
       "            observer.disconnect();\n",
       "        }}\n",
       "}});\n",
       "\n",
       "// Listen for the removal of the full notebook cells\n",
       "var notebookContainer = gd.closest('#notebook-container');\n",
       "if (notebookContainer) {{\n",
       "    x.observe(notebookContainer, {childList: true});\n",
       "}}\n",
       "\n",
       "// Listen for the clearing of the current output cell\n",
       "var outputEl = gd.closest('.output');\n",
       "if (outputEl) {{\n",
       "    x.observe(outputEl, {childList: true});\n",
       "}}\n",
       "\n",
       "                        })\n",
       "                };\n",
       "                });\n",
       "            </script>\n",
       "        </div>"
      ]
     },
     "metadata": {},
     "output_type": "display_data"
    }
   ],
   "source": [
    "flow_df = query_renderer.get_flow_df(query, con_str=con_str)\n",
    "query_renderer.vizualize(flow_df, title=\"Identifying performance bottlenecks in a single query\", metrics=[\"actual_duration\"], open_=False)"
   ]
  },
  {
   "cell_type": "code",
   "execution_count": 12,
   "metadata": {},
   "outputs": [
    {
     "data": {
      "text/html": [
       "<div>\n",
       "<style scoped>\n",
       "    .dataframe tbody tr th:only-of-type {\n",
       "        vertical-align: middle;\n",
       "    }\n",
       "\n",
       "    .dataframe tbody tr th {\n",
       "        vertical-align: top;\n",
       "    }\n",
       "\n",
       "    .dataframe thead th {\n",
       "        text-align: right;\n",
       "    }\n",
       "</style>\n",
       "<table border=\"1\" class=\"dataframe\">\n",
       "  <thead>\n",
       "    <tr style=\"text-align: right;\">\n",
       "      <th></th>\n",
       "      <th>source</th>\n",
       "      <th>target</th>\n",
       "      <th>operation_type</th>\n",
       "      <th>node_hash</th>\n",
       "      <th>shared_hit_blocks</th>\n",
       "      <th>plan_width</th>\n",
       "      <th>shared_dirtied_blocks</th>\n",
       "      <th>temp_written_blocks</th>\n",
       "      <th>shared_written_blocks</th>\n",
       "      <th>shared_read_blocks</th>\n",
       "      <th>...</th>\n",
       "      <th>label</th>\n",
       "      <th>label_metadata</th>\n",
       "      <th>query_hash</th>\n",
       "      <th>estimated_cost</th>\n",
       "      <th>redundent_operation</th>\n",
       "      <th>actual_startup_duration</th>\n",
       "      <th>actual_duration</th>\n",
       "      <th>estimated_cost_pct</th>\n",
       "      <th>actual_duration_pct</th>\n",
       "      <th>actual_plan_rows_ratio</th>\n",
       "    </tr>\n",
       "  </thead>\n",
       "  <tbody>\n",
       "    <tr>\n",
       "      <th>0</th>\n",
       "      <td>0</td>\n",
       "      <td>3</td>\n",
       "      <td>Index Scan</td>\n",
       "      <td>3f6c1b7fcc178617b549e05e7f0c03b0804ad6de7c27a6...</td>\n",
       "      <td>41</td>\n",
       "      <td>20</td>\n",
       "      <td>0</td>\n",
       "      <td>0</td>\n",
       "      <td>0</td>\n",
       "      <td>1231</td>\n",
       "      <td>...</td>\n",
       "      <td>Crew_Index</td>\n",
       "      <td>\\nDescription: Finds relevant records based on...</td>\n",
       "      <td>d2310644453e6fc097822c87df574cf0277a882421cd18...</td>\n",
       "      <td>1355.27</td>\n",
       "      <td>False</td>\n",
       "      <td>0.258</td>\n",
       "      <td>3.207</td>\n",
       "      <td>100.000000</td>\n",
       "      <td>100.000000</td>\n",
       "      <td>1.861702</td>\n",
       "    </tr>\n",
       "    <tr>\n",
       "      <th>1</th>\n",
       "      <td>1</td>\n",
       "      <td>2</td>\n",
       "      <td>Seq Scan</td>\n",
       "      <td>7b2ff103133a83b22b41108280f7924a25804f91dc2035...</td>\n",
       "      <td>864</td>\n",
       "      <td>10</td>\n",
       "      <td>0</td>\n",
       "      <td>0</td>\n",
       "      <td>0</td>\n",
       "      <td>81162</td>\n",
       "      <td>...</td>\n",
       "      <td>People</td>\n",
       "      <td>\\nDescription: Finds relevant records by seque...</td>\n",
       "      <td>d2310644453e6fc097822c87df574cf0277a882421cd18...</td>\n",
       "      <td>141258.61</td>\n",
       "      <td>False</td>\n",
       "      <td>350.537</td>\n",
       "      <td>982.185</td>\n",
       "      <td>100.000000</td>\n",
       "      <td>100.000000</td>\n",
       "      <td>689252.200000</td>\n",
       "    </tr>\n",
       "    <tr>\n",
       "      <th>2</th>\n",
       "      <td>2</td>\n",
       "      <td>3</td>\n",
       "      <td>Where</td>\n",
       "      <td>d8b31b60823399b14a499d111a44012b81e010f4b11a0a...</td>\n",
       "      <td>864</td>\n",
       "      <td>10</td>\n",
       "      <td>0</td>\n",
       "      <td>0</td>\n",
       "      <td>0</td>\n",
       "      <td>81162</td>\n",
       "      <td>...</td>\n",
       "      <td>People*</td>\n",
       "      <td>\\nDescription: Filter relation to hold only re...</td>\n",
       "      <td>d2310644453e6fc097822c87df574cf0277a882421cd18...</td>\n",
       "      <td>0.00</td>\n",
       "      <td>False</td>\n",
       "      <td>-140908.073</td>\n",
       "      <td>0.000</td>\n",
       "      <td>0.000000</td>\n",
       "      <td>0.000000</td>\n",
       "      <td>1.666667</td>\n",
       "    </tr>\n",
       "    <tr>\n",
       "      <th>3</th>\n",
       "      <td>3</td>\n",
       "      <td>6</td>\n",
       "      <td>Nested Loop</td>\n",
       "      <td>eafbc976e3c7445b3ddd6059680875898b6c82a690317f...</td>\n",
       "      <td>905</td>\n",
       "      <td>10</td>\n",
       "      <td>0</td>\n",
       "      <td>0</td>\n",
       "      <td>0</td>\n",
       "      <td>82393</td>\n",
       "      <td>...</td>\n",
       "      <td>Crew_Index ⋈ People*</td>\n",
       "      <td>\\nDescription: Merges two record sets by loopi...</td>\n",
       "      <td>d2310644453e6fc097822c87df574cf0277a882421cd18...</td>\n",
       "      <td>6793.82</td>\n",
       "      <td>False</td>\n",
       "      <td>-140907.838</td>\n",
       "      <td>9.752</td>\n",
       "      <td>4.588793</td>\n",
       "      <td>0.983127</td>\n",
       "      <td>26.904762</td>\n",
       "    </tr>\n",
       "    <tr>\n",
       "      <th>4</th>\n",
       "      <td>4</td>\n",
       "      <td>5</td>\n",
       "      <td>Seq Scan</td>\n",
       "      <td>d1a40b2d694e5cd4498df2df53650e4ffb9dfd6bbfa550...</td>\n",
       "      <td>3019</td>\n",
       "      <td>10</td>\n",
       "      <td>0</td>\n",
       "      <td>0</td>\n",
       "      <td>0</td>\n",
       "      <td>120474</td>\n",
       "      <td>...</td>\n",
       "      <td>Titles</td>\n",
       "      <td>\\nDescription: Finds relevant records by seque...</td>\n",
       "      <td>d2310644453e6fc097822c87df574cf0277a882421cd18...</td>\n",
       "      <td>160668.53</td>\n",
       "      <td>False</td>\n",
       "      <td>0.131</td>\n",
       "      <td>844.000</td>\n",
       "      <td>100.000000</td>\n",
       "      <td>100.000000</td>\n",
       "      <td>3.859930</td>\n",
       "    </tr>\n",
       "    <tr>\n",
       "      <th>5</th>\n",
       "      <td>5</td>\n",
       "      <td>6</td>\n",
       "      <td>Where</td>\n",
       "      <td>8a19d9e25a08eb9387a16ac2acc2b2449c55997644e5ae...</td>\n",
       "      <td>3019</td>\n",
       "      <td>10</td>\n",
       "      <td>0</td>\n",
       "      <td>0</td>\n",
       "      <td>0</td>\n",
       "      <td>120474</td>\n",
       "      <td>...</td>\n",
       "      <td>Titles*</td>\n",
       "      <td>\\nDescription: Filter relation to hold only re...</td>\n",
       "      <td>d2310644453e6fc097822c87df574cf0277a882421cd18...</td>\n",
       "      <td>0.00</td>\n",
       "      <td>False</td>\n",
       "      <td>-160668.399</td>\n",
       "      <td>0.000</td>\n",
       "      <td>0.000000</td>\n",
       "      <td>0.000000</td>\n",
       "      <td>1.260322</td>\n",
       "    </tr>\n",
       "    <tr>\n",
       "      <th>6</th>\n",
       "      <td>6</td>\n",
       "      <td>7</td>\n",
       "      <td>Hash Join</td>\n",
       "      <td>12cdfcecd6fc80cc75de2d14a0fae4eb71cb1925a03c03...</td>\n",
       "      <td>4015</td>\n",
       "      <td>10</td>\n",
       "      <td>0</td>\n",
       "      <td>0</td>\n",
       "      <td>0</td>\n",
       "      <td>202867</td>\n",
       "      <td>...</td>\n",
       "      <td>Crew_Index ⋈ People* ⋈ Titles*</td>\n",
       "      <td>\\nDescription: Joins to record sets by hashing...</td>\n",
       "      <td>d2310644453e6fc097822c87df574cf0277a882421cd18...</td>\n",
       "      <td>150364.19</td>\n",
       "      <td>False</td>\n",
       "      <td>-159672.616</td>\n",
       "      <td>965.926</td>\n",
       "      <td>48.343528</td>\n",
       "      <td>49.335730</td>\n",
       "      <td>37.200000</td>\n",
       "    </tr>\n",
       "  </tbody>\n",
       "</table>\n",
       "<p>7 rows × 31 columns</p>\n",
       "</div>"
      ],
      "text/plain": [
       "   source  target operation_type  \\\n",
       "0       0       3     Index Scan   \n",
       "1       1       2       Seq Scan   \n",
       "2       2       3          Where   \n",
       "3       3       6    Nested Loop   \n",
       "4       4       5       Seq Scan   \n",
       "5       5       6          Where   \n",
       "6       6       7      Hash Join   \n",
       "\n",
       "                                           node_hash  shared_hit_blocks  \\\n",
       "0  3f6c1b7fcc178617b549e05e7f0c03b0804ad6de7c27a6...                 41   \n",
       "1  7b2ff103133a83b22b41108280f7924a25804f91dc2035...                864   \n",
       "2  d8b31b60823399b14a499d111a44012b81e010f4b11a0a...                864   \n",
       "3  eafbc976e3c7445b3ddd6059680875898b6c82a690317f...                905   \n",
       "4  d1a40b2d694e5cd4498df2df53650e4ffb9dfd6bbfa550...               3019   \n",
       "5  8a19d9e25a08eb9387a16ac2acc2b2449c55997644e5ae...               3019   \n",
       "6  12cdfcecd6fc80cc75de2d14a0fae4eb71cb1925a03c03...               4015   \n",
       "\n",
       "   plan_width  shared_dirtied_blocks  temp_written_blocks  \\\n",
       "0          20                      0                    0   \n",
       "1          10                      0                    0   \n",
       "2          10                      0                    0   \n",
       "3          10                      0                    0   \n",
       "4          10                      0                    0   \n",
       "5          10                      0                    0   \n",
       "6          10                      0                    0   \n",
       "\n",
       "   shared_written_blocks  shared_read_blocks  ...  \\\n",
       "0                      0                1231  ...   \n",
       "1                      0               81162  ...   \n",
       "2                      0               81162  ...   \n",
       "3                      0               82393  ...   \n",
       "4                      0              120474  ...   \n",
       "5                      0              120474  ...   \n",
       "6                      0              202867  ...   \n",
       "\n",
       "                            label  \\\n",
       "0                      Crew_Index   \n",
       "1                          People   \n",
       "2                         People*   \n",
       "3            Crew_Index ⋈ People*   \n",
       "4                          Titles   \n",
       "5                         Titles*   \n",
       "6  Crew_Index ⋈ People* ⋈ Titles*   \n",
       "\n",
       "                                      label_metadata  \\\n",
       "0  \\nDescription: Finds relevant records based on...   \n",
       "1  \\nDescription: Finds relevant records by seque...   \n",
       "2  \\nDescription: Filter relation to hold only re...   \n",
       "3  \\nDescription: Merges two record sets by loopi...   \n",
       "4  \\nDescription: Finds relevant records by seque...   \n",
       "5  \\nDescription: Filter relation to hold only re...   \n",
       "6  \\nDescription: Joins to record sets by hashing...   \n",
       "\n",
       "                                          query_hash  estimated_cost  \\\n",
       "0  d2310644453e6fc097822c87df574cf0277a882421cd18...         1355.27   \n",
       "1  d2310644453e6fc097822c87df574cf0277a882421cd18...       141258.61   \n",
       "2  d2310644453e6fc097822c87df574cf0277a882421cd18...            0.00   \n",
       "3  d2310644453e6fc097822c87df574cf0277a882421cd18...         6793.82   \n",
       "4  d2310644453e6fc097822c87df574cf0277a882421cd18...       160668.53   \n",
       "5  d2310644453e6fc097822c87df574cf0277a882421cd18...            0.00   \n",
       "6  d2310644453e6fc097822c87df574cf0277a882421cd18...       150364.19   \n",
       "\n",
       "   redundent_operation  actual_startup_duration  actual_duration  \\\n",
       "0                False                    0.258            3.207   \n",
       "1                False                  350.537          982.185   \n",
       "2                False              -140908.073            0.000   \n",
       "3                False              -140907.838            9.752   \n",
       "4                False                    0.131          844.000   \n",
       "5                False              -160668.399            0.000   \n",
       "6                False              -159672.616          965.926   \n",
       "\n",
       "   estimated_cost_pct  actual_duration_pct  actual_plan_rows_ratio  \n",
       "0          100.000000           100.000000                1.861702  \n",
       "1          100.000000           100.000000           689252.200000  \n",
       "2            0.000000             0.000000                1.666667  \n",
       "3            4.588793             0.983127               26.904762  \n",
       "4          100.000000           100.000000                3.859930  \n",
       "5            0.000000             0.000000                1.260322  \n",
       "6           48.343528            49.335730               37.200000  \n",
       "\n",
       "[7 rows x 31 columns]"
      ]
     },
     "execution_count": 12,
     "metadata": {},
     "output_type": "execute_result"
    }
   ],
   "source": [
    "flow_df"
   ]
  },
  {
   "cell_type": "code",
   "execution_count": null,
   "metadata": {},
   "outputs": [],
   "source": [
    "with create_engine(con_str).connect() as con:\n",
    "    execution_plan = con.execute(\"DROP INDEX if exists crew_index\")"
   ]
  },
  {
   "cell_type": "code",
   "execution_count": null,
   "metadata": {},
   "outputs": [],
   "source": []
  },
  {
   "cell_type": "code",
   "execution_count": null,
   "metadata": {},
   "outputs": [],
   "source": []
  },
  {
   "cell_type": "code",
   "execution_count": null,
   "metadata": {},
   "outputs": [],
   "source": []
  },
  {
   "cell_type": "code",
   "execution_count": null,
   "metadata": {},
   "outputs": [],
   "source": []
  },
  {
   "cell_type": "code",
   "execution_count": null,
   "metadata": {},
   "outputs": [],
   "source": []
  },
  {
   "cell_type": "code",
   "execution_count": null,
   "metadata": {},
   "outputs": [],
   "source": []
  },
  {
   "cell_type": "code",
   "execution_count": null,
   "metadata": {},
   "outputs": [],
   "source": []
  },
  {
   "cell_type": "code",
   "execution_count": null,
   "metadata": {},
   "outputs": [],
   "source": []
  },
  {
   "cell_type": "code",
   "execution_count": null,
   "metadata": {},
   "outputs": [],
   "source": []
  },
  {
   "cell_type": "code",
   "execution_count": null,
   "metadata": {},
   "outputs": [],
   "source": []
  },
  {
   "cell_type": "code",
   "execution_count": null,
   "metadata": {},
   "outputs": [],
   "source": []
  },
  {
   "cell_type": "code",
   "execution_count": null,
   "metadata": {},
   "outputs": [],
   "source": []
  }
 ],
 "metadata": {
  "kernelspec": {
   "display_name": "Python 3",
   "language": "python",
   "name": "python3"
  },
  "language_info": {
   "codemirror_mode": {
    "name": "ipython",
    "version": 3
   },
   "file_extension": ".py",
   "mimetype": "text/x-python",
   "name": "python",
   "nbconvert_exporter": "python",
   "pygments_lexer": "ipython3",
   "version": "3.7.4"
  }
 },
 "nbformat": 4,
 "nbformat_minor": 4
}
