{
 "cells": [
  {
   "cell_type": "code",
   "execution_count": 1,
   "metadata": {},
   "outputs": [],
   "source": [
    "import pandas as pd\n",
    "\n",
    "from plotly.offline import init_notebook_mode\n",
    "from sqlalchemy import create_engine\n",
    "\n",
    "from query_flow.parsers.postgres_parser import PostgresParser\n",
    "from query_flow.vizualizers.query_vizualizer import QueryVizualizer"
   ]
  },
  {
   "cell_type": "code",
   "execution_count": 2,
   "metadata": {},
   "outputs": [
    {
     "data": {
      "text/html": [
       "        <script type=\"text/javascript\">\n",
       "        window.PlotlyConfig = {MathJaxConfig: 'local'};\n",
       "        if (window.MathJax) {MathJax.Hub.Config({SVG: {font: \"STIX-Web\"}});}\n",
       "        if (typeof require !== 'undefined') {\n",
       "        require.undef(\"plotly\");\n",
       "        requirejs.config({\n",
       "            paths: {\n",
       "                'plotly': ['https://cdn.plot.ly/plotly-latest.min']\n",
       "            }\n",
       "        });\n",
       "        require(['plotly'], function(Plotly) {\n",
       "            window._Plotly = Plotly;\n",
       "        });\n",
       "        }\n",
       "        </script>\n",
       "        "
      ]
     },
     "metadata": {},
     "output_type": "display_data"
    }
   ],
   "source": [
    "%load_ext autoreload\n",
    "%autoreload 2\n",
    "\n",
    "init_notebook_mode(connected=True)"
   ]
  },
  {
   "cell_type": "code",
   "execution_count": 3,
   "metadata": {},
   "outputs": [],
   "source": [
    "con_str = 'postgresql:///etrabelsi_thesis'"
   ]
  },
  {
   "cell_type": "markdown",
   "metadata": {},
   "source": [
    "## Identifying performance bottlenecks in a single query"
   ]
  },
  {
   "cell_type": "code",
   "execution_count": 4,
   "metadata": {},
   "outputs": [],
   "source": [
    "with create_engine(con_str).connect() as con:\n",
    "    execution_plan = con.execute(\"DROP INDEX if exists crew_index\")"
   ]
  },
  {
   "cell_type": "code",
   "execution_count": 5,
   "metadata": {},
   "outputs": [],
   "source": [
    "query_renderer = QueryVizualizer(parser=PostgresParser())"
   ]
  },
  {
   "cell_type": "code",
   "execution_count": 6,
   "metadata": {},
   "outputs": [],
   "source": [
    "query = \"\"\"\n",
    "SELECT titles.title_id\n",
    "FROM titles\n",
    "INNER JOIN crew ON crew.title_id = titles.title_id\n",
    "INNER JOIN people ON people.person_id = crew.person_id\n",
    "WHERE genres like '%Comedy%' \n",
    "  AND name in ('Owen Wilson', 'Adam Sandler', 'Jason Segel')\n",
    "\"\"\""
   ]
  },
  {
   "cell_type": "code",
   "execution_count": 7,
   "metadata": {},
   "outputs": [
    {
     "data": {
      "application/vnd.plotly.v1+json": {
       "config": {
        "linkText": "Export to plot.ly",
        "plotlyServerURL": "https://plot.ly",
        "showLink": false
       },
       "data": [
        {
         "link": {
          "color": [
           "#ffa500",
           "#ffa500",
           "#ffa500",
           "#ffa500",
           "#ffa500",
           "#ffa500",
           "#ffa500"
          ],
          "label": [
           "",
           "Filter condition: (people.name = ANY ('{\"Owen Wilson\",\"Adam Sandler\",\"Jason Segel\"}'::text[]))",
           "",
           "Hash Cond ('Inner', '(crew.person_id = people.person_id)')",
           "",
           "Filter condition: (titles.genres ~~ '%Comedy%'::text)",
           "Hash Cond ('Inner', '(titles.title_id = crew.title_id)')"
          ],
          "source": [
           0,
           1,
           2,
           3,
           4,
           5,
           6
          ],
          "target": [
           1,
           3,
           3,
           6,
           5,
           6,
           7
          ],
          "value": [
           3446261,
           3,
           13651901,
           565,
           2379234,
           489076,
           186
          ]
         },
         "node": {
          "color": [
           "black",
           "black",
           "black",
           "black",
           "black",
           "black",
           "black"
          ],
          "label": [
           "People",
           "People*",
           "Crew",
           "People* ⋈ Crew",
           "Titles",
           "Titles*",
           "People* ⋈ Crew ⋈ Titles*"
          ],
          "pad": 200
         },
         "orientation": "h",
         "type": "sankey",
         "valueformat": ",",
         "valuesuffix": [
          " Rows",
          " Rows",
          " Rows",
          " Rows",
          " Rows",
          " Rows",
          " Rows"
         ]
        }
       ],
       "layout": {
        "font": {
         "size": 10
        },
        "height": 750,
        "title": "Identifying performance bottlenecks in a single query",
        "updatemenus": [
         {
          "buttons": [
           {
            "args": [
             "orientation",
             "h"
            ],
            "label": "Horizontal",
            "method": "restyle"
           },
           {
            "args": [
             "orientation",
             "v"
            ],
            "label": "Vertical",
            "method": "restyle"
           }
          ],
          "y": 0.6
         }
        ]
       }
      },
      "text/html": [
       "<div>\n",
       "        \n",
       "        \n",
       "            <div id=\"fa6d89fa-f3be-47ad-91d2-9af621a7cf58\" class=\"plotly-graph-div\" style=\"height:750px; width:100%;\"></div>\n",
       "            <script type=\"text/javascript\">\n",
       "                require([\"plotly\"], function(Plotly) {\n",
       "                    window.PLOTLYENV=window.PLOTLYENV || {};\n",
       "                    \n",
       "                if (document.getElementById(\"fa6d89fa-f3be-47ad-91d2-9af621a7cf58\")) {\n",
       "                    Plotly.newPlot(\n",
       "                        'fa6d89fa-f3be-47ad-91d2-9af621a7cf58',\n",
       "                        [{\"link\": {\"color\": [\"#ffa500\", \"#ffa500\", \"#ffa500\", \"#ffa500\", \"#ffa500\", \"#ffa500\", \"#ffa500\"], \"label\": [\"\", \"Filter condition: (people.name = ANY ('{\\\"Owen Wilson\\\",\\\"Adam Sandler\\\",\\\"Jason Segel\\\"}'::text[]))\", \"\", \"Hash Cond ('Inner', '(crew.person_id = people.person_id)')\", \"\", \"Filter condition: (titles.genres ~~ '%Comedy%'::text)\", \"Hash Cond ('Inner', '(titles.title_id = crew.title_id)')\"], \"source\": [0, 1, 2, 3, 4, 5, 6], \"target\": [1, 3, 3, 6, 5, 6, 7], \"value\": [3446261, 3, 13651901, 565, 2379234, 489076, 186]}, \"node\": {\"color\": [\"black\", \"black\", \"black\", \"black\", \"black\", \"black\", \"black\"], \"label\": [\"People\", \"People*\", \"Crew\", \"People* \\u22c8 Crew\", \"Titles\", \"Titles*\", \"People* \\u22c8 Crew \\u22c8 Titles*\"], \"pad\": 200}, \"orientation\": \"h\", \"type\": \"sankey\", \"valueformat\": \",\", \"valuesuffix\": [\" Rows\", \" Rows\", \" Rows\", \" Rows\", \" Rows\", \" Rows\", \" Rows\"]}],\n",
       "                        {\"font\": {\"size\": 10}, \"height\": 750, \"title\": \"Identifying performance bottlenecks in a single query\", \"updatemenus\": [{\"buttons\": [{\"args\": [\"orientation\", \"h\"], \"label\": \"Horizontal\", \"method\": \"restyle\"}, {\"args\": [\"orientation\", \"v\"], \"label\": \"Vertical\", \"method\": \"restyle\"}], \"y\": 0.6}]},\n",
       "                        {\"responsive\": true}\n",
       "                    ).then(function(){\n",
       "                            \n",
       "var gd = document.getElementById('fa6d89fa-f3be-47ad-91d2-9af621a7cf58');\n",
       "var x = new MutationObserver(function (mutations, observer) {{\n",
       "        var display = window.getComputedStyle(gd).display;\n",
       "        if (!display || display === 'none') {{\n",
       "            console.log([gd, 'removed!']);\n",
       "            Plotly.purge(gd);\n",
       "            observer.disconnect();\n",
       "        }}\n",
       "}});\n",
       "\n",
       "// Listen for the removal of the full notebook cells\n",
       "var notebookContainer = gd.closest('#notebook-container');\n",
       "if (notebookContainer) {{\n",
       "    x.observe(notebookContainer, {childList: true});\n",
       "}}\n",
       "\n",
       "// Listen for the clearing of the current output cell\n",
       "var outputEl = gd.closest('.output');\n",
       "if (outputEl) {{\n",
       "    x.observe(outputEl, {childList: true});\n",
       "}}\n",
       "\n",
       "                        })\n",
       "                };\n",
       "                });\n",
       "            </script>\n",
       "        </div>"
      ]
     },
     "metadata": {},
     "output_type": "display_data"
    }
   ],
   "source": [
    "flow_df = query_renderer.get_flow_df(query, con_str=con_str)\n",
    "query_renderer.vizualize(flow_df, title=\"Identifying performance bottlenecks in a single query\", metrics=[\"actual_rows\"], open_=False)"
   ]
  },
  {
   "cell_type": "code",
   "execution_count": 8,
   "metadata": {},
   "outputs": [
    {
     "data": {
      "text/html": [
       "<div>\n",
       "<style scoped>\n",
       "    .dataframe tbody tr th:only-of-type {\n",
       "        vertical-align: middle;\n",
       "    }\n",
       "\n",
       "    .dataframe tbody tr th {\n",
       "        vertical-align: top;\n",
       "    }\n",
       "\n",
       "    .dataframe thead th {\n",
       "        text-align: right;\n",
       "    }\n",
       "</style>\n",
       "<table border=\"1\" class=\"dataframe\">\n",
       "  <thead>\n",
       "    <tr style=\"text-align: right;\">\n",
       "      <th></th>\n",
       "      <th>source</th>\n",
       "      <th>target</th>\n",
       "      <th>operation_type</th>\n",
       "      <th>shared_dirtied_blocks</th>\n",
       "      <th>shared_written_blocks</th>\n",
       "      <th>actual_startup_time</th>\n",
       "      <th>actual_total_time</th>\n",
       "      <th>local_written_blocks</th>\n",
       "      <th>actual_loops</th>\n",
       "      <th>temp_written_blocks</th>\n",
       "      <th>...</th>\n",
       "      <th>label</th>\n",
       "      <th>label_metadata</th>\n",
       "      <th>query_hash</th>\n",
       "      <th>actual_duration</th>\n",
       "      <th>estimated_cost</th>\n",
       "      <th>actual_startup_duration</th>\n",
       "      <th>redundent_operation</th>\n",
       "      <th>actual_duration_pct</th>\n",
       "      <th>estimated_cost_pct</th>\n",
       "      <th>actual_plan_rows_ratio</th>\n",
       "    </tr>\n",
       "  </thead>\n",
       "  <tbody>\n",
       "    <tr>\n",
       "      <th>0</th>\n",
       "      <td>0</td>\n",
       "      <td>1</td>\n",
       "      <td>Seq Scan</td>\n",
       "      <td>0</td>\n",
       "      <td>0</td>\n",
       "      <td>242.185</td>\n",
       "      <td>564.576</td>\n",
       "      <td>0</td>\n",
       "      <td>3</td>\n",
       "      <td>0</td>\n",
       "      <td>...</td>\n",
       "      <td>People</td>\n",
       "      <td></td>\n",
       "      <td>b35a608ede9f78d5acc015306606b2d993f64d303bbdc9...</td>\n",
       "      <td>564.576</td>\n",
       "      <td>141258.61</td>\n",
       "      <td>242.185</td>\n",
       "      <td>False</td>\n",
       "      <td>100.000000</td>\n",
       "      <td>100.000000</td>\n",
       "      <td>True</td>\n",
       "    </tr>\n",
       "    <tr>\n",
       "      <th>1</th>\n",
       "      <td>1</td>\n",
       "      <td>3</td>\n",
       "      <td>Where</td>\n",
       "      <td>0</td>\n",
       "      <td>0</td>\n",
       "      <td>242.185</td>\n",
       "      <td>564.576</td>\n",
       "      <td>0</td>\n",
       "      <td>3</td>\n",
       "      <td>0</td>\n",
       "      <td>...</td>\n",
       "      <td>People*</td>\n",
       "      <td>Filter condition: (people.name = ANY ('{\"Owen ...</td>\n",
       "      <td>b35a608ede9f78d5acc015306606b2d993f64d303bbdc9...</td>\n",
       "      <td>0.000</td>\n",
       "      <td>0.00</td>\n",
       "      <td>-141016.425</td>\n",
       "      <td>False</td>\n",
       "      <td>0.000000</td>\n",
       "      <td>0.000000</td>\n",
       "      <td>False</td>\n",
       "    </tr>\n",
       "    <tr>\n",
       "      <th>2</th>\n",
       "      <td>2</td>\n",
       "      <td>3</td>\n",
       "      <td>Seq Scan</td>\n",
       "      <td>0</td>\n",
       "      <td>0</td>\n",
       "      <td>0.114</td>\n",
       "      <td>1552.245</td>\n",
       "      <td>0</td>\n",
       "      <td>3</td>\n",
       "      <td>0</td>\n",
       "      <td>...</td>\n",
       "      <td>Crew</td>\n",
       "      <td></td>\n",
       "      <td>b35a608ede9f78d5acc015306606b2d993f64d303bbdc9...</td>\n",
       "      <td>1552.245</td>\n",
       "      <td>566508.77</td>\n",
       "      <td>0.114</td>\n",
       "      <td>False</td>\n",
       "      <td>100.000000</td>\n",
       "      <td>100.000000</td>\n",
       "      <td>False</td>\n",
       "    </tr>\n",
       "    <tr>\n",
       "      <th>3</th>\n",
       "      <td>3</td>\n",
       "      <td>6</td>\n",
       "      <td>Hash Join</td>\n",
       "      <td>0</td>\n",
       "      <td>0</td>\n",
       "      <td>642.490</td>\n",
       "      <td>3758.550</td>\n",
       "      <td>0</td>\n",
       "      <td>3</td>\n",
       "      <td>0</td>\n",
       "      <td>...</td>\n",
       "      <td>People* ⋈ Crew</td>\n",
       "      <td>Hash Cond ('Inner', '(crew.person_id = people....</td>\n",
       "      <td>b35a608ede9f78d5acc015306606b2d993f64d303bbdc9...</td>\n",
       "      <td>2206.305</td>\n",
       "      <td>205252.03</td>\n",
       "      <td>-565866.280</td>\n",
       "      <td>False</td>\n",
       "      <td>58.700962</td>\n",
       "      <td>26.595291</td>\n",
       "      <td>True</td>\n",
       "    </tr>\n",
       "    <tr>\n",
       "      <th>4</th>\n",
       "      <td>4</td>\n",
       "      <td>5</td>\n",
       "      <td>Seq Scan</td>\n",
       "      <td>0</td>\n",
       "      <td>0</td>\n",
       "      <td>0.676</td>\n",
       "      <td>500.972</td>\n",
       "      <td>0</td>\n",
       "      <td>3</td>\n",
       "      <td>0</td>\n",
       "      <td>...</td>\n",
       "      <td>Titles</td>\n",
       "      <td></td>\n",
       "      <td>b35a608ede9f78d5acc015306606b2d993f64d303bbdc9...</td>\n",
       "      <td>500.972</td>\n",
       "      <td>160656.55</td>\n",
       "      <td>0.676</td>\n",
       "      <td>False</td>\n",
       "      <td>100.000000</td>\n",
       "      <td>100.000000</td>\n",
       "      <td>False</td>\n",
       "    </tr>\n",
       "    <tr>\n",
       "      <th>5</th>\n",
       "      <td>5</td>\n",
       "      <td>6</td>\n",
       "      <td>Where</td>\n",
       "      <td>0</td>\n",
       "      <td>0</td>\n",
       "      <td>0.676</td>\n",
       "      <td>500.972</td>\n",
       "      <td>0</td>\n",
       "      <td>3</td>\n",
       "      <td>0</td>\n",
       "      <td>...</td>\n",
       "      <td>Titles*</td>\n",
       "      <td>Filter condition: (titles.genres ~~ '%Comedy%'...</td>\n",
       "      <td>b35a608ede9f78d5acc015306606b2d993f64d303bbdc9...</td>\n",
       "      <td>0.000</td>\n",
       "      <td>0.00</td>\n",
       "      <td>-160655.874</td>\n",
       "      <td>False</td>\n",
       "      <td>0.000000</td>\n",
       "      <td>0.000000</td>\n",
       "      <td>False</td>\n",
       "    </tr>\n",
       "    <tr>\n",
       "      <th>6</th>\n",
       "      <td>6</td>\n",
       "      <td>7</td>\n",
       "      <td>Hash Join</td>\n",
       "      <td>0</td>\n",
       "      <td>0</td>\n",
       "      <td>3766.063</td>\n",
       "      <td>4327.007</td>\n",
       "      <td>0</td>\n",
       "      <td>3</td>\n",
       "      <td>0</td>\n",
       "      <td>...</td>\n",
       "      <td>People* ⋈ Crew ⋈ Titles*</td>\n",
       "      <td>Hash Cond ('Inner', '(titles.title_id = crew.t...</td>\n",
       "      <td>b35a608ede9f78d5acc015306606b2d993f64d303bbdc9...</td>\n",
       "      <td>568.457</td>\n",
       "      <td>162967.56</td>\n",
       "      <td>-767994.737</td>\n",
       "      <td>False</td>\n",
       "      <td>13.137418</td>\n",
       "      <td>17.434751</td>\n",
       "      <td>True</td>\n",
       "    </tr>\n",
       "  </tbody>\n",
       "</table>\n",
       "<p>7 rows × 30 columns</p>\n",
       "</div>"
      ],
      "text/plain": [
       "   source  target operation_type  shared_dirtied_blocks  \\\n",
       "0       0       1       Seq Scan                      0   \n",
       "1       1       3          Where                      0   \n",
       "2       2       3       Seq Scan                      0   \n",
       "3       3       6      Hash Join                      0   \n",
       "4       4       5       Seq Scan                      0   \n",
       "5       5       6          Where                      0   \n",
       "6       6       7      Hash Join                      0   \n",
       "\n",
       "   shared_written_blocks  actual_startup_time  actual_total_time  \\\n",
       "0                      0              242.185            564.576   \n",
       "1                      0              242.185            564.576   \n",
       "2                      0                0.114           1552.245   \n",
       "3                      0              642.490           3758.550   \n",
       "4                      0                0.676            500.972   \n",
       "5                      0                0.676            500.972   \n",
       "6                      0             3766.063           4327.007   \n",
       "\n",
       "   local_written_blocks  actual_loops  temp_written_blocks  ...  \\\n",
       "0                     0             3                    0  ...   \n",
       "1                     0             3                    0  ...   \n",
       "2                     0             3                    0  ...   \n",
       "3                     0             3                    0  ...   \n",
       "4                     0             3                    0  ...   \n",
       "5                     0             3                    0  ...   \n",
       "6                     0             3                    0  ...   \n",
       "\n",
       "                      label  \\\n",
       "0                    People   \n",
       "1                   People*   \n",
       "2                      Crew   \n",
       "3            People* ⋈ Crew   \n",
       "4                    Titles   \n",
       "5                   Titles*   \n",
       "6  People* ⋈ Crew ⋈ Titles*   \n",
       "\n",
       "                                      label_metadata  \\\n",
       "0                                                      \n",
       "1  Filter condition: (people.name = ANY ('{\"Owen ...   \n",
       "2                                                      \n",
       "3  Hash Cond ('Inner', '(crew.person_id = people....   \n",
       "4                                                      \n",
       "5  Filter condition: (titles.genres ~~ '%Comedy%'...   \n",
       "6  Hash Cond ('Inner', '(titles.title_id = crew.t...   \n",
       "\n",
       "                                          query_hash  actual_duration  \\\n",
       "0  b35a608ede9f78d5acc015306606b2d993f64d303bbdc9...          564.576   \n",
       "1  b35a608ede9f78d5acc015306606b2d993f64d303bbdc9...            0.000   \n",
       "2  b35a608ede9f78d5acc015306606b2d993f64d303bbdc9...         1552.245   \n",
       "3  b35a608ede9f78d5acc015306606b2d993f64d303bbdc9...         2206.305   \n",
       "4  b35a608ede9f78d5acc015306606b2d993f64d303bbdc9...          500.972   \n",
       "5  b35a608ede9f78d5acc015306606b2d993f64d303bbdc9...            0.000   \n",
       "6  b35a608ede9f78d5acc015306606b2d993f64d303bbdc9...          568.457   \n",
       "\n",
       "   estimated_cost  actual_startup_duration  redundent_operation  \\\n",
       "0       141258.61                  242.185                False   \n",
       "1            0.00              -141016.425                False   \n",
       "2       566508.77                    0.114                False   \n",
       "3       205252.03              -565866.280                False   \n",
       "4       160656.55                    0.676                False   \n",
       "5            0.00              -160655.874                False   \n",
       "6       162967.56              -767994.737                False   \n",
       "\n",
       "   actual_duration_pct  estimated_cost_pct  actual_plan_rows_ratio  \n",
       "0           100.000000          100.000000                    True  \n",
       "1             0.000000            0.000000                   False  \n",
       "2           100.000000          100.000000                   False  \n",
       "3            58.700962           26.595291                    True  \n",
       "4           100.000000          100.000000                   False  \n",
       "5             0.000000            0.000000                   False  \n",
       "6            13.137418           17.434751                    True  \n",
       "\n",
       "[7 rows x 30 columns]"
      ]
     },
     "execution_count": 8,
     "metadata": {},
     "output_type": "execute_result"
    }
   ],
   "source": [
    "flow_df"
   ]
  },
  {
   "cell_type": "code",
   "execution_count": 9,
   "metadata": {},
   "outputs": [
    {
     "data": {
      "application/vnd.plotly.v1+json": {
       "config": {
        "linkText": "Export to plot.ly",
        "plotlyServerURL": "https://plot.ly",
        "showLink": false
       },
       "data": [
        {
         "link": {
          "color": [
           "#ff0",
           "#ff0",
           "#ff0",
           "#ff0",
           "#ff0",
           "#ff0",
           "#ff0"
          ],
          "label": [
           "",
           "Filter condition: (people.name = ANY ('{\"Owen Wilson\",\"Adam Sandler\",\"Jason Segel\"}'::text[]))",
           "",
           "Hash Cond ('Inner', '(crew.person_id = people.person_id)')",
           "",
           "Filter condition: (titles.genres ~~ '%Comedy%'::text)",
           "Hash Cond ('Inner', '(titles.title_id = crew.title_id)')"
          ],
          "source": [
           0,
           1,
           2,
           3,
           4,
           5,
           6
          ],
          "target": [
           1,
           3,
           3,
           6,
           5,
           6,
           7
          ],
          "value": [
           564,
           1,
           1552,
           2206,
           500,
           1,
           568
          ]
         },
         "node": {
          "color": [
           "black",
           "black",
           "black",
           "black",
           "black",
           "black",
           "black"
          ],
          "label": [
           "People",
           "People*",
           "Crew",
           "People* ⋈ Crew",
           "Titles",
           "Titles*",
           "People* ⋈ Crew ⋈ Titles*"
          ],
          "pad": 200
         },
         "orientation": "h",
         "type": "sankey",
         "valueformat": ",",
         "valuesuffix": [
          " Seconds",
          " Seconds",
          " Seconds",
          " Seconds",
          " Seconds",
          " Seconds",
          " Seconds"
         ]
        }
       ],
       "layout": {
        "font": {
         "size": 10
        },
        "height": 750,
        "title": "Identifying performance bottlenecks in a single query",
        "updatemenus": [
         {
          "buttons": [
           {
            "args": [
             "orientation",
             "h"
            ],
            "label": "Horizontal",
            "method": "restyle"
           },
           {
            "args": [
             "orientation",
             "v"
            ],
            "label": "Vertical",
            "method": "restyle"
           }
          ],
          "y": 0.6
         }
        ]
       }
      },
      "text/html": [
       "<div>\n",
       "        \n",
       "        \n",
       "            <div id=\"83a4da12-5258-4685-a2c8-e0a31bf494b2\" class=\"plotly-graph-div\" style=\"height:750px; width:100%;\"></div>\n",
       "            <script type=\"text/javascript\">\n",
       "                require([\"plotly\"], function(Plotly) {\n",
       "                    window.PLOTLYENV=window.PLOTLYENV || {};\n",
       "                    \n",
       "                if (document.getElementById(\"83a4da12-5258-4685-a2c8-e0a31bf494b2\")) {\n",
       "                    Plotly.newPlot(\n",
       "                        '83a4da12-5258-4685-a2c8-e0a31bf494b2',\n",
       "                        [{\"link\": {\"color\": [\"#ff0\", \"#ff0\", \"#ff0\", \"#ff0\", \"#ff0\", \"#ff0\", \"#ff0\"], \"label\": [\"\", \"Filter condition: (people.name = ANY ('{\\\"Owen Wilson\\\",\\\"Adam Sandler\\\",\\\"Jason Segel\\\"}'::text[]))\", \"\", \"Hash Cond ('Inner', '(crew.person_id = people.person_id)')\", \"\", \"Filter condition: (titles.genres ~~ '%Comedy%'::text)\", \"Hash Cond ('Inner', '(titles.title_id = crew.title_id)')\"], \"source\": [0, 1, 2, 3, 4, 5, 6], \"target\": [1, 3, 3, 6, 5, 6, 7], \"value\": [564, 1, 1552, 2206, 500, 1, 568]}, \"node\": {\"color\": [\"black\", \"black\", \"black\", \"black\", \"black\", \"black\", \"black\"], \"label\": [\"People\", \"People*\", \"Crew\", \"People* \\u22c8 Crew\", \"Titles\", \"Titles*\", \"People* \\u22c8 Crew \\u22c8 Titles*\"], \"pad\": 200}, \"orientation\": \"h\", \"type\": \"sankey\", \"valueformat\": \",\", \"valuesuffix\": [\" Seconds\", \" Seconds\", \" Seconds\", \" Seconds\", \" Seconds\", \" Seconds\", \" Seconds\"]}],\n",
       "                        {\"font\": {\"size\": 10}, \"height\": 750, \"title\": \"Identifying performance bottlenecks in a single query\", \"updatemenus\": [{\"buttons\": [{\"args\": [\"orientation\", \"h\"], \"label\": \"Horizontal\", \"method\": \"restyle\"}, {\"args\": [\"orientation\", \"v\"], \"label\": \"Vertical\", \"method\": \"restyle\"}], \"y\": 0.6}]},\n",
       "                        {\"responsive\": true}\n",
       "                    ).then(function(){\n",
       "                            \n",
       "var gd = document.getElementById('83a4da12-5258-4685-a2c8-e0a31bf494b2');\n",
       "var x = new MutationObserver(function (mutations, observer) {{\n",
       "        var display = window.getComputedStyle(gd).display;\n",
       "        if (!display || display === 'none') {{\n",
       "            console.log([gd, 'removed!']);\n",
       "            Plotly.purge(gd);\n",
       "            observer.disconnect();\n",
       "        }}\n",
       "}});\n",
       "\n",
       "// Listen for the removal of the full notebook cells\n",
       "var notebookContainer = gd.closest('#notebook-container');\n",
       "if (notebookContainer) {{\n",
       "    x.observe(notebookContainer, {childList: true});\n",
       "}}\n",
       "\n",
       "// Listen for the clearing of the current output cell\n",
       "var outputEl = gd.closest('.output');\n",
       "if (outputEl) {{\n",
       "    x.observe(outputEl, {childList: true});\n",
       "}}\n",
       "\n",
       "                        })\n",
       "                };\n",
       "                });\n",
       "            </script>\n",
       "        </div>"
      ]
     },
     "metadata": {},
     "output_type": "display_data"
    }
   ],
   "source": [
    "query_renderer.vizualize(flow_df, title=\"Identifying performance bottlenecks in a single query\", metrics=[\"actual_duration\"], open_=False)"
   ]
  },
  {
   "cell_type": "code",
   "execution_count": 10,
   "metadata": {},
   "outputs": [],
   "source": [
    "with create_engine(con_str).connect() as con:\n",
    "    execution_plan = con.execute(\"CREATE INDEX if not exists crew_index ON crew(person_id)\")"
   ]
  },
  {
   "cell_type": "code",
   "execution_count": 11,
   "metadata": {},
   "outputs": [
    {
     "name": "stderr",
     "output_type": "stream",
     "text": [
      "/Users/etrabelsi/IdeaProjects/thesis/query_flow/parsers/postgres_parser.py:315: RuntimeWarning:\n",
      "\n",
      "divide by zero encountered in long_scalars\n",
      "\n"
     ]
    },
    {
     "data": {
      "application/vnd.plotly.v1+json": {
       "config": {
        "linkText": "Export to plot.ly",
        "plotlyServerURL": "https://plot.ly",
        "showLink": false
       },
       "data": [
        {
         "link": {
          "color": [
           "#ffa500",
           "#ffa500",
           "#ffa500",
           "#ffa500",
           "#ffa500",
           "#ffa500"
          ],
          "label": [
           "",
           "",
           "",
           "Filter condition: (people.name = ANY ('{\"Owen Wilson\",\"Adam Sandler\",\"Jason Segel\"}'::text[]))",
           "",
           ""
          ],
          "source": [
           0,
           1,
           2,
           3,
           4,
           5
          ],
          "target": [
           5,
           4,
           3,
           4,
           5,
           6
          ],
          "value": [
           1,
           2,
           647,
           1,
           6,
           3
          ]
         },
         "node": {
          "color": [
           "black",
           "black",
           "black",
           "black",
           "black",
           "black"
          ],
          "label": [
           "Titles_Index",
           "Crew_Index",
           "People",
           "People*",
           "Crew_Index ⋈ People*",
           "Titles_Index ⋈ Crew_Index ⋈ People*"
          ],
          "pad": 200
         },
         "orientation": "h",
         "type": "sankey",
         "valueformat": ",",
         "valuesuffix": [
          " Seconds",
          " Seconds",
          " Seconds",
          " Seconds",
          " Seconds",
          " Seconds"
         ]
        }
       ],
       "layout": {
        "font": {
         "size": 10
        },
        "height": 750,
        "title": "Identifying performance bottlenecks in a single query",
        "updatemenus": [
         {
          "buttons": [
           {
            "args": [
             "orientation",
             "h"
            ],
            "label": "Horizontal",
            "method": "restyle"
           },
           {
            "args": [
             "orientation",
             "v"
            ],
            "label": "Vertical",
            "method": "restyle"
           }
          ],
          "y": 0.6
         }
        ]
       }
      },
      "text/html": [
       "<div>\n",
       "        \n",
       "        \n",
       "            <div id=\"498bb11e-38b9-452b-b6e1-57290c393794\" class=\"plotly-graph-div\" style=\"height:750px; width:100%;\"></div>\n",
       "            <script type=\"text/javascript\">\n",
       "                require([\"plotly\"], function(Plotly) {\n",
       "                    window.PLOTLYENV=window.PLOTLYENV || {};\n",
       "                    \n",
       "                if (document.getElementById(\"498bb11e-38b9-452b-b6e1-57290c393794\")) {\n",
       "                    Plotly.newPlot(\n",
       "                        '498bb11e-38b9-452b-b6e1-57290c393794',\n",
       "                        [{\"link\": {\"color\": [\"#ffa500\", \"#ffa500\", \"#ffa500\", \"#ffa500\", \"#ffa500\", \"#ffa500\"], \"label\": [\"\", \"\", \"\", \"Filter condition: (people.name = ANY ('{\\\"Owen Wilson\\\",\\\"Adam Sandler\\\",\\\"Jason Segel\\\"}'::text[]))\", \"\", \"\"], \"source\": [0, 1, 2, 3, 4, 5], \"target\": [5, 4, 3, 4, 5, 6], \"value\": [1, 2, 647, 1, 6, 3]}, \"node\": {\"color\": [\"black\", \"black\", \"black\", \"black\", \"black\", \"black\"], \"label\": [\"Titles_Index\", \"Crew_Index\", \"People\", \"People*\", \"Crew_Index \\u22c8 People*\", \"Titles_Index \\u22c8 Crew_Index \\u22c8 People*\"], \"pad\": 200}, \"orientation\": \"h\", \"type\": \"sankey\", \"valueformat\": \",\", \"valuesuffix\": [\" Seconds\", \" Seconds\", \" Seconds\", \" Seconds\", \" Seconds\", \" Seconds\"]}],\n",
       "                        {\"font\": {\"size\": 10}, \"height\": 750, \"title\": \"Identifying performance bottlenecks in a single query\", \"updatemenus\": [{\"buttons\": [{\"args\": [\"orientation\", \"h\"], \"label\": \"Horizontal\", \"method\": \"restyle\"}, {\"args\": [\"orientation\", \"v\"], \"label\": \"Vertical\", \"method\": \"restyle\"}], \"y\": 0.6}]},\n",
       "                        {\"responsive\": true}\n",
       "                    ).then(function(){\n",
       "                            \n",
       "var gd = document.getElementById('498bb11e-38b9-452b-b6e1-57290c393794');\n",
       "var x = new MutationObserver(function (mutations, observer) {{\n",
       "        var display = window.getComputedStyle(gd).display;\n",
       "        if (!display || display === 'none') {{\n",
       "            console.log([gd, 'removed!']);\n",
       "            Plotly.purge(gd);\n",
       "            observer.disconnect();\n",
       "        }}\n",
       "}});\n",
       "\n",
       "// Listen for the removal of the full notebook cells\n",
       "var notebookContainer = gd.closest('#notebook-container');\n",
       "if (notebookContainer) {{\n",
       "    x.observe(notebookContainer, {childList: true});\n",
       "}}\n",
       "\n",
       "// Listen for the clearing of the current output cell\n",
       "var outputEl = gd.closest('.output');\n",
       "if (outputEl) {{\n",
       "    x.observe(outputEl, {childList: true});\n",
       "}}\n",
       "\n",
       "                        })\n",
       "                };\n",
       "                });\n",
       "            </script>\n",
       "        </div>"
      ]
     },
     "metadata": {},
     "output_type": "display_data"
    }
   ],
   "source": [
    "flow_df = query_renderer.get_flow_df(query, con_str=con_str)\n",
    "query_renderer.vizualize(flow_df, title=\"Identifying performance bottlenecks in a single query\", metrics=[\"actual_duration\"], open_=False)"
   ]
  },
  {
   "cell_type": "code",
   "execution_count": 12,
   "metadata": {},
   "outputs": [
    {
     "data": {
      "text/html": [
       "<div>\n",
       "<style scoped>\n",
       "    .dataframe tbody tr th:only-of-type {\n",
       "        vertical-align: middle;\n",
       "    }\n",
       "\n",
       "    .dataframe tbody tr th {\n",
       "        vertical-align: top;\n",
       "    }\n",
       "\n",
       "    .dataframe thead th {\n",
       "        text-align: right;\n",
       "    }\n",
       "</style>\n",
       "<table border=\"1\" class=\"dataframe\">\n",
       "  <thead>\n",
       "    <tr style=\"text-align: right;\">\n",
       "      <th></th>\n",
       "      <th>source</th>\n",
       "      <th>target</th>\n",
       "      <th>operation_type</th>\n",
       "      <th>shared_dirtied_blocks</th>\n",
       "      <th>shared_written_blocks</th>\n",
       "      <th>actual_startup_time</th>\n",
       "      <th>actual_total_time</th>\n",
       "      <th>local_written_blocks</th>\n",
       "      <th>actual_loops</th>\n",
       "      <th>temp_written_blocks</th>\n",
       "      <th>...</th>\n",
       "      <th>label</th>\n",
       "      <th>label_metadata</th>\n",
       "      <th>query_hash</th>\n",
       "      <th>actual_duration</th>\n",
       "      <th>estimated_cost</th>\n",
       "      <th>actual_startup_duration</th>\n",
       "      <th>redundent_operation</th>\n",
       "      <th>actual_duration_pct</th>\n",
       "      <th>estimated_cost_pct</th>\n",
       "      <th>actual_plan_rows_ratio</th>\n",
       "    </tr>\n",
       "  </thead>\n",
       "  <tbody>\n",
       "    <tr>\n",
       "      <th>0</th>\n",
       "      <td>0</td>\n",
       "      <td>5</td>\n",
       "      <td>Index Only Scan</td>\n",
       "      <td>0</td>\n",
       "      <td>0</td>\n",
       "      <td>0.006</td>\n",
       "      <td>0.006</td>\n",
       "      <td>0</td>\n",
       "      <td>1695</td>\n",
       "      <td>0</td>\n",
       "      <td>...</td>\n",
       "      <td>Titles_Index</td>\n",
       "      <td></td>\n",
       "      <td>9be4186f5b750affa50d9f2f649a8bf09276c492fb1259...</td>\n",
       "      <td>0.006</td>\n",
       "      <td>1.57</td>\n",
       "      <td>0.006</td>\n",
       "      <td>False</td>\n",
       "      <td>100.000000</td>\n",
       "      <td>100.000000</td>\n",
       "      <td>True</td>\n",
       "    </tr>\n",
       "    <tr>\n",
       "      <th>1</th>\n",
       "      <td>1</td>\n",
       "      <td>4</td>\n",
       "      <td>Index Scan</td>\n",
       "      <td>0</td>\n",
       "      <td>0</td>\n",
       "      <td>0.601</td>\n",
       "      <td>2.162</td>\n",
       "      <td>0</td>\n",
       "      <td>9</td>\n",
       "      <td>0</td>\n",
       "      <td>...</td>\n",
       "      <td>Crew_Index</td>\n",
       "      <td></td>\n",
       "      <td>9be4186f5b750affa50d9f2f649a8bf09276c492fb1259...</td>\n",
       "      <td>2.162</td>\n",
       "      <td>1246.82</td>\n",
       "      <td>0.601</td>\n",
       "      <td>False</td>\n",
       "      <td>100.000000</td>\n",
       "      <td>100.000000</td>\n",
       "      <td>False</td>\n",
       "    </tr>\n",
       "    <tr>\n",
       "      <th>2</th>\n",
       "      <td>2</td>\n",
       "      <td>3</td>\n",
       "      <td>Seq Scan</td>\n",
       "      <td>0</td>\n",
       "      <td>0</td>\n",
       "      <td>14.049</td>\n",
       "      <td>647.119</td>\n",
       "      <td>0</td>\n",
       "      <td>3</td>\n",
       "      <td>0</td>\n",
       "      <td>...</td>\n",
       "      <td>People</td>\n",
       "      <td></td>\n",
       "      <td>9be4186f5b750affa50d9f2f649a8bf09276c492fb1259...</td>\n",
       "      <td>647.119</td>\n",
       "      <td>141258.61</td>\n",
       "      <td>14.049</td>\n",
       "      <td>False</td>\n",
       "      <td>100.000000</td>\n",
       "      <td>100.000000</td>\n",
       "      <td>True</td>\n",
       "    </tr>\n",
       "    <tr>\n",
       "      <th>3</th>\n",
       "      <td>3</td>\n",
       "      <td>4</td>\n",
       "      <td>Where</td>\n",
       "      <td>0</td>\n",
       "      <td>0</td>\n",
       "      <td>14.049</td>\n",
       "      <td>647.119</td>\n",
       "      <td>0</td>\n",
       "      <td>3</td>\n",
       "      <td>0</td>\n",
       "      <td>...</td>\n",
       "      <td>People*</td>\n",
       "      <td>Filter condition: (people.name = ANY ('{\"Owen ...</td>\n",
       "      <td>9be4186f5b750affa50d9f2f649a8bf09276c492fb1259...</td>\n",
       "      <td>0.000</td>\n",
       "      <td>0.00</td>\n",
       "      <td>-141244.561</td>\n",
       "      <td>False</td>\n",
       "      <td>0.000000</td>\n",
       "      <td>0.000000</td>\n",
       "      <td>False</td>\n",
       "    </tr>\n",
       "    <tr>\n",
       "      <th>4</th>\n",
       "      <td>4</td>\n",
       "      <td>5</td>\n",
       "      <td>Nested Loop</td>\n",
       "      <td>0</td>\n",
       "      <td>0</td>\n",
       "      <td>14.886</td>\n",
       "      <td>653.747</td>\n",
       "      <td>0</td>\n",
       "      <td>3</td>\n",
       "      <td>0</td>\n",
       "      <td>...</td>\n",
       "      <td>Crew_Index ⋈ People*</td>\n",
       "      <td></td>\n",
       "      <td>9be4186f5b750affa50d9f2f649a8bf09276c492fb1259...</td>\n",
       "      <td>6.628</td>\n",
       "      <td>6250.77</td>\n",
       "      <td>-141243.724</td>\n",
       "      <td>False</td>\n",
       "      <td>1.013848</td>\n",
       "      <td>4.237541</td>\n",
       "      <td>True</td>\n",
       "    </tr>\n",
       "    <tr>\n",
       "      <th>5</th>\n",
       "      <td>5</td>\n",
       "      <td>6</td>\n",
       "      <td>Nested Loop</td>\n",
       "      <td>0</td>\n",
       "      <td>0</td>\n",
       "      <td>14.956</td>\n",
       "      <td>657.504</td>\n",
       "      <td>0</td>\n",
       "      <td>3</td>\n",
       "      <td>0</td>\n",
       "      <td>...</td>\n",
       "      <td>Titles_Index ⋈ Crew_Index ⋈ People*</td>\n",
       "      <td></td>\n",
       "      <td>9be4186f5b750affa50d9f2f649a8bf09276c492fb1259...</td>\n",
       "      <td>3.757</td>\n",
       "      <td>33.25</td>\n",
       "      <td>-147494.424</td>\n",
       "      <td>False</td>\n",
       "      <td>0.571403</td>\n",
       "      <td>0.022536</td>\n",
       "      <td>True</td>\n",
       "    </tr>\n",
       "  </tbody>\n",
       "</table>\n",
       "<p>6 rows × 30 columns</p>\n",
       "</div>"
      ],
      "text/plain": [
       "   source  target   operation_type  shared_dirtied_blocks  \\\n",
       "0       0       5  Index Only Scan                      0   \n",
       "1       1       4       Index Scan                      0   \n",
       "2       2       3         Seq Scan                      0   \n",
       "3       3       4            Where                      0   \n",
       "4       4       5      Nested Loop                      0   \n",
       "5       5       6      Nested Loop                      0   \n",
       "\n",
       "   shared_written_blocks  actual_startup_time  actual_total_time  \\\n",
       "0                      0                0.006              0.006   \n",
       "1                      0                0.601              2.162   \n",
       "2                      0               14.049            647.119   \n",
       "3                      0               14.049            647.119   \n",
       "4                      0               14.886            653.747   \n",
       "5                      0               14.956            657.504   \n",
       "\n",
       "   local_written_blocks  actual_loops  temp_written_blocks  ...  \\\n",
       "0                     0          1695                    0  ...   \n",
       "1                     0             9                    0  ...   \n",
       "2                     0             3                    0  ...   \n",
       "3                     0             3                    0  ...   \n",
       "4                     0             3                    0  ...   \n",
       "5                     0             3                    0  ...   \n",
       "\n",
       "                                 label  \\\n",
       "0                         Titles_Index   \n",
       "1                           Crew_Index   \n",
       "2                               People   \n",
       "3                              People*   \n",
       "4                 Crew_Index ⋈ People*   \n",
       "5  Titles_Index ⋈ Crew_Index ⋈ People*   \n",
       "\n",
       "                                      label_metadata  \\\n",
       "0                                                      \n",
       "1                                                      \n",
       "2                                                      \n",
       "3  Filter condition: (people.name = ANY ('{\"Owen ...   \n",
       "4                                                      \n",
       "5                                                      \n",
       "\n",
       "                                          query_hash  actual_duration  \\\n",
       "0  9be4186f5b750affa50d9f2f649a8bf09276c492fb1259...            0.006   \n",
       "1  9be4186f5b750affa50d9f2f649a8bf09276c492fb1259...            2.162   \n",
       "2  9be4186f5b750affa50d9f2f649a8bf09276c492fb1259...          647.119   \n",
       "3  9be4186f5b750affa50d9f2f649a8bf09276c492fb1259...            0.000   \n",
       "4  9be4186f5b750affa50d9f2f649a8bf09276c492fb1259...            6.628   \n",
       "5  9be4186f5b750affa50d9f2f649a8bf09276c492fb1259...            3.757   \n",
       "\n",
       "   estimated_cost  actual_startup_duration  redundent_operation  \\\n",
       "0            1.57                    0.006                False   \n",
       "1         1246.82                    0.601                False   \n",
       "2       141258.61                   14.049                False   \n",
       "3            0.00              -141244.561                False   \n",
       "4         6250.77              -141243.724                False   \n",
       "5           33.25              -147494.424                False   \n",
       "\n",
       "   actual_duration_pct  estimated_cost_pct  actual_plan_rows_ratio  \n",
       "0           100.000000          100.000000                    True  \n",
       "1           100.000000          100.000000                   False  \n",
       "2           100.000000          100.000000                    True  \n",
       "3             0.000000            0.000000                   False  \n",
       "4             1.013848            4.237541                    True  \n",
       "5             0.571403            0.022536                    True  \n",
       "\n",
       "[6 rows x 30 columns]"
      ]
     },
     "execution_count": 12,
     "metadata": {},
     "output_type": "execute_result"
    }
   ],
   "source": [
    "flow_df"
   ]
  },
  {
   "cell_type": "code",
   "execution_count": 13,
   "metadata": {},
   "outputs": [],
   "source": [
    "with create_engine(con_str).connect() as con:\n",
    "    execution_plan = con.execute(\"DROP INDEX if exists crew_index\")"
   ]
  },
  {
   "cell_type": "code",
   "execution_count": null,
   "metadata": {},
   "outputs": [],
   "source": []
  },
  {
   "cell_type": "code",
   "execution_count": null,
   "metadata": {},
   "outputs": [],
   "source": []
  },
  {
   "cell_type": "code",
   "execution_count": null,
   "metadata": {},
   "outputs": [],
   "source": []
  },
  {
   "cell_type": "code",
   "execution_count": null,
   "metadata": {},
   "outputs": [],
   "source": []
  },
  {
   "cell_type": "code",
   "execution_count": null,
   "metadata": {},
   "outputs": [],
   "source": []
  },
  {
   "cell_type": "code",
   "execution_count": null,
   "metadata": {},
   "outputs": [],
   "source": []
  },
  {
   "cell_type": "code",
   "execution_count": null,
   "metadata": {},
   "outputs": [],
   "source": []
  },
  {
   "cell_type": "code",
   "execution_count": null,
   "metadata": {},
   "outputs": [],
   "source": []
  },
  {
   "cell_type": "code",
   "execution_count": null,
   "metadata": {},
   "outputs": [],
   "source": []
  },
  {
   "cell_type": "code",
   "execution_count": null,
   "metadata": {},
   "outputs": [],
   "source": []
  },
  {
   "cell_type": "code",
   "execution_count": null,
   "metadata": {},
   "outputs": [],
   "source": []
  },
  {
   "cell_type": "code",
   "execution_count": null,
   "metadata": {},
   "outputs": [],
   "source": []
  }
 ],
 "metadata": {
  "kernelspec": {
   "display_name": "Python 3",
   "language": "python",
   "name": "python3"
  },
  "language_info": {
   "codemirror_mode": {
    "name": "ipython",
    "version": 3
   },
   "file_extension": ".py",
   "mimetype": "text/x-python",
   "name": "python",
   "nbconvert_exporter": "python",
   "pygments_lexer": "ipython3",
   "version": "3.7.4"
  }
 },
 "nbformat": 4,
 "nbformat_minor": 4
}
