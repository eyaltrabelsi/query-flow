{
 "cells": [
  {
   "cell_type": "code",
   "execution_count": 15,
   "metadata": {},
   "outputs": [],
   "source": [
    "import pandas as pd\n",
    "\n",
    "from plotly.offline import init_notebook_mode\n",
    "from sqlalchemy import create_engine\n",
    "\n",
    "from query_flow.parsers.postgres_parser import PostgresParser\n",
    "from query_flow.vizualizers.query_vizualizer import QueryVizualizer"
   ]
  },
  {
   "cell_type": "code",
   "execution_count": 16,
   "metadata": {},
   "outputs": [
    {
     "name": "stdout",
     "output_type": "stream",
     "text": [
      "The autoreload extension is already loaded. To reload it, use:\n",
      "  %reload_ext autoreload\n"
     ]
    },
    {
     "data": {
      "text/html": [
       "        <script type=\"text/javascript\">\n",
       "        window.PlotlyConfig = {MathJaxConfig: 'local'};\n",
       "        if (window.MathJax) {MathJax.Hub.Config({SVG: {font: \"STIX-Web\"}});}\n",
       "        if (typeof require !== 'undefined') {\n",
       "        require.undef(\"plotly\");\n",
       "        requirejs.config({\n",
       "            paths: {\n",
       "                'plotly': ['https://cdn.plot.ly/plotly-latest.min']\n",
       "            }\n",
       "        });\n",
       "        require(['plotly'], function(Plotly) {\n",
       "            window._Plotly = Plotly;\n",
       "        });\n",
       "        }\n",
       "        </script>\n",
       "        "
      ]
     },
     "metadata": {},
     "output_type": "display_data"
    }
   ],
   "source": [
    "%load_ext autoreload\n",
    "%autoreload 2\n",
    "\n",
    "init_notebook_mode(connected=True)"
   ]
  },
  {
   "cell_type": "code",
   "execution_count": 17,
   "metadata": {},
   "outputs": [],
   "source": [
    "con_str = 'postgresql:///etrabelsi_thesis'"
   ]
  },
  {
   "cell_type": "markdown",
   "metadata": {},
   "source": [
    "## Identifying performance bottlenecks in a single query"
   ]
  },
  {
   "cell_type": "code",
   "execution_count": 18,
   "metadata": {},
   "outputs": [],
   "source": [
    "with create_engine(con_str).connect() as con:\n",
    "    execution_plan = con.execute(\"DROP INDEX if exists crew_index\")"
   ]
  },
  {
   "cell_type": "code",
   "execution_count": 19,
   "metadata": {},
   "outputs": [],
   "source": [
    "query_renderer = QueryVizualizer(parser=PostgresParser())"
   ]
  },
  {
   "cell_type": "code",
   "execution_count": 20,
   "metadata": {},
   "outputs": [],
   "source": [
    "query = \"\"\"\n",
    "SELECT titles.title_id\n",
    "FROM titles\n",
    "INNER JOIN crew ON crew.title_id = titles.title_id\n",
    "INNER JOIN people ON people.person_id = crew.person_id\n",
    "WHERE genres like '%Comedy%' \n",
    "  AND name in ('Owen Wilson', 'Adam Sandler', 'Jason Segel')\n",
    "\"\"\""
   ]
  },
  {
   "cell_type": "code",
   "execution_count": 21,
   "metadata": {},
   "outputs": [
    {
     "data": {
      "application/vnd.plotly.v1+json": {
       "config": {
        "linkText": "Export to plot.ly",
        "plotlyServerURL": "https://plot.ly",
        "showLink": false
       },
       "data": [
        {
         "link": {
          "color": [
           "silver",
           "silver",
           "silver",
           "silver",
           "silver",
           "silver",
           "silver"
          ],
          "label": [
           "",
           "Filter condition: (people.name = ANY ('{\"Owen Wilson\",\"Adam Sandler\",\"Jason Segel\"}'::text[]))",
           "",
           "Hash Cond ('Inner', '(crew.person_id = people.person_id)')",
           "",
           "Filter condition: (titles.genres ~~ '%Comedy%'::text)",
           "Hash Cond ('Inner', '(titles.title_id = crew.title_id)')"
          ],
          "source": [
           0,
           1,
           2,
           3,
           4,
           5,
           6
          ],
          "target": [
           1,
           3,
           3,
           6,
           5,
           6,
           7
          ],
          "value": [
           3446261,
           3,
           13651901,
           565,
           2379234,
           489076,
           186
          ]
         },
         "node": {
          "color": [
           null,
           null,
           null,
           null,
           null,
           null,
           null
          ],
          "label": [
           "People",
           "People*",
           "Crew",
           "People* ⋈ Crew",
           "Titles",
           "Titles*",
           "People* ⋈ Crew ⋈ Titles*"
          ],
          "pad": 200
         },
         "orientation": "h",
         "type": "sankey",
         "valueformat": ",",
         "valuesuffix": [
          " Rows",
          " Rows",
          " Rows",
          " Rows",
          " Rows",
          " Rows",
          " Rows"
         ]
        }
       ],
       "layout": {
        "font": {
         "size": 10
        },
        "height": 750,
        "title": "Identifying performance bottlenecks in a single query",
        "updatemenus": [
         {
          "buttons": [
           {
            "args": [
             "orientation",
             "h"
            ],
            "label": "Horizontal",
            "method": "restyle"
           },
           {
            "args": [
             "orientation",
             "v"
            ],
            "label": "Vertical",
            "method": "restyle"
           }
          ],
          "y": 0.6
         }
        ]
       }
      },
      "text/html": [
       "<div>\n",
       "        \n",
       "        \n",
       "            <div id=\"813390f9-90c1-4251-b922-13fe35de0fbe\" class=\"plotly-graph-div\" style=\"height:750px; width:100%;\"></div>\n",
       "            <script type=\"text/javascript\">\n",
       "                require([\"plotly\"], function(Plotly) {\n",
       "                    window.PLOTLYENV=window.PLOTLYENV || {};\n",
       "                    \n",
       "                if (document.getElementById(\"813390f9-90c1-4251-b922-13fe35de0fbe\")) {\n",
       "                    Plotly.newPlot(\n",
       "                        '813390f9-90c1-4251-b922-13fe35de0fbe',\n",
       "                        [{\"link\": {\"color\": [\"silver\", \"silver\", \"silver\", \"silver\", \"silver\", \"silver\", \"silver\"], \"label\": [\"\", \"Filter condition: (people.name = ANY ('{\\\"Owen Wilson\\\",\\\"Adam Sandler\\\",\\\"Jason Segel\\\"}'::text[]))\", \"\", \"Hash Cond ('Inner', '(crew.person_id = people.person_id)')\", \"\", \"Filter condition: (titles.genres ~~ '%Comedy%'::text)\", \"Hash Cond ('Inner', '(titles.title_id = crew.title_id)')\"], \"source\": [0, 1, 2, 3, 4, 5, 6], \"target\": [1, 3, 3, 6, 5, 6, 7], \"value\": [3446261, 3, 13651901, 565, 2379234, 489076, 186]}, \"node\": {\"color\": [null, null, null, null, null, null, null], \"label\": [\"People\", \"People*\", \"Crew\", \"People* \\u22c8 Crew\", \"Titles\", \"Titles*\", \"People* \\u22c8 Crew \\u22c8 Titles*\"], \"pad\": 200}, \"orientation\": \"h\", \"type\": \"sankey\", \"valueformat\": \",\", \"valuesuffix\": [\" Rows\", \" Rows\", \" Rows\", \" Rows\", \" Rows\", \" Rows\", \" Rows\"]}],\n",
       "                        {\"font\": {\"size\": 10}, \"height\": 750, \"title\": \"Identifying performance bottlenecks in a single query\", \"updatemenus\": [{\"buttons\": [{\"args\": [\"orientation\", \"h\"], \"label\": \"Horizontal\", \"method\": \"restyle\"}, {\"args\": [\"orientation\", \"v\"], \"label\": \"Vertical\", \"method\": \"restyle\"}], \"y\": 0.6}]},\n",
       "                        {\"responsive\": true}\n",
       "                    ).then(function(){\n",
       "                            \n",
       "var gd = document.getElementById('813390f9-90c1-4251-b922-13fe35de0fbe');\n",
       "var x = new MutationObserver(function (mutations, observer) {{\n",
       "        var display = window.getComputedStyle(gd).display;\n",
       "        if (!display || display === 'none') {{\n",
       "            console.log([gd, 'removed!']);\n",
       "            Plotly.purge(gd);\n",
       "            observer.disconnect();\n",
       "        }}\n",
       "}});\n",
       "\n",
       "// Listen for the removal of the full notebook cells\n",
       "var notebookContainer = gd.closest('#notebook-container');\n",
       "if (notebookContainer) {{\n",
       "    x.observe(notebookContainer, {childList: true});\n",
       "}}\n",
       "\n",
       "// Listen for the clearing of the current output cell\n",
       "var outputEl = gd.closest('.output');\n",
       "if (outputEl) {{\n",
       "    x.observe(outputEl, {childList: true});\n",
       "}}\n",
       "\n",
       "                        })\n",
       "                };\n",
       "                });\n",
       "            </script>\n",
       "        </div>"
      ]
     },
     "metadata": {},
     "output_type": "display_data"
    }
   ],
   "source": [
    "cardinality_df = query_renderer.get_cardinality_df(query, con_str=con_str)\n",
    "query_renderer.vizualize(cardinality_df, title=\"Identifying performance bottlenecks in a single query\", metrics=[\"actual_rows\"], open_=False)"
   ]
  },
  {
   "cell_type": "code",
   "execution_count": 22,
   "metadata": {},
   "outputs": [
    {
     "data": {
      "text/html": [
       "<div>\n",
       "<style scoped>\n",
       "    .dataframe tbody tr th:only-of-type {\n",
       "        vertical-align: middle;\n",
       "    }\n",
       "\n",
       "    .dataframe tbody tr th {\n",
       "        vertical-align: top;\n",
       "    }\n",
       "\n",
       "    .dataframe thead th {\n",
       "        text-align: right;\n",
       "    }\n",
       "</style>\n",
       "<table border=\"1\" class=\"dataframe\">\n",
       "  <thead>\n",
       "    <tr style=\"text-align: right;\">\n",
       "      <th></th>\n",
       "      <th>source</th>\n",
       "      <th>target</th>\n",
       "      <th>operation_type</th>\n",
       "      <th>total_cost</th>\n",
       "      <th>actual_total_time</th>\n",
       "      <th>plan_rows</th>\n",
       "      <th>actual_startup_time</th>\n",
       "      <th>shared_hit_blocks</th>\n",
       "      <th>local_read_blocks</th>\n",
       "      <th>plan_width</th>\n",
       "      <th>...</th>\n",
       "      <th>shared_read_blocks</th>\n",
       "      <th>label</th>\n",
       "      <th>label_metadata</th>\n",
       "      <th>actual_duration</th>\n",
       "      <th>estimated_cost</th>\n",
       "      <th>actual_startup_duration</th>\n",
       "      <th>redundent_operation</th>\n",
       "      <th>actual_duration_pct</th>\n",
       "      <th>estimated_cost_pct</th>\n",
       "      <th>actual_plan_rows_ratio</th>\n",
       "    </tr>\n",
       "  </thead>\n",
       "  <tbody>\n",
       "    <tr>\n",
       "      <th>0</th>\n",
       "      <td>0</td>\n",
       "      <td>1</td>\n",
       "      <td>Seq Scan</td>\n",
       "      <td>141258.61</td>\n",
       "      <td>962.687</td>\n",
       "      <td>5</td>\n",
       "      <td>202.031</td>\n",
       "      <td>3743</td>\n",
       "      <td>0</td>\n",
       "      <td>10</td>\n",
       "      <td>...</td>\n",
       "      <td>78283</td>\n",
       "      <td>People</td>\n",
       "      <td></td>\n",
       "      <td>962.687</td>\n",
       "      <td>141258.61</td>\n",
       "      <td>202.031</td>\n",
       "      <td>False</td>\n",
       "      <td>100.000000</td>\n",
       "      <td>100.000000</td>\n",
       "      <td>True</td>\n",
       "    </tr>\n",
       "    <tr>\n",
       "      <th>1</th>\n",
       "      <td>1</td>\n",
       "      <td>3</td>\n",
       "      <td>Where</td>\n",
       "      <td>141258.61</td>\n",
       "      <td>962.687</td>\n",
       "      <td>5</td>\n",
       "      <td>202.031</td>\n",
       "      <td>3743</td>\n",
       "      <td>0</td>\n",
       "      <td>10</td>\n",
       "      <td>...</td>\n",
       "      <td>78283</td>\n",
       "      <td>People*</td>\n",
       "      <td>Filter condition: (people.name = ANY ('{\"Owen ...</td>\n",
       "      <td>0.000</td>\n",
       "      <td>0.00</td>\n",
       "      <td>-141056.579</td>\n",
       "      <td>False</td>\n",
       "      <td>0.000000</td>\n",
       "      <td>0.000000</td>\n",
       "      <td>False</td>\n",
       "    </tr>\n",
       "    <tr>\n",
       "      <th>2</th>\n",
       "      <td>2</td>\n",
       "      <td>3</td>\n",
       "      <td>Seq Scan</td>\n",
       "      <td>566508.77</td>\n",
       "      <td>3085.546</td>\n",
       "      <td>17064877</td>\n",
       "      <td>0.072</td>\n",
       "      <td>4290</td>\n",
       "      <td>0</td>\n",
       "      <td>20</td>\n",
       "      <td>...</td>\n",
       "      <td>391570</td>\n",
       "      <td>Crew</td>\n",
       "      <td></td>\n",
       "      <td>3085.546</td>\n",
       "      <td>566508.77</td>\n",
       "      <td>0.072</td>\n",
       "      <td>False</td>\n",
       "      <td>100.000000</td>\n",
       "      <td>100.000000</td>\n",
       "      <td>False</td>\n",
       "    </tr>\n",
       "    <tr>\n",
       "      <th>3</th>\n",
       "      <td>3</td>\n",
       "      <td>6</td>\n",
       "      <td>Hash Join</td>\n",
       "      <td>771760.80</td>\n",
       "      <td>7249.204</td>\n",
       "      <td>21</td>\n",
       "      <td>1078.668</td>\n",
       "      <td>8033</td>\n",
       "      <td>0</td>\n",
       "      <td>10</td>\n",
       "      <td>...</td>\n",
       "      <td>469853</td>\n",
       "      <td>People* ⋈ Crew</td>\n",
       "      <td>Hash Cond ('Inner', '(crew.person_id = people....</td>\n",
       "      <td>4163.658</td>\n",
       "      <td>205252.03</td>\n",
       "      <td>-565430.102</td>\n",
       "      <td>False</td>\n",
       "      <td>57.436072</td>\n",
       "      <td>26.595291</td>\n",
       "      <td>True</td>\n",
       "    </tr>\n",
       "    <tr>\n",
       "      <th>4</th>\n",
       "      <td>4</td>\n",
       "      <td>5</td>\n",
       "      <td>Seq Scan</td>\n",
       "      <td>160668.53</td>\n",
       "      <td>1053.739</td>\n",
       "      <td>616393</td>\n",
       "      <td>0.021</td>\n",
       "      <td>7922</td>\n",
       "      <td>0</td>\n",
       "      <td>10</td>\n",
       "      <td>...</td>\n",
       "      <td>115571</td>\n",
       "      <td>Titles</td>\n",
       "      <td></td>\n",
       "      <td>1053.739</td>\n",
       "      <td>160668.53</td>\n",
       "      <td>0.021</td>\n",
       "      <td>False</td>\n",
       "      <td>100.000000</td>\n",
       "      <td>100.000000</td>\n",
       "      <td>False</td>\n",
       "    </tr>\n",
       "    <tr>\n",
       "      <th>5</th>\n",
       "      <td>5</td>\n",
       "      <td>6</td>\n",
       "      <td>Where</td>\n",
       "      <td>160668.53</td>\n",
       "      <td>1053.739</td>\n",
       "      <td>616393</td>\n",
       "      <td>0.021</td>\n",
       "      <td>7922</td>\n",
       "      <td>0</td>\n",
       "      <td>10</td>\n",
       "      <td>...</td>\n",
       "      <td>115571</td>\n",
       "      <td>Titles*</td>\n",
       "      <td>Filter condition: (titles.genres ~~ '%Comedy%'...</td>\n",
       "      <td>0.000</td>\n",
       "      <td>0.00</td>\n",
       "      <td>-160668.509</td>\n",
       "      <td>False</td>\n",
       "      <td>0.000000</td>\n",
       "      <td>0.000000</td>\n",
       "      <td>False</td>\n",
       "    </tr>\n",
       "    <tr>\n",
       "      <th>6</th>\n",
       "      <td>6</td>\n",
       "      <td>7</td>\n",
       "      <td>Hash Join</td>\n",
       "      <td>934741.09</td>\n",
       "      <td>8420.476</td>\n",
       "      <td>5</td>\n",
       "      <td>7271.636</td>\n",
       "      <td>16126</td>\n",
       "      <td>0</td>\n",
       "      <td>10</td>\n",
       "      <td>...</td>\n",
       "      <td>585424</td>\n",
       "      <td>People* ⋈ Crew ⋈ Titles*</td>\n",
       "      <td>Hash Cond ('Inner', '(titles.title_id = crew.t...</td>\n",
       "      <td>1171.272</td>\n",
       "      <td>162980.29</td>\n",
       "      <td>-764489.164</td>\n",
       "      <td>False</td>\n",
       "      <td>13.909807</td>\n",
       "      <td>17.435875</td>\n",
       "      <td>True</td>\n",
       "    </tr>\n",
       "  </tbody>\n",
       "</table>\n",
       "<p>7 rows × 29 columns</p>\n",
       "</div>"
      ],
      "text/plain": [
       "   source  target operation_type  total_cost  actual_total_time  plan_rows  \\\n",
       "0       0       1       Seq Scan   141258.61            962.687          5   \n",
       "1       1       3          Where   141258.61            962.687          5   \n",
       "2       2       3       Seq Scan   566508.77           3085.546   17064877   \n",
       "3       3       6      Hash Join   771760.80           7249.204         21   \n",
       "4       4       5       Seq Scan   160668.53           1053.739     616393   \n",
       "5       5       6          Where   160668.53           1053.739     616393   \n",
       "6       6       7      Hash Join   934741.09           8420.476          5   \n",
       "\n",
       "   actual_startup_time  shared_hit_blocks  local_read_blocks  plan_width  ...  \\\n",
       "0              202.031               3743                  0          10  ...   \n",
       "1              202.031               3743                  0          10  ...   \n",
       "2                0.072               4290                  0          20  ...   \n",
       "3             1078.668               8033                  0          10  ...   \n",
       "4                0.021               7922                  0          10  ...   \n",
       "5                0.021               7922                  0          10  ...   \n",
       "6             7271.636              16126                  0          10  ...   \n",
       "\n",
       "   shared_read_blocks                     label  \\\n",
       "0               78283                    People   \n",
       "1               78283                   People*   \n",
       "2              391570                      Crew   \n",
       "3              469853            People* ⋈ Crew   \n",
       "4              115571                    Titles   \n",
       "5              115571                   Titles*   \n",
       "6              585424  People* ⋈ Crew ⋈ Titles*   \n",
       "\n",
       "                                      label_metadata  actual_duration  \\\n",
       "0                                                             962.687   \n",
       "1  Filter condition: (people.name = ANY ('{\"Owen ...            0.000   \n",
       "2                                                            3085.546   \n",
       "3  Hash Cond ('Inner', '(crew.person_id = people....         4163.658   \n",
       "4                                                            1053.739   \n",
       "5  Filter condition: (titles.genres ~~ '%Comedy%'...            0.000   \n",
       "6  Hash Cond ('Inner', '(titles.title_id = crew.t...         1171.272   \n",
       "\n",
       "   estimated_cost  actual_startup_duration  redundent_operation  \\\n",
       "0       141258.61                  202.031                False   \n",
       "1            0.00              -141056.579                False   \n",
       "2       566508.77                    0.072                False   \n",
       "3       205252.03              -565430.102                False   \n",
       "4       160668.53                    0.021                False   \n",
       "5            0.00              -160668.509                False   \n",
       "6       162980.29              -764489.164                False   \n",
       "\n",
       "   actual_duration_pct  estimated_cost_pct  actual_plan_rows_ratio  \n",
       "0           100.000000          100.000000                    True  \n",
       "1             0.000000            0.000000                   False  \n",
       "2           100.000000          100.000000                   False  \n",
       "3            57.436072           26.595291                    True  \n",
       "4           100.000000          100.000000                   False  \n",
       "5             0.000000            0.000000                   False  \n",
       "6            13.909807           17.435875                    True  \n",
       "\n",
       "[7 rows x 29 columns]"
      ]
     },
     "execution_count": 22,
     "metadata": {},
     "output_type": "execute_result"
    }
   ],
   "source": [
    "cardinality_df"
   ]
  },
  {
   "cell_type": "code",
   "execution_count": 23,
   "metadata": {},
   "outputs": [
    {
     "data": {
      "application/vnd.plotly.v1+json": {
       "config": {
        "linkText": "Export to plot.ly",
        "plotlyServerURL": "https://plot.ly",
        "showLink": false
       },
       "data": [
        {
         "link": {
          "color": [
           "silver",
           "silver",
           "silver",
           "silver",
           "silver",
           "silver",
           "silver"
          ],
          "label": [
           "",
           "Filter condition: (people.name = ANY ('{\"Owen Wilson\",\"Adam Sandler\",\"Jason Segel\"}'::text[]))",
           "",
           "Hash Cond ('Inner', '(crew.person_id = people.person_id)')",
           "",
           "Filter condition: (titles.genres ~~ '%Comedy%'::text)",
           "Hash Cond ('Inner', '(titles.title_id = crew.title_id)')"
          ],
          "source": [
           0,
           1,
           2,
           3,
           4,
           5,
           6
          ],
          "target": [
           1,
           3,
           3,
           6,
           5,
           6,
           7
          ],
          "value": [
           962,
           1,
           3085,
           4163,
           1053,
           1,
           1171
          ]
         },
         "node": {
          "color": [
           null,
           null,
           null,
           null,
           null,
           null,
           null
          ],
          "label": [
           "People",
           "People*",
           "Crew",
           "People* ⋈ Crew",
           "Titles",
           "Titles*",
           "People* ⋈ Crew ⋈ Titles*"
          ],
          "pad": 200
         },
         "orientation": "h",
         "type": "sankey",
         "valueformat": ",",
         "valuesuffix": [
          " Seconds",
          " Seconds",
          " Seconds",
          " Seconds",
          " Seconds",
          " Seconds",
          " Seconds"
         ]
        }
       ],
       "layout": {
        "font": {
         "size": 10
        },
        "height": 750,
        "title": "Identifying performance bottlenecks in a single query",
        "updatemenus": [
         {
          "buttons": [
           {
            "args": [
             "orientation",
             "h"
            ],
            "label": "Horizontal",
            "method": "restyle"
           },
           {
            "args": [
             "orientation",
             "v"
            ],
            "label": "Vertical",
            "method": "restyle"
           }
          ],
          "y": 0.6
         }
        ]
       }
      },
      "text/html": [
       "<div>\n",
       "        \n",
       "        \n",
       "            <div id=\"89d9b819-6346-45ad-943e-581de98eab22\" class=\"plotly-graph-div\" style=\"height:750px; width:100%;\"></div>\n",
       "            <script type=\"text/javascript\">\n",
       "                require([\"plotly\"], function(Plotly) {\n",
       "                    window.PLOTLYENV=window.PLOTLYENV || {};\n",
       "                    \n",
       "                if (document.getElementById(\"89d9b819-6346-45ad-943e-581de98eab22\")) {\n",
       "                    Plotly.newPlot(\n",
       "                        '89d9b819-6346-45ad-943e-581de98eab22',\n",
       "                        [{\"link\": {\"color\": [\"silver\", \"silver\", \"silver\", \"silver\", \"silver\", \"silver\", \"silver\"], \"label\": [\"\", \"Filter condition: (people.name = ANY ('{\\\"Owen Wilson\\\",\\\"Adam Sandler\\\",\\\"Jason Segel\\\"}'::text[]))\", \"\", \"Hash Cond ('Inner', '(crew.person_id = people.person_id)')\", \"\", \"Filter condition: (titles.genres ~~ '%Comedy%'::text)\", \"Hash Cond ('Inner', '(titles.title_id = crew.title_id)')\"], \"source\": [0, 1, 2, 3, 4, 5, 6], \"target\": [1, 3, 3, 6, 5, 6, 7], \"value\": [962, 1, 3085, 4163, 1053, 1, 1171]}, \"node\": {\"color\": [null, null, null, null, null, null, null], \"label\": [\"People\", \"People*\", \"Crew\", \"People* \\u22c8 Crew\", \"Titles\", \"Titles*\", \"People* \\u22c8 Crew \\u22c8 Titles*\"], \"pad\": 200}, \"orientation\": \"h\", \"type\": \"sankey\", \"valueformat\": \",\", \"valuesuffix\": [\" Seconds\", \" Seconds\", \" Seconds\", \" Seconds\", \" Seconds\", \" Seconds\", \" Seconds\"]}],\n",
       "                        {\"font\": {\"size\": 10}, \"height\": 750, \"title\": \"Identifying performance bottlenecks in a single query\", \"updatemenus\": [{\"buttons\": [{\"args\": [\"orientation\", \"h\"], \"label\": \"Horizontal\", \"method\": \"restyle\"}, {\"args\": [\"orientation\", \"v\"], \"label\": \"Vertical\", \"method\": \"restyle\"}], \"y\": 0.6}]},\n",
       "                        {\"responsive\": true}\n",
       "                    ).then(function(){\n",
       "                            \n",
       "var gd = document.getElementById('89d9b819-6346-45ad-943e-581de98eab22');\n",
       "var x = new MutationObserver(function (mutations, observer) {{\n",
       "        var display = window.getComputedStyle(gd).display;\n",
       "        if (!display || display === 'none') {{\n",
       "            console.log([gd, 'removed!']);\n",
       "            Plotly.purge(gd);\n",
       "            observer.disconnect();\n",
       "        }}\n",
       "}});\n",
       "\n",
       "// Listen for the removal of the full notebook cells\n",
       "var notebookContainer = gd.closest('#notebook-container');\n",
       "if (notebookContainer) {{\n",
       "    x.observe(notebookContainer, {childList: true});\n",
       "}}\n",
       "\n",
       "// Listen for the clearing of the current output cell\n",
       "var outputEl = gd.closest('.output');\n",
       "if (outputEl) {{\n",
       "    x.observe(outputEl, {childList: true});\n",
       "}}\n",
       "\n",
       "                        })\n",
       "                };\n",
       "                });\n",
       "            </script>\n",
       "        </div>"
      ]
     },
     "metadata": {},
     "output_type": "display_data"
    }
   ],
   "source": [
    "query_renderer.vizualize(cardinality_df, title=\"Identifying performance bottlenecks in a single query\", metrics=[\"actual_duration\"], open_=False)"
   ]
  },
  {
   "cell_type": "code",
   "execution_count": 24,
   "metadata": {},
   "outputs": [],
   "source": [
    "with create_engine(con_str).connect() as con:\n",
    "    execution_plan = con.execute(\"CREATE INDEX if not exists crew_index ON crew(person_id)\")"
   ]
  },
  {
   "cell_type": "code",
   "execution_count": 25,
   "metadata": {},
   "outputs": [
    {
     "data": {
      "application/vnd.plotly.v1+json": {
       "config": {
        "linkText": "Export to plot.ly",
        "plotlyServerURL": "https://plot.ly",
        "showLink": false
       },
       "data": [
        {
         "link": {
          "color": [
           "silver",
           "silver",
           "silver",
           "silver",
           "silver",
           "silver",
           "silver"
          ],
          "label": [
           "",
           "",
           "Filter condition: (people.name = ANY ('{\"Owen Wilson\",\"Adam Sandler\",\"Jason Segel\"}'::text[]))",
           "",
           "",
           "Filter condition: (titles.genres ~~ '%Comedy%'::text)",
           "Hash Cond ('Inner', '(titles.title_id = crew.title_id)')"
          ],
          "source": [
           0,
           1,
           2,
           3,
           4,
           5,
           6
          ],
          "target": [
           3,
           2,
           3,
           6,
           5,
           6,
           7
          ],
          "value": [
           3,
           1098,
           1,
           10,
           1050,
           1,
           1203
          ]
         },
         "node": {
          "color": [
           null,
           null,
           null,
           null,
           null,
           null,
           null
          ],
          "label": [
           "Crew_Index",
           "People",
           "People*",
           "Crew_Index ⋈ People*",
           "Titles",
           "Titles*",
           "Crew_Index ⋈ People* ⋈ Titles*"
          ],
          "pad": 200
         },
         "orientation": "h",
         "type": "sankey",
         "valueformat": ",",
         "valuesuffix": [
          " Seconds",
          " Seconds",
          " Seconds",
          " Seconds",
          " Seconds",
          " Seconds",
          " Seconds"
         ]
        }
       ],
       "layout": {
        "font": {
         "size": 10
        },
        "height": 750,
        "title": "Identifying performance bottlenecks in a single query",
        "updatemenus": [
         {
          "buttons": [
           {
            "args": [
             "orientation",
             "h"
            ],
            "label": "Horizontal",
            "method": "restyle"
           },
           {
            "args": [
             "orientation",
             "v"
            ],
            "label": "Vertical",
            "method": "restyle"
           }
          ],
          "y": 0.6
         }
        ]
       }
      },
      "text/html": [
       "<div>\n",
       "        \n",
       "        \n",
       "            <div id=\"3b83e1b6-47ec-4503-9426-315bc8e2d472\" class=\"plotly-graph-div\" style=\"height:750px; width:100%;\"></div>\n",
       "            <script type=\"text/javascript\">\n",
       "                require([\"plotly\"], function(Plotly) {\n",
       "                    window.PLOTLYENV=window.PLOTLYENV || {};\n",
       "                    \n",
       "                if (document.getElementById(\"3b83e1b6-47ec-4503-9426-315bc8e2d472\")) {\n",
       "                    Plotly.newPlot(\n",
       "                        '3b83e1b6-47ec-4503-9426-315bc8e2d472',\n",
       "                        [{\"link\": {\"color\": [\"silver\", \"silver\", \"silver\", \"silver\", \"silver\", \"silver\", \"silver\"], \"label\": [\"\", \"\", \"Filter condition: (people.name = ANY ('{\\\"Owen Wilson\\\",\\\"Adam Sandler\\\",\\\"Jason Segel\\\"}'::text[]))\", \"\", \"\", \"Filter condition: (titles.genres ~~ '%Comedy%'::text)\", \"Hash Cond ('Inner', '(titles.title_id = crew.title_id)')\"], \"source\": [0, 1, 2, 3, 4, 5, 6], \"target\": [3, 2, 3, 6, 5, 6, 7], \"value\": [3, 1098, 1, 10, 1050, 1, 1203]}, \"node\": {\"color\": [null, null, null, null, null, null, null], \"label\": [\"Crew_Index\", \"People\", \"People*\", \"Crew_Index \\u22c8 People*\", \"Titles\", \"Titles*\", \"Crew_Index \\u22c8 People* \\u22c8 Titles*\"], \"pad\": 200}, \"orientation\": \"h\", \"type\": \"sankey\", \"valueformat\": \",\", \"valuesuffix\": [\" Seconds\", \" Seconds\", \" Seconds\", \" Seconds\", \" Seconds\", \" Seconds\", \" Seconds\"]}],\n",
       "                        {\"font\": {\"size\": 10}, \"height\": 750, \"title\": \"Identifying performance bottlenecks in a single query\", \"updatemenus\": [{\"buttons\": [{\"args\": [\"orientation\", \"h\"], \"label\": \"Horizontal\", \"method\": \"restyle\"}, {\"args\": [\"orientation\", \"v\"], \"label\": \"Vertical\", \"method\": \"restyle\"}], \"y\": 0.6}]},\n",
       "                        {\"responsive\": true}\n",
       "                    ).then(function(){\n",
       "                            \n",
       "var gd = document.getElementById('3b83e1b6-47ec-4503-9426-315bc8e2d472');\n",
       "var x = new MutationObserver(function (mutations, observer) {{\n",
       "        var display = window.getComputedStyle(gd).display;\n",
       "        if (!display || display === 'none') {{\n",
       "            console.log([gd, 'removed!']);\n",
       "            Plotly.purge(gd);\n",
       "            observer.disconnect();\n",
       "        }}\n",
       "}});\n",
       "\n",
       "// Listen for the removal of the full notebook cells\n",
       "var notebookContainer = gd.closest('#notebook-container');\n",
       "if (notebookContainer) {{\n",
       "    x.observe(notebookContainer, {childList: true});\n",
       "}}\n",
       "\n",
       "// Listen for the clearing of the current output cell\n",
       "var outputEl = gd.closest('.output');\n",
       "if (outputEl) {{\n",
       "    x.observe(outputEl, {childList: true});\n",
       "}}\n",
       "\n",
       "                        })\n",
       "                };\n",
       "                });\n",
       "            </script>\n",
       "        </div>"
      ]
     },
     "metadata": {},
     "output_type": "display_data"
    }
   ],
   "source": [
    "cardinality_df = query_renderer.get_cardinality_df(query, con_str=con_str)\n",
    "query_renderer.vizualize(cardinality_df, title=\"Identifying performance bottlenecks in a single query\", metrics=[\"actual_duration\"], open_=False)"
   ]
  },
  {
   "cell_type": "code",
   "execution_count": 26,
   "metadata": {},
   "outputs": [
    {
     "data": {
      "text/html": [
       "<div>\n",
       "<style scoped>\n",
       "    .dataframe tbody tr th:only-of-type {\n",
       "        vertical-align: middle;\n",
       "    }\n",
       "\n",
       "    .dataframe tbody tr th {\n",
       "        vertical-align: top;\n",
       "    }\n",
       "\n",
       "    .dataframe thead th {\n",
       "        text-align: right;\n",
       "    }\n",
       "</style>\n",
       "<table border=\"1\" class=\"dataframe\">\n",
       "  <thead>\n",
       "    <tr style=\"text-align: right;\">\n",
       "      <th></th>\n",
       "      <th>source</th>\n",
       "      <th>target</th>\n",
       "      <th>operation_type</th>\n",
       "      <th>total_cost</th>\n",
       "      <th>actual_total_time</th>\n",
       "      <th>plan_rows</th>\n",
       "      <th>actual_startup_time</th>\n",
       "      <th>shared_hit_blocks</th>\n",
       "      <th>local_read_blocks</th>\n",
       "      <th>plan_width</th>\n",
       "      <th>...</th>\n",
       "      <th>shared_read_blocks</th>\n",
       "      <th>label</th>\n",
       "      <th>label_metadata</th>\n",
       "      <th>actual_duration</th>\n",
       "      <th>estimated_cost</th>\n",
       "      <th>actual_startup_duration</th>\n",
       "      <th>redundent_operation</th>\n",
       "      <th>actual_duration_pct</th>\n",
       "      <th>estimated_cost_pct</th>\n",
       "      <th>actual_plan_rows_ratio</th>\n",
       "    </tr>\n",
       "  </thead>\n",
       "  <tbody>\n",
       "    <tr>\n",
       "      <th>0</th>\n",
       "      <td>0</td>\n",
       "      <td>3</td>\n",
       "      <td>Index Scan</td>\n",
       "      <td>1246.82</td>\n",
       "      <td>3.441</td>\n",
       "      <td>333</td>\n",
       "      <td>0.551</td>\n",
       "      <td>130</td>\n",
       "      <td>0</td>\n",
       "      <td>20</td>\n",
       "      <td>...</td>\n",
       "      <td>1127</td>\n",
       "      <td>Crew_Index</td>\n",
       "      <td></td>\n",
       "      <td>3.441</td>\n",
       "      <td>1246.82</td>\n",
       "      <td>0.551</td>\n",
       "      <td>False</td>\n",
       "      <td>100.000000</td>\n",
       "      <td>100.000000</td>\n",
       "      <td>False</td>\n",
       "    </tr>\n",
       "    <tr>\n",
       "      <th>1</th>\n",
       "      <td>1</td>\n",
       "      <td>2</td>\n",
       "      <td>Seq Scan</td>\n",
       "      <td>141258.61</td>\n",
       "      <td>1098.464</td>\n",
       "      <td>5</td>\n",
       "      <td>78.553</td>\n",
       "      <td>2989</td>\n",
       "      <td>0</td>\n",
       "      <td>10</td>\n",
       "      <td>...</td>\n",
       "      <td>79037</td>\n",
       "      <td>People</td>\n",
       "      <td></td>\n",
       "      <td>1098.464</td>\n",
       "      <td>141258.61</td>\n",
       "      <td>78.553</td>\n",
       "      <td>False</td>\n",
       "      <td>100.000000</td>\n",
       "      <td>100.000000</td>\n",
       "      <td>True</td>\n",
       "    </tr>\n",
       "    <tr>\n",
       "      <th>2</th>\n",
       "      <td>2</td>\n",
       "      <td>3</td>\n",
       "      <td>Where</td>\n",
       "      <td>141258.61</td>\n",
       "      <td>1098.464</td>\n",
       "      <td>5</td>\n",
       "      <td>78.553</td>\n",
       "      <td>2989</td>\n",
       "      <td>0</td>\n",
       "      <td>10</td>\n",
       "      <td>...</td>\n",
       "      <td>79037</td>\n",
       "      <td>People*</td>\n",
       "      <td>Filter condition: (people.name = ANY ('{\"Owen ...</td>\n",
       "      <td>0.000</td>\n",
       "      <td>0.00</td>\n",
       "      <td>-141180.057</td>\n",
       "      <td>False</td>\n",
       "      <td>0.000000</td>\n",
       "      <td>0.000000</td>\n",
       "      <td>False</td>\n",
       "    </tr>\n",
       "    <tr>\n",
       "      <th>3</th>\n",
       "      <td>3</td>\n",
       "      <td>6</td>\n",
       "      <td>Nested Loop</td>\n",
       "      <td>147509.38</td>\n",
       "      <td>1108.926</td>\n",
       "      <td>21</td>\n",
       "      <td>134.493</td>\n",
       "      <td>3119</td>\n",
       "      <td>0</td>\n",
       "      <td>10</td>\n",
       "      <td>...</td>\n",
       "      <td>80164</td>\n",
       "      <td>Crew_Index ⋈ People*</td>\n",
       "      <td></td>\n",
       "      <td>10.462</td>\n",
       "      <td>6250.77</td>\n",
       "      <td>-141124.117</td>\n",
       "      <td>False</td>\n",
       "      <td>0.943435</td>\n",
       "      <td>4.237541</td>\n",
       "      <td>True</td>\n",
       "    </tr>\n",
       "    <tr>\n",
       "      <th>4</th>\n",
       "      <td>4</td>\n",
       "      <td>5</td>\n",
       "      <td>Seq Scan</td>\n",
       "      <td>160668.53</td>\n",
       "      <td>1050.580</td>\n",
       "      <td>616393</td>\n",
       "      <td>0.826</td>\n",
       "      <td>8267</td>\n",
       "      <td>0</td>\n",
       "      <td>10</td>\n",
       "      <td>...</td>\n",
       "      <td>115226</td>\n",
       "      <td>Titles</td>\n",
       "      <td></td>\n",
       "      <td>1050.580</td>\n",
       "      <td>160668.53</td>\n",
       "      <td>0.826</td>\n",
       "      <td>False</td>\n",
       "      <td>100.000000</td>\n",
       "      <td>100.000000</td>\n",
       "      <td>False</td>\n",
       "    </tr>\n",
       "    <tr>\n",
       "      <th>5</th>\n",
       "      <td>5</td>\n",
       "      <td>6</td>\n",
       "      <td>Where</td>\n",
       "      <td>160668.53</td>\n",
       "      <td>1050.580</td>\n",
       "      <td>616393</td>\n",
       "      <td>0.826</td>\n",
       "      <td>8267</td>\n",
       "      <td>0</td>\n",
       "      <td>10</td>\n",
       "      <td>...</td>\n",
       "      <td>115226</td>\n",
       "      <td>Titles*</td>\n",
       "      <td>Filter condition: (titles.genres ~~ '%Comedy%'...</td>\n",
       "      <td>0.000</td>\n",
       "      <td>0.00</td>\n",
       "      <td>-160667.704</td>\n",
       "      <td>False</td>\n",
       "      <td>0.000000</td>\n",
       "      <td>0.000000</td>\n",
       "      <td>False</td>\n",
       "    </tr>\n",
       "    <tr>\n",
       "      <th>6</th>\n",
       "      <td>6</td>\n",
       "      <td>7</td>\n",
       "      <td>Hash Join</td>\n",
       "      <td>310489.66</td>\n",
       "      <td>2312.044</td>\n",
       "      <td>5</td>\n",
       "      <td>1115.795</td>\n",
       "      <td>11477</td>\n",
       "      <td>0</td>\n",
       "      <td>10</td>\n",
       "      <td>...</td>\n",
       "      <td>195390</td>\n",
       "      <td>Crew_Index ⋈ People* ⋈ Titles*</td>\n",
       "      <td>Hash Cond ('Inner', '(titles.title_id = crew.t...</td>\n",
       "      <td>1203.118</td>\n",
       "      <td>149821.13</td>\n",
       "      <td>-159552.735</td>\n",
       "      <td>False</td>\n",
       "      <td>52.036985</td>\n",
       "      <td>48.253179</td>\n",
       "      <td>True</td>\n",
       "    </tr>\n",
       "  </tbody>\n",
       "</table>\n",
       "<p>7 rows × 29 columns</p>\n",
       "</div>"
      ],
      "text/plain": [
       "   source  target operation_type  total_cost  actual_total_time  plan_rows  \\\n",
       "0       0       3     Index Scan     1246.82              3.441        333   \n",
       "1       1       2       Seq Scan   141258.61           1098.464          5   \n",
       "2       2       3          Where   141258.61           1098.464          5   \n",
       "3       3       6    Nested Loop   147509.38           1108.926         21   \n",
       "4       4       5       Seq Scan   160668.53           1050.580     616393   \n",
       "5       5       6          Where   160668.53           1050.580     616393   \n",
       "6       6       7      Hash Join   310489.66           2312.044          5   \n",
       "\n",
       "   actual_startup_time  shared_hit_blocks  local_read_blocks  plan_width  ...  \\\n",
       "0                0.551                130                  0          20  ...   \n",
       "1               78.553               2989                  0          10  ...   \n",
       "2               78.553               2989                  0          10  ...   \n",
       "3              134.493               3119                  0          10  ...   \n",
       "4                0.826               8267                  0          10  ...   \n",
       "5                0.826               8267                  0          10  ...   \n",
       "6             1115.795              11477                  0          10  ...   \n",
       "\n",
       "   shared_read_blocks                           label  \\\n",
       "0                1127                      Crew_Index   \n",
       "1               79037                          People   \n",
       "2               79037                         People*   \n",
       "3               80164            Crew_Index ⋈ People*   \n",
       "4              115226                          Titles   \n",
       "5              115226                         Titles*   \n",
       "6              195390  Crew_Index ⋈ People* ⋈ Titles*   \n",
       "\n",
       "                                      label_metadata  actual_duration  \\\n",
       "0                                                               3.441   \n",
       "1                                                            1098.464   \n",
       "2  Filter condition: (people.name = ANY ('{\"Owen ...            0.000   \n",
       "3                                                              10.462   \n",
       "4                                                            1050.580   \n",
       "5  Filter condition: (titles.genres ~~ '%Comedy%'...            0.000   \n",
       "6  Hash Cond ('Inner', '(titles.title_id = crew.t...         1203.118   \n",
       "\n",
       "   estimated_cost  actual_startup_duration  redundent_operation  \\\n",
       "0         1246.82                    0.551                False   \n",
       "1       141258.61                   78.553                False   \n",
       "2            0.00              -141180.057                False   \n",
       "3         6250.77              -141124.117                False   \n",
       "4       160668.53                    0.826                False   \n",
       "5            0.00              -160667.704                False   \n",
       "6       149821.13              -159552.735                False   \n",
       "\n",
       "   actual_duration_pct  estimated_cost_pct  actual_plan_rows_ratio  \n",
       "0           100.000000          100.000000                   False  \n",
       "1           100.000000          100.000000                    True  \n",
       "2             0.000000            0.000000                   False  \n",
       "3             0.943435            4.237541                    True  \n",
       "4           100.000000          100.000000                   False  \n",
       "5             0.000000            0.000000                   False  \n",
       "6            52.036985           48.253179                    True  \n",
       "\n",
       "[7 rows x 29 columns]"
      ]
     },
     "execution_count": 26,
     "metadata": {},
     "output_type": "execute_result"
    }
   ],
   "source": [
    "cardinality_df"
   ]
  },
  {
   "cell_type": "code",
   "execution_count": 27,
   "metadata": {},
   "outputs": [],
   "source": [
    "with create_engine(con_str).connect() as con:\n",
    "    execution_plan = con.execute(\"DROP INDEX if exists crew_index\")"
   ]
  },
  {
   "cell_type": "code",
   "execution_count": null,
   "metadata": {},
   "outputs": [],
   "source": []
  }
 ],
 "metadata": {
  "kernelspec": {
   "display_name": "Python 3",
   "language": "python",
   "name": "python3"
  },
  "language_info": {
   "codemirror_mode": {
    "name": "ipython",
    "version": 3
   },
   "file_extension": ".py",
   "mimetype": "text/x-python",
   "name": "python",
   "nbconvert_exporter": "python",
   "pygments_lexer": "ipython3",
   "version": "3.7.4"
  }
 },
 "nbformat": 4,
 "nbformat_minor": 4
}
