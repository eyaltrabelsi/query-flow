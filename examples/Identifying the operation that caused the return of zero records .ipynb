{
 "cells": [
  {
   "cell_type": "markdown",
   "metadata": {},
   "source": [
    "# Identifying the operation that caused the return of zero records "
   ]
  },
  {
   "cell_type": "code",
   "execution_count": 3,
   "metadata": {},
   "outputs": [],
   "source": [
    "import json\n",
    "import os\n",
    "import pandas as pd\n",
    "\n",
    "from plotly.offline import init_notebook_mode\n",
    "from sqlalchemy import create_engine\n",
    "\n",
    "from query_flow.parsers.postgres_parser import PostgresParser\n",
    "from query_flow.vizualizers.query_vizualizer import QueryVizualizer"
   ]
  },
  {
   "cell_type": "markdown",
   "metadata": {},
   "source": [
    "**Problems related to missing records are common and finding them tends to be hard for non-experts**. Using QueryFlow we can visualize the cardinality (actual_rows) of the query’s sub-expressions and find the first sub-expression that resulted in an empty result.  This problem can be caused due to either WHERE, JOIN, UNION, or HAVING clauses. In a similar way, we can solve the “why and why not problem”.\n"
   ]
  },
  {
   "cell_type": "markdown",
   "metadata": {},
   "source": [
    "To show an example of identifying missing records, we introduce the following question in TPCH, “find all comedie movies with a few specific actors”. This question is equivalent to the SQL query in next cell, but to make it work without generating the database locally we will use a mock of the execution plan."
   ]
  },
  {
   "cell_type": "code",
   "execution_count": 5,
   "metadata": {},
   "outputs": [
    {
     "data": {
      "application/vnd.plotly.v1+json": {
       "config": {
        "linkText": "Export to plot.ly",
        "plotlyServerURL": "https://plot.ly",
        "showLink": false
       },
       "data": [
        {
         "link": {
          "color": [
           "red",
           "red",
           "red",
           "red",
           "red",
           "red",
           "red",
           "#d9d9d9",
           "red",
           "red",
           "red"
          ],
          "label": [
           "\nDescription: Finds relevant records by sequentially scanning the input record set. When reading from a table, Seq Scans (unlike Index Scans) perform a single read operation (only the table is read).",
           "\nDescription: Filter relation to hold only relevant records.Filter condition: (people.name = ANY ('{\"Owen Wilson\",\"Adam Sandler\",\"Jason Segel\"}'::text[]))",
           "\nDescription: Generates a hash table from the records in the input recordset. Hash is used by Hash Join.",
           "\nDescription: Finds relevant records by sequentially scanning the input record set. When reading from a table, Seq Scans (unlike Index Scans) perform a single read operation (only the table is read).",
           "\nDescription: Joins to record sets by hashing one of them (using a Hash Scan).Inner Join with (crew.person_id = people.person_id)",
           "\nDescription: Collect relevant records from the workers.Workers Planned:2\nWorkers Launched:0\n",
           "\nDescription: ",
           "\nDescription: Finds relevant records by sequentially scanning the input record set. When reading from a table, Seq Scans (unlike Index Scans) perform a single read operation (only the table is read).",
           "\nDescription: Filter relation to hold only relevant records.Filter condition: (titles.genres = 'comedy'::text)",
           "\nDescription: Collect relevant records from the workers.Workers Planned:2\nWorkers Launched:2\n",
           "\nDescription: Merges two record sets by looping through every record in the first set and trying to find a match in the second set. All matching records are returned.Inner Join with (crew.title_id = titles.title_id)"
          ],
          "source": [
           0,
           1,
           2,
           3,
           4,
           5,
           6,
           7,
           8,
           9,
           10
          ],
          "target": [
           1,
           2,
           4,
           4,
           5,
           6,
           10,
           8,
           9,
           10,
           11
          ],
          "value": [
           1,
           1,
           1,
           1,
           1,
           1,
           1,
           2379234,
           1,
           1,
           1
          ]
         },
         "node": {
          "color": [
           "black",
           "black",
           "black",
           "black",
           "black",
           "black",
           "black",
           "black",
           "black",
           "black",
           "black"
          ],
          "label": [
           "People",
           "People*",
           "HASH",
           "Crew",
           "HASH ⋈ Crew",
           "Gather",
           "Materialize",
           "Titles",
           "Titles*",
           "Gather",
           "Materialize ⋈ Gather"
          ],
          "pad": 200
         },
         "orientation": "h",
         "type": "sankey",
         "valueformat": ",",
         "valuesuffix": [
          " Rows",
          " Rows",
          " Rows",
          " Rows",
          " Rows",
          " Rows",
          " Rows",
          " Rows",
          " Rows",
          " Rows",
          " Rows"
         ]
        }
       ],
       "layout": {
        "font": {
         "size": 10
        },
        "height": 2000,
        "title": "Identifying missing records-actual_rows",
        "updatemenus": [
         {
          "buttons": [
           {
            "args": [
             "orientation",
             "v"
            ],
            "label": "Vertical",
            "method": "restyle"
           },
           {
            "args": [
             "orientation",
             "h"
            ],
            "label": "Horizontal",
            "method": "restyle"
           }
          ],
          "y": 0.6
         }
        ]
       }
      },
      "text/html": [
       "<div>\n",
       "        \n",
       "        \n",
       "            <div id=\"a217d81b-021f-4cc5-bb29-a0b2365fb837\" class=\"plotly-graph-div\" style=\"height:2000px; width:100%;\"></div>\n",
       "            <script type=\"text/javascript\">\n",
       "                require([\"plotly\"], function(Plotly) {\n",
       "                    window.PLOTLYENV=window.PLOTLYENV || {};\n",
       "                    \n",
       "                if (document.getElementById(\"a217d81b-021f-4cc5-bb29-a0b2365fb837\")) {\n",
       "                    Plotly.newPlot(\n",
       "                        'a217d81b-021f-4cc5-bb29-a0b2365fb837',\n",
       "                        [{\"link\": {\"color\": [\"red\", \"red\", \"red\", \"red\", \"red\", \"red\", \"red\", \"#d9d9d9\", \"red\", \"red\", \"red\"], \"label\": [\"\\nDescription: Finds relevant records by sequentially scanning the input record set. When reading from a table, Seq Scans (unlike Index Scans) perform a single read operation (only the table is read).\", \"\\nDescription: Filter relation to hold only relevant records.Filter condition: (people.name = ANY ('{\\\"Owen Wilson\\\",\\\"Adam Sandler\\\",\\\"Jason Segel\\\"}'::text[]))\", \"\\nDescription: Generates a hash table from the records in the input recordset. Hash is used by Hash Join.\", \"\\nDescription: Finds relevant records by sequentially scanning the input record set. When reading from a table, Seq Scans (unlike Index Scans) perform a single read operation (only the table is read).\", \"\\nDescription: Joins to record sets by hashing one of them (using a Hash Scan).Inner Join with (crew.person_id = people.person_id)\", \"\\nDescription: Collect relevant records from the workers.Workers Planned:2\\nWorkers Launched:0\\n\", \"\\nDescription: \", \"\\nDescription: Finds relevant records by sequentially scanning the input record set. When reading from a table, Seq Scans (unlike Index Scans) perform a single read operation (only the table is read).\", \"\\nDescription: Filter relation to hold only relevant records.Filter condition: (titles.genres = 'comedy'::text)\", \"\\nDescription: Collect relevant records from the workers.Workers Planned:2\\nWorkers Launched:2\\n\", \"\\nDescription: Merges two record sets by looping through every record in the first set and trying to find a match in the second set. All matching records are returned.Inner Join with (crew.title_id = titles.title_id)\"], \"source\": [0, 1, 2, 3, 4, 5, 6, 7, 8, 9, 10], \"target\": [1, 2, 4, 4, 5, 6, 10, 8, 9, 10, 11], \"value\": [1, 1, 1, 1, 1, 1, 1, 2379234, 1, 1, 1]}, \"node\": {\"color\": [\"black\", \"black\", \"black\", \"black\", \"black\", \"black\", \"black\", \"black\", \"black\", \"black\", \"black\"], \"label\": [\"People\", \"People*\", \"HASH\", \"Crew\", \"HASH \\u22c8 Crew\", \"Gather\", \"Materialize\", \"Titles\", \"Titles*\", \"Gather\", \"Materialize \\u22c8 Gather\"], \"pad\": 200}, \"orientation\": \"h\", \"type\": \"sankey\", \"valueformat\": \",\", \"valuesuffix\": [\" Rows\", \" Rows\", \" Rows\", \" Rows\", \" Rows\", \" Rows\", \" Rows\", \" Rows\", \" Rows\", \" Rows\", \" Rows\"]}],\n",
       "                        {\"font\": {\"size\": 10}, \"height\": 2000, \"title\": \"Identifying missing records-actual_rows\", \"updatemenus\": [{\"buttons\": [{\"args\": [\"orientation\", \"v\"], \"label\": \"Vertical\", \"method\": \"restyle\"}, {\"args\": [\"orientation\", \"h\"], \"label\": \"Horizontal\", \"method\": \"restyle\"}], \"y\": 0.6}]},\n",
       "                        {\"responsive\": true}\n",
       "                    ).then(function(){\n",
       "                            \n",
       "var gd = document.getElementById('a217d81b-021f-4cc5-bb29-a0b2365fb837');\n",
       "var x = new MutationObserver(function (mutations, observer) {{\n",
       "        var display = window.getComputedStyle(gd).display;\n",
       "        if (!display || display === 'none') {{\n",
       "            console.log([gd, 'removed!']);\n",
       "            Plotly.purge(gd);\n",
       "            observer.disconnect();\n",
       "        }}\n",
       "}});\n",
       "\n",
       "// Listen for the removal of the full notebook cells\n",
       "var notebookContainer = gd.closest('#notebook-container');\n",
       "if (notebookContainer) {{\n",
       "    x.observe(notebookContainer, {childList: true});\n",
       "}}\n",
       "\n",
       "// Listen for the clearing of the current output cell\n",
       "var outputEl = gd.closest('.output');\n",
       "if (outputEl) {{\n",
       "    x.observe(outputEl, {childList: true});\n",
       "}}\n",
       "\n",
       "                        })\n",
       "                };\n",
       "                });\n",
       "            </script>\n",
       "        </div>"
      ]
     },
     "metadata": {},
     "output_type": "display_data"
    }
   ],
   "source": [
    "con_str = 'postgresql:///etrabelsi_thesis'\n",
    "parser = PostgresParser()                                 \n",
    "query_renderer = QueryVizualizer(parser)\n",
    "query =\"\"\"\n",
    "SELECT titles.title_id\n",
    "FROM titles\n",
    "INNER JOIN crew ON crew.title_id = titles.title_id\n",
    "INNER JOIN people ON people.person_id = crew.person_id\n",
    "WHERE genres like '%comedy%'\n",
    "  AND name in ('Owen Wilson', 'Adam Sandler', 'Jason Segel')\n",
    "\"\"\"\n",
    "\n",
    "if os.environ.get(\"NOT_MOCK\"):\n",
    "    flow_df = query_renderer.get_flow_df(query, con_str)    \n",
    "else:\n",
    "    mock_path = f'../tests/parsers/data/postgres/parse/missing_records/execution_plan.json'\n",
    "    flow_df = parser.parse([json.loads(open(mock_path).read())])\n",
    "\n",
    "query_renderer.vizualize(flow_df, title=\"Identifying missing records\", metrics=[\"actual_rows\"], open_=False)"
   ]
  },
  {
   "cell_type": "markdown",
   "metadata": {},
   "source": [
    "Using the Sankey visualization, we can see that we got an empty result set in the People* ⋈ Crew ⋈ Title* relation, and we can see the origin of the empty result in the Title* relation as it is red, and the Title link is gray. "
   ]
  },
  {
   "cell_type": "code",
   "execution_count": null,
   "metadata": {},
   "outputs": [],
   "source": []
  }
 ],
 "metadata": {
  "kernelspec": {
   "display_name": "Python 3 (ipykernel)",
   "language": "python",
   "name": "python3"
  },
  "language_info": {
   "codemirror_mode": {
    "name": "ipython",
    "version": 3
   },
   "file_extension": ".py",
   "mimetype": "text/x-python",
   "name": "python",
   "nbconvert_exporter": "python",
   "pygments_lexer": "ipython3",
   "version": "3.7.13"
  }
 },
 "nbformat": 4,
 "nbformat_minor": 4
}
