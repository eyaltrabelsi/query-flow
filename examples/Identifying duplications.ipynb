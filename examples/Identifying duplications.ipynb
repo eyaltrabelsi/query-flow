{
 "cells": [
  {
   "cell_type": "markdown",
   "metadata": {},
   "source": [
    "# Identifying duplications"
   ]
  },
  {
   "cell_type": "code",
   "execution_count": 1,
   "metadata": {},
   "outputs": [],
   "source": [
    "import json\n",
    "import os\n",
    "import pandas as pd\n",
    "\n",
    "from plotly.offline import init_notebook_mode\n",
    "from sqlalchemy import create_engine\n",
    "\n",
    "from query_flow.parsers.postgres_parser import PostgresParser\n",
    "from query_flow.vizualizers.query_vizualizer import QueryVizualizer"
   ]
  },
  {
   "cell_type": "markdown",
   "metadata": {},
   "source": [
    "**Problems related to duplicate entries are common and finding them is extremely hard.** By using QueryFlow to visualize the cardinality of sub-expressions of our query, we can find duplications. This problem can be caused due to either JOIN, UNION ALL, etc. "
   ]
  },
  {
   "cell_type": "markdown",
   "metadata": {},
   "source": [
    "To show an example of identifying duplications, we introduce the following question in TPCH, “find all movies with genres that are safe for kids from the last two years”. This question is equivalent to the SQL query in next cell, but to make it work without generating the database locally we will use a mock of the execution plan."
   ]
  },
  {
   "cell_type": "code",
   "execution_count": 3,
   "metadata": {},
   "outputs": [
    {
     "data": {
      "application/vnd.plotly.v1+json": {
       "config": {
        "linkText": "Export to plot.ly",
        "plotlyServerURL": "https://plot.ly",
        "showLink": false
       },
       "data": [
        {
         "link": {
          "color": [
           "#d9d9d9",
           "#d9d9d9",
           "#d9d9d9",
           "#d9d9d9",
           "#d9d9d9",
           "#d9d9d9"
          ],
          "label": [
           "\nDescription: Finds relevant records by sequentially scanning the input record set. When reading from a table, Seq Scans (unlike Index Scans) perform a single read operation (only the table is read).",
           "\nDescription: Filter relation to hold only relevant records.Filter condition: generes.kid_safe",
           "\nDescription: ",
           "\nDescription: Finds relevant records by sequentially scanning the input record set. When reading from a table, Seq Scans (unlike Index Scans) perform a single read operation (only the table is read).",
           "\nDescription: Filter relation to hold only relevant records.Filter condition: (titles.premiered >= (date_part('year'::text, (CURRENT_DATE)::timestamp without time zone) - '2'::double precision))",
           "\nDescription: Merges two record sets by looping through every record in the first set and trying to find a match in the second set. All matching records are returned.Inner Join with (\"position\"(titles.genres, generes.genere_name) > 0)"
          ],
          "source": [
           0,
           1,
           2,
           3,
           4,
           5
          ],
          "target": [
           1,
           2,
           5,
           4,
           5,
           6
          ],
          "value": [
           29,
           27,
           27,
           7137701,
           911257,
           1338247
          ]
         },
         "node": {
          "color": [
           "black",
           "black",
           "black",
           "black",
           "black",
           "black"
          ],
          "label": [
           "Generes",
           "Generes*",
           "Materialize",
           "Titles",
           "Titles*",
           "Materialize ⋈ Titles*"
          ],
          "pad": 200
         },
         "orientation": "h",
         "type": "sankey",
         "valueformat": ",",
         "valuesuffix": [
          " Rows",
          " Rows",
          " Rows",
          " Rows",
          " Rows",
          " Rows"
         ]
        }
       ],
       "layout": {
        "font": {
         "size": 10
        },
        "height": 2000,
        "title": "Identifying duplications-actual_rows",
        "updatemenus": [
         {
          "buttons": [
           {
            "args": [
             "orientation",
             "v"
            ],
            "label": "Vertical",
            "method": "restyle"
           },
           {
            "args": [
             "orientation",
             "h"
            ],
            "label": "Horizontal",
            "method": "restyle"
           }
          ],
          "y": 0.6
         }
        ]
       }
      },
      "text/html": [
       "<div>\n",
       "        \n",
       "        \n",
       "            <div id=\"5dd742f6-4712-456e-ac95-d43a9a197c0e\" class=\"plotly-graph-div\" style=\"height:2000px; width:100%;\"></div>\n",
       "            <script type=\"text/javascript\">\n",
       "                require([\"plotly\"], function(Plotly) {\n",
       "                    window.PLOTLYENV=window.PLOTLYENV || {};\n",
       "                    \n",
       "                if (document.getElementById(\"5dd742f6-4712-456e-ac95-d43a9a197c0e\")) {\n",
       "                    Plotly.newPlot(\n",
       "                        '5dd742f6-4712-456e-ac95-d43a9a197c0e',\n",
       "                        [{\"link\": {\"color\": [\"#d9d9d9\", \"#d9d9d9\", \"#d9d9d9\", \"#d9d9d9\", \"#d9d9d9\", \"#d9d9d9\"], \"label\": [\"\\nDescription: Finds relevant records by sequentially scanning the input record set. When reading from a table, Seq Scans (unlike Index Scans) perform a single read operation (only the table is read).\", \"\\nDescription: Filter relation to hold only relevant records.Filter condition: generes.kid_safe\", \"\\nDescription: \", \"\\nDescription: Finds relevant records by sequentially scanning the input record set. When reading from a table, Seq Scans (unlike Index Scans) perform a single read operation (only the table is read).\", \"\\nDescription: Filter relation to hold only relevant records.Filter condition: (titles.premiered >= (date_part('year'::text, (CURRENT_DATE)::timestamp without time zone) - '2'::double precision))\", \"\\nDescription: Merges two record sets by looping through every record in the first set and trying to find a match in the second set. All matching records are returned.Inner Join with (\\\"position\\\"(titles.genres, generes.genere_name) > 0)\"], \"source\": [0, 1, 2, 3, 4, 5], \"target\": [1, 2, 5, 4, 5, 6], \"value\": [29, 27, 27, 7137701, 911257, 1338247]}, \"node\": {\"color\": [\"black\", \"black\", \"black\", \"black\", \"black\", \"black\"], \"label\": [\"Generes\", \"Generes*\", \"Materialize\", \"Titles\", \"Titles*\", \"Materialize \\u22c8 Titles*\"], \"pad\": 200}, \"orientation\": \"h\", \"type\": \"sankey\", \"valueformat\": \",\", \"valuesuffix\": [\" Rows\", \" Rows\", \" Rows\", \" Rows\", \" Rows\", \" Rows\"]}],\n",
       "                        {\"font\": {\"size\": 10}, \"height\": 2000, \"title\": \"Identifying duplications-actual_rows\", \"updatemenus\": [{\"buttons\": [{\"args\": [\"orientation\", \"v\"], \"label\": \"Vertical\", \"method\": \"restyle\"}, {\"args\": [\"orientation\", \"h\"], \"label\": \"Horizontal\", \"method\": \"restyle\"}], \"y\": 0.6}]},\n",
       "                        {\"responsive\": true}\n",
       "                    ).then(function(){\n",
       "                            \n",
       "var gd = document.getElementById('5dd742f6-4712-456e-ac95-d43a9a197c0e');\n",
       "var x = new MutationObserver(function (mutations, observer) {{\n",
       "        var display = window.getComputedStyle(gd).display;\n",
       "        if (!display || display === 'none') {{\n",
       "            console.log([gd, 'removed!']);\n",
       "            Plotly.purge(gd);\n",
       "            observer.disconnect();\n",
       "        }}\n",
       "}});\n",
       "\n",
       "// Listen for the removal of the full notebook cells\n",
       "var notebookContainer = gd.closest('#notebook-container');\n",
       "if (notebookContainer) {{\n",
       "    x.observe(notebookContainer, {childList: true});\n",
       "}}\n",
       "\n",
       "// Listen for the clearing of the current output cell\n",
       "var outputEl = gd.closest('.output');\n",
       "if (outputEl) {{\n",
       "    x.observe(outputEl, {childList: true});\n",
       "}}\n",
       "\n",
       "                        })\n",
       "                };\n",
       "                });\n",
       "            </script>\n",
       "        </div>"
      ]
     },
     "metadata": {},
     "output_type": "display_data"
    }
   ],
   "source": [
    "con_str = 'postgresql:///etrabelsi_thesis'\n",
    "parser = PostgresParser()\n",
    "query_renderer = QueryVizualizer(parser)\n",
    "query = \"\"\"\n",
    "        SELECT *\n",
    "        FROM titles\n",
    "        INNER JOIN generes\n",
    "                ON position(generes.genere_name in titles.genres) > 0\n",
    "        WHERE titles.premiered >= date_part('year', CURRENT_DATE) - 2 AND\n",
    "              generes.kid_safe = True\"\"\"\n",
    "if os.environ.get(\"NOT_MOCK\"):\n",
    "    flow_df = query_renderer.get_flow_df(query, con_str)    \n",
    "else:\n",
    "    mock_path = f'../tests/parsers/data/postgres/parse/identify_duplications/execution_plan.json'\n",
    "    flow_df = parser.parse([json.loads(open(mock_path).read())])\n",
    "\n",
    "query_renderer.vizualize(flow_df, title=\"Identifying duplications\", metrics=[\"actual_rows\"], open_=False)"
   ]
  },
  {
   "cell_type": "markdown",
   "metadata": {},
   "source": [
    "**Using the Sankey visualization, we can see that the Join sub-expression is exploding (it is bigger than its direct ancestor and we expected one-to-one relationship)**. The explosion occurs when a title has multiple genres (Comedy, Action) and we want to join the genres relation (each row represents only one genres). This allows us to understand if the JOIN condition is wrong and causes duplications and we can fix it.\n"
   ]
  }
 ],
 "metadata": {
  "kernelspec": {
   "display_name": "Python 3 (ipykernel)",
   "language": "python",
   "name": "python3"
  },
  "language_info": {
   "codemirror_mode": {
    "name": "ipython",
    "version": 3
   },
   "file_extension": ".py",
   "mimetype": "text/x-python",
   "name": "python",
   "nbconvert_exporter": "python",
   "pygments_lexer": "ipython3",
   "version": "3.7.13"
  }
 },
 "nbformat": 4,
 "nbformat_minor": 4
}
