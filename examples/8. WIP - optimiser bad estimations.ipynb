{
 "cells": [
  {
   "cell_type": "code",
   "execution_count": 1,
   "metadata": {},
   "outputs": [],
   "source": [
    "from plotly.offline import init_notebook_mode\n",
    "from sqlalchemy import create_engine\n",
    "\n",
    "from query_flow.parsers.postgres_parser import PostgresParser\n",
    "from query_flow.vizualizers.query_vizualizer import QueryVizualizer"
   ]
  },
  {
   "cell_type": "code",
   "execution_count": 2,
   "metadata": {},
   "outputs": [
    {
     "data": {
      "text/html": [
       "        <script type=\"text/javascript\">\n",
       "        window.PlotlyConfig = {MathJaxConfig: 'local'};\n",
       "        if (window.MathJax) {MathJax.Hub.Config({SVG: {font: \"STIX-Web\"}});}\n",
       "        if (typeof require !== 'undefined') {\n",
       "        require.undef(\"plotly\");\n",
       "        requirejs.config({\n",
       "            paths: {\n",
       "                'plotly': ['https://cdn.plot.ly/plotly-latest.min']\n",
       "            }\n",
       "        });\n",
       "        require(['plotly'], function(Plotly) {\n",
       "            window._Plotly = Plotly;\n",
       "        });\n",
       "        }\n",
       "        </script>\n",
       "        "
      ]
     },
     "metadata": {},
     "output_type": "display_data"
    }
   ],
   "source": [
    "%load_ext autoreload\n",
    "%autoreload 2\n",
    "\n",
    "init_notebook_mode(connected=True)"
   ]
  },
  {
   "cell_type": "code",
   "execution_count": 3,
   "metadata": {},
   "outputs": [],
   "source": [
    "con_str = 'postgresql:///etrabelsi_thesis'\n"
   ]
  },
  {
   "cell_type": "markdown",
   "metadata": {},
   "source": [
    "## Bad estimation for query 1"
   ]
  },
  {
   "cell_type": "code",
   "execution_count": 4,
   "metadata": {},
   "outputs": [
    {
     "ename": "AttributeError",
     "evalue": "'QueryVizualizer' object has no attribute 'defualt_colors'",
     "output_type": "error",
     "traceback": [
      "\u001b[0;31m---------------------------------------------------------------------------\u001b[0m",
      "\u001b[0;31mAttributeError\u001b[0m                            Traceback (most recent call last)",
      "\u001b[0;32m<ipython-input-4-21eed3be786b>\u001b[0m in \u001b[0;36m<module>\u001b[0;34m\u001b[0m\n\u001b[0;32m----> 1\u001b[0;31m \u001b[0mquery_renderer\u001b[0m \u001b[0;34m=\u001b[0m \u001b[0mQueryVizualizer\u001b[0m\u001b[0;34m(\u001b[0m\u001b[0mparser\u001b[0m\u001b[0;34m=\u001b[0m\u001b[0mPostgresParser\u001b[0m\u001b[0;34m(\u001b[0m\u001b[0mexplain_prefix\u001b[0m\u001b[0;34m=\u001b[0m\u001b[0;34m\"EXPLAIN(ANALYZE, COSTS, FORMAT JSON)\"\u001b[0m\u001b[0;34m)\u001b[0m\u001b[0;34m)\u001b[0m\u001b[0;34m\u001b[0m\u001b[0;34m\u001b[0m\u001b[0m\n\u001b[0m",
      "\u001b[0;32m~/IdeaProjects/thesis/query_flow/vizualizers/query_vizualizer.py\u001b[0m in \u001b[0;36m__init__\u001b[0;34m(self, parser, config_path)\u001b[0m\n\u001b[1;32m     41\u001b[0m \u001b[0;34m\u001b[0m\u001b[0m\n\u001b[1;32m     42\u001b[0m     \u001b[0;32mdef\u001b[0m \u001b[0m__init__\u001b[0m\u001b[0;34m(\u001b[0m\u001b[0mself\u001b[0m\u001b[0;34m,\u001b[0m \u001b[0mparser\u001b[0m\u001b[0;34m,\u001b[0m \u001b[0mconfig_path\u001b[0m\u001b[0;34m=\u001b[0m\u001b[0;34m\"example_config\"\u001b[0m\u001b[0;34m)\u001b[0m\u001b[0;34m:\u001b[0m\u001b[0;34m\u001b[0m\u001b[0;34m\u001b[0m\u001b[0m\n\u001b[0;32m---> 43\u001b[0;31m         \u001b[0msuper\u001b[0m\u001b[0;34m(\u001b[0m\u001b[0;34m)\u001b[0m\u001b[0;34m.\u001b[0m\u001b[0m__init__\u001b[0m\u001b[0;34m(\u001b[0m\u001b[0mconfig_path\u001b[0m\u001b[0;34m)\u001b[0m\u001b[0;34m\u001b[0m\u001b[0;34m\u001b[0m\u001b[0m\n\u001b[0m\u001b[1;32m     44\u001b[0m         \u001b[0mself\u001b[0m\u001b[0;34m.\u001b[0m\u001b[0mparser\u001b[0m \u001b[0;34m=\u001b[0m \u001b[0mparser\u001b[0m\u001b[0;34m\u001b[0m\u001b[0;34m\u001b[0m\u001b[0m\n\u001b[1;32m     45\u001b[0m \u001b[0;34m\u001b[0m\u001b[0m\n",
      "\u001b[0;32m~/IdeaProjects/thesis/query_flow/vizualizers/dataframe_sankey_vizualizer.py\u001b[0m in \u001b[0;36m__init__\u001b[0;34m(self, config_path)\u001b[0m\n\u001b[1;32m     16\u001b[0m \u001b[0;34m\u001b[0m\u001b[0m\n\u001b[1;32m     17\u001b[0m     \u001b[0;32mdef\u001b[0m \u001b[0m__init__\u001b[0m\u001b[0;34m(\u001b[0m\u001b[0mself\u001b[0m\u001b[0;34m,\u001b[0m \u001b[0mconfig_path\u001b[0m\u001b[0;34m=\u001b[0m\u001b[0;34m'example_config.json'\u001b[0m\u001b[0;34m)\u001b[0m\u001b[0;34m:\u001b[0m\u001b[0;34m\u001b[0m\u001b[0;34m\u001b[0m\u001b[0m\n\u001b[0;32m---> 18\u001b[0;31m         \u001b[0mself\u001b[0m\u001b[0;34m.\u001b[0m\u001b[0mconfig\u001b[0m \u001b[0;34m=\u001b[0m \u001b[0mself\u001b[0m\u001b[0;34m.\u001b[0m\u001b[0m_parse_config\u001b[0m\u001b[0;34m(\u001b[0m\u001b[0mconfig_path\u001b[0m\u001b[0;34m)\u001b[0m\u001b[0;34m\u001b[0m\u001b[0;34m\u001b[0m\u001b[0m\n\u001b[0m\u001b[1;32m     19\u001b[0m \u001b[0;34m\u001b[0m\u001b[0m\n\u001b[1;32m     20\u001b[0m     \u001b[0;34m@\u001b[0m\u001b[0mproperty\u001b[0m\u001b[0;34m\u001b[0m\u001b[0;34m\u001b[0m\u001b[0m\n",
      "\u001b[0;32m~/IdeaProjects/thesis/query_flow/vizualizers/dataframe_sankey_vizualizer.py\u001b[0m in \u001b[0;36m_parse_config\u001b[0;34m(self, config_path)\u001b[0m\n\u001b[1;32m     52\u001b[0m             \u001b[0;32mif\u001b[0m \u001b[0mextra_config\u001b[0m\u001b[0;34m.\u001b[0m\u001b[0mget\u001b[0m\u001b[0;34m(\u001b[0m\u001b[0mkey\u001b[0m\u001b[0;34m,\u001b[0m \u001b[0;32mNone\u001b[0m\u001b[0;34m)\u001b[0m\u001b[0;34m:\u001b[0m\u001b[0;34m\u001b[0m\u001b[0;34m\u001b[0m\u001b[0m\n\u001b[1;32m     53\u001b[0m                 \u001b[0mself\u001b[0m\u001b[0;34m.\u001b[0m\u001b[0mdefualt_colors\u001b[0m\u001b[0;34m[\u001b[0m\u001b[0mkey\u001b[0m\u001b[0;34m]\u001b[0m \u001b[0;34m=\u001b[0m \u001b[0mextra_config\u001b[0m\u001b[0;34m[\u001b[0m\u001b[0mkey\u001b[0m\u001b[0;34m]\u001b[0m\u001b[0;34m\u001b[0m\u001b[0;34m\u001b[0m\u001b[0m\n\u001b[0;32m---> 54\u001b[0;31m         \u001b[0;32mreturn\u001b[0m \u001b[0mself\u001b[0m\u001b[0;34m.\u001b[0m\u001b[0mdefualt_colors\u001b[0m\u001b[0;34m\u001b[0m\u001b[0;34m\u001b[0m\u001b[0m\n\u001b[0m\u001b[1;32m     55\u001b[0m \u001b[0;34m\u001b[0m\u001b[0m\n\u001b[1;32m     56\u001b[0m     \u001b[0;32mdef\u001b[0m \u001b[0mvizualize\u001b[0m\u001b[0;34m(\u001b[0m\u001b[0mself\u001b[0m\u001b[0;34m,\u001b[0m \u001b[0mdfs\u001b[0m\u001b[0;34m,\u001b[0m \u001b[0mmetrics\u001b[0m\u001b[0;34m,\u001b[0m \u001b[0mtitle\u001b[0m\u001b[0;34m,\u001b[0m \u001b[0mopen_\u001b[0m\u001b[0;34m=\u001b[0m\u001b[0;32mTrue\u001b[0m\u001b[0;34m)\u001b[0m\u001b[0;34m:\u001b[0m\u001b[0;34m\u001b[0m\u001b[0;34m\u001b[0m\u001b[0m\n",
      "\u001b[0;31mAttributeError\u001b[0m: 'QueryVizualizer' object has no attribute 'defualt_colors'"
     ]
    }
   ],
   "source": [
    "query_renderer = QueryVizualizer(parser=PostgresParser(explain_prefix=\"EXPLAIN(ANALYZE, COSTS, FORMAT JSON)\"))"
   ]
  },
  {
   "cell_type": "code",
   "execution_count": 5,
   "metadata": {},
   "outputs": [],
   "source": [
    "query =\"\"\"\n",
    "SELECT titles.title_id\n",
    "FROM titles\n",
    "INNER JOIN crew ON crew.title_id = titles.title_id\n",
    "INNER JOIN people ON people.person_id = crew.person_id\n",
    "WHERE genres like '%Comedy%' \n",
    "  AND name in ('Owen Wilson', 'Adam Sandler', 'Jason Segel')\n",
    "\"\"\""
   ]
  },
  {
   "cell_type": "code",
   "execution_count": 6,
   "metadata": {},
   "outputs": [
    {
     "ename": "NameError",
     "evalue": "name 'query_renderer' is not defined",
     "output_type": "error",
     "traceback": [
      "\u001b[0;31m---------------------------------------------------------------------------\u001b[0m",
      "\u001b[0;31mNameError\u001b[0m                                 Traceback (most recent call last)",
      "\u001b[0;32m<ipython-input-6-1b80e1203aa9>\u001b[0m in \u001b[0;36m<module>\u001b[0;34m\u001b[0m\n\u001b[0;32m----> 1\u001b[0;31m \u001b[0mquery_renderer\u001b[0m\u001b[0;34m.\u001b[0m\u001b[0mparser\u001b[0m\u001b[0;34m.\u001b[0m\u001b[0mfrom_query\u001b[0m\u001b[0;34m(\u001b[0m\u001b[0mquery\u001b[0m\u001b[0;34m,\u001b[0m \u001b[0mcon_str\u001b[0m\u001b[0;34m)\u001b[0m\u001b[0;34m\u001b[0m\u001b[0;34m\u001b[0m\u001b[0m\n\u001b[0m",
      "\u001b[0;31mNameError\u001b[0m: name 'query_renderer' is not defined"
     ]
    }
   ],
   "source": [
    "query_renderer.parser.from_query(query, con_str)"
   ]
  },
  {
   "cell_type": "code",
   "execution_count": 8,
   "metadata": {},
   "outputs": [],
   "source": [
    "cardinality_df = query_renderer.get_cardinality_df(query, con_str=con_str)"
   ]
  },
  {
   "cell_type": "code",
   "execution_count": 9,
   "metadata": {},
   "outputs": [
    {
     "data": {
      "application/vnd.plotly.v1+json": {
       "config": {
        "linkText": "Export to plot.ly",
        "plotlyServerURL": "https://plot.ly",
        "showLink": false
       },
       "data": [
        {
         "link": {
          "color": [
           "gainsboro",
           "gainsboro",
           "gainsboro",
           "gainsboro",
           "gainsboro",
           "gainsboro",
           "gainsboro",
           "darkgray",
           "darkgray",
           "darkgray",
           "darkgray",
           "darkgray",
           "darkgray",
           "darkgray"
          ],
          "label": [
           "",
           "Filter condition: (people.name = ANY ('{\"Owen Wilson\",\"Adam Sandler\",\"Jason Segel\"}'::text[]))",
           "",
           "Hash Cond ('Inner', '(crew.person_id = people.person_id)')",
           "",
           "Filter condition: (titles.genres ~~ '%Comedy%'::text)",
           "Hash Cond ('Inner', '(titles.title_id = crew.title_id)')",
           "",
           "Filter condition: (people.name = ANY ('{\"Owen Wilson\",\"Adam Sandler\",\"Jason Segel\"}'::text[]))",
           "",
           "Hash Cond ('Inner', '(crew.person_id = people.person_id)')",
           "",
           "Filter condition: (titles.genres ~~ '%Comedy%'::text)",
           "Hash Cond ('Inner', '(titles.title_id = crew.title_id)')"
          ],
          "source": [
           0,
           1,
           2,
           3,
           4,
           5,
           6,
           0,
           1,
           2,
           3,
           4,
           5,
           6
          ],
          "target": [
           1,
           3,
           3,
           6,
           5,
           6,
           7,
           1,
           3,
           3,
           6,
           5,
           6,
           7
          ],
          "value": [
           3446261,
           3,
           13651901,
           565,
           2379234,
           489076,
           186,
           5,
           5,
           17064877,
           21,
           616319,
           616319,
           5
          ]
         },
         "node": {
          "color": [
           null,
           null,
           null,
           null,
           null,
           null,
           null,
           null,
           null,
           null,
           null,
           null,
           null,
           null
          ],
          "label": [
           "People",
           "People*",
           "Crew",
           "People* ⋈ Crew",
           "Titles",
           "Titles*",
           "People* ⋈ Crew ⋈ Titles*",
           "People",
           "People*",
           "Crew",
           "People* ⋈ Crew",
           "Titles",
           "Titles*",
           "People* ⋈ Crew ⋈ Titles*"
          ],
          "pad": 200
         },
         "orientation": "h",
         "type": "sankey",
         "valueformat": ",",
         "valuesuffix": [
          " Rows",
          " Rows",
          " Rows",
          " Rows",
          " Rows",
          " Rows",
          " Rows",
          "Rows",
          "Rows",
          "Rows",
          "Rows",
          "Rows",
          "Rows",
          "Rows"
         ]
        }
       ],
       "layout": {
        "font": {
         "size": 10
        },
        "height": 750,
        "title": "Bad estimation for query 1",
        "updatemenus": [
         {
          "buttons": [
           {
            "args": [
             "orientation",
             "h"
            ],
            "label": "Horizontal",
            "method": "restyle"
           },
           {
            "args": [
             "orientation",
             "v"
            ],
            "label": "Vertical",
            "method": "restyle"
           }
          ],
          "y": 0.6
         }
        ]
       }
      },
      "text/html": [
       "<div>\n",
       "        \n",
       "        \n",
       "            <div id=\"dcf71984-341f-44ad-b9f2-dd2becc4440d\" class=\"plotly-graph-div\" style=\"height:750px; width:100%;\"></div>\n",
       "            <script type=\"text/javascript\">\n",
       "                require([\"plotly\"], function(Plotly) {\n",
       "                    window.PLOTLYENV=window.PLOTLYENV || {};\n",
       "                    \n",
       "                if (document.getElementById(\"dcf71984-341f-44ad-b9f2-dd2becc4440d\")) {\n",
       "                    Plotly.newPlot(\n",
       "                        'dcf71984-341f-44ad-b9f2-dd2becc4440d',\n",
       "                        [{\"link\": {\"color\": [\"gainsboro\", \"gainsboro\", \"gainsboro\", \"gainsboro\", \"gainsboro\", \"gainsboro\", \"gainsboro\", \"darkgray\", \"darkgray\", \"darkgray\", \"darkgray\", \"darkgray\", \"darkgray\", \"darkgray\"], \"label\": [\"\", \"Filter condition: (people.name = ANY ('{\\\"Owen Wilson\\\",\\\"Adam Sandler\\\",\\\"Jason Segel\\\"}'::text[]))\", \"\", \"Hash Cond ('Inner', '(crew.person_id = people.person_id)')\", \"\", \"Filter condition: (titles.genres ~~ '%Comedy%'::text)\", \"Hash Cond ('Inner', '(titles.title_id = crew.title_id)')\", \"\", \"Filter condition: (people.name = ANY ('{\\\"Owen Wilson\\\",\\\"Adam Sandler\\\",\\\"Jason Segel\\\"}'::text[]))\", \"\", \"Hash Cond ('Inner', '(crew.person_id = people.person_id)')\", \"\", \"Filter condition: (titles.genres ~~ '%Comedy%'::text)\", \"Hash Cond ('Inner', '(titles.title_id = crew.title_id)')\"], \"source\": [0, 1, 2, 3, 4, 5, 6, 0, 1, 2, 3, 4, 5, 6], \"target\": [1, 3, 3, 6, 5, 6, 7, 1, 3, 3, 6, 5, 6, 7], \"value\": [3446261, 3, 13651901, 565, 2379234, 489076, 186, 5, 5, 17064877, 21, 616319, 616319, 5]}, \"node\": {\"color\": [null, null, null, null, null, null, null, null, null, null, null, null, null, null], \"label\": [\"People\", \"People*\", \"Crew\", \"People* \\u22c8 Crew\", \"Titles\", \"Titles*\", \"People* \\u22c8 Crew \\u22c8 Titles*\", \"People\", \"People*\", \"Crew\", \"People* \\u22c8 Crew\", \"Titles\", \"Titles*\", \"People* \\u22c8 Crew \\u22c8 Titles*\"], \"pad\": 200}, \"orientation\": \"h\", \"type\": \"sankey\", \"valueformat\": \",\", \"valuesuffix\": [\" Rows\", \" Rows\", \" Rows\", \" Rows\", \" Rows\", \" Rows\", \" Rows\", \"Rows\", \"Rows\", \"Rows\", \"Rows\", \"Rows\", \"Rows\", \"Rows\"]}],\n",
       "                        {\"font\": {\"size\": 10}, \"height\": 750, \"title\": \"Bad estimation for query 1\", \"updatemenus\": [{\"buttons\": [{\"args\": [\"orientation\", \"h\"], \"label\": \"Horizontal\", \"method\": \"restyle\"}, {\"args\": [\"orientation\", \"v\"], \"label\": \"Vertical\", \"method\": \"restyle\"}], \"y\": 0.6}]},\n",
       "                        {\"responsive\": true}\n",
       "                    ).then(function(){\n",
       "                            \n",
       "var gd = document.getElementById('dcf71984-341f-44ad-b9f2-dd2becc4440d');\n",
       "var x = new MutationObserver(function (mutations, observer) {{\n",
       "        var display = window.getComputedStyle(gd).display;\n",
       "        if (!display || display === 'none') {{\n",
       "            console.log([gd, 'removed!']);\n",
       "            Plotly.purge(gd);\n",
       "            observer.disconnect();\n",
       "        }}\n",
       "}});\n",
       "\n",
       "// Listen for the removal of the full notebook cells\n",
       "var notebookContainer = gd.closest('#notebook-container');\n",
       "if (notebookContainer) {{\n",
       "    x.observe(notebookContainer, {childList: true});\n",
       "}}\n",
       "\n",
       "// Listen for the clearing of the current output cell\n",
       "var outputEl = gd.closest('.output');\n",
       "if (outputEl) {{\n",
       "    x.observe(outputEl, {childList: true});\n",
       "}}\n",
       "\n",
       "                        })\n",
       "                };\n",
       "                });\n",
       "            </script>\n",
       "        </div>"
      ]
     },
     "metadata": {},
     "output_type": "display_data"
    }
   ],
   "source": [
    "query_renderer.vizualize(cardinality_df, title=\"Bad estimation for query 1\", metrics=[\"actual_rows\", \"plan_rows\"], open_=False)"
   ]
  },
  {
   "cell_type": "code",
   "execution_count": 10,
   "metadata": {},
   "outputs": [
    {
     "data": {
      "application/vnd.plotly.v1+json": {
       "config": {
        "linkText": "Export to plot.ly",
        "plotlyServerURL": "https://plot.ly",
        "showLink": false
       },
       "data": [
        {
         "link": {
          "color": [
           "darkgray",
           "darkgray",
           "darkgray",
           "darkgray",
           "darkgray",
           "darkgray",
           "darkgray",
           "gainsboro",
           "gainsboro",
           "gainsboro",
           "gainsboro",
           "gainsboro",
           "gainsboro",
           "gainsboro"
          ],
          "label": [
           "",
           "Filter condition: (people.name = ANY ('{\"Owen Wilson\",\"Adam Sandler\",\"Jason Segel\"}'::text[]))",
           "",
           "Hash Cond ('Inner', '(crew.person_id = people.person_id)')",
           "",
           "Filter condition: (titles.genres ~~ '%Comedy%'::text)",
           "Hash Cond ('Inner', '(titles.title_id = crew.title_id)')",
           "",
           "Filter condition: (people.name = ANY ('{\"Owen Wilson\",\"Adam Sandler\",\"Jason Segel\"}'::text[]))",
           "",
           "Hash Cond ('Inner', '(crew.person_id = people.person_id)')",
           "",
           "Filter condition: (titles.genres ~~ '%Comedy%'::text)",
           "Hash Cond ('Inner', '(titles.title_id = crew.title_id)')"
          ],
          "source": [
           0,
           1,
           2,
           3,
           4,
           5,
           6,
           0,
           1,
           2,
           3,
           4,
           5,
           6
          ],
          "target": [
           1,
           3,
           3,
           6,
           5,
           6,
           7,
           1,
           3,
           3,
           6,
           5,
           6,
           7
          ],
          "value": [
           100,
           1,
           100,
           26,
           100,
           1,
           17,
           100,
           1,
           100,
           56,
           100,
           1,
           16
          ]
         },
         "node": {
          "color": [
           null,
           null,
           null,
           null,
           null,
           null,
           null,
           null,
           null,
           null,
           null,
           null,
           null,
           null
          ],
          "label": [
           "People",
           "People*",
           "Crew",
           "People* ⋈ Crew",
           "Titles",
           "Titles*",
           "People* ⋈ Crew ⋈ Titles*",
           "People",
           "People*",
           "Crew",
           "People* ⋈ Crew",
           "Titles",
           "Titles*",
           "People* ⋈ Crew ⋈ Titles*"
          ],
          "pad": 200
         },
         "orientation": "h",
         "type": "sankey",
         "valueformat": ",",
         "valuesuffix": [
          " Percent",
          " Percent",
          " Percent",
          " Percent",
          " Percent",
          " Percent",
          " Percent",
          " Percent",
          " Percent",
          " Percent",
          " Percent",
          " Percent",
          " Percent",
          " Percent"
         ]
        }
       ],
       "layout": {
        "font": {
         "size": 10
        },
        "height": 750,
        "title": "Bad estimation for query 1",
        "updatemenus": [
         {
          "buttons": [
           {
            "args": [
             "orientation",
             "h"
            ],
            "label": "Horizontal",
            "method": "restyle"
           },
           {
            "args": [
             "orientation",
             "v"
            ],
            "label": "Vertical",
            "method": "restyle"
           }
          ],
          "y": 0.6
         }
        ]
       }
      },
      "text/html": [
       "<div>\n",
       "        \n",
       "        \n",
       "            <div id=\"e6f0f2b1-c4bc-4fe2-89ed-02e30441d4ea\" class=\"plotly-graph-div\" style=\"height:750px; width:100%;\"></div>\n",
       "            <script type=\"text/javascript\">\n",
       "                require([\"plotly\"], function(Plotly) {\n",
       "                    window.PLOTLYENV=window.PLOTLYENV || {};\n",
       "                    \n",
       "                if (document.getElementById(\"e6f0f2b1-c4bc-4fe2-89ed-02e30441d4ea\")) {\n",
       "                    Plotly.newPlot(\n",
       "                        'e6f0f2b1-c4bc-4fe2-89ed-02e30441d4ea',\n",
       "                        [{\"link\": {\"color\": [\"darkgray\", \"darkgray\", \"darkgray\", \"darkgray\", \"darkgray\", \"darkgray\", \"darkgray\", \"gainsboro\", \"gainsboro\", \"gainsboro\", \"gainsboro\", \"gainsboro\", \"gainsboro\", \"gainsboro\"], \"label\": [\"\", \"Filter condition: (people.name = ANY ('{\\\"Owen Wilson\\\",\\\"Adam Sandler\\\",\\\"Jason Segel\\\"}'::text[]))\", \"\", \"Hash Cond ('Inner', '(crew.person_id = people.person_id)')\", \"\", \"Filter condition: (titles.genres ~~ '%Comedy%'::text)\", \"Hash Cond ('Inner', '(titles.title_id = crew.title_id)')\", \"\", \"Filter condition: (people.name = ANY ('{\\\"Owen Wilson\\\",\\\"Adam Sandler\\\",\\\"Jason Segel\\\"}'::text[]))\", \"\", \"Hash Cond ('Inner', '(crew.person_id = people.person_id)')\", \"\", \"Filter condition: (titles.genres ~~ '%Comedy%'::text)\", \"Hash Cond ('Inner', '(titles.title_id = crew.title_id)')\"], \"source\": [0, 1, 2, 3, 4, 5, 6, 0, 1, 2, 3, 4, 5, 6], \"target\": [1, 3, 3, 6, 5, 6, 7, 1, 3, 3, 6, 5, 6, 7], \"value\": [100, 1, 100, 26, 100, 1, 17, 100, 1, 100, 56, 100, 1, 16]}, \"node\": {\"color\": [null, null, null, null, null, null, null, null, null, null, null, null, null, null], \"label\": [\"People\", \"People*\", \"Crew\", \"People* \\u22c8 Crew\", \"Titles\", \"Titles*\", \"People* \\u22c8 Crew \\u22c8 Titles*\", \"People\", \"People*\", \"Crew\", \"People* \\u22c8 Crew\", \"Titles\", \"Titles*\", \"People* \\u22c8 Crew \\u22c8 Titles*\"], \"pad\": 200}, \"orientation\": \"h\", \"type\": \"sankey\", \"valueformat\": \",\", \"valuesuffix\": [\" Percent\", \" Percent\", \" Percent\", \" Percent\", \" Percent\", \" Percent\", \" Percent\", \" Percent\", \" Percent\", \" Percent\", \" Percent\", \" Percent\", \" Percent\", \" Percent\"]}],\n",
       "                        {\"font\": {\"size\": 10}, \"height\": 750, \"title\": \"Bad estimation for query 1\", \"updatemenus\": [{\"buttons\": [{\"args\": [\"orientation\", \"h\"], \"label\": \"Horizontal\", \"method\": \"restyle\"}, {\"args\": [\"orientation\", \"v\"], \"label\": \"Vertical\", \"method\": \"restyle\"}], \"y\": 0.6}]},\n",
       "                        {\"responsive\": true}\n",
       "                    ).then(function(){\n",
       "                            \n",
       "var gd = document.getElementById('e6f0f2b1-c4bc-4fe2-89ed-02e30441d4ea');\n",
       "var x = new MutationObserver(function (mutations, observer) {{\n",
       "        var display = window.getComputedStyle(gd).display;\n",
       "        if (!display || display === 'none') {{\n",
       "            console.log([gd, 'removed!']);\n",
       "            Plotly.purge(gd);\n",
       "            observer.disconnect();\n",
       "        }}\n",
       "}});\n",
       "\n",
       "// Listen for the removal of the full notebook cells\n",
       "var notebookContainer = gd.closest('#notebook-container');\n",
       "if (notebookContainer) {{\n",
       "    x.observe(notebookContainer, {childList: true});\n",
       "}}\n",
       "\n",
       "// Listen for the clearing of the current output cell\n",
       "var outputEl = gd.closest('.output');\n",
       "if (outputEl) {{\n",
       "    x.observe(outputEl, {childList: true});\n",
       "}}\n",
       "\n",
       "                        })\n",
       "                };\n",
       "                });\n",
       "            </script>\n",
       "        </div>"
      ]
     },
     "metadata": {},
     "output_type": "display_data"
    }
   ],
   "source": [
    "query_renderer.vizualize(cardinality_df, title=\"Bad estimation for query 1\", metrics=[\"estimated_cost_pct\", \"actual_duration_pct\"], open_=False)"
   ]
  },
  {
   "cell_type": "markdown",
   "metadata": {},
   "source": [
    "## Bad estimation for query 2"
   ]
  },
  {
   "cell_type": "code",
   "execution_count": 11,
   "metadata": {},
   "outputs": [],
   "source": [
    "query = \"\"\"\n",
    "SELECT name\n",
    "FROM titles\n",
    "INNER JOIN crew ON crew.title_id = titles.title_id\n",
    "INNER JOIN people ON people.person_id = crew.person_id\n",
    "INNER JOIN ratings ON ratings.title_id = titles.title_id\n",
    "WHERE died IS NULL\n",
    "  AND genres LIKE '%Comedy%'\n",
    "GROUP BY name\n",
    "HAVING COUNT(*) > 10\n",
    "ORDER BY AVG(rating) DESC\n",
    "LIMIT 10\n",
    "\"\"\""
   ]
  },
  {
   "cell_type": "code",
   "execution_count": 12,
   "metadata": {},
   "outputs": [
    {
     "data": {
      "application/vnd.plotly.v1+json": {
       "config": {
        "linkText": "Export to plot.ly",
        "plotlyServerURL": "https://plot.ly",
        "showLink": false
       },
       "data": [
        {
         "link": {
          "color": [
           "gainsboro",
           "gainsboro",
           "gainsboro",
           "gainsboro",
           "gainsboro",
           "gainsboro",
           "gainsboro",
           "gainsboro",
           "gainsboro",
           "gainsboro",
           "gainsboro",
           "gainsboro",
           "gainsboro",
           "darkgray",
           "darkgray",
           "darkgray",
           "darkgray",
           "darkgray",
           "darkgray",
           "darkgray",
           "darkgray",
           "darkgray",
           "darkgray",
           "darkgray",
           "darkgray",
           "darkgray"
          ],
          "label": [
           "",
           "Filter condition: (people.died IS NULL)",
           "",
           "",
           "Filter condition: (titles.genres ~~ '%Comedy%'::text)",
           "Hash Cond ('Inner', '(titles.title_id = ratings.title_id)')",
           "",
           "Hash Cond ('Inner', '(crew.title_id = titles.title_id)')",
           "Hash Cond ('Inner', '(crew.person_id = people.person_id)')",
           "Group key: ['people.name']\nOutput: ['people.name', 'PARTIAL avg(ratings.rating)', 'PARTIAL count(*)']",
           "Group key: ['people.name']\nOutput: ['people.name', 'avg(ratings.rating)']",
           "Filter condition: (count(*) > 10)",
           "LIMIT: 10",
           "",
           "Filter condition: (people.died IS NULL)",
           "",
           "",
           "Filter condition: (titles.genres ~~ '%Comedy%'::text)",
           "Hash Cond ('Inner', '(titles.title_id = ratings.title_id)')",
           "",
           "Hash Cond ('Inner', '(crew.title_id = titles.title_id)')",
           "Hash Cond ('Inner', '(crew.person_id = people.person_id)')",
           "Group key: ['people.name']\nOutput: ['people.name', 'PARTIAL avg(ratings.rating)', 'PARTIAL count(*)']",
           "Group key: ['people.name']\nOutput: ['people.name', 'avg(ratings.rating)']",
           "Filter condition: (count(*) > 10)",
           "LIMIT: 10"
          ],
          "source": [
           0,
           1,
           2,
           3,
           4,
           5,
           6,
           7,
           8,
           9,
           10,
           11,
           12,
           0,
           1,
           2,
           3,
           4,
           5,
           6,
           7,
           8,
           9,
           10,
           11,
           12
          ],
          "target": [
           1,
           8,
           5,
           4,
           5,
           7,
           7,
           8,
           9,
           10,
           11,
           12,
           13,
           1,
           8,
           5,
           4,
           5,
           7,
           7,
           8,
           9,
           10,
           11,
           12,
           13
          ],
          "value": [
           3446261,
           3386052,
           356666,
           2379234,
           489076,
           112431,
           13651901,
           976827,
           813330,
           166868,
           488056,
           36280,
           10,
           4231147,
           4231147,
           445832,
           616319,
           616319,
           92402,
           17064877,
           3536825,
           3473869,
           2355277,
           785092,
           785092,
           10
          ]
         },
         "node": {
          "color": [
           null,
           null,
           null,
           null,
           null,
           null,
           null,
           null,
           null,
           null,
           null,
           null,
           null,
           null,
           null,
           null,
           null,
           null,
           null,
           null,
           null,
           null,
           null,
           null,
           null,
           null
          ],
          "label": [
           "People",
           "People*",
           "Ratings",
           "Titles",
           "Titles*",
           "Ratings ⋈ Titles*",
           "Crew",
           "Ratings ⋈ Titles* ⋈ Crew",
           "People* ⋈ Ratings ⋈ Titles* ⋈ Crew",
           "AGG",
           "AGG",
           "AGG*",
           "LIMIT 10",
           "People",
           "People*",
           "Ratings",
           "Titles",
           "Titles*",
           "Ratings ⋈ Titles*",
           "Crew",
           "Ratings ⋈ Titles* ⋈ Crew",
           "People* ⋈ Ratings ⋈ Titles* ⋈ Crew",
           "AGG",
           "AGG",
           "AGG*",
           "LIMIT 10"
          ],
          "pad": 200
         },
         "orientation": "h",
         "type": "sankey",
         "valueformat": ",",
         "valuesuffix": [
          " Rows",
          " Rows",
          " Rows",
          " Rows",
          " Rows",
          " Rows",
          " Rows",
          " Rows",
          " Rows",
          " Rows",
          " Rows",
          " Rows",
          " Rows",
          "Rows",
          "Rows",
          "Rows",
          "Rows",
          "Rows",
          "Rows",
          "Rows",
          "Rows",
          "Rows",
          "Rows",
          "Rows",
          "Rows",
          "Rows"
         ]
        }
       ],
       "layout": {
        "font": {
         "size": 10
        },
        "height": 750,
        "title": "Bad estimation for query 2",
        "updatemenus": [
         {
          "buttons": [
           {
            "args": [
             "orientation",
             "h"
            ],
            "label": "Horizontal",
            "method": "restyle"
           },
           {
            "args": [
             "orientation",
             "v"
            ],
            "label": "Vertical",
            "method": "restyle"
           }
          ],
          "y": 0.6
         }
        ]
       }
      },
      "text/html": [
       "<div>\n",
       "        \n",
       "        \n",
       "            <div id=\"e6890886-30f4-4cc5-b5c9-0e564782f1f0\" class=\"plotly-graph-div\" style=\"height:750px; width:100%;\"></div>\n",
       "            <script type=\"text/javascript\">\n",
       "                require([\"plotly\"], function(Plotly) {\n",
       "                    window.PLOTLYENV=window.PLOTLYENV || {};\n",
       "                    \n",
       "                if (document.getElementById(\"e6890886-30f4-4cc5-b5c9-0e564782f1f0\")) {\n",
       "                    Plotly.newPlot(\n",
       "                        'e6890886-30f4-4cc5-b5c9-0e564782f1f0',\n",
       "                        [{\"link\": {\"color\": [\"gainsboro\", \"gainsboro\", \"gainsboro\", \"gainsboro\", \"gainsboro\", \"gainsboro\", \"gainsboro\", \"gainsboro\", \"gainsboro\", \"gainsboro\", \"gainsboro\", \"gainsboro\", \"gainsboro\", \"darkgray\", \"darkgray\", \"darkgray\", \"darkgray\", \"darkgray\", \"darkgray\", \"darkgray\", \"darkgray\", \"darkgray\", \"darkgray\", \"darkgray\", \"darkgray\", \"darkgray\"], \"label\": [\"\", \"Filter condition: (people.died IS NULL)\", \"\", \"\", \"Filter condition: (titles.genres ~~ '%Comedy%'::text)\", \"Hash Cond ('Inner', '(titles.title_id = ratings.title_id)')\", \"\", \"Hash Cond ('Inner', '(crew.title_id = titles.title_id)')\", \"Hash Cond ('Inner', '(crew.person_id = people.person_id)')\", \"Group key: ['people.name']\\nOutput: ['people.name', 'PARTIAL avg(ratings.rating)', 'PARTIAL count(*)']\", \"Group key: ['people.name']\\nOutput: ['people.name', 'avg(ratings.rating)']\", \"Filter condition: (count(*) > 10)\", \"LIMIT: 10\", \"\", \"Filter condition: (people.died IS NULL)\", \"\", \"\", \"Filter condition: (titles.genres ~~ '%Comedy%'::text)\", \"Hash Cond ('Inner', '(titles.title_id = ratings.title_id)')\", \"\", \"Hash Cond ('Inner', '(crew.title_id = titles.title_id)')\", \"Hash Cond ('Inner', '(crew.person_id = people.person_id)')\", \"Group key: ['people.name']\\nOutput: ['people.name', 'PARTIAL avg(ratings.rating)', 'PARTIAL count(*)']\", \"Group key: ['people.name']\\nOutput: ['people.name', 'avg(ratings.rating)']\", \"Filter condition: (count(*) > 10)\", \"LIMIT: 10\"], \"source\": [0, 1, 2, 3, 4, 5, 6, 7, 8, 9, 10, 11, 12, 0, 1, 2, 3, 4, 5, 6, 7, 8, 9, 10, 11, 12], \"target\": [1, 8, 5, 4, 5, 7, 7, 8, 9, 10, 11, 12, 13, 1, 8, 5, 4, 5, 7, 7, 8, 9, 10, 11, 12, 13], \"value\": [3446261, 3386052, 356666, 2379234, 489076, 112431, 13651901, 976827, 813330, 166868, 488056, 36280, 10, 4231147, 4231147, 445832, 616319, 616319, 92402, 17064877, 3536825, 3473869, 2355277, 785092, 785092, 10]}, \"node\": {\"color\": [null, null, null, null, null, null, null, null, null, null, null, null, null, null, null, null, null, null, null, null, null, null, null, null, null, null], \"label\": [\"People\", \"People*\", \"Ratings\", \"Titles\", \"Titles*\", \"Ratings \\u22c8 Titles*\", \"Crew\", \"Ratings \\u22c8 Titles* \\u22c8 Crew\", \"People* \\u22c8 Ratings \\u22c8 Titles* \\u22c8 Crew\", \"AGG\", \"AGG\", \"AGG*\", \"LIMIT 10\", \"People\", \"People*\", \"Ratings\", \"Titles\", \"Titles*\", \"Ratings \\u22c8 Titles*\", \"Crew\", \"Ratings \\u22c8 Titles* \\u22c8 Crew\", \"People* \\u22c8 Ratings \\u22c8 Titles* \\u22c8 Crew\", \"AGG\", \"AGG\", \"AGG*\", \"LIMIT 10\"], \"pad\": 200}, \"orientation\": \"h\", \"type\": \"sankey\", \"valueformat\": \",\", \"valuesuffix\": [\" Rows\", \" Rows\", \" Rows\", \" Rows\", \" Rows\", \" Rows\", \" Rows\", \" Rows\", \" Rows\", \" Rows\", \" Rows\", \" Rows\", \" Rows\", \"Rows\", \"Rows\", \"Rows\", \"Rows\", \"Rows\", \"Rows\", \"Rows\", \"Rows\", \"Rows\", \"Rows\", \"Rows\", \"Rows\", \"Rows\"]}],\n",
       "                        {\"font\": {\"size\": 10}, \"height\": 750, \"title\": \"Bad estimation for query 2\", \"updatemenus\": [{\"buttons\": [{\"args\": [\"orientation\", \"h\"], \"label\": \"Horizontal\", \"method\": \"restyle\"}, {\"args\": [\"orientation\", \"v\"], \"label\": \"Vertical\", \"method\": \"restyle\"}], \"y\": 0.6}]},\n",
       "                        {\"responsive\": true}\n",
       "                    ).then(function(){\n",
       "                            \n",
       "var gd = document.getElementById('e6890886-30f4-4cc5-b5c9-0e564782f1f0');\n",
       "var x = new MutationObserver(function (mutations, observer) {{\n",
       "        var display = window.getComputedStyle(gd).display;\n",
       "        if (!display || display === 'none') {{\n",
       "            console.log([gd, 'removed!']);\n",
       "            Plotly.purge(gd);\n",
       "            observer.disconnect();\n",
       "        }}\n",
       "}});\n",
       "\n",
       "// Listen for the removal of the full notebook cells\n",
       "var notebookContainer = gd.closest('#notebook-container');\n",
       "if (notebookContainer) {{\n",
       "    x.observe(notebookContainer, {childList: true});\n",
       "}}\n",
       "\n",
       "// Listen for the clearing of the current output cell\n",
       "var outputEl = gd.closest('.output');\n",
       "if (outputEl) {{\n",
       "    x.observe(outputEl, {childList: true});\n",
       "}}\n",
       "\n",
       "                        })\n",
       "                };\n",
       "                });\n",
       "            </script>\n",
       "        </div>"
      ]
     },
     "metadata": {},
     "output_type": "display_data"
    }
   ],
   "source": [
    "cardinality_df = query_renderer.get_cardinality_df(query, con_str=con_str)\n",
    "query_renderer.vizualize(cardinality_df, title=\"Bad estimation for query 2\", metrics=[\"actual_rows\", \"plan_rows\"], open_=False)\n"
   ]
  },
  {
   "cell_type": "code",
   "execution_count": 13,
   "metadata": {},
   "outputs": [
    {
     "data": {
      "application/vnd.plotly.v1+json": {
       "config": {
        "linkText": "Export to plot.ly",
        "plotlyServerURL": "https://plot.ly",
        "showLink": false
       },
       "data": [
        {
         "link": {
          "color": [
           "darkgray",
           "darkgray",
           "darkgray",
           "darkgray",
           "darkgray",
           "darkgray",
           "darkgray",
           "darkgray",
           "darkgray",
           "darkgray",
           "darkgray",
           "darkgray",
           "darkgray",
           "gainsboro",
           "gainsboro",
           "gainsboro",
           "gainsboro",
           "gainsboro",
           "gainsboro",
           "gainsboro",
           "gainsboro",
           "gainsboro",
           "gainsboro",
           "gainsboro",
           "gainsboro",
           "gainsboro"
          ],
          "label": [
           "",
           "Filter condition: (people.died IS NULL)",
           "",
           "",
           "Filter condition: (titles.genres ~~ '%Comedy%'::text)",
           "Hash Cond ('Inner', '(titles.title_id = ratings.title_id)')",
           "",
           "Hash Cond ('Inner', '(crew.title_id = titles.title_id)')",
           "Hash Cond ('Inner', '(crew.person_id = people.person_id)')",
           "Group key: ['people.name']\nOutput: ['people.name', 'PARTIAL avg(ratings.rating)', 'PARTIAL count(*)']",
           "Group key: ['people.name']\nOutput: ['people.name', 'avg(ratings.rating)']",
           "Filter condition: (count(*) > 10)",
           "LIMIT: 10",
           "",
           "Filter condition: (people.died IS NULL)",
           "",
           "",
           "Filter condition: (titles.genres ~~ '%Comedy%'::text)",
           "Hash Cond ('Inner', '(titles.title_id = ratings.title_id)')",
           "",
           "Hash Cond ('Inner', '(crew.title_id = titles.title_id)')",
           "Hash Cond ('Inner', '(crew.person_id = people.person_id)')",
           "Group key: ['people.name']\nOutput: ['people.name', 'PARTIAL avg(ratings.rating)', 'PARTIAL count(*)']",
           "Group key: ['people.name']\nOutput: ['people.name', 'avg(ratings.rating)']",
           "Filter condition: (count(*) > 10)",
           "LIMIT: 10"
          ],
          "source": [
           0,
           1,
           2,
           3,
           4,
           5,
           6,
           7,
           8,
           9,
           10,
           11,
           12,
           0,
           1,
           2,
           3,
           4,
           5,
           6,
           7,
           8,
           9,
           10,
           11,
           12
          ],
          "target": [
           1,
           8,
           5,
           4,
           5,
           7,
           7,
           8,
           9,
           10,
           11,
           12,
           13,
           1,
           8,
           5,
           4,
           5,
           7,
           7,
           8,
           9,
           10,
           11,
           12,
           13
          ],
          "value": [
           100,
           1,
           100,
           100,
           1,
           16,
           100,
           44,
           23,
           30,
           24,
           1,
           1,
           100,
           1,
           100,
           100,
           1,
           56,
           100,
           71,
           30,
           6,
           2,
           1,
           1
          ]
         },
         "node": {
          "color": [
           null,
           null,
           null,
           null,
           null,
           null,
           null,
           null,
           null,
           null,
           null,
           null,
           null,
           null,
           null,
           null,
           null,
           null,
           null,
           null,
           null,
           null,
           null,
           null,
           null,
           null
          ],
          "label": [
           "People",
           "People*",
           "Ratings",
           "Titles",
           "Titles*",
           "Ratings ⋈ Titles*",
           "Crew",
           "Ratings ⋈ Titles* ⋈ Crew",
           "People* ⋈ Ratings ⋈ Titles* ⋈ Crew",
           "AGG",
           "AGG",
           "AGG*",
           "LIMIT 10",
           "People",
           "People*",
           "Ratings",
           "Titles",
           "Titles*",
           "Ratings ⋈ Titles*",
           "Crew",
           "Ratings ⋈ Titles* ⋈ Crew",
           "People* ⋈ Ratings ⋈ Titles* ⋈ Crew",
           "AGG",
           "AGG",
           "AGG*",
           "LIMIT 10"
          ],
          "pad": 200
         },
         "orientation": "h",
         "type": "sankey",
         "valueformat": ",",
         "valuesuffix": [
          " Percent",
          " Percent",
          " Percent",
          " Percent",
          " Percent",
          " Percent",
          " Percent",
          " Percent",
          " Percent",
          " Percent",
          " Percent",
          " Percent",
          " Percent",
          " Percent",
          " Percent",
          " Percent",
          " Percent",
          " Percent",
          " Percent",
          " Percent",
          " Percent",
          " Percent",
          " Percent",
          " Percent",
          " Percent",
          " Percent"
         ]
        }
       ],
       "layout": {
        "font": {
         "size": 10
        },
        "height": 750,
        "title": "Bad estimation for query 2",
        "updatemenus": [
         {
          "buttons": [
           {
            "args": [
             "orientation",
             "h"
            ],
            "label": "Horizontal",
            "method": "restyle"
           },
           {
            "args": [
             "orientation",
             "v"
            ],
            "label": "Vertical",
            "method": "restyle"
           }
          ],
          "y": 0.6
         }
        ]
       }
      },
      "text/html": [
       "<div>\n",
       "        \n",
       "        \n",
       "            <div id=\"4a460b92-a5f0-4de4-b527-d90b23c83aac\" class=\"plotly-graph-div\" style=\"height:750px; width:100%;\"></div>\n",
       "            <script type=\"text/javascript\">\n",
       "                require([\"plotly\"], function(Plotly) {\n",
       "                    window.PLOTLYENV=window.PLOTLYENV || {};\n",
       "                    \n",
       "                if (document.getElementById(\"4a460b92-a5f0-4de4-b527-d90b23c83aac\")) {\n",
       "                    Plotly.newPlot(\n",
       "                        '4a460b92-a5f0-4de4-b527-d90b23c83aac',\n",
       "                        [{\"link\": {\"color\": [\"darkgray\", \"darkgray\", \"darkgray\", \"darkgray\", \"darkgray\", \"darkgray\", \"darkgray\", \"darkgray\", \"darkgray\", \"darkgray\", \"darkgray\", \"darkgray\", \"darkgray\", \"gainsboro\", \"gainsboro\", \"gainsboro\", \"gainsboro\", \"gainsboro\", \"gainsboro\", \"gainsboro\", \"gainsboro\", \"gainsboro\", \"gainsboro\", \"gainsboro\", \"gainsboro\", \"gainsboro\"], \"label\": [\"\", \"Filter condition: (people.died IS NULL)\", \"\", \"\", \"Filter condition: (titles.genres ~~ '%Comedy%'::text)\", \"Hash Cond ('Inner', '(titles.title_id = ratings.title_id)')\", \"\", \"Hash Cond ('Inner', '(crew.title_id = titles.title_id)')\", \"Hash Cond ('Inner', '(crew.person_id = people.person_id)')\", \"Group key: ['people.name']\\nOutput: ['people.name', 'PARTIAL avg(ratings.rating)', 'PARTIAL count(*)']\", \"Group key: ['people.name']\\nOutput: ['people.name', 'avg(ratings.rating)']\", \"Filter condition: (count(*) > 10)\", \"LIMIT: 10\", \"\", \"Filter condition: (people.died IS NULL)\", \"\", \"\", \"Filter condition: (titles.genres ~~ '%Comedy%'::text)\", \"Hash Cond ('Inner', '(titles.title_id = ratings.title_id)')\", \"\", \"Hash Cond ('Inner', '(crew.title_id = titles.title_id)')\", \"Hash Cond ('Inner', '(crew.person_id = people.person_id)')\", \"Group key: ['people.name']\\nOutput: ['people.name', 'PARTIAL avg(ratings.rating)', 'PARTIAL count(*)']\", \"Group key: ['people.name']\\nOutput: ['people.name', 'avg(ratings.rating)']\", \"Filter condition: (count(*) > 10)\", \"LIMIT: 10\"], \"source\": [0, 1, 2, 3, 4, 5, 6, 7, 8, 9, 10, 11, 12, 0, 1, 2, 3, 4, 5, 6, 7, 8, 9, 10, 11, 12], \"target\": [1, 8, 5, 4, 5, 7, 7, 8, 9, 10, 11, 12, 13, 1, 8, 5, 4, 5, 7, 7, 8, 9, 10, 11, 12, 13], \"value\": [100, 1, 100, 100, 1, 16, 100, 44, 23, 30, 24, 1, 1, 100, 1, 100, 100, 1, 56, 100, 71, 30, 6, 2, 1, 1]}, \"node\": {\"color\": [null, null, null, null, null, null, null, null, null, null, null, null, null, null, null, null, null, null, null, null, null, null, null, null, null, null], \"label\": [\"People\", \"People*\", \"Ratings\", \"Titles\", \"Titles*\", \"Ratings \\u22c8 Titles*\", \"Crew\", \"Ratings \\u22c8 Titles* \\u22c8 Crew\", \"People* \\u22c8 Ratings \\u22c8 Titles* \\u22c8 Crew\", \"AGG\", \"AGG\", \"AGG*\", \"LIMIT 10\", \"People\", \"People*\", \"Ratings\", \"Titles\", \"Titles*\", \"Ratings \\u22c8 Titles*\", \"Crew\", \"Ratings \\u22c8 Titles* \\u22c8 Crew\", \"People* \\u22c8 Ratings \\u22c8 Titles* \\u22c8 Crew\", \"AGG\", \"AGG\", \"AGG*\", \"LIMIT 10\"], \"pad\": 200}, \"orientation\": \"h\", \"type\": \"sankey\", \"valueformat\": \",\", \"valuesuffix\": [\" Percent\", \" Percent\", \" Percent\", \" Percent\", \" Percent\", \" Percent\", \" Percent\", \" Percent\", \" Percent\", \" Percent\", \" Percent\", \" Percent\", \" Percent\", \" Percent\", \" Percent\", \" Percent\", \" Percent\", \" Percent\", \" Percent\", \" Percent\", \" Percent\", \" Percent\", \" Percent\", \" Percent\", \" Percent\", \" Percent\"]}],\n",
       "                        {\"font\": {\"size\": 10}, \"height\": 750, \"title\": \"Bad estimation for query 2\", \"updatemenus\": [{\"buttons\": [{\"args\": [\"orientation\", \"h\"], \"label\": \"Horizontal\", \"method\": \"restyle\"}, {\"args\": [\"orientation\", \"v\"], \"label\": \"Vertical\", \"method\": \"restyle\"}], \"y\": 0.6}]},\n",
       "                        {\"responsive\": true}\n",
       "                    ).then(function(){\n",
       "                            \n",
       "var gd = document.getElementById('4a460b92-a5f0-4de4-b527-d90b23c83aac');\n",
       "var x = new MutationObserver(function (mutations, observer) {{\n",
       "        var display = window.getComputedStyle(gd).display;\n",
       "        if (!display || display === 'none') {{\n",
       "            console.log([gd, 'removed!']);\n",
       "            Plotly.purge(gd);\n",
       "            observer.disconnect();\n",
       "        }}\n",
       "}});\n",
       "\n",
       "// Listen for the removal of the full notebook cells\n",
       "var notebookContainer = gd.closest('#notebook-container');\n",
       "if (notebookContainer) {{\n",
       "    x.observe(notebookContainer, {childList: true});\n",
       "}}\n",
       "\n",
       "// Listen for the clearing of the current output cell\n",
       "var outputEl = gd.closest('.output');\n",
       "if (outputEl) {{\n",
       "    x.observe(outputEl, {childList: true});\n",
       "}}\n",
       "\n",
       "                        })\n",
       "                };\n",
       "                });\n",
       "            </script>\n",
       "        </div>"
      ]
     },
     "metadata": {},
     "output_type": "display_data"
    }
   ],
   "source": [
    "query_renderer.vizualize(cardinality_df, title=\"Bad estimation for query 2\", metrics=[\"estimated_cost_pct\", \"actual_duration_pct\"], open_=False)\n"
   ]
  },
  {
   "cell_type": "code",
   "execution_count": null,
   "metadata": {},
   "outputs": [],
   "source": []
  },
  {
   "cell_type": "code",
   "execution_count": null,
   "metadata": {},
   "outputs": [],
   "source": []
  },
  {
   "cell_type": "code",
   "execution_count": null,
   "metadata": {},
   "outputs": [],
   "source": []
  }
 ],
 "metadata": {
  "kernelspec": {
   "display_name": "Python 3",
   "language": "python",
   "name": "python3"
  },
  "language_info": {
   "codemirror_mode": {
    "name": "ipython",
    "version": 3
   },
   "file_extension": ".py",
   "mimetype": "text/x-python",
   "name": "python",
   "nbconvert_exporter": "python",
   "pygments_lexer": "ipython3",
   "version": "3.7.4"
  }
 },
 "nbformat": 4,
 "nbformat_minor": 4
}
