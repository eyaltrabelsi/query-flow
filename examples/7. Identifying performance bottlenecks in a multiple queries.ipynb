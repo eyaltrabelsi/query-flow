{
 "cells": [
  {
   "cell_type": "code",
   "execution_count": 1,
   "metadata": {},
   "outputs": [],
   "source": [
    "import pandas as pd\n",
    "\n",
    "from plotly.offline import init_notebook_mode\n",
    "from sqlalchemy import create_engine\n",
    "\n",
    "from query_flow.parsers.postgres_parser import PostgresParser\n",
    "from query_flow.vizualizers.query_vizualizer import QueryVizualizer\n",
    "from plotly.offline import plot, iplot\n"
   ]
  },
  {
   "cell_type": "code",
   "execution_count": 2,
   "metadata": {},
   "outputs": [
    {
     "data": {
      "text/html": [
       "        <script type=\"text/javascript\">\n",
       "        window.PlotlyConfig = {MathJaxConfig: 'local'};\n",
       "        if (window.MathJax) {MathJax.Hub.Config({SVG: {font: \"STIX-Web\"}});}\n",
       "        if (typeof require !== 'undefined') {\n",
       "        require.undef(\"plotly\");\n",
       "        requirejs.config({\n",
       "            paths: {\n",
       "                'plotly': ['https://cdn.plot.ly/plotly-latest.min']\n",
       "            }\n",
       "        });\n",
       "        require(['plotly'], function(Plotly) {\n",
       "            window._Plotly = Plotly;\n",
       "        });\n",
       "        }\n",
       "        </script>\n",
       "        "
      ]
     },
     "metadata": {},
     "output_type": "display_data"
    }
   ],
   "source": [
    "%load_ext autoreload\n",
    "%autoreload 2\n",
    "\n",
    "init_notebook_mode(connected=True)"
   ]
  },
  {
   "cell_type": "code",
   "execution_count": 3,
   "metadata": {},
   "outputs": [],
   "source": [
    "con_str = 'postgresql:///etrabelsi_thesis'"
   ]
  },
  {
   "cell_type": "markdown",
   "metadata": {},
   "source": [
    "## Identifying performance bottlenecks in a multiple queries"
   ]
  },
  {
   "cell_type": "code",
   "execution_count": 4,
   "metadata": {},
   "outputs": [],
   "source": [
    "query_renderer = QueryVizualizer(parser=PostgresParser())"
   ]
  },
  {
   "cell_type": "code",
   "execution_count": 5,
   "metadata": {},
   "outputs": [
    {
     "data": {
      "text/plain": [
       "9075.545000000002"
      ]
     },
     "execution_count": 5,
     "metadata": {},
     "output_type": "execute_result"
    }
   ],
   "source": [
    "36451.822 - 27376.277"
   ]
  },
  {
   "cell_type": "code",
   "execution_count": 6,
   "metadata": {},
   "outputs": [
    {
     "data": {
      "text/plain": [
       "['People* ⋈ Crew',\n",
       " 'Titles*',\n",
       " 'People*',\n",
       " 'Titles* U Titles*',\n",
       " 'People',\n",
       " 'Unique',\n",
       " 'People* ⋈ Crew ⋈ Titles*',\n",
       " 'Titles',\n",
       " 'Crew']"
      ]
     },
     "execution_count": 6,
     "metadata": {},
     "output_type": "execute_result"
    }
   ],
   "source": [
    "a = set(['Titles*', 'Titles* U Titles*', 'Unique', 'People', 'People*', 'Crew', 'People* ⋈ Crew', 'Titles', 'Titles','Titles', 'Titles*', 'Titles*', 'People* ⋈ Crew ⋈ Titles*'])\n",
    "res = []\n",
    "for i in a:\n",
    "    if i not in res:\n",
    "        res.append(i)\n",
    "res"
   ]
  },
  {
   "cell_type": "code",
   "execution_count": 7,
   "metadata": {},
   "outputs": [
    {
     "data": {
      "application/vnd.plotly.v1+json": {
       "config": {
        "linkText": "Export to plot.ly",
        "plotlyServerURL": "https://plot.ly",
        "showLink": false
       },
       "data": [
        {
         "link": {
          "source": [
           0,
           1,
           2,
           4,
           5,
           6,
           7,
           7,
           7,
           8,
           9,
           9,
           10
          ],
          "target": [
           1,
           2,
           3,
           5,
           7,
           7,
           10,
           9,
           9,
           0,
           10,
           1,
           11
          ],
          "value": [
           15538,
           181653,
           544958,
           3446261,
           3,
           13651901,
           565,
           2379234,
           2379234,
           3568850,
           171294,
           171294,
           15
          ]
         },
         "node": {
          "label": [
           "Titles*",
           "Titles* U Titles*",
           "Unique",
           "People",
           "People*",
           "Crew",
           "People* ⋈ Crew",
           "Titles",
           "Titles",
           "Titles",
           "Titles*",
           "Titles*",
           "People* ⋈ Crew ⋈ Titles*"
          ],
          "pad": 200
         },
         "orientation": "h",
         "type": "sankey",
         "valueformat": ","
        }
       ],
       "layout": {
        "font": {
         "size": 10
        },
        "height": 750
       }
      },
      "text/html": [
       "<div>\n",
       "        \n",
       "        \n",
       "            <div id=\"38887ada-d127-422b-84a0-314287cc6b47\" class=\"plotly-graph-div\" style=\"height:750px; width:100%;\"></div>\n",
       "            <script type=\"text/javascript\">\n",
       "                require([\"plotly\"], function(Plotly) {\n",
       "                    window.PLOTLYENV=window.PLOTLYENV || {};\n",
       "                    \n",
       "                if (document.getElementById(\"38887ada-d127-422b-84a0-314287cc6b47\")) {\n",
       "                    Plotly.newPlot(\n",
       "                        '38887ada-d127-422b-84a0-314287cc6b47',\n",
       "                        [{\"link\": {\"source\": [0, 1, 2, 4, 5, 6, 7, 7, 7, 8, 9, 9, 10], \"target\": [1, 2, 3, 5, 7, 7, 10, 9, 9, 0, 10, 1, 11], \"value\": [15538, 181653, 544958, 3446261, 3, 13651901, 565, 2379234, 2379234, 3568850, 171294, 171294, 15]}, \"node\": {\"label\": [\"Titles*\", \"Titles* U Titles*\", \"Unique\", \"People\", \"People*\", \"Crew\", \"People* \\u22c8 Crew\", \"Titles\", \"Titles\", \"Titles\", \"Titles*\", \"Titles*\", \"People* \\u22c8 Crew \\u22c8 Titles*\"], \"pad\": 200}, \"orientation\": \"h\", \"type\": \"sankey\", \"valueformat\": \",\"}],\n",
       "                        {\"font\": {\"size\": 10}, \"height\": 750},\n",
       "                        {\"responsive\": true}\n",
       "                    ).then(function(){\n",
       "                            \n",
       "var gd = document.getElementById('38887ada-d127-422b-84a0-314287cc6b47');\n",
       "var x = new MutationObserver(function (mutations, observer) {{\n",
       "        var display = window.getComputedStyle(gd).display;\n",
       "        if (!display || display === 'none') {{\n",
       "            console.log([gd, 'removed!']);\n",
       "            Plotly.purge(gd);\n",
       "            observer.disconnect();\n",
       "        }}\n",
       "}});\n",
       "\n",
       "// Listen for the removal of the full notebook cells\n",
       "var notebookContainer = gd.closest('#notebook-container');\n",
       "if (notebookContainer) {{\n",
       "    x.observe(notebookContainer, {childList: true});\n",
       "}}\n",
       "\n",
       "// Listen for the clearing of the current output cell\n",
       "var outputEl = gd.closest('.output');\n",
       "if (outputEl) {{\n",
       "    x.observe(outputEl, {childList: true});\n",
       "}}\n",
       "\n",
       "                        })\n",
       "                };\n",
       "                });\n",
       "            </script>\n",
       "        </div>"
      ]
     },
     "metadata": {},
     "output_type": "display_data"
    }
   ],
   "source": [
    "#          0         1          2      3         4              5                  6              7                           8\n",
    "label = [\"Title\" , \"Title*\", \"Crew\", \"People\", \"People*\", \"Title* U Title*\", \"Crew ⋈ People*\", \"Crew ⋈ People* ⋈ Titles*\", \"Finish\"]\n",
    "source = [0      , 0       , 0       , 1      , 1       , 2         , 3    , 1               , 6                    , 4               , 7    , 5]\n",
    "target = [1      , 1       , 1       , 5      , 5       , 6         , 4    , 7               , 7                    , 6               , 8    , 8]\n",
    "value =  [975.287, 677.225 , 8071.176, 975.287, 677.225 , 6108.962  , 6108 , 8071.176        , 36451.822 - 27376.277, 6108            , 44683- 36451, 1885-975.287]\n",
    "\n",
    "\n",
    "#          0                 1                 2      3         4         5            6              7        8        9            10\n",
    "# label  = ['Titles*', 'Titles* U Titles*', 'Unique', 'People', 'People*', 'Crew', 'People* ⋈ Crew', 'Titles', 'Titles','Titles', 'Titles*', 'Titles*', 'People* ⋈ Crew ⋈ Titles*']\n",
    "# source = [0        , 1                  , 2       , 4       , 5        , 6     , 7               , 8       , 8       , 8      , 9        , 9        , 10]\n",
    "\n",
    "label  = ['Titles*', 'Titles* U Titles*', 'Unique', 'People', 'People*', 'Crew', 'People* ⋈ Crew', 'Titles', 'Titles','Titles', 'Titles*', 'Titles*', 'People* ⋈ Crew ⋈ Titles*']\n",
    "source = [0        , 1                  , 2       , 4       , 5        , 6     , 7               , 7       , 7       , 8      , 9        , 9        , 10]\n",
    "target = [1        , 2                  , 3       , 5       , 7        , 7     , 10              , 9       , 9       , 0      , 10       , 1        , 11]\n",
    "value  = [15538    , 181653             , 544958  , 3446261, 3, 13651901, 565, 2379234, 2379234, 3568850, 171294, 171294, 15]\n",
    "\n",
    "\n",
    "layout = dict(font=dict(size=10), height=750)\n",
    "data_trace = dict(type=\"sankey\",\n",
    "                  orientation=\"h\",\n",
    "                  valueformat=\",\",\n",
    "                  node=dict(pad=200, label=label),\n",
    "                  link=dict(source=source,target=target, value=value))\n",
    "\n",
    "iplot(dict(data=[data_trace], layout=layout),\n",
    "      validate=False)"
   ]
  },
  {
   "cell_type": "code",
   "execution_count": 8,
   "metadata": {},
   "outputs": [
    {
     "data": {
      "application/vnd.plotly.v1+json": {
       "config": {
        "linkText": "Export to plot.ly",
        "plotlyServerURL": "https://plot.ly",
        "showLink": false
       },
       "data": [
        {
         "link": {
          "color": [
           "#B0C4DE",
           "#B0C4DE",
           "#FFE4E1",
           "#B0C4DE",
           "#B0C4DE",
           "#FFE4E1",
           "#FFE4E1",
           "#FFE4E1",
           "#FFE4E1",
           "#FFE4E1",
           "#FFE4E1",
           "#B0C4DE"
          ],
          "source": [
           0,
           0,
           0,
           1,
           1,
           2,
           3,
           1,
           6,
           4,
           7,
           5
          ],
          "target": [
           1,
           1,
           1,
           5,
           5,
           6,
           4,
           7,
           7,
           6,
           8,
           8
          ],
          "value": [
           975.287,
           677.225,
           8071.176,
           975.287,
           677.225,
           6108.962,
           6108,
           8071.176,
           9075.545000000002,
           6108,
           8232,
           909.713
          ]
         },
         "node": {
          "color": [
           "black",
           "black",
           "black",
           "black",
           "black",
           "black",
           "black",
           "black",
           "black",
           "black",
           "black",
           "black"
          ],
          "label": [
           "Title",
           "Title*",
           "Crew",
           "People",
           "People*",
           "Title* U Title*",
           "Crew ⋈ People*",
           "Crew ⋈ People* ⋈ Titles*",
           "Finish"
          ],
          "pad": 200
         },
         "orientation": "h",
         "type": "sankey",
         "valueformat": ","
        }
       ],
       "layout": {
        "font": {
         "size": 10
        },
        "height": 750
       }
      },
      "text/html": [
       "<div>\n",
       "        \n",
       "        \n",
       "            <div id=\"4416edf8-0369-47a0-8280-850437f05a66\" class=\"plotly-graph-div\" style=\"height:750px; width:100%;\"></div>\n",
       "            <script type=\"text/javascript\">\n",
       "                require([\"plotly\"], function(Plotly) {\n",
       "                    window.PLOTLYENV=window.PLOTLYENV || {};\n",
       "                    \n",
       "                if (document.getElementById(\"4416edf8-0369-47a0-8280-850437f05a66\")) {\n",
       "                    Plotly.newPlot(\n",
       "                        '4416edf8-0369-47a0-8280-850437f05a66',\n",
       "                        [{\"link\": {\"color\": [\"#B0C4DE\", \"#B0C4DE\", \"#FFE4E1\", \"#B0C4DE\", \"#B0C4DE\", \"#FFE4E1\", \"#FFE4E1\", \"#FFE4E1\", \"#FFE4E1\", \"#FFE4E1\", \"#FFE4E1\", \"#B0C4DE\"], \"source\": [0, 0, 0, 1, 1, 2, 3, 1, 6, 4, 7, 5], \"target\": [1, 1, 1, 5, 5, 6, 4, 7, 7, 6, 8, 8], \"value\": [975.287, 677.225, 8071.176, 975.287, 677.225, 6108.962, 6108, 8071.176, 9075.545000000002, 6108, 8232, 909.713]}, \"node\": {\"color\": [\"black\", \"black\", \"black\", \"black\", \"black\", \"black\", \"black\", \"black\", \"black\", \"black\", \"black\", \"black\"], \"label\": [\"Title\", \"Title*\", \"Crew\", \"People\", \"People*\", \"Title* U Title*\", \"Crew \\u22c8 People*\", \"Crew \\u22c8 People* \\u22c8 Titles*\", \"Finish\"], \"pad\": 200}, \"orientation\": \"h\", \"type\": \"sankey\", \"valueformat\": \",\"}],\n",
       "                        {\"font\": {\"size\": 10}, \"height\": 750},\n",
       "                        {\"responsive\": true}\n",
       "                    ).then(function(){\n",
       "                            \n",
       "var gd = document.getElementById('4416edf8-0369-47a0-8280-850437f05a66');\n",
       "var x = new MutationObserver(function (mutations, observer) {{\n",
       "        var display = window.getComputedStyle(gd).display;\n",
       "        if (!display || display === 'none') {{\n",
       "            console.log([gd, 'removed!']);\n",
       "            Plotly.purge(gd);\n",
       "            observer.disconnect();\n",
       "        }}\n",
       "}});\n",
       "\n",
       "// Listen for the removal of the full notebook cells\n",
       "var notebookContainer = gd.closest('#notebook-container');\n",
       "if (notebookContainer) {{\n",
       "    x.observe(notebookContainer, {childList: true});\n",
       "}}\n",
       "\n",
       "// Listen for the clearing of the current output cell\n",
       "var outputEl = gd.closest('.output');\n",
       "if (outputEl) {{\n",
       "    x.observe(outputEl, {childList: true});\n",
       "}}\n",
       "\n",
       "                        })\n",
       "                };\n",
       "                });\n",
       "            </script>\n",
       "        </div>"
      ]
     },
     "metadata": {},
     "output_type": "display_data"
    }
   ],
   "source": [
    "#          0         1          2      3         4              5                  6              7                           8\n",
    "label = [\"Title\" , \"Title*\", \"Crew\", \"People\", \"People*\", \"Title* U Title*\", \"Crew ⋈ People*\", \"Crew ⋈ People* ⋈ Titles*\", \"Finish\"]\n",
    "source = [0      , 0       , 0       , 1      , 1       , 2         , 3    , 1               , 6                    , 4               , 7    , 5]\n",
    "target = [1      , 1       , 1       , 5      , 5       , 6         , 4    , 7               , 7                    , 6               , 8    , 8]\n",
    "value =  [975.287, 677.225 , 8071.176, 975.287, 677.225 , 6108.962  , 6108 , 8071.176        , 36451.822 - 27376.277, 6108            , 44683- 36451, 1885-975.287]\n",
    "\n",
    "color =  [\"#B0C4DE\", \"#B0C4DE\" , \"#FFE4E1\"  , \"#B0C4DE\", \"#B0C4DE\" , \"#FFE4E1\"    ,\"#FFE4E1\", \"#FFE4E1\"          , \"#FFE4E1\"               , \"#FFE4E1\"          , \"#FFE4E1\"      , \"#B0C4DE\"]\n",
    "color_node = [\"black\"] * len(color)\n",
    "layout = dict(font=dict(size=10), height=750)\n",
    "data_trace = dict(type=\"sankey\",\n",
    "                  orientation=\"h\",\n",
    "                  valueformat=\",\",\n",
    "                  node=dict(pad=200, label=label, color=color_node),\n",
    "                  link=dict(source=source,target=target, value=value, color=color))\n",
    "\n",
    "iplot(dict(data=[data_trace], layout=layout),\n",
    "      validate=False)"
   ]
  },
  {
   "cell_type": "code",
   "execution_count": 10,
   "metadata": {},
   "outputs": [],
   "source": [
    "with create_engine(con_str).connect() as con:\n",
    "    execution_plan = con.execute(\"CREATE INDEX if not exists titles_index ON titles(title_id,genres) WHERE genres like '%%Comedy%%'\")"
   ]
  },
  {
   "cell_type": "code",
   "execution_count": null,
   "metadata": {},
   "outputs": [],
   "source": [
    "query1 = \"\"\"\n",
    "SELECT titles.title_id\n",
    "FROM titles\n",
    "INNER JOIN crew ON crew.title_id = titles.title_id\n",
    "INNER JOIN people ON people.person_id = crew.person_id\n",
    "WHERE genres = 'Comedy' \n",
    "  AND name in ('Owen Wilson', 'Adam Sandler', 'Jason Segel')\n",
    "\"\"\"\n",
    "\n",
    "\n",
    "query2 = \"\"\"\n",
    "SELECT titles.title_id\n",
    "FROM titles\n",
    "WHERE genres = 'Comedy' \n",
    "UNION \n",
    "SELECT titles.title_id\n",
    "FROM titles\n",
    "WHERE genres = 'Action' \n",
    "\"\"\"\n",
    "\n",
    "queries = [query1, query2]\n",
    "flow_df = query_renderer.get_flow_df(queries, con_str=con_str)\n",
    "flow_df"
   ]
  },
  {
   "cell_type": "code",
   "execution_count": null,
   "metadata": {},
   "outputs": [],
   "source": [
    "\n",
    "flow_df = query_renderer.get_flow_df(queries, con_str=con_str)\n",
    "flow_df[[\"label\", \"source\", \"target\", \"actual_total_time\", \"label_metadata\", \"query_hash\"]]"
   ]
  },
  {
   "cell_type": "code",
   "execution_count": null,
   "metadata": {},
   "outputs": [],
   "source": [
    "query_renderer.vizualize(flow_df, metrics=[\"actual_rows\"], title=\"crap\",open_=False)"
   ]
  },
  {
   "cell_type": "code",
   "execution_count": 15,
   "metadata": {},
   "outputs": [
    {
     "data": {
      "application/vnd.plotly.v1+json": {
       "config": {
        "linkText": "Export to plot.ly",
        "plotlyServerURL": "https://plot.ly",
        "showLink": false
       },
       "data": [
        {
         "link": {
          "color": [
           "#B0C4DE",
           "#B0C4DE",
           "#FFE4E1",
           "#B0C4DE",
           "#B0C4DE",
           "#FFE4E1",
           "#FFE4E1",
           "#FFE4E1",
           "#FFE4E1",
           "#FFE4E1",
           "#FFE4E1",
           "#B0C4DE"
          ],
          "source": [
           0,
           0,
           0,
           1,
           1,
           2,
           3,
           1,
           6,
           4,
           7,
           5
          ],
          "target": [
           1,
           1,
           1,
           5,
           5,
           6,
           4,
           7,
           7,
           6,
           8,
           8
          ],
          "value": [
           675.287,
           10.225,
           1,
           975.287,
           677.225,
           6108.962,
           6108,
           1,
           9075.545000000002,
           6108,
           8232,
           909.713
          ]
         },
         "node": {
          "color": [
           "black",
           "black",
           "black",
           "black",
           "black",
           "black",
           "black",
           "black",
           "black",
           "black",
           "black",
           "black"
          ],
          "label": [
           "Title",
           "Title*",
           "Crew",
           "People",
           "People*",
           "Title* U Title*",
           "Crew ⋈ People*",
           "Crew ⋈ People* ⋈ Titles*",
           "Finish"
          ],
          "pad": 200
         },
         "orientation": "h",
         "type": "sankey",
         "valueformat": ","
        }
       ],
       "layout": {
        "font": {
         "size": 10
        },
        "height": 750
       }
      },
      "text/html": [
       "<div>\n",
       "        \n",
       "        \n",
       "            <div id=\"ee8c4d16-b895-4e33-9c16-2fd5e424544e\" class=\"plotly-graph-div\" style=\"height:750px; width:100%;\"></div>\n",
       "            <script type=\"text/javascript\">\n",
       "                require([\"plotly\"], function(Plotly) {\n",
       "                    window.PLOTLYENV=window.PLOTLYENV || {};\n",
       "                    \n",
       "                if (document.getElementById(\"ee8c4d16-b895-4e33-9c16-2fd5e424544e\")) {\n",
       "                    Plotly.newPlot(\n",
       "                        'ee8c4d16-b895-4e33-9c16-2fd5e424544e',\n",
       "                        [{\"link\": {\"color\": [\"#B0C4DE\", \"#B0C4DE\", \"#FFE4E1\", \"#B0C4DE\", \"#B0C4DE\", \"#FFE4E1\", \"#FFE4E1\", \"#FFE4E1\", \"#FFE4E1\", \"#FFE4E1\", \"#FFE4E1\", \"#B0C4DE\"], \"source\": [0, 0, 0, 1, 1, 2, 3, 1, 6, 4, 7, 5], \"target\": [1, 1, 1, 5, 5, 6, 4, 7, 7, 6, 8, 8], \"value\": [675.287, 10.225, 1, 975.287, 677.225, 6108.962, 6108, 1, 9075.545000000002, 6108, 8232, 909.713]}, \"node\": {\"color\": [\"black\", \"black\", \"black\", \"black\", \"black\", \"black\", \"black\", \"black\", \"black\", \"black\", \"black\", \"black\"], \"label\": [\"Title\", \"Title*\", \"Crew\", \"People\", \"People*\", \"Title* U Title*\", \"Crew \\u22c8 People*\", \"Crew \\u22c8 People* \\u22c8 Titles*\", \"Finish\"], \"pad\": 200}, \"orientation\": \"h\", \"type\": \"sankey\", \"valueformat\": \",\"}],\n",
       "                        {\"font\": {\"size\": 10}, \"height\": 750},\n",
       "                        {\"responsive\": true}\n",
       "                    ).then(function(){\n",
       "                            \n",
       "var gd = document.getElementById('ee8c4d16-b895-4e33-9c16-2fd5e424544e');\n",
       "var x = new MutationObserver(function (mutations, observer) {{\n",
       "        var display = window.getComputedStyle(gd).display;\n",
       "        if (!display || display === 'none') {{\n",
       "            console.log([gd, 'removed!']);\n",
       "            Plotly.purge(gd);\n",
       "            observer.disconnect();\n",
       "        }}\n",
       "}});\n",
       "\n",
       "// Listen for the removal of the full notebook cells\n",
       "var notebookContainer = gd.closest('#notebook-container');\n",
       "if (notebookContainer) {{\n",
       "    x.observe(notebookContainer, {childList: true});\n",
       "}}\n",
       "\n",
       "// Listen for the clearing of the current output cell\n",
       "var outputEl = gd.closest('.output');\n",
       "if (outputEl) {{\n",
       "    x.observe(outputEl, {childList: true});\n",
       "}}\n",
       "\n",
       "                        })\n",
       "                };\n",
       "                });\n",
       "            </script>\n",
       "        </div>"
      ]
     },
     "metadata": {},
     "output_type": "display_data"
    }
   ],
   "source": [
    "#          0         1          2      3         4              5                  6              7                           8\n",
    "label = [\"Title\" , \"Title*\", \"Crew\", \"People\", \"People*\", \"Title* U Title*\", \"Crew ⋈ People*\", \"Crew ⋈ People* ⋈ Titles*\", \"Finish\"]\n",
    "source = [0      , 0       , 0       , 1      , 1       , 2         , 3    , 1               , 6                    , 4               , 7    , 5]\n",
    "target = [1      , 1       , 1       , 5      , 5       , 6         , 4    , 7               , 7                    , 6               , 8    , 8]\n",
    "value =  [675.287, 10.225  , 1       , 975.287, 677.225 , 6108.962  , 6108 , 1               , 36451.822 - 27376.277, 6108            , 44683- 36451, 1885-975.287]\n",
    "\n",
    "color =  [\"#B0C4DE\", \"#B0C4DE\" , \"#FFE4E1\"  , \"#B0C4DE\", \"#B0C4DE\" , \"#FFE4E1\"    ,\"#FFE4E1\", \"#FFE4E1\"          , \"#FFE4E1\"               , \"#FFE4E1\"          , \"#FFE4E1\"      , \"#B0C4DE\"]\n",
    "color_node = [\"black\"] * len(color)\n",
    "layout = dict(font=dict(size=10), height=750)\n",
    "data_trace = dict(type=\"sankey\",\n",
    "                  orientation=\"h\",\n",
    "                  valueformat=\",\",\n",
    "                  node=dict(pad=200, label=label, color=color_node),\n",
    "                  link=dict(source=source,target=target, value=value, color=color))\n",
    "\n",
    "iplot(dict(data=[data_trace], layout=layout),\n",
    "      validate=False)"
   ]
  },
  {
   "cell_type": "code",
   "execution_count": null,
   "metadata": {},
   "outputs": [],
   "source": []
  },
  {
   "cell_type": "code",
   "execution_count": 16,
   "metadata": {},
   "outputs": [],
   "source": [
    "with create_engine(con_str).connect() as con:\n",
    "    execution_plan = con.execute(\"DROP INDEX if exists titles_index\")"
   ]
  },
  {
   "cell_type": "code",
   "execution_count": null,
   "metadata": {},
   "outputs": [],
   "source": []
  },
  {
   "cell_type": "code",
   "execution_count": null,
   "metadata": {},
   "outputs": [],
   "source": []
  },
  {
   "cell_type": "code",
   "execution_count": null,
   "metadata": {},
   "outputs": [],
   "source": []
  },
  {
   "cell_type": "code",
   "execution_count": null,
   "metadata": {},
   "outputs": [],
   "source": []
  },
  {
   "cell_type": "code",
   "execution_count": null,
   "metadata": {},
   "outputs": [],
   "source": []
  },
  {
   "cell_type": "code",
   "execution_count": null,
   "metadata": {},
   "outputs": [],
   "source": []
  },
  {
   "cell_type": "code",
   "execution_count": null,
   "metadata": {},
   "outputs": [],
   "source": []
  }
 ],
 "metadata": {
  "kernelspec": {
   "display_name": "Python 3",
   "language": "python",
   "name": "python3"
  },
  "language_info": {
   "codemirror_mode": {
    "name": "ipython",
    "version": 3
   },
   "file_extension": ".py",
   "mimetype": "text/x-python",
   "name": "python",
   "nbconvert_exporter": "python",
   "pygments_lexer": "ipython3",
   "version": "3.7.4"
  }
 },
 "nbformat": 4,
 "nbformat_minor": 4
}
