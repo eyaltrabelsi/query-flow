{
 "cells": [
  {
   "cell_type": "code",
   "execution_count": 1,
   "metadata": {},
   "outputs": [],
   "source": [
    "import pandas as pd\n",
    "\n",
    "from plotly.offline import init_notebook_mode\n",
    "from sqlalchemy import create_engine\n",
    "\n",
    "from query_flow.parsers.postgres_parser import PostgresParser\n",
    "from query_flow.vizualizers.query_vizualizer import QueryVizualizer\n",
    "from plotly.offline import plot, iplot\n"
   ]
  },
  {
   "cell_type": "code",
   "execution_count": 2,
   "metadata": {},
   "outputs": [
    {
     "data": {
      "text/html": [
       "        <script type=\"text/javascript\">\n",
       "        window.PlotlyConfig = {MathJaxConfig: 'local'};\n",
       "        if (window.MathJax) {MathJax.Hub.Config({SVG: {font: \"STIX-Web\"}});}\n",
       "        if (typeof require !== 'undefined') {\n",
       "        require.undef(\"plotly\");\n",
       "        requirejs.config({\n",
       "            paths: {\n",
       "                'plotly': ['https://cdn.plot.ly/plotly-latest.min']\n",
       "            }\n",
       "        });\n",
       "        require(['plotly'], function(Plotly) {\n",
       "            window._Plotly = Plotly;\n",
       "        });\n",
       "        }\n",
       "        </script>\n",
       "        "
      ]
     },
     "metadata": {},
     "output_type": "display_data"
    }
   ],
   "source": [
    "%load_ext autoreload\n",
    "%autoreload 2\n",
    "\n",
    "init_notebook_mode(connected=True)"
   ]
  },
  {
   "cell_type": "code",
   "execution_count": 3,
   "metadata": {},
   "outputs": [],
   "source": [
    "con_str = 'postgresql:///etrabelsi_thesis'"
   ]
  },
  {
   "cell_type": "markdown",
   "metadata": {},
   "source": [
    "## Identifying performance bottlenecks in a multiple queries"
   ]
  },
  {
   "cell_type": "code",
   "execution_count": 4,
   "metadata": {},
   "outputs": [],
   "source": [
    "query_renderer = QueryVizualizer(parser=PostgresParser())"
   ]
  },
  {
   "cell_type": "code",
   "execution_count": 5,
   "metadata": {},
   "outputs": [
    {
     "data": {
      "text/plain": [
       "9075.545000000002"
      ]
     },
     "execution_count": 5,
     "metadata": {},
     "output_type": "execute_result"
    }
   ],
   "source": [
    "36451.822 - 27376.277"
   ]
  },
  {
   "cell_type": "code",
   "execution_count": 6,
   "metadata": {},
   "outputs": [
    {
     "data": {
      "application/vnd.plotly.v1+json": {
       "config": {
        "linkText": "Export to plot.ly",
        "plotlyServerURL": "https://plot.ly",
        "showLink": false
       },
       "data": [
        {
         "link": {
          "color": [
           "#B0C4DE",
           "#B0C4DE",
           "#FFE4E1",
           "#B0C4DE",
           "#B0C4DE",
           "#FFE4E1",
           "#FFE4E1",
           "#FFE4E1",
           "#FFE4E1",
           "#FFE4E1",
           "#FFE4E1",
           "#B0C4DE"
          ],
          "source": [
           0,
           0,
           0,
           1,
           1,
           2,
           3,
           1,
           6,
           4,
           7,
           5
          ],
          "target": [
           1,
           1,
           1,
           5,
           5,
           6,
           4,
           7,
           7,
           6,
           8,
           8
          ],
          "value": [
           975.287,
           677.225,
           8071.176,
           975.287,
           677.225,
           6108.962,
           6108,
           8071.176,
           9075.545000000002,
           6108,
           8232,
           909.713
          ]
         },
         "node": {
          "color": [
           "black",
           "black",
           "black",
           "black",
           "black",
           "black",
           "black",
           "black",
           "black",
           "black",
           "black",
           "black"
          ],
          "label": [
           "Title",
           "Title*",
           "Crew",
           "People",
           "People*",
           "Title* U Title*",
           "Crew ⋈ People*",
           "Crew ⋈ People* ⋈ Titles*",
           "Finish"
          ],
          "pad": 200
         },
         "orientation": "h",
         "type": "sankey",
         "valueformat": ","
        }
       ],
       "layout": {
        "font": {
         "size": 10
        },
        "height": 750
       }
      },
      "text/html": [
       "<div>\n",
       "        \n",
       "        \n",
       "            <div id=\"515bf392-c4ea-4ab8-8acf-66ac2ce5e8ab\" class=\"plotly-graph-div\" style=\"height:750px; width:100%;\"></div>\n",
       "            <script type=\"text/javascript\">\n",
       "                require([\"plotly\"], function(Plotly) {\n",
       "                    window.PLOTLYENV=window.PLOTLYENV || {};\n",
       "                    \n",
       "                if (document.getElementById(\"515bf392-c4ea-4ab8-8acf-66ac2ce5e8ab\")) {\n",
       "                    Plotly.newPlot(\n",
       "                        '515bf392-c4ea-4ab8-8acf-66ac2ce5e8ab',\n",
       "                        [{\"link\": {\"color\": [\"#B0C4DE\", \"#B0C4DE\", \"#FFE4E1\", \"#B0C4DE\", \"#B0C4DE\", \"#FFE4E1\", \"#FFE4E1\", \"#FFE4E1\", \"#FFE4E1\", \"#FFE4E1\", \"#FFE4E1\", \"#B0C4DE\"], \"source\": [0, 0, 0, 1, 1, 2, 3, 1, 6, 4, 7, 5], \"target\": [1, 1, 1, 5, 5, 6, 4, 7, 7, 6, 8, 8], \"value\": [975.287, 677.225, 8071.176, 975.287, 677.225, 6108.962, 6108, 8071.176, 9075.545000000002, 6108, 8232, 909.713]}, \"node\": {\"color\": [\"black\", \"black\", \"black\", \"black\", \"black\", \"black\", \"black\", \"black\", \"black\", \"black\", \"black\", \"black\"], \"label\": [\"Title\", \"Title*\", \"Crew\", \"People\", \"People*\", \"Title* U Title*\", \"Crew \\u22c8 People*\", \"Crew \\u22c8 People* \\u22c8 Titles*\", \"Finish\"], \"pad\": 200}, \"orientation\": \"h\", \"type\": \"sankey\", \"valueformat\": \",\"}],\n",
       "                        {\"font\": {\"size\": 10}, \"height\": 750},\n",
       "                        {\"responsive\": true}\n",
       "                    ).then(function(){\n",
       "                            \n",
       "var gd = document.getElementById('515bf392-c4ea-4ab8-8acf-66ac2ce5e8ab');\n",
       "var x = new MutationObserver(function (mutations, observer) {{\n",
       "        var display = window.getComputedStyle(gd).display;\n",
       "        if (!display || display === 'none') {{\n",
       "            console.log([gd, 'removed!']);\n",
       "            Plotly.purge(gd);\n",
       "            observer.disconnect();\n",
       "        }}\n",
       "}});\n",
       "\n",
       "// Listen for the removal of the full notebook cells\n",
       "var notebookContainer = gd.closest('#notebook-container');\n",
       "if (notebookContainer) {{\n",
       "    x.observe(notebookContainer, {childList: true});\n",
       "}}\n",
       "\n",
       "// Listen for the clearing of the current output cell\n",
       "var outputEl = gd.closest('.output');\n",
       "if (outputEl) {{\n",
       "    x.observe(outputEl, {childList: true});\n",
       "}}\n",
       "\n",
       "                        })\n",
       "                };\n",
       "                });\n",
       "            </script>\n",
       "        </div>"
      ]
     },
     "metadata": {},
     "output_type": "display_data"
    }
   ],
   "source": [
    "#          0         1          2      3         4              5                  6              7                           8\n",
    "label = [\"Title\" , \"Title*\", \"Crew\", \"People\", \"People*\", \"Title* U Title*\", \"Crew ⋈ People*\", \"Crew ⋈ People* ⋈ Titles*\", \"Finish\"]\n",
    "source = [0      , 0       , 0       , 1      , 1       , 2         , 3    , 1               , 6                    , 4               , 7    , 5]\n",
    "target = [1      , 1       , 1       , 5      , 5       , 6         , 4    , 7               , 7                    , 6               , 8    , 8]\n",
    "value =  [975.287, 677.225 , 8071.176, 975.287, 677.225 , 6108.962  , 6108 , 8071.176        , 36451.822 - 27376.277, 6108            , 44683- 36451, 1885-975.287]\n",
    "\n",
    "color =  [\"#B0C4DE\", \"#B0C4DE\" , \"#FFE4E1\"  , \"#B0C4DE\", \"#B0C4DE\" , \"#FFE4E1\"    ,\"#FFE4E1\", \"#FFE4E1\"          , \"#FFE4E1\"               , \"#FFE4E1\"          , \"#FFE4E1\"      , \"#B0C4DE\"]\n",
    "color_node = [\"black\"] * len(color)\n",
    "layout = dict(font=dict(size=10), height=750)\n",
    "data_trace = dict(type=\"sankey\",\n",
    "                  orientation=\"h\",\n",
    "                  valueformat=\",\",\n",
    "                  node=dict(pad=200, label=label, color=color_node),\n",
    "                  link=dict(source=source,target=target, value=value, color=color))\n",
    "\n",
    "iplot(dict(data=[data_trace], layout=layout),\n",
    "      validate=False)"
   ]
  },
  {
   "cell_type": "code",
   "execution_count": 8,
   "metadata": {},
   "outputs": [
    {
     "data": {
      "application/vnd.plotly.v1+json": {
       "config": {
        "linkText": "Export to plot.ly",
        "plotlyServerURL": "https://plot.ly",
        "showLink": false
       },
       "data": [
        {
         "link": {
          "color": [
           "silver",
           "silver",
           "silver",
           "silver",
           "silver",
           "silver",
           "silver",
           "silver",
           "silver",
           "silver",
           "silver",
           "silver"
          ],
          "label": [
           null,
           "Filter condition: (people.name = ANY ('{\"Owen Wilson\",\"Adam Sandler\",\"Jason Segel\"}'::text[]))",
           null,
           "Hash Cond ('Inner', '(crew.person_id = people.person_id)')",
           null,
           "Filter condition: (titles.genres ~~ '%Comedy%'::text)",
           "Hash Cond ('Inner', '(titles.title_id = crew.title_id)')",
           null,
           "Filter condition: (titles_1.genres = 'Action'::text)",
           null,
           "Filter condition: (titles.genres = 'Comedy'::text)",
           null
          ],
          "source": [
           0,
           1,
           2,
           3,
           4,
           5,
           6,
           7,
           8,
           9,
           10,
           11
          ],
          "target": [
           1,
           3,
           3,
           6,
           5,
           6,
           7,
           8,
           11,
           10,
           11,
           12
          ],
          "value": [
           3446261,
           3,
           13651901,
           565,
           2379234,
           489076,
           186,
           2379234,
           10359,
           7137701,
           513882,
           544958
          ]
         },
         "node": {
          "color": [
           null,
           null,
           null,
           null,
           null,
           null,
           null,
           null,
           null,
           null,
           null,
           null
          ],
          "label": [
           "People",
           "People*",
           "Crew",
           "People* ⋈ Crew",
           "Titles",
           "Titles*",
           "People* ⋈ Crew ⋈ Titles*",
           "Titles",
           "Titles*",
           "Titles",
           "Titles*",
           "Titles* U Titles*"
          ],
          "pad": 200
         },
         "orientation": "h",
         "type": "sankey",
         "valueformat": ",",
         "valuesuffix": [
          " Rows",
          " Rows",
          " Rows",
          " Rows",
          " Rows",
          " Rows",
          " Rows",
          " Rows",
          " Rows",
          " Rows",
          " Rows",
          " Rows"
         ]
        }
       ],
       "layout": {
        "font": {
         "size": 10
        },
        "height": 750,
        "title": "Missing Records in Where Clause",
        "updatemenus": [
         {
          "buttons": [
           {
            "args": [
             "orientation",
             "h"
            ],
            "label": "Horizontal",
            "method": "restyle"
           },
           {
            "args": [
             "orientation",
             "v"
            ],
            "label": "Vertical",
            "method": "restyle"
           }
          ],
          "y": 0.6
         }
        ]
       }
      },
      "text/html": [
       "<div>\n",
       "        \n",
       "        \n",
       "            <div id=\"73b47c2f-a5d2-4f50-b41b-e963044af488\" class=\"plotly-graph-div\" style=\"height:750px; width:100%;\"></div>\n",
       "            <script type=\"text/javascript\">\n",
       "                require([\"plotly\"], function(Plotly) {\n",
       "                    window.PLOTLYENV=window.PLOTLYENV || {};\n",
       "                    \n",
       "                if (document.getElementById(\"73b47c2f-a5d2-4f50-b41b-e963044af488\")) {\n",
       "                    Plotly.newPlot(\n",
       "                        '73b47c2f-a5d2-4f50-b41b-e963044af488',\n",
       "                        [{\"link\": {\"color\": [\"silver\", \"silver\", \"silver\", \"silver\", \"silver\", \"silver\", \"silver\", \"silver\", \"silver\", \"silver\", \"silver\", \"silver\"], \"label\": [null, \"Filter condition: (people.name = ANY ('{\\\"Owen Wilson\\\",\\\"Adam Sandler\\\",\\\"Jason Segel\\\"}'::text[]))\", null, \"Hash Cond ('Inner', '(crew.person_id = people.person_id)')\", null, \"Filter condition: (titles.genres ~~ '%Comedy%'::text)\", \"Hash Cond ('Inner', '(titles.title_id = crew.title_id)')\", null, \"Filter condition: (titles_1.genres = 'Action'::text)\", null, \"Filter condition: (titles.genres = 'Comedy'::text)\", null], \"source\": [0, 1, 2, 3, 4, 5, 6, 7, 8, 9, 10, 11], \"target\": [1, 3, 3, 6, 5, 6, 7, 8, 11, 10, 11, 12], \"value\": [3446261, 3, 13651901, 565, 2379234, 489076, 186, 2379234, 10359, 7137701, 513882, 544958]}, \"node\": {\"color\": [null, null, null, null, null, null, null, null, null, null, null, null], \"label\": [\"People\", \"People*\", \"Crew\", \"People* \\u22c8 Crew\", \"Titles\", \"Titles*\", \"People* \\u22c8 Crew \\u22c8 Titles*\", \"Titles\", \"Titles*\", \"Titles\", \"Titles*\", \"Titles* U Titles*\"], \"pad\": 200}, \"orientation\": \"h\", \"type\": \"sankey\", \"valueformat\": \",\", \"valuesuffix\": [\" Rows\", \" Rows\", \" Rows\", \" Rows\", \" Rows\", \" Rows\", \" Rows\", \" Rows\", \" Rows\", \" Rows\", \" Rows\", \" Rows\"]}],\n",
       "                        {\"font\": {\"size\": 10}, \"height\": 750, \"title\": \"Missing Records in Where Clause\", \"updatemenus\": [{\"buttons\": [{\"args\": [\"orientation\", \"h\"], \"label\": \"Horizontal\", \"method\": \"restyle\"}, {\"args\": [\"orientation\", \"v\"], \"label\": \"Vertical\", \"method\": \"restyle\"}], \"y\": 0.6}]},\n",
       "                        {\"responsive\": true}\n",
       "                    ).then(function(){\n",
       "                            \n",
       "var gd = document.getElementById('73b47c2f-a5d2-4f50-b41b-e963044af488');\n",
       "var x = new MutationObserver(function (mutations, observer) {{\n",
       "        var display = window.getComputedStyle(gd).display;\n",
       "        if (!display || display === 'none') {{\n",
       "            console.log([gd, 'removed!']);\n",
       "            Plotly.purge(gd);\n",
       "            observer.disconnect();\n",
       "        }}\n",
       "}});\n",
       "\n",
       "// Listen for the removal of the full notebook cells\n",
       "var notebookContainer = gd.closest('#notebook-container');\n",
       "if (notebookContainer) {{\n",
       "    x.observe(notebookContainer, {childList: true});\n",
       "}}\n",
       "\n",
       "// Listen for the clearing of the current output cell\n",
       "var outputEl = gd.closest('.output');\n",
       "if (outputEl) {{\n",
       "    x.observe(outputEl, {childList: true});\n",
       "}}\n",
       "\n",
       "                        })\n",
       "                };\n",
       "                });\n",
       "            </script>\n",
       "        </div>"
      ]
     },
     "metadata": {},
     "output_type": "display_data"
    }
   ],
   "source": [
    "\n",
    "# query_renderer.vizualize(\n",
    "#         pd.read_csv(\"/Users/etrabelsi/IdeaProjects/thesis/crap.csv\"), title='Missing Records in Where Clause', metrics=['actual_rows'],\n",
    "#         open_=False,\n",
    "#     )"
   ]
  },
  {
   "cell_type": "code",
   "execution_count": 7,
   "metadata": {},
   "outputs": [],
   "source": [
    "with create_engine(con_str).connect() as con:\n",
    "    execution_plan = con.execute(\"CREATE INDEX if not exists titles_index ON titles(title_id,genres) WHERE genres like '%%Comedy%%'\")"
   ]
  },
  {
   "cell_type": "code",
   "execution_count": 8,
   "metadata": {},
   "outputs": [
    {
     "ename": "NameError",
     "evalue": "name 'query_renderer' is not defined",
     "output_type": "error",
     "traceback": [
      "\u001b[0;31m---------------------------------------------------------------------------\u001b[0m",
      "\u001b[0;31mNameError\u001b[0m                                 Traceback (most recent call last)",
      "\u001b[0;32m<ipython-input-8-e491d5d50967>\u001b[0m in \u001b[0;36m<module>\u001b[0;34m\u001b[0m\n\u001b[1;32m      7\u001b[0m   \u001b[0mAND\u001b[0m \u001b[0mname\u001b[0m \u001b[0;32min\u001b[0m \u001b[0;34m(\u001b[0m\u001b[0;34m'Owen Wilson'\u001b[0m\u001b[0;34m,\u001b[0m \u001b[0;34m'Adam Sandler'\u001b[0m\u001b[0;34m,\u001b[0m \u001b[0;34m'Jason Segel'\u001b[0m\u001b[0;34m)\u001b[0m\u001b[0;34m\u001b[0m\u001b[0;34m\u001b[0m\u001b[0m\n\u001b[1;32m      8\u001b[0m \"\"\"\n\u001b[0;32m----> 9\u001b[0;31m \u001b[0mquery1\u001b[0m \u001b[0;34m=\u001b[0m \u001b[0mquery_renderer\u001b[0m\u001b[0;34m.\u001b[0m\u001b[0mget_cardinality_df\u001b[0m\u001b[0;34m(\u001b[0m\u001b[0mquery\u001b[0m\u001b[0;34m,\u001b[0m \u001b[0mcon_str\u001b[0m\u001b[0;34m=\u001b[0m\u001b[0mcon_str\u001b[0m\u001b[0;34m)\u001b[0m\u001b[0;34m\u001b[0m\u001b[0;34m\u001b[0m\u001b[0m\n\u001b[0m\u001b[1;32m     10\u001b[0m \u001b[0;34m\u001b[0m\u001b[0m\n\u001b[1;32m     11\u001b[0m query = \"\"\"\n",
      "\u001b[0;31mNameError\u001b[0m: name 'query_renderer' is not defined"
     ]
    }
   ],
   "source": [
    "query = \"\"\"\n",
    "SELECT titles.title_id\n",
    "FROM titles\n",
    "INNER JOIN crew ON crew.title_id = titles.title_id\n",
    "INNER JOIN people ON people.person_id = crew.person_id\n",
    "WHERE genres like '%Comedy%' \n",
    "  AND name in ('Owen Wilson', 'Adam Sandler', 'Jason Segel')\n",
    "\"\"\"\n",
    "query1 = query_renderer.get_cardinality_df(query, con_str=con_str)\n",
    "\n",
    "query = \"\"\"\n",
    "SELECT titles.title_id\n",
    "FROM titles\n",
    "WHERE genres = 'Comedy' \n",
    "UNION \n",
    "SELECT titles.title_id\n",
    "FROM titles\n",
    "WHERE genres = 'Action' \n",
    "\"\"\"\n",
    "query2 = query_renderer.get_cardinality_df(query, con_str=con_str)\n",
    "\n",
    "cardinality_df = pd.concat([query1, query2])\n",
    "cardinality_df"
   ]
  },
  {
   "cell_type": "code",
   "execution_count": null,
   "metadata": {},
   "outputs": [],
   "source": [
    "cardinality_df[[\"label\", \"source\", \"target\", \"actual_total_time\", \"label_metadata\"]]"
   ]
  },
  {
   "cell_type": "code",
   "execution_count": null,
   "metadata": {},
   "outputs": [],
   "source": [
    "#          0         1          2      3         4              5                  6              7                           8\n",
    "label = [\"Title\" , \"Title*\", \"Crew\", \"People\", \"People*\", \"Title* U Title*\", \"Crew ⋈ People*\", \"Crew ⋈ People* ⋈ Titles*\", \"Finish\"]\n",
    "source = [0      , 0       , 0       , 1      , 1       , 2         , 3    , 1               , 6                    , 4               , 7    , 5]\n",
    "target = [1      , 1       , 1       , 5      , 5       , 6         , 4    , 7               , 7                    , 6               , 8    , 8]\n",
    "value =  [675.287, 10.225  , 1       , 975.287, 677.225 , 6108.962  , 6108 , 1               , 36451.822 - 27376.277, 6108            , 44683- 36451, 1885-975.287]\n",
    "\n",
    "color =  [\"#B0C4DE\", \"#B0C4DE\" , \"#FFE4E1\"  , \"#B0C4DE\", \"#B0C4DE\" , \"#FFE4E1\"    ,\"#FFE4E1\", \"#FFE4E1\"          , \"#FFE4E1\"               , \"#FFE4E1\"          , \"#FFE4E1\"      , \"#B0C4DE\"]\n",
    "color_node = [\"black\"] * len(color)\n",
    "layout = dict(font=dict(size=10), height=750)\n",
    "data_trace = dict(type=\"sankey\",\n",
    "                  orientation=\"h\",\n",
    "                  valueformat=\",\",\n",
    "                  node=dict(pad=200, label=label, color=color_node),\n",
    "                  link=dict(source=source,target=target, value=value, color=color))\n",
    "\n",
    "iplot(dict(data=[data_trace], layout=layout),\n",
    "      validate=False)"
   ]
  },
  {
   "cell_type": "code",
   "execution_count": null,
   "metadata": {},
   "outputs": [],
   "source": []
  },
  {
   "cell_type": "code",
   "execution_count": null,
   "metadata": {},
   "outputs": [],
   "source": [
    "with create_engine(con_str).connect() as con:\n",
    "    execution_plan = con.execute(\"DROP INDEX if exists titles_index\")"
   ]
  },
  {
   "cell_type": "code",
   "execution_count": null,
   "metadata": {},
   "outputs": [],
   "source": []
  },
  {
   "cell_type": "code",
   "execution_count": null,
   "metadata": {},
   "outputs": [],
   "source": [
    "query = \"\"\"\n",
    "SELECT titles.title_id\n",
    "FROM titles\n",
    "WHERE genres = 'Comedy' \n",
    "UNION \n",
    "SELECT titles.title_id\n",
    "FROM titles\n",
    "WHERE genres = 'Action' \n",
    "\"\"\"\n",
    "\n",
    "query =\"\"\"\n",
    "SELECT titles.title_id\n",
    "FROM titles\n",
    "INNER JOIN crew ON crew.title_id = titles.title_id\n",
    "INNER JOIN people ON people.person_id = crew.person_id\n",
    "WHERE genres like '%Comedy%' \n",
    "  AND name in ('Owen Wilson', 'Adam Sandler', 'Jason Segel')\n",
    "\"\"\""
   ]
  }
 ],
 "metadata": {
  "kernelspec": {
   "display_name": "Python 3",
   "language": "python",
   "name": "python3"
  },
  "language_info": {
   "codemirror_mode": {
    "name": "ipython",
    "version": 3
   },
   "file_extension": ".py",
   "mimetype": "text/x-python",
   "name": "python",
   "nbconvert_exporter": "python",
   "pygments_lexer": "ipython3",
   "version": "3.7.4"
  }
 },
 "nbformat": 4,
 "nbformat_minor": 4
}
