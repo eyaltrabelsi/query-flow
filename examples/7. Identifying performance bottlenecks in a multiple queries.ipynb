{
 "cells": [
  {
   "cell_type": "code",
   "execution_count": 1,
   "metadata": {},
   "outputs": [],
   "source": [
    "import pandas as pd\n",
    "\n",
    "from plotly.offline import init_notebook_mode\n",
    "from sqlalchemy import create_engine\n",
    "\n",
    "from query_flow.parsers.postgres_parser import PostgresParser\n",
    "from query_flow.vizualizers.query_vizualizer import QueryVizualizer\n",
    "from plotly.offline import plot, iplot\n"
   ]
  },
  {
   "cell_type": "code",
   "execution_count": 2,
   "metadata": {},
   "outputs": [
    {
     "data": {
      "text/html": [
       "        <script type=\"text/javascript\">\n",
       "        window.PlotlyConfig = {MathJaxConfig: 'local'};\n",
       "        if (window.MathJax) {MathJax.Hub.Config({SVG: {font: \"STIX-Web\"}});}\n",
       "        if (typeof require !== 'undefined') {\n",
       "        require.undef(\"plotly\");\n",
       "        requirejs.config({\n",
       "            paths: {\n",
       "                'plotly': ['https://cdn.plot.ly/plotly-latest.min']\n",
       "            }\n",
       "        });\n",
       "        require(['plotly'], function(Plotly) {\n",
       "            window._Plotly = Plotly;\n",
       "        });\n",
       "        }\n",
       "        </script>\n",
       "        "
      ]
     },
     "metadata": {},
     "output_type": "display_data"
    }
   ],
   "source": [
    "%load_ext autoreload\n",
    "%autoreload 2\n",
    "\n",
    "init_notebook_mode(connected=True)"
   ]
  },
  {
   "cell_type": "code",
   "execution_count": 3,
   "metadata": {},
   "outputs": [],
   "source": [
    "con_str = 'postgresql:///etrabelsi_thesis'"
   ]
  },
  {
   "cell_type": "markdown",
   "metadata": {},
   "source": [
    "## Identifying performance bottlenecks in a multiple queries"
   ]
  },
  {
   "cell_type": "code",
   "execution_count": 8,
   "metadata": {},
   "outputs": [],
   "source": [
    "query_renderer = QueryVizualizer(parser=PostgresParser(is_compact=True))"
   ]
  },
  {
   "cell_type": "code",
   "execution_count": 9,
   "metadata": {},
   "outputs": [],
   "source": [
    "with create_engine(con_str).connect() as con:\n",
    "    execution_plan = con.execute(\"DROP INDEX if exists titles_index\")"
   ]
  },
  {
   "cell_type": "code",
   "execution_count": 10,
   "metadata": {},
   "outputs": [],
   "source": [
    "query1 = \"\"\"\n",
    "SELECT titles.title_id\n",
    "FROM titles\n",
    "INNER JOIN crew ON crew.title_id = titles.title_id\n",
    "INNER JOIN people ON people.person_id = crew.person_id\n",
    "WHERE genres = 'Comedy' \n",
    "  AND name in ('Owen Wilson', 'Adam Sandler', 'Jason Segel')\n",
    "\"\"\"\n",
    "\n",
    "\n",
    "query2 = \"\"\"\n",
    "SELECT titles.title_id\n",
    "FROM titles\n",
    "WHERE genres = 'Comedy' \n",
    "UNION \n",
    "SELECT titles.title_id\n",
    "FROM titles\n",
    "WHERE genres = 'Action' \n",
    "\"\"\"\n",
    "\n",
    "queries = [query1, query2]\n"
   ]
  },
  {
   "cell_type": "code",
   "execution_count": 11,
   "metadata": {},
   "outputs": [
    {
     "name": "stderr",
     "output_type": "stream",
     "text": [
      "WARNING:root:Currently cache cleaning is not supported\n",
      "WARNING:root:Currently cache cleaning is not supported\n"
     ]
    },
    {
     "data": {
      "application/vnd.plotly.v1+json": {
       "config": {
        "linkText": "Export to plot.ly",
        "plotlyServerURL": "https://plot.ly",
        "showLink": false
       },
       "data": [
        {
         "link": {
          "color": [
           "#ffffb2",
           "#ffffb2",
           "#ffffb2",
           "#b2ffb2",
           "#b2ffb2",
           "#b2ffb2",
           "#b2ffb2",
           "#b2ffb2",
           "#ffffb2",
           "#ffffb2",
           "#b2ffb2",
           "#ffffb2",
           "#b2ffb2"
          ],
          "label": [
           "\nDescription: Filter relation to hold only relevant records.Filter condition: (titles_1.genres = 'Action'::text)",
           "\nDescription: Used in a UNION to merge multiple record sets by appending them together.",
           "\nDescription: Remove duplicated rows from a record set.",
           "\nDescription: Finds relevant records by sequentially scanning the input record set. When reading from a table, Seq Scans (unlike Index Scans) perform a single read operation (only the table is read).",
           "\nDescription: Filter relation to hold only relevant records.Filter condition: (people.name = ANY ('{\"Owen Wilson\",\"Adam Sandler\",\"Jason Segel\"}'::text[]))",
           "\nDescription: Finds relevant records by sequentially scanning the input record set. When reading from a table, Seq Scans (unlike Index Scans) perform a single read operation (only the table is read).",
           "\nDescription: Joins to record sets by hashing one of them (using a Hash Scan).Inner join with (crew.person_id = people.person_id)",
           "\nDescription: Finds relevant records by sequentially scanning the input record set. When reading from a table, Seq Scans (unlike Index Scans) perform a single read operation (only the table is read).",
           "\nDescription: Finds relevant records by sequentially scanning the input record set. When reading from a table, Seq Scans (unlike Index Scans) perform a single read operation (only the table is read).",
           "\nDescription: Finds relevant records by sequentially scanning the input record set. When reading from a table, Seq Scans (unlike Index Scans) perform a single read operation (only the table is read).",
           "\nDescription: Filter relation to hold only relevant records.Filter condition: (titles.genres = 'Comedy'::text)",
           "\nDescription: Filter relation to hold only relevant records.Filter condition: (titles.genres = 'Comedy'::text)",
           "\nDescription: Joins to record sets by hashing one of them (using a Hash Scan).Inner join with (titles.title_id = crew.title_id)"
          ],
          "source": [
           0,
           1,
           2,
           3,
           4,
           5,
           6,
           7,
           7,
           7,
           8,
           8,
           9
          ],
          "target": [
           1,
           2,
           11,
           4,
           6,
           6,
           9,
           8,
           8,
           0,
           9,
           1,
           10
          ],
          "value": [
           1,
           232,
           346,
           538,
           1,
           1490,
           2238,
           404,
           406,
           583,
           -1,
           1,
           432
          ]
         },
         "node": {
          "color": [
           "black",
           "black",
           "black",
           "black",
           "black",
           "black",
           "black",
           "black",
           "black",
           "black",
           "black",
           "black",
           "black"
          ],
          "label": [
           "Titles*",
           "Titles* U Titles*",
           "Unique",
           "People",
           "People*",
           "Crew",
           "People* ⋈ Crew",
           "Titles",
           "Titles*",
           "People* ⋈ Crew ⋈ Titles*"
          ],
          "pad": 200
         },
         "orientation": "h",
         "type": "sankey",
         "valueformat": ",",
         "valuesuffix": [
          " Seconds",
          " Seconds",
          " Seconds",
          " Seconds",
          " Seconds",
          " Seconds",
          " Seconds",
          " Seconds",
          " Seconds",
          " Seconds",
          " Seconds",
          " Seconds",
          " Seconds"
         ]
        }
       ],
       "layout": {
        "font": {
         "size": 10
        },
        "height": 750,
        "title": "crap",
        "updatemenus": [
         {
          "buttons": [
           {
            "args": [
             "orientation",
             "h"
            ],
            "label": "Horizontal",
            "method": "restyle"
           },
           {
            "args": [
             "orientation",
             "v"
            ],
            "label": "Vertical",
            "method": "restyle"
           }
          ],
          "y": 0.6
         }
        ]
       }
      },
      "text/html": [
       "<div>\n",
       "        \n",
       "        \n",
       "            <div id=\"e1ea32bd-4edf-4da0-a629-d249175d76fb\" class=\"plotly-graph-div\" style=\"height:750px; width:100%;\"></div>\n",
       "            <script type=\"text/javascript\">\n",
       "                require([\"plotly\"], function(Plotly) {\n",
       "                    window.PLOTLYENV=window.PLOTLYENV || {};\n",
       "                    \n",
       "                if (document.getElementById(\"e1ea32bd-4edf-4da0-a629-d249175d76fb\")) {\n",
       "                    Plotly.newPlot(\n",
       "                        'e1ea32bd-4edf-4da0-a629-d249175d76fb',\n",
       "                        [{\"link\": {\"color\": [\"#ffffb2\", \"#ffffb2\", \"#ffffb2\", \"#b2ffb2\", \"#b2ffb2\", \"#b2ffb2\", \"#b2ffb2\", \"#b2ffb2\", \"#ffffb2\", \"#ffffb2\", \"#b2ffb2\", \"#ffffb2\", \"#b2ffb2\"], \"label\": [\"\\nDescription: Filter relation to hold only relevant records.Filter condition: (titles_1.genres = 'Action'::text)\", \"\\nDescription: Used in a UNION to merge multiple record sets by appending them together.\", \"\\nDescription: Remove duplicated rows from a record set.\", \"\\nDescription: Finds relevant records by sequentially scanning the input record set. When reading from a table, Seq Scans (unlike Index Scans) perform a single read operation (only the table is read).\", \"\\nDescription: Filter relation to hold only relevant records.Filter condition: (people.name = ANY ('{\\\"Owen Wilson\\\",\\\"Adam Sandler\\\",\\\"Jason Segel\\\"}'::text[]))\", \"\\nDescription: Finds relevant records by sequentially scanning the input record set. When reading from a table, Seq Scans (unlike Index Scans) perform a single read operation (only the table is read).\", \"\\nDescription: Joins to record sets by hashing one of them (using a Hash Scan).Inner join with (crew.person_id = people.person_id)\", \"\\nDescription: Finds relevant records by sequentially scanning the input record set. When reading from a table, Seq Scans (unlike Index Scans) perform a single read operation (only the table is read).\", \"\\nDescription: Finds relevant records by sequentially scanning the input record set. When reading from a table, Seq Scans (unlike Index Scans) perform a single read operation (only the table is read).\", \"\\nDescription: Finds relevant records by sequentially scanning the input record set. When reading from a table, Seq Scans (unlike Index Scans) perform a single read operation (only the table is read).\", \"\\nDescription: Filter relation to hold only relevant records.Filter condition: (titles.genres = 'Comedy'::text)\", \"\\nDescription: Filter relation to hold only relevant records.Filter condition: (titles.genres = 'Comedy'::text)\", \"\\nDescription: Joins to record sets by hashing one of them (using a Hash Scan).Inner join with (titles.title_id = crew.title_id)\"], \"source\": [0, 1, 2, 3, 4, 5, 6, 7, 7, 7, 8, 8, 9], \"target\": [1, 2, 11, 4, 6, 6, 9, 8, 8, 0, 9, 1, 10], \"value\": [1, 232, 346, 538, 1, 1490, 2238, 404, 406, 583, -1, 1, 432]}, \"node\": {\"color\": [\"black\", \"black\", \"black\", \"black\", \"black\", \"black\", \"black\", \"black\", \"black\", \"black\", \"black\", \"black\", \"black\"], \"label\": [\"Titles*\", \"Titles* U Titles*\", \"Unique\", \"People\", \"People*\", \"Crew\", \"People* \\u22c8 Crew\", \"Titles\", \"Titles*\", \"People* \\u22c8 Crew \\u22c8 Titles*\"], \"pad\": 200}, \"orientation\": \"h\", \"type\": \"sankey\", \"valueformat\": \",\", \"valuesuffix\": [\" Seconds\", \" Seconds\", \" Seconds\", \" Seconds\", \" Seconds\", \" Seconds\", \" Seconds\", \" Seconds\", \" Seconds\", \" Seconds\", \" Seconds\", \" Seconds\", \" Seconds\"]}],\n",
       "                        {\"font\": {\"size\": 10}, \"height\": 750, \"title\": \"crap\", \"updatemenus\": [{\"buttons\": [{\"args\": [\"orientation\", \"h\"], \"label\": \"Horizontal\", \"method\": \"restyle\"}, {\"args\": [\"orientation\", \"v\"], \"label\": \"Vertical\", \"method\": \"restyle\"}], \"y\": 0.6}]},\n",
       "                        {\"responsive\": true}\n",
       "                    ).then(function(){\n",
       "                            \n",
       "var gd = document.getElementById('e1ea32bd-4edf-4da0-a629-d249175d76fb');\n",
       "var x = new MutationObserver(function (mutations, observer) {{\n",
       "        var display = window.getComputedStyle(gd).display;\n",
       "        if (!display || display === 'none') {{\n",
       "            console.log([gd, 'removed!']);\n",
       "            Plotly.purge(gd);\n",
       "            observer.disconnect();\n",
       "        }}\n",
       "}});\n",
       "\n",
       "// Listen for the removal of the full notebook cells\n",
       "var notebookContainer = gd.closest('#notebook-container');\n",
       "if (notebookContainer) {{\n",
       "    x.observe(notebookContainer, {childList: true});\n",
       "}}\n",
       "\n",
       "// Listen for the clearing of the current output cell\n",
       "var outputEl = gd.closest('.output');\n",
       "if (outputEl) {{\n",
       "    x.observe(outputEl, {childList: true});\n",
       "}}\n",
       "\n",
       "                        })\n",
       "                };\n",
       "                });\n",
       "            </script>\n",
       "        </div>"
      ]
     },
     "metadata": {},
     "output_type": "display_data"
    }
   ],
   "source": [
    "flow_df = query_renderer.get_flow_df(queries, con_str=con_str)\n",
    "query_renderer.vizualize(flow_df, metrics=[\"actual_duration\"], title=\"crap\",open_=False)"
   ]
  },
  {
   "cell_type": "code",
   "execution_count": 12,
   "metadata": {},
   "outputs": [
    {
     "name": "stderr",
     "output_type": "stream",
     "text": [
      "WARNING:root:Currently cache cleaning is not supported\n",
      "WARNING:root:Currently cache cleaning is not supported\n"
     ]
    },
    {
     "data": {
      "application/vnd.plotly.v1+json": {
       "config": {
        "linkText": "Export to plot.ly",
        "plotlyServerURL": "https://plot.ly",
        "showLink": false
       },
       "data": [
        {
         "link": {
          "color": [
           "#ffffb2",
           "#ffffb2",
           "#ffffb2",
           "#b2ffb2",
           "#b2ffb2",
           "#b2ffb2",
           "#b2ffb2",
           "#b2ffb2",
           "#ffffb2",
           "#ffffb2",
           "#b2ffb2",
           "#ffffb2",
           "#b2ffb2"
          ],
          "label": [
           "\nDescription: Filter relation to hold only relevant records.Filter condition: (titles_1.genres = 'Action'::text)",
           "\nDescription: Used in a UNION to merge multiple record sets by appending them together.",
           "\nDescription: Remove duplicated rows from a record set.",
           "\nDescription: Finds relevant records by sequentially scanning the input record set. When reading from a table, Seq Scans (unlike Index Scans) perform a single read operation (only the table is read).",
           "\nDescription: Filter relation to hold only relevant records.Filter condition: (people.name = ANY ('{\"Owen Wilson\",\"Adam Sandler\",\"Jason Segel\"}'::text[]))",
           "\nDescription: Finds relevant records by sequentially scanning the input record set. When reading from a table, Seq Scans (unlike Index Scans) perform a single read operation (only the table is read).",
           "\nDescription: Joins to record sets by hashing one of them (using a Hash Scan).Inner join with (crew.person_id = people.person_id)",
           "\nDescription: Finds relevant records by sequentially scanning the input record set. When reading from a table, Seq Scans (unlike Index Scans) perform a single read operation (only the table is read).",
           "\nDescription: Finds relevant records by sequentially scanning the input record set. When reading from a table, Seq Scans (unlike Index Scans) perform a single read operation (only the table is read).",
           "\nDescription: Finds relevant records by sequentially scanning the input record set. When reading from a table, Seq Scans (unlike Index Scans) perform a single read operation (only the table is read).",
           "\nDescription: Filter relation to hold only relevant records.Filter condition: (titles.genres = 'Comedy'::text)",
           "\nDescription: Filter relation to hold only relevant records.Filter condition: (titles.genres = 'Comedy'::text)",
           "\nDescription: Joins to record sets by hashing one of them (using a Hash Scan).Inner join with (titles.title_id = crew.title_id)"
          ],
          "source": [
           0,
           1,
           2,
           3,
           4,
           5,
           6,
           7,
           7,
           7,
           8,
           8,
           9
          ],
          "target": [
           1,
           2,
           11,
           4,
           6,
           6,
           9,
           8,
           8,
           0,
           9,
           1,
           10
          ],
          "value": [
           15538,
           181653,
           544958,
           3446261,
           3,
           13651901,
           565,
           2379234,
           2379234,
           3568850,
           171294,
           171294,
           15
          ]
         },
         "node": {
          "color": [
           "black",
           "black",
           "black",
           "black",
           "black",
           "black",
           "black",
           "black",
           "black",
           "black",
           "black",
           "black",
           "black"
          ],
          "label": [
           "Titles*",
           "Titles* U Titles*",
           "Unique",
           "People",
           "People*",
           "Crew",
           "People* ⋈ Crew",
           "Titles",
           "Titles*",
           "People* ⋈ Crew ⋈ Titles*"
          ],
          "pad": 200
         },
         "orientation": "h",
         "type": "sankey",
         "valueformat": ",",
         "valuesuffix": [
          " Rows",
          " Rows",
          " Rows",
          " Rows",
          " Rows",
          " Rows",
          " Rows",
          " Rows",
          " Rows",
          " Rows",
          " Rows",
          " Rows",
          " Rows"
         ]
        }
       ],
       "layout": {
        "font": {
         "size": 10
        },
        "height": 750,
        "title": "crap",
        "updatemenus": [
         {
          "buttons": [
           {
            "args": [
             "orientation",
             "h"
            ],
            "label": "Horizontal",
            "method": "restyle"
           },
           {
            "args": [
             "orientation",
             "v"
            ],
            "label": "Vertical",
            "method": "restyle"
           }
          ],
          "y": 0.6
         }
        ]
       }
      },
      "text/html": [
       "<div>\n",
       "        \n",
       "        \n",
       "            <div id=\"0174975a-1659-41b5-bb57-62035f98cedb\" class=\"plotly-graph-div\" style=\"height:750px; width:100%;\"></div>\n",
       "            <script type=\"text/javascript\">\n",
       "                require([\"plotly\"], function(Plotly) {\n",
       "                    window.PLOTLYENV=window.PLOTLYENV || {};\n",
       "                    \n",
       "                if (document.getElementById(\"0174975a-1659-41b5-bb57-62035f98cedb\")) {\n",
       "                    Plotly.newPlot(\n",
       "                        '0174975a-1659-41b5-bb57-62035f98cedb',\n",
       "                        [{\"link\": {\"color\": [\"#ffffb2\", \"#ffffb2\", \"#ffffb2\", \"#b2ffb2\", \"#b2ffb2\", \"#b2ffb2\", \"#b2ffb2\", \"#b2ffb2\", \"#ffffb2\", \"#ffffb2\", \"#b2ffb2\", \"#ffffb2\", \"#b2ffb2\"], \"label\": [\"\\nDescription: Filter relation to hold only relevant records.Filter condition: (titles_1.genres = 'Action'::text)\", \"\\nDescription: Used in a UNION to merge multiple record sets by appending them together.\", \"\\nDescription: Remove duplicated rows from a record set.\", \"\\nDescription: Finds relevant records by sequentially scanning the input record set. When reading from a table, Seq Scans (unlike Index Scans) perform a single read operation (only the table is read).\", \"\\nDescription: Filter relation to hold only relevant records.Filter condition: (people.name = ANY ('{\\\"Owen Wilson\\\",\\\"Adam Sandler\\\",\\\"Jason Segel\\\"}'::text[]))\", \"\\nDescription: Finds relevant records by sequentially scanning the input record set. When reading from a table, Seq Scans (unlike Index Scans) perform a single read operation (only the table is read).\", \"\\nDescription: Joins to record sets by hashing one of them (using a Hash Scan).Inner join with (crew.person_id = people.person_id)\", \"\\nDescription: Finds relevant records by sequentially scanning the input record set. When reading from a table, Seq Scans (unlike Index Scans) perform a single read operation (only the table is read).\", \"\\nDescription: Finds relevant records by sequentially scanning the input record set. When reading from a table, Seq Scans (unlike Index Scans) perform a single read operation (only the table is read).\", \"\\nDescription: Finds relevant records by sequentially scanning the input record set. When reading from a table, Seq Scans (unlike Index Scans) perform a single read operation (only the table is read).\", \"\\nDescription: Filter relation to hold only relevant records.Filter condition: (titles.genres = 'Comedy'::text)\", \"\\nDescription: Filter relation to hold only relevant records.Filter condition: (titles.genres = 'Comedy'::text)\", \"\\nDescription: Joins to record sets by hashing one of them (using a Hash Scan).Inner join with (titles.title_id = crew.title_id)\"], \"source\": [0, 1, 2, 3, 4, 5, 6, 7, 7, 7, 8, 8, 9], \"target\": [1, 2, 11, 4, 6, 6, 9, 8, 8, 0, 9, 1, 10], \"value\": [15538, 181653, 544958, 3446261, 3, 13651901, 565, 2379234, 2379234, 3568850, 171294, 171294, 15]}, \"node\": {\"color\": [\"black\", \"black\", \"black\", \"black\", \"black\", \"black\", \"black\", \"black\", \"black\", \"black\", \"black\", \"black\", \"black\"], \"label\": [\"Titles*\", \"Titles* U Titles*\", \"Unique\", \"People\", \"People*\", \"Crew\", \"People* \\u22c8 Crew\", \"Titles\", \"Titles*\", \"People* \\u22c8 Crew \\u22c8 Titles*\"], \"pad\": 200}, \"orientation\": \"h\", \"type\": \"sankey\", \"valueformat\": \",\", \"valuesuffix\": [\" Rows\", \" Rows\", \" Rows\", \" Rows\", \" Rows\", \" Rows\", \" Rows\", \" Rows\", \" Rows\", \" Rows\", \" Rows\", \" Rows\", \" Rows\"]}],\n",
       "                        {\"font\": {\"size\": 10}, \"height\": 750, \"title\": \"crap\", \"updatemenus\": [{\"buttons\": [{\"args\": [\"orientation\", \"h\"], \"label\": \"Horizontal\", \"method\": \"restyle\"}, {\"args\": [\"orientation\", \"v\"], \"label\": \"Vertical\", \"method\": \"restyle\"}], \"y\": 0.6}]},\n",
       "                        {\"responsive\": true}\n",
       "                    ).then(function(){\n",
       "                            \n",
       "var gd = document.getElementById('0174975a-1659-41b5-bb57-62035f98cedb');\n",
       "var x = new MutationObserver(function (mutations, observer) {{\n",
       "        var display = window.getComputedStyle(gd).display;\n",
       "        if (!display || display === 'none') {{\n",
       "            console.log([gd, 'removed!']);\n",
       "            Plotly.purge(gd);\n",
       "            observer.disconnect();\n",
       "        }}\n",
       "}});\n",
       "\n",
       "// Listen for the removal of the full notebook cells\n",
       "var notebookContainer = gd.closest('#notebook-container');\n",
       "if (notebookContainer) {{\n",
       "    x.observe(notebookContainer, {childList: true});\n",
       "}}\n",
       "\n",
       "// Listen for the clearing of the current output cell\n",
       "var outputEl = gd.closest('.output');\n",
       "if (outputEl) {{\n",
       "    x.observe(outputEl, {childList: true});\n",
       "}}\n",
       "\n",
       "                        })\n",
       "                };\n",
       "                });\n",
       "            </script>\n",
       "        </div>"
      ]
     },
     "metadata": {},
     "output_type": "display_data"
    }
   ],
   "source": [
    "flow_df = query_renderer.get_flow_df(queries, con_str=con_str)\n",
    "query_renderer.vizualize(flow_df, metrics=[\"actual_rows\"], title=\"crap\",open_=False)"
   ]
  },
  {
   "cell_type": "code",
   "execution_count": 18,
   "metadata": {},
   "outputs": [],
   "source": [
    "with create_engine(con_str).connect() as con:\n",
    "    execution_plan = con.execute(\"CREATE INDEX if not exists titles_index ON titles(title_id,genres) WHERE genres ='Comedy'\")"
   ]
  },
  {
   "cell_type": "code",
   "execution_count": 43,
   "metadata": {},
   "outputs": [
    {
     "name": "stderr",
     "output_type": "stream",
     "text": [
      "WARNING:root:Currently cache cleaning is not supported\n",
      "WARNING:root:Currently cache cleaning is not supported\n"
     ]
    }
   ],
   "source": [
    "flow_df = query_renderer.get_flow_df(queries, con_str=con_str)\n",
    "# query_renderer.vizualize(flow_df, metrics=[\"actual_duration\"], title=\"crap\",open_=False)"
   ]
  },
  {
   "cell_type": "code",
   "execution_count": 51,
   "metadata": {},
   "outputs": [
    {
     "name": "stderr",
     "output_type": "stream",
     "text": [
      "WARNING:root:Currently cache cleaning is not supported\n",
      "WARNING:root:Currently cache cleaning is not supported\n"
     ]
    },
    {
     "data": {
      "application/vnd.plotly.v1+json": {
       "config": {
        "linkText": "Export to plot.ly",
        "plotlyServerURL": "https://plot.ly",
        "showLink": false
       },
       "data": [
        {
         "link": {
          "color": [
           "#b2ffb2",
           "#b2ffb2",
           "#b2ffb2",
           "#b2ffb2",
           "#b2ffb2",
           "#b2ffb2",
           "#ffffb2",
           "#ffffb2",
           "#ffffb2",
           "#ffffb2",
           "#ffffb2",
           "#ffffb2",
           "#b2ffb2"
          ],
          "label": [
           "\nDescription: Finds relevant records by sequentially scanning the input record set. When reading from a table, Seq Scans (unlike Index Scans) perform a single read operation (only the table is read).",
           "\nDescription: Filter relation to hold only relevant records.Filter condition: (titles_1.genres = 'Action'::text)",
           "\nDescription: Uses a Bitmap Index (index which uses 1 bit per page) to find all relevant pages. Results of this node are fed to the Bitmap Heap Scan.",
           "\nDescription: Searches through the pages returned by the Bitmap Index Scan for relevant rows.",
           "\nDescription: Used in a UNION to merge multiple record sets by appending them together.",
           "\nDescription: Remove duplicated rows from a record set.",
           "\nDescription: Finds relevant records based on an Index. Index Only Scans perform a single read operation from the index and do not read from the corresponding table.",
           "\nDescription: Finds relevant records by sequentially scanning the input record set. When reading from a table, Seq Scans (unlike Index Scans) perform a single read operation (only the table is read).",
           "\nDescription: Filter relation to hold only relevant records.Filter condition: (people.name = ANY ('{\"Owen Wilson\",\"Adam Sandler\",\"Jason Segel\"}'::text[]))",
           "\nDescription: Finds relevant records by sequentially scanning the input record set. When reading from a table, Seq Scans (unlike Index Scans) perform a single read operation (only the table is read).",
           "\nDescription: Joins to record sets by hashing one of them (using a Hash Scan).Inner Join with ( c r e w . p e r s o n _ i d   =   p e o p l e . p e r s o n _ i d )",
           "\nDescription: Merges two record sets by looping through every record in the first set and trying to find a match in the second set. All matching records are returned.Inner Join",
           null
          ],
          "source": [
           0,
           1,
           2,
           3,
           4,
           5,
           2,
           7,
           8,
           9,
           10,
           11,
           3
          ],
          "target": [
           1,
           4,
           3,
           4,
           5,
           13,
           3,
           8,
           10,
           10,
           11,
           12,
           11
          ],
          "value": [
           724,
           1,
           71,
           1111,
           850,
           644,
           1,
           939,
           1,
           2472,
           3804,
           18,
           10
          ]
         },
         "node": {
          "color": [
           "black",
           "black",
           "black",
           "black",
           "black",
           "black",
           "black",
           "black",
           "black",
           "black",
           "black",
           "black",
           "black"
          ],
          "label": [
           "Titles",
           "Titles*",
           "Titles_Index",
           "Titles*",
           "Titles* U Titles",
           "Unique",
           "Titles_Index",
           "People",
           "People*",
           "Crew",
           "People* ⋈ Crew",
           "Titles_Index ⋈ People* ⋈ Crew",
           ""
          ],
          "pad": 200
         },
         "orientation": "h",
         "type": "sankey",
         "valueformat": ",",
         "valuesuffix": [
          " Seconds",
          " Seconds",
          " Seconds",
          " Seconds",
          " Seconds",
          " Seconds",
          " Seconds",
          " Seconds",
          " Seconds",
          " Seconds",
          " Seconds",
          " Seconds",
          " Seconds"
         ]
        }
       ],
       "layout": {
        "font": {
         "size": 10
        },
        "height": 750,
        "title": "crap",
        "updatemenus": [
         {
          "buttons": [
           {
            "args": [
             "orientation",
             "h"
            ],
            "label": "Horizontal",
            "method": "restyle"
           },
           {
            "args": [
             "orientation",
             "v"
            ],
            "label": "Vertical",
            "method": "restyle"
           }
          ],
          "y": 0.6
         }
        ]
       }
      },
      "text/html": [
       "<div>\n",
       "        \n",
       "        \n",
       "            <div id=\"742c2810-ac4f-4e54-8767-5ab7dc2451b6\" class=\"plotly-graph-div\" style=\"height:750px; width:100%;\"></div>\n",
       "            <script type=\"text/javascript\">\n",
       "                require([\"plotly\"], function(Plotly) {\n",
       "                    window.PLOTLYENV=window.PLOTLYENV || {};\n",
       "                    \n",
       "                if (document.getElementById(\"742c2810-ac4f-4e54-8767-5ab7dc2451b6\")) {\n",
       "                    Plotly.newPlot(\n",
       "                        '742c2810-ac4f-4e54-8767-5ab7dc2451b6',\n",
       "                        [{\"link\": {\"color\": [\"#b2ffb2\", \"#b2ffb2\", \"#b2ffb2\", \"#b2ffb2\", \"#b2ffb2\", \"#b2ffb2\", \"#ffffb2\", \"#ffffb2\", \"#ffffb2\", \"#ffffb2\", \"#ffffb2\", \"#ffffb2\", \"#b2ffb2\"], \"label\": [\"\\nDescription: Finds relevant records by sequentially scanning the input record set. When reading from a table, Seq Scans (unlike Index Scans) perform a single read operation (only the table is read).\", \"\\nDescription: Filter relation to hold only relevant records.Filter condition: (titles_1.genres = 'Action'::text)\", \"\\nDescription: Uses a Bitmap Index (index which uses 1 bit per page) to find all relevant pages. Results of this node are fed to the Bitmap Heap Scan.\", \"\\nDescription: Searches through the pages returned by the Bitmap Index Scan for relevant rows.\", \"\\nDescription: Used in a UNION to merge multiple record sets by appending them together.\", \"\\nDescription: Remove duplicated rows from a record set.\", \"\\nDescription: Finds relevant records based on an Index. Index Only Scans perform a single read operation from the index and do not read from the corresponding table.\", \"\\nDescription: Finds relevant records by sequentially scanning the input record set. When reading from a table, Seq Scans (unlike Index Scans) perform a single read operation (only the table is read).\", \"\\nDescription: Filter relation to hold only relevant records.Filter condition: (people.name = ANY ('{\\\"Owen Wilson\\\",\\\"Adam Sandler\\\",\\\"Jason Segel\\\"}'::text[]))\", \"\\nDescription: Finds relevant records by sequentially scanning the input record set. When reading from a table, Seq Scans (unlike Index Scans) perform a single read operation (only the table is read).\", \"\\nDescription: Joins to record sets by hashing one of them (using a Hash Scan).Inner Join with ( c r e w . p e r s o n _ i d   =   p e o p l e . p e r s o n _ i d )\", \"\\nDescription: Merges two record sets by looping through every record in the first set and trying to find a match in the second set. All matching records are returned.Inner Join\", null], \"source\": [0, 1, 2, 3, 4, 5, 2, 7, 8, 9, 10, 11, 3], \"target\": [1, 4, 3, 4, 5, 13, 3, 8, 10, 10, 11, 12, 11], \"value\": [724, 1, 71, 1111, 850, 644, 1, 939, 1, 2472, 3804, 18, 10]}, \"node\": {\"color\": [\"black\", \"black\", \"black\", \"black\", \"black\", \"black\", \"black\", \"black\", \"black\", \"black\", \"black\", \"black\", \"black\"], \"label\": [\"Titles\", \"Titles*\", \"Titles_Index\", \"Titles*\", \"Titles* U Titles\", \"Unique\", \"Titles_Index\", \"People\", \"People*\", \"Crew\", \"People* \\u22c8 Crew\", \"Titles_Index \\u22c8 People* \\u22c8 Crew\", \"\"], \"pad\": 200}, \"orientation\": \"h\", \"type\": \"sankey\", \"valueformat\": \",\", \"valuesuffix\": [\" Seconds\", \" Seconds\", \" Seconds\", \" Seconds\", \" Seconds\", \" Seconds\", \" Seconds\", \" Seconds\", \" Seconds\", \" Seconds\", \" Seconds\", \" Seconds\", \" Seconds\"]}],\n",
       "                        {\"font\": {\"size\": 10}, \"height\": 750, \"title\": \"crap\", \"updatemenus\": [{\"buttons\": [{\"args\": [\"orientation\", \"h\"], \"label\": \"Horizontal\", \"method\": \"restyle\"}, {\"args\": [\"orientation\", \"v\"], \"label\": \"Vertical\", \"method\": \"restyle\"}], \"y\": 0.6}]},\n",
       "                        {\"responsive\": true}\n",
       "                    ).then(function(){\n",
       "                            \n",
       "var gd = document.getElementById('742c2810-ac4f-4e54-8767-5ab7dc2451b6');\n",
       "var x = new MutationObserver(function (mutations, observer) {{\n",
       "        var display = window.getComputedStyle(gd).display;\n",
       "        if (!display || display === 'none') {{\n",
       "            console.log([gd, 'removed!']);\n",
       "            Plotly.purge(gd);\n",
       "            observer.disconnect();\n",
       "        }}\n",
       "}});\n",
       "\n",
       "// Listen for the removal of the full notebook cells\n",
       "var notebookContainer = gd.closest('#notebook-container');\n",
       "if (notebookContainer) {{\n",
       "    x.observe(notebookContainer, {childList: true});\n",
       "}}\n",
       "\n",
       "// Listen for the clearing of the current output cell\n",
       "var outputEl = gd.closest('.output');\n",
       "if (outputEl) {{\n",
       "    x.observe(outputEl, {childList: true});\n",
       "}}\n",
       "\n",
       "                        })\n",
       "                };\n",
       "                });\n",
       "            </script>\n",
       "        </div>"
      ]
     },
     "metadata": {},
     "output_type": "display_data"
    }
   ],
   "source": [
    "flow_df = query_renderer.get_flow_df(queries, con_str=con_str)\n",
    "flow_df.loc[3, \"label\"] =  'Titles*'\n",
    "flow_df.loc[6, \"source\"] = 2\n",
    "flow_df.loc[6, \"target\"] = 3\n",
    "flow_df = flow_df.append({\"actual_duration\": 10, \"source\": 3, \"target\": 11, \"label\": \"\", \"redundent_operation\":False}, ignore_index=True)\n",
    "flow_df[[\"actual_duration\", \"source\", \"target\", \"label\"]]\n",
    "query_renderer.vizualize(flow_df, metrics=[\"actual_duration\"], title=\"crap\",open_=False)"
   ]
  },
  {
   "cell_type": "code",
   "execution_count": 15,
   "metadata": {},
   "outputs": [],
   "source": [
    "with create_engine(con_str).connect() as con:\n",
    "    execution_plan = con.execute(\"DROP INDEX if exists titles_index\")"
   ]
  },
  {
   "cell_type": "code",
   "execution_count": null,
   "metadata": {},
   "outputs": [],
   "source": []
  },
  {
   "cell_type": "code",
   "execution_count": null,
   "metadata": {},
   "outputs": [],
   "source": []
  },
  {
   "cell_type": "code",
   "execution_count": null,
   "metadata": {},
   "outputs": [],
   "source": []
  },
  {
   "cell_type": "code",
   "execution_count": null,
   "metadata": {},
   "outputs": [],
   "source": []
  },
  {
   "cell_type": "code",
   "execution_count": null,
   "metadata": {},
   "outputs": [],
   "source": []
  },
  {
   "cell_type": "code",
   "execution_count": null,
   "metadata": {},
   "outputs": [],
   "source": []
  },
  {
   "cell_type": "code",
   "execution_count": null,
   "metadata": {},
   "outputs": [],
   "source": []
  }
 ],
 "metadata": {
  "kernelspec": {
   "display_name": "Python 3",
   "language": "python",
   "name": "python3"
  },
  "language_info": {
   "codemirror_mode": {
    "name": "ipython",
    "version": 3
   },
   "file_extension": ".py",
   "mimetype": "text/x-python",
   "name": "python",
   "nbconvert_exporter": "python",
   "pygments_lexer": "ipython3",
   "version": "3.7.4"
  }
 },
 "nbformat": 4,
 "nbformat_minor": 4
}
