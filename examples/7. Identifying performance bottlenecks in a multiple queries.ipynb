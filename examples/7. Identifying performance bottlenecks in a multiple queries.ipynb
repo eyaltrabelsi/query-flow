{
 "cells": [
  {
   "cell_type": "code",
   "execution_count": 1,
   "metadata": {},
   "outputs": [],
   "source": [
    "import pandas as pd\n",
    "\n",
    "from plotly.offline import init_notebook_mode\n",
    "from sqlalchemy import create_engine\n",
    "\n",
    "from query_flow.parsers.postgres_parser import PostgresParser\n",
    "from query_flow.vizualizers.query_vizualizer import QueryVizualizer\n",
    "from plotly.offline import plot, iplot\n"
   ]
  },
  {
   "cell_type": "code",
   "execution_count": 2,
   "metadata": {},
   "outputs": [
    {
     "data": {
      "text/html": [
       "        <script type=\"text/javascript\">\n",
       "        window.PlotlyConfig = {MathJaxConfig: 'local'};\n",
       "        if (window.MathJax) {MathJax.Hub.Config({SVG: {font: \"STIX-Web\"}});}\n",
       "        if (typeof require !== 'undefined') {\n",
       "        require.undef(\"plotly\");\n",
       "        requirejs.config({\n",
       "            paths: {\n",
       "                'plotly': ['https://cdn.plot.ly/plotly-latest.min']\n",
       "            }\n",
       "        });\n",
       "        require(['plotly'], function(Plotly) {\n",
       "            window._Plotly = Plotly;\n",
       "        });\n",
       "        }\n",
       "        </script>\n",
       "        "
      ]
     },
     "metadata": {},
     "output_type": "display_data"
    }
   ],
   "source": [
    "%load_ext autoreload\n",
    "%autoreload 2\n",
    "\n",
    "init_notebook_mode(connected=True)"
   ]
  },
  {
   "cell_type": "code",
   "execution_count": 3,
   "metadata": {},
   "outputs": [],
   "source": [
    "con_str = 'postgresql:///etrabelsi_thesis'"
   ]
  },
  {
   "cell_type": "markdown",
   "metadata": {},
   "source": [
    "## Identifying performance bottlenecks in a multiple queries"
   ]
  },
  {
   "cell_type": "code",
   "execution_count": 13,
   "metadata": {},
   "outputs": [],
   "source": [
    "query_renderer = QueryVizualizer(parser=PostgresParser(is_compact=True))"
   ]
  },
  {
   "cell_type": "code",
   "execution_count": 54,
   "metadata": {},
   "outputs": [],
   "source": [
    "with create_engine(con_str).connect() as con:\n",
    "    con.execute(\"DROP INDEX if exists crew_index\")\n",
    "    con.execute(\"DROP INDEX if exists titles_index\")"
   ]
  },
  {
   "cell_type": "code",
   "execution_count": 55,
   "metadata": {},
   "outputs": [],
   "source": [
    "query1 = \"\"\"\n",
    "SELECT titles.title_id\n",
    "FROM titles\n",
    "INNER JOIN crew ON crew.title_id = titles.title_id\n",
    "INNER JOIN people ON people.person_id = crew.person_id\n",
    "WHERE genres = 'Comedy' \n",
    "  AND name in ('Owen Wilson', 'Adam Sandler', 'Jason Segel')\n",
    "\"\"\"\n",
    "\n",
    "\n",
    "query2 = \"\"\"\n",
    "SELECT titles.title_id\n",
    "FROM titles\n",
    "WHERE genres = 'Comedy' \n",
    "UNION ALL\n",
    "SELECT titles.title_id\n",
    "FROM titles\n",
    "WHERE genres = 'Action' \n",
    "\"\"\"\n",
    "\n",
    "queries = [query1, query2]\n"
   ]
  },
  {
   "cell_type": "code",
   "execution_count": 56,
   "metadata": {},
   "outputs": [
    {
     "name": "stdout",
     "output_type": "stream",
     "text": [
      "CPU times: user 34.9 ms, sys: 22.3 ms, total: 57.2 ms\n",
      "Wall time: 7.74 s\n"
     ]
    }
   ],
   "source": [
    "%%time\n",
    "with create_engine(con_str).connect() as con:\n",
    "    for query in queries:\n",
    "        con.execute(query)"
   ]
  },
  {
   "cell_type": "code",
   "execution_count": 57,
   "metadata": {},
   "outputs": [
    {
     "name": "stderr",
     "output_type": "stream",
     "text": [
      "WARNING:root:Currently cache cleaning is not supported\n",
      "WARNING:root:Currently cache cleaning is not supported\n"
     ]
    },
    {
     "data": {
      "application/vnd.plotly.v1+json": {
       "config": {
        "linkText": "Export to plot.ly",
        "plotlyServerURL": "https://plot.ly",
        "showLink": false
       },
       "data": [
        {
         "link": {
          "color": [
           "#ffffb2",
           "#ffffb2",
           "#b2ffb2",
           "#b2ffb2",
           "#b2ffb2",
           "#b2ffb2",
           "#b2ffb2",
           "#ffffb2",
           "#ffffb2",
           "#b2ffb2",
           "#ffffb2",
           "#b2ffb2"
          ],
          "label": [
           "\nDescription: Filter relation to hold only relevant records.Filter condition: (titles_1.genres = 'Action'::text)",
           "\nDescription: Used in a UNION to merge multiple record sets by appending them together.",
           "\nDescription: Finds relevant records by sequentially scanning the input record set. When reading from a table, Seq Scans (unlike Index Scans) perform a single read operation (only the table is read).",
           "\nDescription: Filter relation to hold only relevant records.Filter condition: (people.name = ANY ('{\"Owen Wilson\",\"Adam Sandler\",\"Jason Segel\"}'::text[]))",
           "\nDescription: Finds relevant records by sequentially scanning the input record set. When reading from a table, Seq Scans (unlike Index Scans) perform a single read operation (only the table is read).",
           "\nDescription: Joins to record sets by hashing one of them (using a Hash Scan).Inner Join with ( c r e w . p e r s o n _ i d   =   p e o p l e . p e r s o n _ i d )",
           "\nDescription: Finds relevant records by sequentially scanning the input record set. When reading from a table, Seq Scans (unlike Index Scans) perform a single read operation (only the table is read).",
           "\nDescription: Finds relevant records by sequentially scanning the input record set. When reading from a table, Seq Scans (unlike Index Scans) perform a single read operation (only the table is read).",
           "\nDescription: Finds relevant records by sequentially scanning the input record set. When reading from a table, Seq Scans (unlike Index Scans) perform a single read operation (only the table is read).",
           "\nDescription: Filter relation to hold only relevant records.Filter condition: (titles.genres = 'Comedy'::text)",
           "\nDescription: Filter relation to hold only relevant records.Filter condition: (titles.genres = 'Comedy'::text)",
           "\nDescription: Joins to record sets by hashing one of them (using a Hash Scan).Inner Join with ( t i t l e s . t i t l e _ i d   =   c r e w . t i t l e _ i d )"
          ],
          "source": [
           0,
           1,
           2,
           3,
           4,
           5,
           6,
           6,
           6,
           7,
           7,
           8
          ],
          "target": [
           1,
           10,
           3,
           5,
           5,
           8,
           7,
           7,
           0,
           8,
           1,
           9
          ],
          "value": [
           1,
           981,
           856,
           1,
           2971,
           3843,
           834,
           2135,
           789,
           1,
           1,
           875
          ]
         },
         "node": {
          "color": [
           "black",
           "black",
           "black",
           "black",
           "black",
           "black",
           "black",
           "black",
           "black",
           "black",
           "black",
           "black"
          ],
          "label": [
           "Titles*",
           "Titles* U Titles*",
           "People",
           "People*",
           "Crew",
           "People* ⋈ Crew",
           "Titles",
           "Titles*",
           "People* ⋈ Crew ⋈ Titles*"
          ],
          "pad": 200
         },
         "orientation": "h",
         "type": "sankey",
         "valueformat": ",",
         "valuesuffix": [
          " Seconds",
          " Seconds",
          " Seconds",
          " Seconds",
          " Seconds",
          " Seconds",
          " Seconds",
          " Seconds",
          " Seconds",
          " Seconds",
          " Seconds",
          " Seconds"
         ]
        }
       ],
       "layout": {
        "font": {
         "size": 10
        },
        "height": 750,
        "title": "multiple queries optimization-actual_duration",
        "updatemenus": [
         {
          "buttons": [
           {
            "args": [
             "orientation",
             "h"
            ],
            "label": "Horizontal",
            "method": "restyle"
           },
           {
            "args": [
             "orientation",
             "v"
            ],
            "label": "Vertical",
            "method": "restyle"
           }
          ],
          "y": 0.6
         }
        ]
       }
      },
      "text/html": [
       "<div>\n",
       "        \n",
       "        \n",
       "            <div id=\"f857715c-ad28-4b03-8e53-eba5aa7d9328\" class=\"plotly-graph-div\" style=\"height:750px; width:100%;\"></div>\n",
       "            <script type=\"text/javascript\">\n",
       "                require([\"plotly\"], function(Plotly) {\n",
       "                    window.PLOTLYENV=window.PLOTLYENV || {};\n",
       "                    \n",
       "                if (document.getElementById(\"f857715c-ad28-4b03-8e53-eba5aa7d9328\")) {\n",
       "                    Plotly.newPlot(\n",
       "                        'f857715c-ad28-4b03-8e53-eba5aa7d9328',\n",
       "                        [{\"link\": {\"color\": [\"#ffffb2\", \"#ffffb2\", \"#b2ffb2\", \"#b2ffb2\", \"#b2ffb2\", \"#b2ffb2\", \"#b2ffb2\", \"#ffffb2\", \"#ffffb2\", \"#b2ffb2\", \"#ffffb2\", \"#b2ffb2\"], \"label\": [\"\\nDescription: Filter relation to hold only relevant records.Filter condition: (titles_1.genres = 'Action'::text)\", \"\\nDescription: Used in a UNION to merge multiple record sets by appending them together.\", \"\\nDescription: Finds relevant records by sequentially scanning the input record set. When reading from a table, Seq Scans (unlike Index Scans) perform a single read operation (only the table is read).\", \"\\nDescription: Filter relation to hold only relevant records.Filter condition: (people.name = ANY ('{\\\"Owen Wilson\\\",\\\"Adam Sandler\\\",\\\"Jason Segel\\\"}'::text[]))\", \"\\nDescription: Finds relevant records by sequentially scanning the input record set. When reading from a table, Seq Scans (unlike Index Scans) perform a single read operation (only the table is read).\", \"\\nDescription: Joins to record sets by hashing one of them (using a Hash Scan).Inner Join with ( c r e w . p e r s o n _ i d   =   p e o p l e . p e r s o n _ i d )\", \"\\nDescription: Finds relevant records by sequentially scanning the input record set. When reading from a table, Seq Scans (unlike Index Scans) perform a single read operation (only the table is read).\", \"\\nDescription: Finds relevant records by sequentially scanning the input record set. When reading from a table, Seq Scans (unlike Index Scans) perform a single read operation (only the table is read).\", \"\\nDescription: Finds relevant records by sequentially scanning the input record set. When reading from a table, Seq Scans (unlike Index Scans) perform a single read operation (only the table is read).\", \"\\nDescription: Filter relation to hold only relevant records.Filter condition: (titles.genres = 'Comedy'::text)\", \"\\nDescription: Filter relation to hold only relevant records.Filter condition: (titles.genres = 'Comedy'::text)\", \"\\nDescription: Joins to record sets by hashing one of them (using a Hash Scan).Inner Join with ( t i t l e s . t i t l e _ i d   =   c r e w . t i t l e _ i d )\"], \"source\": [0, 1, 2, 3, 4, 5, 6, 6, 6, 7, 7, 8], \"target\": [1, 10, 3, 5, 5, 8, 7, 7, 0, 8, 1, 9], \"value\": [1, 981, 856, 1, 2971, 3843, 834, 2135, 789, 1, 1, 875]}, \"node\": {\"color\": [\"black\", \"black\", \"black\", \"black\", \"black\", \"black\", \"black\", \"black\", \"black\", \"black\", \"black\", \"black\"], \"label\": [\"Titles*\", \"Titles* U Titles*\", \"People\", \"People*\", \"Crew\", \"People* \\u22c8 Crew\", \"Titles\", \"Titles*\", \"People* \\u22c8 Crew \\u22c8 Titles*\"], \"pad\": 200}, \"orientation\": \"h\", \"type\": \"sankey\", \"valueformat\": \",\", \"valuesuffix\": [\" Seconds\", \" Seconds\", \" Seconds\", \" Seconds\", \" Seconds\", \" Seconds\", \" Seconds\", \" Seconds\", \" Seconds\", \" Seconds\", \" Seconds\", \" Seconds\"]}],\n",
       "                        {\"font\": {\"size\": 10}, \"height\": 750, \"title\": \"multiple queries optimization-actual_duration\", \"updatemenus\": [{\"buttons\": [{\"args\": [\"orientation\", \"h\"], \"label\": \"Horizontal\", \"method\": \"restyle\"}, {\"args\": [\"orientation\", \"v\"], \"label\": \"Vertical\", \"method\": \"restyle\"}], \"y\": 0.6}]},\n",
       "                        {\"responsive\": true}\n",
       "                    ).then(function(){\n",
       "                            \n",
       "var gd = document.getElementById('f857715c-ad28-4b03-8e53-eba5aa7d9328');\n",
       "var x = new MutationObserver(function (mutations, observer) {{\n",
       "        var display = window.getComputedStyle(gd).display;\n",
       "        if (!display || display === 'none') {{\n",
       "            console.log([gd, 'removed!']);\n",
       "            Plotly.purge(gd);\n",
       "            observer.disconnect();\n",
       "        }}\n",
       "}});\n",
       "\n",
       "// Listen for the removal of the full notebook cells\n",
       "var notebookContainer = gd.closest('#notebook-container');\n",
       "if (notebookContainer) {{\n",
       "    x.observe(notebookContainer, {childList: true});\n",
       "}}\n",
       "\n",
       "// Listen for the clearing of the current output cell\n",
       "var outputEl = gd.closest('.output');\n",
       "if (outputEl) {{\n",
       "    x.observe(outputEl, {childList: true});\n",
       "}}\n",
       "\n",
       "                        })\n",
       "                };\n",
       "                });\n",
       "            </script>\n",
       "        </div>"
      ]
     },
     "metadata": {},
     "output_type": "display_data"
    },
    {
     "data": {
      "text/html": [
       "<div>\n",
       "<style scoped>\n",
       "    .dataframe tbody tr th:only-of-type {\n",
       "        vertical-align: middle;\n",
       "    }\n",
       "\n",
       "    .dataframe tbody tr th {\n",
       "        vertical-align: top;\n",
       "    }\n",
       "\n",
       "    .dataframe thead th {\n",
       "        text-align: right;\n",
       "    }\n",
       "</style>\n",
       "<table border=\"1\" class=\"dataframe\">\n",
       "  <thead>\n",
       "    <tr style=\"text-align: right;\">\n",
       "      <th></th>\n",
       "      <th>source</th>\n",
       "      <th>target</th>\n",
       "      <th>label</th>\n",
       "      <th>actual_duration</th>\n",
       "      <th>actual_rows</th>\n",
       "    </tr>\n",
       "  </thead>\n",
       "  <tbody>\n",
       "    <tr>\n",
       "      <th>0</th>\n",
       "      <td>0</td>\n",
       "      <td>1</td>\n",
       "      <td>Titles*</td>\n",
       "      <td>0.000</td>\n",
       "      <td>10483</td>\n",
       "    </tr>\n",
       "    <tr>\n",
       "      <th>1</th>\n",
       "      <td>1</td>\n",
       "      <td>10</td>\n",
       "      <td>Titles* U Titles*</td>\n",
       "      <td>981.526</td>\n",
       "      <td>562164</td>\n",
       "    </tr>\n",
       "    <tr>\n",
       "      <th>2</th>\n",
       "      <td>2</td>\n",
       "      <td>3</td>\n",
       "      <td>People</td>\n",
       "      <td>856.387</td>\n",
       "      <td>3560478</td>\n",
       "    </tr>\n",
       "    <tr>\n",
       "      <th>3</th>\n",
       "      <td>3</td>\n",
       "      <td>5</td>\n",
       "      <td>People*</td>\n",
       "      <td>0.000</td>\n",
       "      <td>3</td>\n",
       "    </tr>\n",
       "    <tr>\n",
       "      <th>4</th>\n",
       "      <td>4</td>\n",
       "      <td>5</td>\n",
       "      <td>Crew</td>\n",
       "      <td>2971.245</td>\n",
       "      <td>14269149</td>\n",
       "    </tr>\n",
       "    <tr>\n",
       "      <th>5</th>\n",
       "      <td>5</td>\n",
       "      <td>8</td>\n",
       "      <td>People* ⋈ Crew</td>\n",
       "      <td>3843.184</td>\n",
       "      <td>572</td>\n",
       "    </tr>\n",
       "    <tr>\n",
       "      <th>6</th>\n",
       "      <td>6</td>\n",
       "      <td>7</td>\n",
       "      <td>Titles</td>\n",
       "      <td>834.174</td>\n",
       "      <td>2522032</td>\n",
       "    </tr>\n",
       "    <tr>\n",
       "      <th>7</th>\n",
       "      <td>6</td>\n",
       "      <td>7</td>\n",
       "      <td>Titles</td>\n",
       "      <td>2135.406</td>\n",
       "      <td>7566096</td>\n",
       "    </tr>\n",
       "    <tr>\n",
       "      <th>8</th>\n",
       "      <td>6</td>\n",
       "      <td>0</td>\n",
       "      <td>Titles</td>\n",
       "      <td>789.677</td>\n",
       "      <td>2522032</td>\n",
       "    </tr>\n",
       "    <tr>\n",
       "      <th>9</th>\n",
       "      <td>7</td>\n",
       "      <td>8</td>\n",
       "      <td>Titles*</td>\n",
       "      <td>0.000</td>\n",
       "      <td>176905</td>\n",
       "    </tr>\n",
       "    <tr>\n",
       "      <th>10</th>\n",
       "      <td>7</td>\n",
       "      <td>1</td>\n",
       "      <td>Titles*</td>\n",
       "      <td>0.000</td>\n",
       "      <td>530715</td>\n",
       "    </tr>\n",
       "    <tr>\n",
       "      <th>11</th>\n",
       "      <td>8</td>\n",
       "      <td>9</td>\n",
       "      <td>People* ⋈ Crew ⋈ Titles*</td>\n",
       "      <td>875.352</td>\n",
       "      <td>15</td>\n",
       "    </tr>\n",
       "  </tbody>\n",
       "</table>\n",
       "</div>"
      ],
      "text/plain": [
       "    source  target                     label  actual_duration  actual_rows\n",
       "0        0       1                   Titles*            0.000        10483\n",
       "1        1      10         Titles* U Titles*          981.526       562164\n",
       "2        2       3                    People          856.387      3560478\n",
       "3        3       5                   People*            0.000            3\n",
       "4        4       5                      Crew         2971.245     14269149\n",
       "5        5       8            People* ⋈ Crew         3843.184          572\n",
       "6        6       7                    Titles          834.174      2522032\n",
       "7        6       7                    Titles         2135.406      7566096\n",
       "8        6       0                    Titles          789.677      2522032\n",
       "9        7       8                   Titles*            0.000       176905\n",
       "10       7       1                   Titles*            0.000       530715\n",
       "11       8       9  People* ⋈ Crew ⋈ Titles*          875.352           15"
      ]
     },
     "execution_count": 57,
     "metadata": {},
     "output_type": "execute_result"
    }
   ],
   "source": [
    "flow_df = query_renderer.get_flow_df(queries, con_str=con_str)\n",
    "query_renderer.vizualize(flow_df, metrics=[\"actual_duration\"], title=\"multiple queries optimization\",open_=False)\n",
    "flow_df[[\"source\",\"target\", \"label\", \"actual_duration\", \"actual_rows\"]]"
   ]
  },
  {
   "cell_type": "code",
   "execution_count": 58,
   "metadata": {},
   "outputs": [
    {
     "data": {
      "application/vnd.plotly.v1+json": {
       "config": {
        "linkText": "Export to plot.ly",
        "plotlyServerURL": "https://plot.ly",
        "showLink": false
       },
       "data": [
        {
         "link": {
          "color": [
           "#ffffb2",
           "#ffffb2",
           "#b2ffb2",
           "#b2ffb2",
           "#b2ffb2",
           "#b2ffb2",
           "#b2ffb2",
           "#ffffb2",
           "#ffffb2",
           "#b2ffb2",
           "#ffffb2",
           "#b2ffb2"
          ],
          "label": [
           "\nDescription: Filter relation to hold only relevant records.Filter condition: (titles_1.genres = 'Action'::text)",
           "\nDescription: Used in a UNION to merge multiple record sets by appending them together.",
           "\nDescription: Finds relevant records by sequentially scanning the input record set. When reading from a table, Seq Scans (unlike Index Scans) perform a single read operation (only the table is read).",
           "\nDescription: Filter relation to hold only relevant records.Filter condition: (people.name = ANY ('{\"Owen Wilson\",\"Adam Sandler\",\"Jason Segel\"}'::text[]))",
           "\nDescription: Finds relevant records by sequentially scanning the input record set. When reading from a table, Seq Scans (unlike Index Scans) perform a single read operation (only the table is read).",
           "\nDescription: Joins to record sets by hashing one of them (using a Hash Scan).Inner Join with ( c r e w . p e r s o n _ i d   =   p e o p l e . p e r s o n _ i d )",
           "\nDescription: Finds relevant records by sequentially scanning the input record set. When reading from a table, Seq Scans (unlike Index Scans) perform a single read operation (only the table is read).",
           "\nDescription: Finds relevant records by sequentially scanning the input record set. When reading from a table, Seq Scans (unlike Index Scans) perform a single read operation (only the table is read).",
           "\nDescription: Finds relevant records by sequentially scanning the input record set. When reading from a table, Seq Scans (unlike Index Scans) perform a single read operation (only the table is read).",
           "\nDescription: Filter relation to hold only relevant records.Filter condition: (titles.genres = 'Comedy'::text)",
           "\nDescription: Filter relation to hold only relevant records.Filter condition: (titles.genres = 'Comedy'::text)",
           "\nDescription: Joins to record sets by hashing one of them (using a Hash Scan).Inner Join with ( t i t l e s . t i t l e _ i d   =   c r e w . t i t l e _ i d )"
          ],
          "source": [
           0,
           1,
           2,
           3,
           4,
           5,
           6,
           6,
           6,
           7,
           7,
           8
          ],
          "target": [
           1,
           10,
           3,
           5,
           5,
           8,
           7,
           7,
           0,
           8,
           1,
           9
          ],
          "value": [
           10483,
           562164,
           3560478,
           3,
           14269149,
           572,
           2522032,
           7566096,
           2522032,
           176905,
           530715,
           15
          ]
         },
         "node": {
          "color": [
           "black",
           "black",
           "black",
           "black",
           "black",
           "black",
           "black",
           "black",
           "black",
           "black",
           "black",
           "black"
          ],
          "label": [
           "Titles*",
           "Titles* U Titles*",
           "People",
           "People*",
           "Crew",
           "People* ⋈ Crew",
           "Titles",
           "Titles*",
           "People* ⋈ Crew ⋈ Titles*"
          ],
          "pad": 200
         },
         "orientation": "h",
         "type": "sankey",
         "valueformat": ",",
         "valuesuffix": [
          " Rows",
          " Rows",
          " Rows",
          " Rows",
          " Rows",
          " Rows",
          " Rows",
          " Rows",
          " Rows",
          " Rows",
          " Rows",
          " Rows"
         ]
        }
       ],
       "layout": {
        "font": {
         "size": 10
        },
        "height": 750,
        "title": "multiple queries optimization-actual_rows",
        "updatemenus": [
         {
          "buttons": [
           {
            "args": [
             "orientation",
             "h"
            ],
            "label": "Horizontal",
            "method": "restyle"
           },
           {
            "args": [
             "orientation",
             "v"
            ],
            "label": "Vertical",
            "method": "restyle"
           }
          ],
          "y": 0.6
         }
        ]
       }
      },
      "text/html": [
       "<div>\n",
       "        \n",
       "        \n",
       "            <div id=\"34995213-9b94-4b31-98a6-227255c65e0b\" class=\"plotly-graph-div\" style=\"height:750px; width:100%;\"></div>\n",
       "            <script type=\"text/javascript\">\n",
       "                require([\"plotly\"], function(Plotly) {\n",
       "                    window.PLOTLYENV=window.PLOTLYENV || {};\n",
       "                    \n",
       "                if (document.getElementById(\"34995213-9b94-4b31-98a6-227255c65e0b\")) {\n",
       "                    Plotly.newPlot(\n",
       "                        '34995213-9b94-4b31-98a6-227255c65e0b',\n",
       "                        [{\"link\": {\"color\": [\"#ffffb2\", \"#ffffb2\", \"#b2ffb2\", \"#b2ffb2\", \"#b2ffb2\", \"#b2ffb2\", \"#b2ffb2\", \"#ffffb2\", \"#ffffb2\", \"#b2ffb2\", \"#ffffb2\", \"#b2ffb2\"], \"label\": [\"\\nDescription: Filter relation to hold only relevant records.Filter condition: (titles_1.genres = 'Action'::text)\", \"\\nDescription: Used in a UNION to merge multiple record sets by appending them together.\", \"\\nDescription: Finds relevant records by sequentially scanning the input record set. When reading from a table, Seq Scans (unlike Index Scans) perform a single read operation (only the table is read).\", \"\\nDescription: Filter relation to hold only relevant records.Filter condition: (people.name = ANY ('{\\\"Owen Wilson\\\",\\\"Adam Sandler\\\",\\\"Jason Segel\\\"}'::text[]))\", \"\\nDescription: Finds relevant records by sequentially scanning the input record set. When reading from a table, Seq Scans (unlike Index Scans) perform a single read operation (only the table is read).\", \"\\nDescription: Joins to record sets by hashing one of them (using a Hash Scan).Inner Join with ( c r e w . p e r s o n _ i d   =   p e o p l e . p e r s o n _ i d )\", \"\\nDescription: Finds relevant records by sequentially scanning the input record set. When reading from a table, Seq Scans (unlike Index Scans) perform a single read operation (only the table is read).\", \"\\nDescription: Finds relevant records by sequentially scanning the input record set. When reading from a table, Seq Scans (unlike Index Scans) perform a single read operation (only the table is read).\", \"\\nDescription: Finds relevant records by sequentially scanning the input record set. When reading from a table, Seq Scans (unlike Index Scans) perform a single read operation (only the table is read).\", \"\\nDescription: Filter relation to hold only relevant records.Filter condition: (titles.genres = 'Comedy'::text)\", \"\\nDescription: Filter relation to hold only relevant records.Filter condition: (titles.genres = 'Comedy'::text)\", \"\\nDescription: Joins to record sets by hashing one of them (using a Hash Scan).Inner Join with ( t i t l e s . t i t l e _ i d   =   c r e w . t i t l e _ i d )\"], \"source\": [0, 1, 2, 3, 4, 5, 6, 6, 6, 7, 7, 8], \"target\": [1, 10, 3, 5, 5, 8, 7, 7, 0, 8, 1, 9], \"value\": [10483, 562164, 3560478, 3, 14269149, 572, 2522032, 7566096, 2522032, 176905, 530715, 15]}, \"node\": {\"color\": [\"black\", \"black\", \"black\", \"black\", \"black\", \"black\", \"black\", \"black\", \"black\", \"black\", \"black\", \"black\"], \"label\": [\"Titles*\", \"Titles* U Titles*\", \"People\", \"People*\", \"Crew\", \"People* \\u22c8 Crew\", \"Titles\", \"Titles*\", \"People* \\u22c8 Crew \\u22c8 Titles*\"], \"pad\": 200}, \"orientation\": \"h\", \"type\": \"sankey\", \"valueformat\": \",\", \"valuesuffix\": [\" Rows\", \" Rows\", \" Rows\", \" Rows\", \" Rows\", \" Rows\", \" Rows\", \" Rows\", \" Rows\", \" Rows\", \" Rows\", \" Rows\"]}],\n",
       "                        {\"font\": {\"size\": 10}, \"height\": 750, \"title\": \"multiple queries optimization-actual_rows\", \"updatemenus\": [{\"buttons\": [{\"args\": [\"orientation\", \"h\"], \"label\": \"Horizontal\", \"method\": \"restyle\"}, {\"args\": [\"orientation\", \"v\"], \"label\": \"Vertical\", \"method\": \"restyle\"}], \"y\": 0.6}]},\n",
       "                        {\"responsive\": true}\n",
       "                    ).then(function(){\n",
       "                            \n",
       "var gd = document.getElementById('34995213-9b94-4b31-98a6-227255c65e0b');\n",
       "var x = new MutationObserver(function (mutations, observer) {{\n",
       "        var display = window.getComputedStyle(gd).display;\n",
       "        if (!display || display === 'none') {{\n",
       "            console.log([gd, 'removed!']);\n",
       "            Plotly.purge(gd);\n",
       "            observer.disconnect();\n",
       "        }}\n",
       "}});\n",
       "\n",
       "// Listen for the removal of the full notebook cells\n",
       "var notebookContainer = gd.closest('#notebook-container');\n",
       "if (notebookContainer) {{\n",
       "    x.observe(notebookContainer, {childList: true});\n",
       "}}\n",
       "\n",
       "// Listen for the clearing of the current output cell\n",
       "var outputEl = gd.closest('.output');\n",
       "if (outputEl) {{\n",
       "    x.observe(outputEl, {childList: true});\n",
       "}}\n",
       "\n",
       "                        })\n",
       "                };\n",
       "                });\n",
       "            </script>\n",
       "        </div>"
      ]
     },
     "metadata": {},
     "output_type": "display_data"
    }
   ],
   "source": [
    "query_renderer.vizualize(flow_df, metrics=[\"actual_rows\"], title=\"multiple queries optimization\",open_=False)"
   ]
  },
  {
   "cell_type": "code",
   "execution_count": 59,
   "metadata": {},
   "outputs": [],
   "source": [
    "with create_engine(con_str).connect() as con:\n",
    "    con.execute(\"CREATE INDEX if not exists crew_index ON crew(person_id)\")"
   ]
  },
  {
   "cell_type": "code",
   "execution_count": 60,
   "metadata": {},
   "outputs": [
    {
     "name": "stdout",
     "output_type": "stream",
     "text": [
      "CPU times: user 32.3 ms, sys: 17.5 ms, total: 49.8 ms\n",
      "Wall time: 4.33 s\n"
     ]
    }
   ],
   "source": [
    "%%time\n",
    "with create_engine(con_str).connect() as con:\n",
    "    for query in queries:\n",
    "        con.execute(query)"
   ]
  },
  {
   "cell_type": "code",
   "execution_count": 61,
   "metadata": {},
   "outputs": [
    {
     "name": "stderr",
     "output_type": "stream",
     "text": [
      "WARNING:root:Currently cache cleaning is not supported\n",
      "WARNING:root:Currently cache cleaning is not supported\n"
     ]
    },
    {
     "data": {
      "application/vnd.plotly.v1+json": {
       "config": {
        "linkText": "Export to plot.ly",
        "plotlyServerURL": "https://plot.ly",
        "showLink": false
       },
       "data": [
        {
         "link": {
          "color": [
           "#b2ffb2",
           "#b2ffb2",
           "#ffffb2",
           "#ffffb2",
           "#ffffb2",
           "#ffffb2",
           "#ffffb2",
           "#b2ffb2",
           "#b2ffb2",
           "#ffffb2",
           "#b2ffb2",
           "#ffffb2"
          ],
          "label": [
           "\nDescription: Filter relation to hold only relevant records.Filter condition: (titles_1.genres = 'Action'::text)",
           "\nDescription: Used in a UNION to merge multiple record sets by appending them together.",
           "\nDescription: Finds relevant records based on an Index. Index Scans perform 2 read operations: one to read the index and another to read the actual value from the table.",
           "\nDescription: Finds relevant records by sequentially scanning the input record set. When reading from a table, Seq Scans (unlike Index Scans) perform a single read operation (only the table is read).",
           "\nDescription: Filter relation to hold only relevant records.Filter condition: (people.name = ANY ('{\"Owen Wilson\",\"Adam Sandler\",\"Jason Segel\"}'::text[]))",
           "\nDescription: Merges two record sets by looping through every record in the first set and trying to find a match in the second set. All matching records are returned.Inner Join",
           "\nDescription: Finds relevant records by sequentially scanning the input record set. When reading from a table, Seq Scans (unlike Index Scans) perform a single read operation (only the table is read).",
           "\nDescription: Finds relevant records by sequentially scanning the input record set. When reading from a table, Seq Scans (unlike Index Scans) perform a single read operation (only the table is read).",
           "\nDescription: Finds relevant records by sequentially scanning the input record set. When reading from a table, Seq Scans (unlike Index Scans) perform a single read operation (only the table is read).",
           "\nDescription: Filter relation to hold only relevant records.Filter condition: (titles.genres = 'Comedy'::text)",
           "\nDescription: Filter relation to hold only relevant records.Filter condition: (titles.genres = 'Comedy'::text)",
           "\nDescription: Joins to record sets by hashing one of them (using a Hash Scan).Inner Join with ( t i t l e s . t i t l e _ i d   =   c r e w . t i t l e _ i d )"
          ],
          "source": [
           0,
           1,
           2,
           3,
           4,
           5,
           6,
           6,
           6,
           7,
           7,
           8
          ],
          "target": [
           1,
           10,
           5,
           4,
           5,
           8,
           7,
           7,
           0,
           8,
           1,
           9
          ],
          "value": [
           1,
           839,
           1,
           865,
           1,
           2,
           722,
           1831,
           715,
           1,
           1,
           1045
          ]
         },
         "node": {
          "color": [
           "black",
           "black",
           "black",
           "black",
           "black",
           "black",
           "black",
           "black",
           "black",
           "black",
           "black",
           "black"
          ],
          "label": [
           "Titles*",
           "Titles* U Titles*",
           "Crew_Index",
           "People",
           "People*",
           "Crew_Index ⋈ People*",
           "Titles",
           "Titles*",
           "Crew_Index ⋈ People* ⋈ Titles*"
          ],
          "pad": 200
         },
         "orientation": "h",
         "type": "sankey",
         "valueformat": ",",
         "valuesuffix": [
          " Seconds",
          " Seconds",
          " Seconds",
          " Seconds",
          " Seconds",
          " Seconds",
          " Seconds",
          " Seconds",
          " Seconds",
          " Seconds",
          " Seconds",
          " Seconds"
         ]
        }
       ],
       "layout": {
        "font": {
         "size": 10
        },
        "height": 750,
        "title": "multiple queries optimization-actual_duration",
        "updatemenus": [
         {
          "buttons": [
           {
            "args": [
             "orientation",
             "h"
            ],
            "label": "Horizontal",
            "method": "restyle"
           },
           {
            "args": [
             "orientation",
             "v"
            ],
            "label": "Vertical",
            "method": "restyle"
           }
          ],
          "y": 0.6
         }
        ]
       }
      },
      "text/html": [
       "<div>\n",
       "        \n",
       "        \n",
       "            <div id=\"2e6fd536-29da-43d9-a9cd-f87325e92a8d\" class=\"plotly-graph-div\" style=\"height:750px; width:100%;\"></div>\n",
       "            <script type=\"text/javascript\">\n",
       "                require([\"plotly\"], function(Plotly) {\n",
       "                    window.PLOTLYENV=window.PLOTLYENV || {};\n",
       "                    \n",
       "                if (document.getElementById(\"2e6fd536-29da-43d9-a9cd-f87325e92a8d\")) {\n",
       "                    Plotly.newPlot(\n",
       "                        '2e6fd536-29da-43d9-a9cd-f87325e92a8d',\n",
       "                        [{\"link\": {\"color\": [\"#b2ffb2\", \"#b2ffb2\", \"#ffffb2\", \"#ffffb2\", \"#ffffb2\", \"#ffffb2\", \"#ffffb2\", \"#b2ffb2\", \"#b2ffb2\", \"#ffffb2\", \"#b2ffb2\", \"#ffffb2\"], \"label\": [\"\\nDescription: Filter relation to hold only relevant records.Filter condition: (titles_1.genres = 'Action'::text)\", \"\\nDescription: Used in a UNION to merge multiple record sets by appending them together.\", \"\\nDescription: Finds relevant records based on an Index. Index Scans perform 2 read operations: one to read the index and another to read the actual value from the table.\", \"\\nDescription: Finds relevant records by sequentially scanning the input record set. When reading from a table, Seq Scans (unlike Index Scans) perform a single read operation (only the table is read).\", \"\\nDescription: Filter relation to hold only relevant records.Filter condition: (people.name = ANY ('{\\\"Owen Wilson\\\",\\\"Adam Sandler\\\",\\\"Jason Segel\\\"}'::text[]))\", \"\\nDescription: Merges two record sets by looping through every record in the first set and trying to find a match in the second set. All matching records are returned.Inner Join\", \"\\nDescription: Finds relevant records by sequentially scanning the input record set. When reading from a table, Seq Scans (unlike Index Scans) perform a single read operation (only the table is read).\", \"\\nDescription: Finds relevant records by sequentially scanning the input record set. When reading from a table, Seq Scans (unlike Index Scans) perform a single read operation (only the table is read).\", \"\\nDescription: Finds relevant records by sequentially scanning the input record set. When reading from a table, Seq Scans (unlike Index Scans) perform a single read operation (only the table is read).\", \"\\nDescription: Filter relation to hold only relevant records.Filter condition: (titles.genres = 'Comedy'::text)\", \"\\nDescription: Filter relation to hold only relevant records.Filter condition: (titles.genres = 'Comedy'::text)\", \"\\nDescription: Joins to record sets by hashing one of them (using a Hash Scan).Inner Join with ( t i t l e s . t i t l e _ i d   =   c r e w . t i t l e _ i d )\"], \"source\": [0, 1, 2, 3, 4, 5, 6, 6, 6, 7, 7, 8], \"target\": [1, 10, 5, 4, 5, 8, 7, 7, 0, 8, 1, 9], \"value\": [1, 839, 1, 865, 1, 2, 722, 1831, 715, 1, 1, 1045]}, \"node\": {\"color\": [\"black\", \"black\", \"black\", \"black\", \"black\", \"black\", \"black\", \"black\", \"black\", \"black\", \"black\", \"black\"], \"label\": [\"Titles*\", \"Titles* U Titles*\", \"Crew_Index\", \"People\", \"People*\", \"Crew_Index \\u22c8 People*\", \"Titles\", \"Titles*\", \"Crew_Index \\u22c8 People* \\u22c8 Titles*\"], \"pad\": 200}, \"orientation\": \"h\", \"type\": \"sankey\", \"valueformat\": \",\", \"valuesuffix\": [\" Seconds\", \" Seconds\", \" Seconds\", \" Seconds\", \" Seconds\", \" Seconds\", \" Seconds\", \" Seconds\", \" Seconds\", \" Seconds\", \" Seconds\", \" Seconds\"]}],\n",
       "                        {\"font\": {\"size\": 10}, \"height\": 750, \"title\": \"multiple queries optimization-actual_duration\", \"updatemenus\": [{\"buttons\": [{\"args\": [\"orientation\", \"h\"], \"label\": \"Horizontal\", \"method\": \"restyle\"}, {\"args\": [\"orientation\", \"v\"], \"label\": \"Vertical\", \"method\": \"restyle\"}], \"y\": 0.6}]},\n",
       "                        {\"responsive\": true}\n",
       "                    ).then(function(){\n",
       "                            \n",
       "var gd = document.getElementById('2e6fd536-29da-43d9-a9cd-f87325e92a8d');\n",
       "var x = new MutationObserver(function (mutations, observer) {{\n",
       "        var display = window.getComputedStyle(gd).display;\n",
       "        if (!display || display === 'none') {{\n",
       "            console.log([gd, 'removed!']);\n",
       "            Plotly.purge(gd);\n",
       "            observer.disconnect();\n",
       "        }}\n",
       "}});\n",
       "\n",
       "// Listen for the removal of the full notebook cells\n",
       "var notebookContainer = gd.closest('#notebook-container');\n",
       "if (notebookContainer) {{\n",
       "    x.observe(notebookContainer, {childList: true});\n",
       "}}\n",
       "\n",
       "// Listen for the clearing of the current output cell\n",
       "var outputEl = gd.closest('.output');\n",
       "if (outputEl) {{\n",
       "    x.observe(outputEl, {childList: true});\n",
       "}}\n",
       "\n",
       "                        })\n",
       "                };\n",
       "                });\n",
       "            </script>\n",
       "        </div>"
      ]
     },
     "metadata": {},
     "output_type": "display_data"
    },
    {
     "data": {
      "text/html": [
       "<div>\n",
       "<style scoped>\n",
       "    .dataframe tbody tr th:only-of-type {\n",
       "        vertical-align: middle;\n",
       "    }\n",
       "\n",
       "    .dataframe tbody tr th {\n",
       "        vertical-align: top;\n",
       "    }\n",
       "\n",
       "    .dataframe thead th {\n",
       "        text-align: right;\n",
       "    }\n",
       "</style>\n",
       "<table border=\"1\" class=\"dataframe\">\n",
       "  <thead>\n",
       "    <tr style=\"text-align: right;\">\n",
       "      <th></th>\n",
       "      <th>source</th>\n",
       "      <th>target</th>\n",
       "      <th>label</th>\n",
       "      <th>actual_duration</th>\n",
       "      <th>actual_rows</th>\n",
       "    </tr>\n",
       "  </thead>\n",
       "  <tbody>\n",
       "    <tr>\n",
       "      <th>0</th>\n",
       "      <td>0</td>\n",
       "      <td>1</td>\n",
       "      <td>Titles*</td>\n",
       "      <td>0.000</td>\n",
       "      <td>10483</td>\n",
       "    </tr>\n",
       "    <tr>\n",
       "      <th>1</th>\n",
       "      <td>1</td>\n",
       "      <td>10</td>\n",
       "      <td>Titles* U Titles*</td>\n",
       "      <td>839.371</td>\n",
       "      <td>562164</td>\n",
       "    </tr>\n",
       "    <tr>\n",
       "      <th>2</th>\n",
       "      <td>2</td>\n",
       "      <td>5</td>\n",
       "      <td>Crew_Index</td>\n",
       "      <td>0.665</td>\n",
       "      <td>191</td>\n",
       "    </tr>\n",
       "    <tr>\n",
       "      <th>3</th>\n",
       "      <td>3</td>\n",
       "      <td>4</td>\n",
       "      <td>People</td>\n",
       "      <td>865.543</td>\n",
       "      <td>3560478</td>\n",
       "    </tr>\n",
       "    <tr>\n",
       "      <th>4</th>\n",
       "      <td>4</td>\n",
       "      <td>5</td>\n",
       "      <td>People*</td>\n",
       "      <td>0.000</td>\n",
       "      <td>3</td>\n",
       "    </tr>\n",
       "    <tr>\n",
       "      <th>5</th>\n",
       "      <td>5</td>\n",
       "      <td>8</td>\n",
       "      <td>Crew_Index ⋈ People*</td>\n",
       "      <td>2.125</td>\n",
       "      <td>572</td>\n",
       "    </tr>\n",
       "    <tr>\n",
       "      <th>6</th>\n",
       "      <td>6</td>\n",
       "      <td>7</td>\n",
       "      <td>Titles</td>\n",
       "      <td>722.860</td>\n",
       "      <td>2522032</td>\n",
       "    </tr>\n",
       "    <tr>\n",
       "      <th>7</th>\n",
       "      <td>6</td>\n",
       "      <td>7</td>\n",
       "      <td>Titles</td>\n",
       "      <td>1831.504</td>\n",
       "      <td>7566096</td>\n",
       "    </tr>\n",
       "    <tr>\n",
       "      <th>8</th>\n",
       "      <td>6</td>\n",
       "      <td>0</td>\n",
       "      <td>Titles</td>\n",
       "      <td>715.499</td>\n",
       "      <td>2522032</td>\n",
       "    </tr>\n",
       "    <tr>\n",
       "      <th>9</th>\n",
       "      <td>7</td>\n",
       "      <td>8</td>\n",
       "      <td>Titles*</td>\n",
       "      <td>0.000</td>\n",
       "      <td>176905</td>\n",
       "    </tr>\n",
       "    <tr>\n",
       "      <th>10</th>\n",
       "      <td>7</td>\n",
       "      <td>1</td>\n",
       "      <td>Titles*</td>\n",
       "      <td>0.000</td>\n",
       "      <td>530715</td>\n",
       "    </tr>\n",
       "    <tr>\n",
       "      <th>11</th>\n",
       "      <td>8</td>\n",
       "      <td>9</td>\n",
       "      <td>Crew_Index ⋈ People* ⋈ Titles*</td>\n",
       "      <td>1045.727</td>\n",
       "      <td>15</td>\n",
       "    </tr>\n",
       "  </tbody>\n",
       "</table>\n",
       "</div>"
      ],
      "text/plain": [
       "    source  target                           label  actual_duration  \\\n",
       "0        0       1                         Titles*            0.000   \n",
       "1        1      10               Titles* U Titles*          839.371   \n",
       "2        2       5                      Crew_Index            0.665   \n",
       "3        3       4                          People          865.543   \n",
       "4        4       5                         People*            0.000   \n",
       "5        5       8            Crew_Index ⋈ People*            2.125   \n",
       "6        6       7                          Titles          722.860   \n",
       "7        6       7                          Titles         1831.504   \n",
       "8        6       0                          Titles          715.499   \n",
       "9        7       8                         Titles*            0.000   \n",
       "10       7       1                         Titles*            0.000   \n",
       "11       8       9  Crew_Index ⋈ People* ⋈ Titles*         1045.727   \n",
       "\n",
       "    actual_rows  \n",
       "0         10483  \n",
       "1        562164  \n",
       "2           191  \n",
       "3       3560478  \n",
       "4             3  \n",
       "5           572  \n",
       "6       2522032  \n",
       "7       7566096  \n",
       "8       2522032  \n",
       "9        176905  \n",
       "10       530715  \n",
       "11           15  "
      ]
     },
     "execution_count": 61,
     "metadata": {},
     "output_type": "execute_result"
    }
   ],
   "source": [
    "flow_df = query_renderer.get_flow_df(queries, con_str=con_str)\n",
    "query_renderer.vizualize(flow_df, metrics=[\"actual_duration\"], title=\"multiple queries optimization\",open_=False)\n",
    "flow_df[[\"source\",\"target\", \"label\", \"actual_duration\", \"actual_rows\"]]"
   ]
  },
  {
   "cell_type": "code",
   "execution_count": 62,
   "metadata": {},
   "outputs": [],
   "source": [
    "with create_engine(con_str).connect() as con:\n",
    "    con.execute(\"CREATE INDEX if not exists titles_index ON titles (title_id,genres)\")"
   ]
  },
  {
   "cell_type": "code",
   "execution_count": 63,
   "metadata": {
    "scrolled": true
   },
   "outputs": [
    {
     "name": "stderr",
     "output_type": "stream",
     "text": [
      "WARNING:root:Currently cache cleaning is not supported\n",
      "WARNING:root:Currently cache cleaning is not supported\n"
     ]
    },
    {
     "data": {
      "application/vnd.plotly.v1+json": {
       "config": {
        "linkText": "Export to plot.ly",
        "plotlyServerURL": "https://plot.ly",
        "showLink": false
       },
       "data": [
        {
         "link": {
          "color": [
           "#b2ffb2",
           "#b2ffb2",
           "#ffffb2",
           "#ffffb2",
           "#ffffb2",
           "#ffffb2",
           "#ffffb2",
           "#b2ffb2",
           "#b2ffb2",
           "#ffffb2",
           "#b2ffb2",
           "#ffffb2"
          ],
          "label": [
           "\nDescription: Filter relation to hold only relevant records.Filter condition: (titles_1.genres = 'Action'::text)",
           "\nDescription: Used in a UNION to merge multiple record sets by appending them together.",
           "\nDescription: Finds relevant records based on an Index. Index Scans perform 2 read operations: one to read the index and another to read the actual value from the table.",
           "\nDescription: Finds relevant records by sequentially scanning the input record set. When reading from a table, Seq Scans (unlike Index Scans) perform a single read operation (only the table is read).",
           "\nDescription: Filter relation to hold only relevant records.Filter condition: (people.name = ANY ('{\"Owen Wilson\",\"Adam Sandler\",\"Jason Segel\"}'::text[]))",
           "\nDescription: Merges two record sets by looping through every record in the first set and trying to find a match in the second set. All matching records are returned.Inner Join",
           "\nDescription: Finds relevant records by sequentially scanning the input record set. When reading from a table, Seq Scans (unlike Index Scans) perform a single read operation (only the table is read).",
           "\nDescription: Finds relevant records by sequentially scanning the input record set. When reading from a table, Seq Scans (unlike Index Scans) perform a single read operation (only the table is read).",
           "\nDescription: Finds relevant records by sequentially scanning the input record set. When reading from a table, Seq Scans (unlike Index Scans) perform a single read operation (only the table is read).",
           "\nDescription: Filter relation to hold only relevant records.Filter condition: (titles.genres = 'Comedy'::text)",
           "\nDescription: Filter relation to hold only relevant records.Filter condition: (titles.genres = 'Comedy'::text)",
           "\nDescription: Joins to record sets by hashing one of them (using a Hash Scan).Inner Join with ( t i t l e s . t i t l e _ i d   =   c r e w . t i t l e _ i d )"
          ],
          "source": [
           0,
           1,
           2,
           3,
           4,
           5,
           6,
           6,
           6,
           7,
           7,
           8
          ],
          "target": [
           1,
           10,
           5,
           4,
           5,
           8,
           7,
           7,
           0,
           8,
           1,
           9
          ],
          "value": [
           1,
           839,
           1,
           865,
           1,
           2,
           722,
           1831,
           715,
           1,
           1,
           1045
          ]
         },
         "node": {
          "color": [
           "black",
           "black",
           "black",
           "black",
           "black",
           "black",
           "black",
           "black",
           "black",
           "black",
           "black",
           "black"
          ],
          "label": [
           "Titles*",
           "Titles* U Titles*",
           "Crew_Index",
           "People",
           "People*",
           "Crew_Index ⋈ People*",
           "Titles",
           "Titles*",
           "Crew_Index ⋈ People* ⋈ Titles*"
          ],
          "pad": 200
         },
         "orientation": "h",
         "type": "sankey",
         "valueformat": ",",
         "valuesuffix": [
          " Seconds",
          " Seconds",
          " Seconds",
          " Seconds",
          " Seconds",
          " Seconds",
          " Seconds",
          " Seconds",
          " Seconds",
          " Seconds",
          " Seconds",
          " Seconds"
         ]
        }
       ],
       "layout": {
        "font": {
         "size": 10
        },
        "height": 750,
        "title": "multiple queries optimization-actual_duration",
        "updatemenus": [
         {
          "buttons": [
           {
            "args": [
             "orientation",
             "h"
            ],
            "label": "Horizontal",
            "method": "restyle"
           },
           {
            "args": [
             "orientation",
             "v"
            ],
            "label": "Vertical",
            "method": "restyle"
           }
          ],
          "y": 0.6
         }
        ]
       }
      },
      "text/html": [
       "<div>\n",
       "        \n",
       "        \n",
       "            <div id=\"bb984d8c-8bc4-4df9-94aa-ad475c575bb1\" class=\"plotly-graph-div\" style=\"height:750px; width:100%;\"></div>\n",
       "            <script type=\"text/javascript\">\n",
       "                require([\"plotly\"], function(Plotly) {\n",
       "                    window.PLOTLYENV=window.PLOTLYENV || {};\n",
       "                    \n",
       "                if (document.getElementById(\"bb984d8c-8bc4-4df9-94aa-ad475c575bb1\")) {\n",
       "                    Plotly.newPlot(\n",
       "                        'bb984d8c-8bc4-4df9-94aa-ad475c575bb1',\n",
       "                        [{\"link\": {\"color\": [\"#b2ffb2\", \"#b2ffb2\", \"#ffffb2\", \"#ffffb2\", \"#ffffb2\", \"#ffffb2\", \"#ffffb2\", \"#b2ffb2\", \"#b2ffb2\", \"#ffffb2\", \"#b2ffb2\", \"#ffffb2\"], \"label\": [\"\\nDescription: Filter relation to hold only relevant records.Filter condition: (titles_1.genres = 'Action'::text)\", \"\\nDescription: Used in a UNION to merge multiple record sets by appending them together.\", \"\\nDescription: Finds relevant records based on an Index. Index Scans perform 2 read operations: one to read the index and another to read the actual value from the table.\", \"\\nDescription: Finds relevant records by sequentially scanning the input record set. When reading from a table, Seq Scans (unlike Index Scans) perform a single read operation (only the table is read).\", \"\\nDescription: Filter relation to hold only relevant records.Filter condition: (people.name = ANY ('{\\\"Owen Wilson\\\",\\\"Adam Sandler\\\",\\\"Jason Segel\\\"}'::text[]))\", \"\\nDescription: Merges two record sets by looping through every record in the first set and trying to find a match in the second set. All matching records are returned.Inner Join\", \"\\nDescription: Finds relevant records by sequentially scanning the input record set. When reading from a table, Seq Scans (unlike Index Scans) perform a single read operation (only the table is read).\", \"\\nDescription: Finds relevant records by sequentially scanning the input record set. When reading from a table, Seq Scans (unlike Index Scans) perform a single read operation (only the table is read).\", \"\\nDescription: Finds relevant records by sequentially scanning the input record set. When reading from a table, Seq Scans (unlike Index Scans) perform a single read operation (only the table is read).\", \"\\nDescription: Filter relation to hold only relevant records.Filter condition: (titles.genres = 'Comedy'::text)\", \"\\nDescription: Filter relation to hold only relevant records.Filter condition: (titles.genres = 'Comedy'::text)\", \"\\nDescription: Joins to record sets by hashing one of them (using a Hash Scan).Inner Join with ( t i t l e s . t i t l e _ i d   =   c r e w . t i t l e _ i d )\"], \"source\": [0, 1, 2, 3, 4, 5, 6, 6, 6, 7, 7, 8], \"target\": [1, 10, 5, 4, 5, 8, 7, 7, 0, 8, 1, 9], \"value\": [1, 839, 1, 865, 1, 2, 722, 1831, 715, 1, 1, 1045]}, \"node\": {\"color\": [\"black\", \"black\", \"black\", \"black\", \"black\", \"black\", \"black\", \"black\", \"black\", \"black\", \"black\", \"black\"], \"label\": [\"Titles*\", \"Titles* U Titles*\", \"Crew_Index\", \"People\", \"People*\", \"Crew_Index \\u22c8 People*\", \"Titles\", \"Titles*\", \"Crew_Index \\u22c8 People* \\u22c8 Titles*\"], \"pad\": 200}, \"orientation\": \"h\", \"type\": \"sankey\", \"valueformat\": \",\", \"valuesuffix\": [\" Seconds\", \" Seconds\", \" Seconds\", \" Seconds\", \" Seconds\", \" Seconds\", \" Seconds\", \" Seconds\", \" Seconds\", \" Seconds\", \" Seconds\", \" Seconds\"]}],\n",
       "                        {\"font\": {\"size\": 10}, \"height\": 750, \"title\": \"multiple queries optimization-actual_duration\", \"updatemenus\": [{\"buttons\": [{\"args\": [\"orientation\", \"h\"], \"label\": \"Horizontal\", \"method\": \"restyle\"}, {\"args\": [\"orientation\", \"v\"], \"label\": \"Vertical\", \"method\": \"restyle\"}], \"y\": 0.6}]},\n",
       "                        {\"responsive\": true}\n",
       "                    ).then(function(){\n",
       "                            \n",
       "var gd = document.getElementById('bb984d8c-8bc4-4df9-94aa-ad475c575bb1');\n",
       "var x = new MutationObserver(function (mutations, observer) {{\n",
       "        var display = window.getComputedStyle(gd).display;\n",
       "        if (!display || display === 'none') {{\n",
       "            console.log([gd, 'removed!']);\n",
       "            Plotly.purge(gd);\n",
       "            observer.disconnect();\n",
       "        }}\n",
       "}});\n",
       "\n",
       "// Listen for the removal of the full notebook cells\n",
       "var notebookContainer = gd.closest('#notebook-container');\n",
       "if (notebookContainer) {{\n",
       "    x.observe(notebookContainer, {childList: true});\n",
       "}}\n",
       "\n",
       "// Listen for the clearing of the current output cell\n",
       "var outputEl = gd.closest('.output');\n",
       "if (outputEl) {{\n",
       "    x.observe(outputEl, {childList: true});\n",
       "}}\n",
       "\n",
       "                        })\n",
       "                };\n",
       "                });\n",
       "            </script>\n",
       "        </div>"
      ]
     },
     "metadata": {},
     "output_type": "display_data"
    },
    {
     "data": {
      "text/html": [
       "<div>\n",
       "<style scoped>\n",
       "    .dataframe tbody tr th:only-of-type {\n",
       "        vertical-align: middle;\n",
       "    }\n",
       "\n",
       "    .dataframe tbody tr th {\n",
       "        vertical-align: top;\n",
       "    }\n",
       "\n",
       "    .dataframe thead th {\n",
       "        text-align: right;\n",
       "    }\n",
       "</style>\n",
       "<table border=\"1\" class=\"dataframe\">\n",
       "  <thead>\n",
       "    <tr style=\"text-align: right;\">\n",
       "      <th></th>\n",
       "      <th>source</th>\n",
       "      <th>target</th>\n",
       "      <th>label</th>\n",
       "      <th>actual_duration</th>\n",
       "      <th>actual_rows</th>\n",
       "    </tr>\n",
       "  </thead>\n",
       "  <tbody>\n",
       "    <tr>\n",
       "      <th>0</th>\n",
       "      <td>0</td>\n",
       "      <td>1</td>\n",
       "      <td>Titles*</td>\n",
       "      <td>0.000</td>\n",
       "      <td>10483</td>\n",
       "    </tr>\n",
       "    <tr>\n",
       "      <th>1</th>\n",
       "      <td>1</td>\n",
       "      <td>10</td>\n",
       "      <td>Titles* U Titles*</td>\n",
       "      <td>839.371</td>\n",
       "      <td>562164</td>\n",
       "    </tr>\n",
       "    <tr>\n",
       "      <th>2</th>\n",
       "      <td>2</td>\n",
       "      <td>5</td>\n",
       "      <td>Crew_Index</td>\n",
       "      <td>0.665</td>\n",
       "      <td>191</td>\n",
       "    </tr>\n",
       "    <tr>\n",
       "      <th>3</th>\n",
       "      <td>3</td>\n",
       "      <td>4</td>\n",
       "      <td>People</td>\n",
       "      <td>865.543</td>\n",
       "      <td>3560478</td>\n",
       "    </tr>\n",
       "    <tr>\n",
       "      <th>4</th>\n",
       "      <td>4</td>\n",
       "      <td>5</td>\n",
       "      <td>People*</td>\n",
       "      <td>0.000</td>\n",
       "      <td>3</td>\n",
       "    </tr>\n",
       "    <tr>\n",
       "      <th>5</th>\n",
       "      <td>5</td>\n",
       "      <td>8</td>\n",
       "      <td>Crew_Index ⋈ People*</td>\n",
       "      <td>2.125</td>\n",
       "      <td>572</td>\n",
       "    </tr>\n",
       "    <tr>\n",
       "      <th>6</th>\n",
       "      <td>6</td>\n",
       "      <td>7</td>\n",
       "      <td>Titles</td>\n",
       "      <td>722.860</td>\n",
       "      <td>2522032</td>\n",
       "    </tr>\n",
       "    <tr>\n",
       "      <th>7</th>\n",
       "      <td>6</td>\n",
       "      <td>7</td>\n",
       "      <td>Titles</td>\n",
       "      <td>1831.504</td>\n",
       "      <td>7566096</td>\n",
       "    </tr>\n",
       "    <tr>\n",
       "      <th>8</th>\n",
       "      <td>6</td>\n",
       "      <td>0</td>\n",
       "      <td>Titles</td>\n",
       "      <td>715.499</td>\n",
       "      <td>2522032</td>\n",
       "    </tr>\n",
       "    <tr>\n",
       "      <th>9</th>\n",
       "      <td>7</td>\n",
       "      <td>8</td>\n",
       "      <td>Titles*</td>\n",
       "      <td>0.000</td>\n",
       "      <td>176905</td>\n",
       "    </tr>\n",
       "    <tr>\n",
       "      <th>10</th>\n",
       "      <td>7</td>\n",
       "      <td>1</td>\n",
       "      <td>Titles*</td>\n",
       "      <td>0.000</td>\n",
       "      <td>530715</td>\n",
       "    </tr>\n",
       "    <tr>\n",
       "      <th>11</th>\n",
       "      <td>8</td>\n",
       "      <td>9</td>\n",
       "      <td>Crew_Index ⋈ People* ⋈ Titles*</td>\n",
       "      <td>1045.727</td>\n",
       "      <td>15</td>\n",
       "    </tr>\n",
       "  </tbody>\n",
       "</table>\n",
       "</div>"
      ],
      "text/plain": [
       "    source  target                           label  actual_duration  \\\n",
       "0        0       1                         Titles*            0.000   \n",
       "1        1      10               Titles* U Titles*          839.371   \n",
       "2        2       5                      Crew_Index            0.665   \n",
       "3        3       4                          People          865.543   \n",
       "4        4       5                         People*            0.000   \n",
       "5        5       8            Crew_Index ⋈ People*            2.125   \n",
       "6        6       7                          Titles          722.860   \n",
       "7        6       7                          Titles         1831.504   \n",
       "8        6       0                          Titles          715.499   \n",
       "9        7       8                         Titles*            0.000   \n",
       "10       7       1                         Titles*            0.000   \n",
       "11       8       9  Crew_Index ⋈ People* ⋈ Titles*         1045.727   \n",
       "\n",
       "    actual_rows  \n",
       "0         10483  \n",
       "1        562164  \n",
       "2           191  \n",
       "3       3560478  \n",
       "4             3  \n",
       "5           572  \n",
       "6       2522032  \n",
       "7       7566096  \n",
       "8       2522032  \n",
       "9        176905  \n",
       "10       530715  \n",
       "11           15  "
      ]
     },
     "execution_count": 63,
     "metadata": {},
     "output_type": "execute_result"
    }
   ],
   "source": [
    "fake_flow_df = query_renderer.get_flow_df(queries, con_str=con_str)\n",
    "# 2,6\n",
    "query_renderer.vizualize(flow_df, metrics=[\"actual_duration\"], title=\"multiple queries optimization\",open_=False)\n",
    "flow_df[[\"source\",\"target\", \"label\", \"actual_duration\", \"actual_rows\"]]"
   ]
  },
  {
   "cell_type": "code",
   "execution_count": 64,
   "metadata": {},
   "outputs": [
    {
     "name": "stdout",
     "output_type": "stream",
     "text": [
      "CPU times: user 35.3 ms, sys: 23.9 ms, total: 59.2 ms\n",
      "Wall time: 3.69 s\n"
     ]
    }
   ],
   "source": [
    "%%time\n",
    "with create_engine(con_str).connect() as con:\n",
    "    for query in queries:\n",
    "        con.execute(query)"
   ]
  },
  {
   "cell_type": "code",
   "execution_count": 65,
   "metadata": {},
   "outputs": [],
   "source": [
    "with create_engine(con_str).connect() as con:\n",
    "    con.execute(\"DROP INDEX if exists crew_index\")\n",
    "    con.execute(\"DROP INDEX if exists titles_index\")"
   ]
  },
  {
   "cell_type": "code",
   "execution_count": null,
   "metadata": {},
   "outputs": [],
   "source": []
  },
  {
   "cell_type": "code",
   "execution_count": null,
   "metadata": {},
   "outputs": [],
   "source": []
  }
 ],
 "metadata": {
  "kernelspec": {
   "display_name": "Python 3",
   "language": "python",
   "name": "python3"
  },
  "language_info": {
   "codemirror_mode": {
    "name": "ipython",
    "version": 3
   },
   "file_extension": ".py",
   "mimetype": "text/x-python",
   "name": "python",
   "nbconvert_exporter": "python",
   "pygments_lexer": "ipython3",
   "version": "3.7.4"
  }
 },
 "nbformat": 4,
 "nbformat_minor": 4
}
