{
 "cells": [
  {
   "cell_type": "code",
   "execution_count": 1,
   "metadata": {},
   "outputs": [],
   "source": [
    "import pandas as pd\n",
    "\n",
    "from plotly.offline import init_notebook_mode\n",
    "from sqlalchemy import create_engine\n",
    "\n",
    "from query_flow.parsers.postgres_parser import PostgresParser\n",
    "from query_flow.vizualizers.query_vizualizer import QueryVizualizer\n",
    "from plotly.offline import plot, iplot\n"
   ]
  },
  {
   "cell_type": "code",
   "execution_count": 2,
   "metadata": {},
   "outputs": [
    {
     "data": {
      "text/html": [
       "        <script type=\"text/javascript\">\n",
       "        window.PlotlyConfig = {MathJaxConfig: 'local'};\n",
       "        if (window.MathJax) {MathJax.Hub.Config({SVG: {font: \"STIX-Web\"}});}\n",
       "        if (typeof require !== 'undefined') {\n",
       "        require.undef(\"plotly\");\n",
       "        requirejs.config({\n",
       "            paths: {\n",
       "                'plotly': ['https://cdn.plot.ly/plotly-latest.min']\n",
       "            }\n",
       "        });\n",
       "        require(['plotly'], function(Plotly) {\n",
       "            window._Plotly = Plotly;\n",
       "        });\n",
       "        }\n",
       "        </script>\n",
       "        "
      ]
     },
     "metadata": {},
     "output_type": "display_data"
    }
   ],
   "source": [
    "%load_ext autoreload\n",
    "%autoreload 2\n",
    "\n",
    "init_notebook_mode(connected=True)"
   ]
  },
  {
   "cell_type": "code",
   "execution_count": 3,
   "metadata": {},
   "outputs": [],
   "source": [
    "con_str = 'postgresql:///etrabelsi_thesis'"
   ]
  },
  {
   "cell_type": "markdown",
   "metadata": {},
   "source": [
    "## Identifying performance bottlenecks in a multiple queries"
   ]
  },
  {
   "cell_type": "code",
   "execution_count": 46,
   "metadata": {},
   "outputs": [],
   "source": [
    "query_renderer = QueryVizualizer(parser=PostgresParser(is_compact=True))"
   ]
  },
  {
   "cell_type": "code",
   "execution_count": 47,
   "metadata": {},
   "outputs": [],
   "source": [
    "with create_engine(con_str).connect() as con:\n",
    "    execution_plan = con.execute(\"DROP INDEX if exists titles_index\")"
   ]
  },
  {
   "cell_type": "code",
   "execution_count": 48,
   "metadata": {},
   "outputs": [],
   "source": [
    "query1 = \"\"\"\n",
    "SELECT titles.title_id\n",
    "FROM titles\n",
    "INNER JOIN crew ON crew.title_id = titles.title_id\n",
    "INNER JOIN people ON people.person_id = crew.person_id\n",
    "WHERE genres = 'Comedy' \n",
    "  AND name in ('Owen Wilson', 'Adam Sandler', 'Jason Segel')\n",
    "\"\"\"\n",
    "\n",
    "\n",
    "query2 = \"\"\"\n",
    "SELECT titles.title_id\n",
    "FROM titles\n",
    "WHERE genres = 'Comedy' \n",
    "UNION \n",
    "SELECT titles.title_id\n",
    "FROM titles\n",
    "WHERE genres = 'Action' \n",
    "\"\"\"\n",
    "\n",
    "queries = [query1, query2]\n"
   ]
  },
  {
   "cell_type": "code",
   "execution_count": 49,
   "metadata": {},
   "outputs": [
    {
     "name": "stderr",
     "output_type": "stream",
     "text": [
      "WARNING:root:Currently cache cleaning is not supported\n",
      "WARNING:root:Currently cache cleaning is not supported\n"
     ]
    },
    {
     "data": {
      "application/vnd.plotly.v1+json": {
       "config": {
        "linkText": "Export to plot.ly",
        "plotlyServerURL": "https://plot.ly",
        "showLink": false
       },
       "data": [
        {
         "link": {
          "color": [
           "#ffffb2",
           "#ffffb2",
           "#ffffb2",
           "#b2ffb2",
           "#b2ffb2",
           "#b2ffb2",
           "#b2ffb2",
           "#b2ffb2",
           "#ffffb2",
           "#ffffb2",
           "#b2ffb2",
           "#ffffb2",
           "#b2ffb2"
          ],
          "label": [
           "\nDescription: Filter relation to hold only relevant records.Filter condition: (titles_1.genres = 'Action'::text)",
           "\nDescription: Used in a UNION to merge multiple record sets by appending them together.",
           "\nDescription: Remove duplicated rows from a record set.",
           "\nDescription: Finds relevant records by sequentially scanning the input record set. When reading from a table, Seq Scans (unlike Index Scans) perform a single read operation (only the table is read).",
           "\nDescription: Filter relation to hold only relevant records.Filter condition: (people.name = ANY ('{\"Owen Wilson\",\"Adam Sandler\",\"Jason Segel\"}'::text[]))",
           "\nDescription: Finds relevant records by sequentially scanning the input record set. When reading from a table, Seq Scans (unlike Index Scans) perform a single read operation (only the table is read).",
           "\nDescription: Joins to record sets by hashing one of them (using a Hash Scan).Hash Cond ('Inner', '(crew.person_id = people.person_id)')",
           "\nDescription: Finds relevant records by sequentially scanning the input record set. When reading from a table, Seq Scans (unlike Index Scans) perform a single read operation (only the table is read).",
           "\nDescription: Finds relevant records by sequentially scanning the input record set. When reading from a table, Seq Scans (unlike Index Scans) perform a single read operation (only the table is read).",
           "\nDescription: Finds relevant records by sequentially scanning the input record set. When reading from a table, Seq Scans (unlike Index Scans) perform a single read operation (only the table is read).",
           "\nDescription: Filter relation to hold only relevant records.Filter condition: (titles.genres = 'Comedy'::text)",
           "\nDescription: Filter relation to hold only relevant records.Filter condition: (titles.genres = 'Comedy'::text)",
           "\nDescription: Joins to record sets by hashing one of them (using a Hash Scan).Hash Cond ('Inner', '(titles.title_id = crew.title_id)')"
          ],
          "source": [
           0,
           1,
           2,
           3,
           4,
           5,
           6,
           7,
           7,
           7,
           8,
           8,
           9
          ],
          "target": [
           1,
           2,
           11,
           4,
           6,
           6,
           9,
           8,
           8,
           0,
           9,
           1,
           10
          ],
          "value": [
           1,
           233,
           350,
           510,
           1,
           1415,
           2135,
           397,
           411,
           593,
           -14,
           1,
           422
          ]
         },
         "node": {
          "color": [
           "black",
           "black",
           "black",
           "black",
           "black",
           "black",
           "black",
           "black",
           "black",
           "black",
           "black",
           "black",
           "black"
          ],
          "label": [
           "Titles*",
           "Titles* U Titles*",
           "Unique",
           "People",
           "People*",
           "Crew",
           "People* ⋈ Crew",
           "Titles",
           "Titles*",
           "People* ⋈ Crew ⋈ Titles*"
          ],
          "pad": 200
         },
         "orientation": "h",
         "type": "sankey",
         "valueformat": ",",
         "valuesuffix": [
          " Seconds",
          " Seconds",
          " Seconds",
          " Seconds",
          " Seconds",
          " Seconds",
          " Seconds",
          " Seconds",
          " Seconds",
          " Seconds",
          " Seconds",
          " Seconds",
          " Seconds"
         ]
        }
       ],
       "layout": {
        "font": {
         "size": 10
        },
        "height": 750,
        "title": "crap",
        "updatemenus": [
         {
          "buttons": [
           {
            "args": [
             "orientation",
             "h"
            ],
            "label": "Horizontal",
            "method": "restyle"
           },
           {
            "args": [
             "orientation",
             "v"
            ],
            "label": "Vertical",
            "method": "restyle"
           }
          ],
          "y": 0.6
         }
        ]
       }
      },
      "text/html": [
       "<div>\n",
       "        \n",
       "        \n",
       "            <div id=\"607d1f91-9b2d-4d48-99ff-28065ba7bd3c\" class=\"plotly-graph-div\" style=\"height:750px; width:100%;\"></div>\n",
       "            <script type=\"text/javascript\">\n",
       "                require([\"plotly\"], function(Plotly) {\n",
       "                    window.PLOTLYENV=window.PLOTLYENV || {};\n",
       "                    \n",
       "                if (document.getElementById(\"607d1f91-9b2d-4d48-99ff-28065ba7bd3c\")) {\n",
       "                    Plotly.newPlot(\n",
       "                        '607d1f91-9b2d-4d48-99ff-28065ba7bd3c',\n",
       "                        [{\"link\": {\"color\": [\"#ffffb2\", \"#ffffb2\", \"#ffffb2\", \"#b2ffb2\", \"#b2ffb2\", \"#b2ffb2\", \"#b2ffb2\", \"#b2ffb2\", \"#ffffb2\", \"#ffffb2\", \"#b2ffb2\", \"#ffffb2\", \"#b2ffb2\"], \"label\": [\"\\nDescription: Filter relation to hold only relevant records.Filter condition: (titles_1.genres = 'Action'::text)\", \"\\nDescription: Used in a UNION to merge multiple record sets by appending them together.\", \"\\nDescription: Remove duplicated rows from a record set.\", \"\\nDescription: Finds relevant records by sequentially scanning the input record set. When reading from a table, Seq Scans (unlike Index Scans) perform a single read operation (only the table is read).\", \"\\nDescription: Filter relation to hold only relevant records.Filter condition: (people.name = ANY ('{\\\"Owen Wilson\\\",\\\"Adam Sandler\\\",\\\"Jason Segel\\\"}'::text[]))\", \"\\nDescription: Finds relevant records by sequentially scanning the input record set. When reading from a table, Seq Scans (unlike Index Scans) perform a single read operation (only the table is read).\", \"\\nDescription: Joins to record sets by hashing one of them (using a Hash Scan).Hash Cond ('Inner', '(crew.person_id = people.person_id)')\", \"\\nDescription: Finds relevant records by sequentially scanning the input record set. When reading from a table, Seq Scans (unlike Index Scans) perform a single read operation (only the table is read).\", \"\\nDescription: Finds relevant records by sequentially scanning the input record set. When reading from a table, Seq Scans (unlike Index Scans) perform a single read operation (only the table is read).\", \"\\nDescription: Finds relevant records by sequentially scanning the input record set. When reading from a table, Seq Scans (unlike Index Scans) perform a single read operation (only the table is read).\", \"\\nDescription: Filter relation to hold only relevant records.Filter condition: (titles.genres = 'Comedy'::text)\", \"\\nDescription: Filter relation to hold only relevant records.Filter condition: (titles.genres = 'Comedy'::text)\", \"\\nDescription: Joins to record sets by hashing one of them (using a Hash Scan).Hash Cond ('Inner', '(titles.title_id = crew.title_id)')\"], \"source\": [0, 1, 2, 3, 4, 5, 6, 7, 7, 7, 8, 8, 9], \"target\": [1, 2, 11, 4, 6, 6, 9, 8, 8, 0, 9, 1, 10], \"value\": [1, 233, 350, 510, 1, 1415, 2135, 397, 411, 593, -14, 1, 422]}, \"node\": {\"color\": [\"black\", \"black\", \"black\", \"black\", \"black\", \"black\", \"black\", \"black\", \"black\", \"black\", \"black\", \"black\", \"black\"], \"label\": [\"Titles*\", \"Titles* U Titles*\", \"Unique\", \"People\", \"People*\", \"Crew\", \"People* \\u22c8 Crew\", \"Titles\", \"Titles*\", \"People* \\u22c8 Crew \\u22c8 Titles*\"], \"pad\": 200}, \"orientation\": \"h\", \"type\": \"sankey\", \"valueformat\": \",\", \"valuesuffix\": [\" Seconds\", \" Seconds\", \" Seconds\", \" Seconds\", \" Seconds\", \" Seconds\", \" Seconds\", \" Seconds\", \" Seconds\", \" Seconds\", \" Seconds\", \" Seconds\", \" Seconds\"]}],\n",
       "                        {\"font\": {\"size\": 10}, \"height\": 750, \"title\": \"crap\", \"updatemenus\": [{\"buttons\": [{\"args\": [\"orientation\", \"h\"], \"label\": \"Horizontal\", \"method\": \"restyle\"}, {\"args\": [\"orientation\", \"v\"], \"label\": \"Vertical\", \"method\": \"restyle\"}], \"y\": 0.6}]},\n",
       "                        {\"responsive\": true}\n",
       "                    ).then(function(){\n",
       "                            \n",
       "var gd = document.getElementById('607d1f91-9b2d-4d48-99ff-28065ba7bd3c');\n",
       "var x = new MutationObserver(function (mutations, observer) {{\n",
       "        var display = window.getComputedStyle(gd).display;\n",
       "        if (!display || display === 'none') {{\n",
       "            console.log([gd, 'removed!']);\n",
       "            Plotly.purge(gd);\n",
       "            observer.disconnect();\n",
       "        }}\n",
       "}});\n",
       "\n",
       "// Listen for the removal of the full notebook cells\n",
       "var notebookContainer = gd.closest('#notebook-container');\n",
       "if (notebookContainer) {{\n",
       "    x.observe(notebookContainer, {childList: true});\n",
       "}}\n",
       "\n",
       "// Listen for the clearing of the current output cell\n",
       "var outputEl = gd.closest('.output');\n",
       "if (outputEl) {{\n",
       "    x.observe(outputEl, {childList: true});\n",
       "}}\n",
       "\n",
       "                        })\n",
       "                };\n",
       "                });\n",
       "            </script>\n",
       "        </div>"
      ]
     },
     "metadata": {},
     "output_type": "display_data"
    }
   ],
   "source": [
    "flow_df = query_renderer.get_flow_df(queries, con_str=con_str)\n",
    "query_renderer.vizualize(flow_df, metrics=[\"actual_duration\"], title=\"crap\",open_=False)"
   ]
  },
  {
   "cell_type": "code",
   "execution_count": 50,
   "metadata": {},
   "outputs": [],
   "source": [
    "with create_engine(con_str).connect() as con:\n",
    "    execution_plan = con.execute(\"CREATE INDEX if not exists titles_index ON titles(title_id,genres) WHERE genres like '%%Comedy%%'\")"
   ]
  },
  {
   "cell_type": "code",
   "execution_count": 51,
   "metadata": {},
   "outputs": [
    {
     "name": "stderr",
     "output_type": "stream",
     "text": [
      "WARNING:root:Currently cache cleaning is not supported\n",
      "WARNING:root:Currently cache cleaning is not supported\n"
     ]
    },
    {
     "data": {
      "application/vnd.plotly.v1+json": {
       "config": {
        "linkText": "Export to plot.ly",
        "plotlyServerURL": "https://plot.ly",
        "showLink": false
       },
       "data": [
        {
         "link": {
          "color": [
           "#ffffb2",
           "#ffffb2",
           "#ffffb2",
           "#b2ffb2",
           "#b2ffb2",
           "#b2ffb2",
           "#b2ffb2",
           "#b2ffb2",
           "#ffffb2",
           "#ffffb2",
           "#b2ffb2",
           "#ffffb2",
           "#b2ffb2"
          ],
          "label": [
           "\nDescription: Filter relation to hold only relevant records.Filter condition: (titles_1.genres = 'Action'::text)",
           "\nDescription: Used in a UNION to merge multiple record sets by appending them together.",
           "\nDescription: Remove duplicated rows from a record set.",
           "\nDescription: Finds relevant records by sequentially scanning the input record set. When reading from a table, Seq Scans (unlike Index Scans) perform a single read operation (only the table is read).",
           "\nDescription: Filter relation to hold only relevant records.Filter condition: (people.name = ANY ('{\"Owen Wilson\",\"Adam Sandler\",\"Jason Segel\"}'::text[]))",
           "\nDescription: Finds relevant records by sequentially scanning the input record set. When reading from a table, Seq Scans (unlike Index Scans) perform a single read operation (only the table is read).",
           "\nDescription: Joins to record sets by hashing one of them (using a Hash Scan).Hash Cond ('Inner', '(crew.person_id = people.person_id)')",
           "\nDescription: Finds relevant records by sequentially scanning the input record set. When reading from a table, Seq Scans (unlike Index Scans) perform a single read operation (only the table is read).",
           "\nDescription: Finds relevant records by sequentially scanning the input record set. When reading from a table, Seq Scans (unlike Index Scans) perform a single read operation (only the table is read).",
           "\nDescription: Finds relevant records by sequentially scanning the input record set. When reading from a table, Seq Scans (unlike Index Scans) perform a single read operation (only the table is read).",
           "\nDescription: Filter relation to hold only relevant records.Filter condition: (titles.genres = 'Comedy'::text)",
           "\nDescription: Filter relation to hold only relevant records.Filter condition: (titles.genres = 'Comedy'::text)",
           "\nDescription: Joins to record sets by hashing one of them (using a Hash Scan).Hash Cond ('Inner', '(titles.title_id = crew.title_id)')"
          ],
          "source": [
           0,
           1,
           2,
           3,
           4,
           5,
           6,
           7,
           7,
           7,
           8,
           8,
           9
          ],
          "target": [
           1,
           2,
           11,
           4,
           6,
           6,
           9,
           8,
           8,
           0,
           9,
           1,
           10
          ],
          "value": [
           1,
           220,
           344,
           525,
           1,
           1426,
           2156,
           410,
           391,
           573,
           1,
           -18,
           437
          ]
         },
         "node": {
          "color": [
           "black",
           "black",
           "black",
           "black",
           "black",
           "black",
           "black",
           "black",
           "black",
           "black",
           "black",
           "black",
           "black"
          ],
          "label": [
           "Titles*",
           "Titles* U Titles*",
           "Unique",
           "People",
           "People*",
           "Crew",
           "People* ⋈ Crew",
           "Titles",
           "Titles*",
           "People* ⋈ Crew ⋈ Titles*"
          ],
          "pad": 200
         },
         "orientation": "h",
         "type": "sankey",
         "valueformat": ",",
         "valuesuffix": [
          " Seconds",
          " Seconds",
          " Seconds",
          " Seconds",
          " Seconds",
          " Seconds",
          " Seconds",
          " Seconds",
          " Seconds",
          " Seconds",
          " Seconds",
          " Seconds",
          " Seconds"
         ]
        }
       ],
       "layout": {
        "font": {
         "size": 10
        },
        "height": 750,
        "title": "crap",
        "updatemenus": [
         {
          "buttons": [
           {
            "args": [
             "orientation",
             "h"
            ],
            "label": "Horizontal",
            "method": "restyle"
           },
           {
            "args": [
             "orientation",
             "v"
            ],
            "label": "Vertical",
            "method": "restyle"
           }
          ],
          "y": 0.6
         }
        ]
       }
      },
      "text/html": [
       "<div>\n",
       "        \n",
       "        \n",
       "            <div id=\"802f9800-853f-4d19-afbb-66db55915a35\" class=\"plotly-graph-div\" style=\"height:750px; width:100%;\"></div>\n",
       "            <script type=\"text/javascript\">\n",
       "                require([\"plotly\"], function(Plotly) {\n",
       "                    window.PLOTLYENV=window.PLOTLYENV || {};\n",
       "                    \n",
       "                if (document.getElementById(\"802f9800-853f-4d19-afbb-66db55915a35\")) {\n",
       "                    Plotly.newPlot(\n",
       "                        '802f9800-853f-4d19-afbb-66db55915a35',\n",
       "                        [{\"link\": {\"color\": [\"#ffffb2\", \"#ffffb2\", \"#ffffb2\", \"#b2ffb2\", \"#b2ffb2\", \"#b2ffb2\", \"#b2ffb2\", \"#b2ffb2\", \"#ffffb2\", \"#ffffb2\", \"#b2ffb2\", \"#ffffb2\", \"#b2ffb2\"], \"label\": [\"\\nDescription: Filter relation to hold only relevant records.Filter condition: (titles_1.genres = 'Action'::text)\", \"\\nDescription: Used in a UNION to merge multiple record sets by appending them together.\", \"\\nDescription: Remove duplicated rows from a record set.\", \"\\nDescription: Finds relevant records by sequentially scanning the input record set. When reading from a table, Seq Scans (unlike Index Scans) perform a single read operation (only the table is read).\", \"\\nDescription: Filter relation to hold only relevant records.Filter condition: (people.name = ANY ('{\\\"Owen Wilson\\\",\\\"Adam Sandler\\\",\\\"Jason Segel\\\"}'::text[]))\", \"\\nDescription: Finds relevant records by sequentially scanning the input record set. When reading from a table, Seq Scans (unlike Index Scans) perform a single read operation (only the table is read).\", \"\\nDescription: Joins to record sets by hashing one of them (using a Hash Scan).Hash Cond ('Inner', '(crew.person_id = people.person_id)')\", \"\\nDescription: Finds relevant records by sequentially scanning the input record set. When reading from a table, Seq Scans (unlike Index Scans) perform a single read operation (only the table is read).\", \"\\nDescription: Finds relevant records by sequentially scanning the input record set. When reading from a table, Seq Scans (unlike Index Scans) perform a single read operation (only the table is read).\", \"\\nDescription: Finds relevant records by sequentially scanning the input record set. When reading from a table, Seq Scans (unlike Index Scans) perform a single read operation (only the table is read).\", \"\\nDescription: Filter relation to hold only relevant records.Filter condition: (titles.genres = 'Comedy'::text)\", \"\\nDescription: Filter relation to hold only relevant records.Filter condition: (titles.genres = 'Comedy'::text)\", \"\\nDescription: Joins to record sets by hashing one of them (using a Hash Scan).Hash Cond ('Inner', '(titles.title_id = crew.title_id)')\"], \"source\": [0, 1, 2, 3, 4, 5, 6, 7, 7, 7, 8, 8, 9], \"target\": [1, 2, 11, 4, 6, 6, 9, 8, 8, 0, 9, 1, 10], \"value\": [1, 220, 344, 525, 1, 1426, 2156, 410, 391, 573, 1, -18, 437]}, \"node\": {\"color\": [\"black\", \"black\", \"black\", \"black\", \"black\", \"black\", \"black\", \"black\", \"black\", \"black\", \"black\", \"black\", \"black\"], \"label\": [\"Titles*\", \"Titles* U Titles*\", \"Unique\", \"People\", \"People*\", \"Crew\", \"People* \\u22c8 Crew\", \"Titles\", \"Titles*\", \"People* \\u22c8 Crew \\u22c8 Titles*\"], \"pad\": 200}, \"orientation\": \"h\", \"type\": \"sankey\", \"valueformat\": \",\", \"valuesuffix\": [\" Seconds\", \" Seconds\", \" Seconds\", \" Seconds\", \" Seconds\", \" Seconds\", \" Seconds\", \" Seconds\", \" Seconds\", \" Seconds\", \" Seconds\", \" Seconds\", \" Seconds\"]}],\n",
       "                        {\"font\": {\"size\": 10}, \"height\": 750, \"title\": \"crap\", \"updatemenus\": [{\"buttons\": [{\"args\": [\"orientation\", \"h\"], \"label\": \"Horizontal\", \"method\": \"restyle\"}, {\"args\": [\"orientation\", \"v\"], \"label\": \"Vertical\", \"method\": \"restyle\"}], \"y\": 0.6}]},\n",
       "                        {\"responsive\": true}\n",
       "                    ).then(function(){\n",
       "                            \n",
       "var gd = document.getElementById('802f9800-853f-4d19-afbb-66db55915a35');\n",
       "var x = new MutationObserver(function (mutations, observer) {{\n",
       "        var display = window.getComputedStyle(gd).display;\n",
       "        if (!display || display === 'none') {{\n",
       "            console.log([gd, 'removed!']);\n",
       "            Plotly.purge(gd);\n",
       "            observer.disconnect();\n",
       "        }}\n",
       "}});\n",
       "\n",
       "// Listen for the removal of the full notebook cells\n",
       "var notebookContainer = gd.closest('#notebook-container');\n",
       "if (notebookContainer) {{\n",
       "    x.observe(notebookContainer, {childList: true});\n",
       "}}\n",
       "\n",
       "// Listen for the clearing of the current output cell\n",
       "var outputEl = gd.closest('.output');\n",
       "if (outputEl) {{\n",
       "    x.observe(outputEl, {childList: true});\n",
       "}}\n",
       "\n",
       "                        })\n",
       "                };\n",
       "                });\n",
       "            </script>\n",
       "        </div>"
      ]
     },
     "metadata": {},
     "output_type": "display_data"
    }
   ],
   "source": [
    "flow_df = query_renderer.get_flow_df(queries, con_str=con_str)\n",
    "query_renderer.vizualize(flow_df, metrics=[\"actual_duration\"], title=\"crap\",open_=False)"
   ]
  },
  {
   "cell_type": "code",
   "execution_count": 52,
   "metadata": {},
   "outputs": [],
   "source": [
    "with create_engine(con_str).connect() as con:\n",
    "    execution_plan = con.execute(\"DROP INDEX if exists titles_index\")"
   ]
  },
  {
   "cell_type": "code",
   "execution_count": null,
   "metadata": {},
   "outputs": [],
   "source": []
  },
  {
   "cell_type": "code",
   "execution_count": null,
   "metadata": {},
   "outputs": [],
   "source": []
  },
  {
   "cell_type": "code",
   "execution_count": null,
   "metadata": {},
   "outputs": [],
   "source": []
  },
  {
   "cell_type": "code",
   "execution_count": null,
   "metadata": {},
   "outputs": [],
   "source": []
  },
  {
   "cell_type": "code",
   "execution_count": null,
   "metadata": {},
   "outputs": [],
   "source": []
  },
  {
   "cell_type": "code",
   "execution_count": null,
   "metadata": {},
   "outputs": [],
   "source": []
  },
  {
   "cell_type": "code",
   "execution_count": null,
   "metadata": {},
   "outputs": [],
   "source": []
  }
 ],
 "metadata": {
  "kernelspec": {
   "display_name": "Python 3",
   "language": "python",
   "name": "python3"
  },
  "language_info": {
   "codemirror_mode": {
    "name": "ipython",
    "version": 3
   },
   "file_extension": ".py",
   "mimetype": "text/x-python",
   "name": "python",
   "nbconvert_exporter": "python",
   "pygments_lexer": "ipython3",
   "version": "3.7.4"
  }
 },
 "nbformat": 4,
 "nbformat_minor": 4
}
