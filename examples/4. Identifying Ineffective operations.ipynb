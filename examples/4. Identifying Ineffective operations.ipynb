{
 "cells": [
  {
   "cell_type": "code",
   "execution_count": 31,
   "metadata": {},
   "outputs": [],
   "source": [
    "import pandas as pd\n",
    "\n",
    "from plotly.offline import init_notebook_mode\n",
    "from sqlalchemy import create_engine\n",
    "\n",
    "from query_flow.parsers.postgres_parser import PostgresParser\n",
    "from query_flow.vizualizers.query_vizualizer import QueryVizualizer"
   ]
  },
  {
   "cell_type": "code",
   "execution_count": 32,
   "metadata": {},
   "outputs": [
    {
     "name": "stdout",
     "output_type": "stream",
     "text": [
      "The autoreload extension is already loaded. To reload it, use:\n",
      "  %reload_ext autoreload\n"
     ]
    },
    {
     "data": {
      "text/html": [
       "        <script type=\"text/javascript\">\n",
       "        window.PlotlyConfig = {MathJaxConfig: 'local'};\n",
       "        if (window.MathJax) {MathJax.Hub.Config({SVG: {font: \"STIX-Web\"}});}\n",
       "        if (typeof require !== 'undefined') {\n",
       "        require.undef(\"plotly\");\n",
       "        requirejs.config({\n",
       "            paths: {\n",
       "                'plotly': ['https://cdn.plot.ly/plotly-latest.min']\n",
       "            }\n",
       "        });\n",
       "        require(['plotly'], function(Plotly) {\n",
       "            window._Plotly = Plotly;\n",
       "        });\n",
       "        }\n",
       "        </script>\n",
       "        "
      ]
     },
     "metadata": {},
     "output_type": "display_data"
    }
   ],
   "source": [
    "%load_ext autoreload\n",
    "%autoreload 2\n",
    "\n",
    "init_notebook_mode(connected=True)"
   ]
  },
  {
   "cell_type": "code",
   "execution_count": 33,
   "metadata": {},
   "outputs": [],
   "source": [
    "con_str = 'postgresql:///etrabelsi_thesis'\n"
   ]
  },
  {
   "cell_type": "markdown",
   "metadata": {},
   "source": [
    "## Identifying Ineffective operations"
   ]
  },
  {
   "cell_type": "code",
   "execution_count": 38,
   "metadata": {},
   "outputs": [],
   "source": [
    "query_renderer = QueryVizualizer(parser=PostgresParser())"
   ]
  },
  {
   "cell_type": "code",
   "execution_count": 42,
   "metadata": {},
   "outputs": [],
   "source": [
    "query = \"\"\"\n",
    "SELECT titles.title_id\n",
    "FROM titles\n",
    "WHERE genres = 'Comedy' \n",
    "UNION \n",
    "SELECT titles.title_id\n",
    "FROM titles\n",
    "WHERE genres = 'Action' \n",
    "\"\"\""
   ]
  },
  {
   "cell_type": "code",
   "execution_count": 44,
   "metadata": {},
   "outputs": [
    {
     "data": {
      "text/plain": [
       "5               Titles\n",
       "4              Titles*\n",
       "3               Titles\n",
       "2              Titles*\n",
       "1    Titles* U Titles*\n",
       "0               Unique\n",
       "Name: label, dtype: object"
      ]
     },
     "execution_count": 44,
     "metadata": {},
     "output_type": "execute_result"
    }
   ],
   "source": [
    "cardinality_df = query_renderer.get_cardinality_df(query, con_str)\n",
    "cardinality_df[\"label\"]"
   ]
  },
  {
   "cell_type": "code",
   "execution_count": 48,
   "metadata": {},
   "outputs": [
    {
     "data": {
      "application/vnd.plotly.v1+json": {
       "config": {
        "linkText": "Export to plot.ly",
        "plotlyServerURL": "https://plot.ly",
        "showLink": false
       },
       "data": [
        {
         "link": {
          "color": [
           "silver",
           "silver",
           "silver",
           "silver",
           "silver",
           "coral"
          ],
          "label": [
           null,
           "Filter condition: (titles_1.genres = 'Action'::text)",
           null,
           "Filter condition: (titles.genres = 'Comedy'::text)",
           null,
           null
          ],
          "source": [
           0,
           1,
           2,
           3,
           4,
           5
          ],
          "target": [
           1,
           4,
           3,
           4,
           5,
           6
          ],
          "value": [
           3568850,
           15538,
           2379234,
           171294,
           181653,
           181653
          ]
         },
         "node": {
          "color": [
           null,
           null,
           null,
           null,
           null,
           null
          ],
          "label": [
           "Titles",
           "Titles*",
           "Titles",
           "Titles*",
           "Titles* U Titles*",
           "Unique"
          ],
          "pad": 200
         },
         "orientation": "h",
         "type": "sankey",
         "valueformat": ",",
         "valuesuffix": [
          " Rows",
          " Rows",
          " Rows",
          " Rows",
          " Rows",
          " Rows"
         ]
        }
       ],
       "layout": {
        "font": {
         "size": 10
        },
        "height": 750,
        "title": "Ineffective Operations",
        "updatemenus": [
         {
          "buttons": [
           {
            "args": [
             "orientation",
             "h"
            ],
            "label": "Horizontal",
            "method": "restyle"
           },
           {
            "args": [
             "orientation",
             "v"
            ],
            "label": "Vertical",
            "method": "restyle"
           }
          ],
          "y": 0.6
         }
        ]
       }
      },
      "text/html": [
       "<div>\n",
       "        \n",
       "        \n",
       "            <div id=\"1dc317e7-c325-4cf7-9fd8-451d9a852279\" class=\"plotly-graph-div\" style=\"height:750px; width:100%;\"></div>\n",
       "            <script type=\"text/javascript\">\n",
       "                require([\"plotly\"], function(Plotly) {\n",
       "                    window.PLOTLYENV=window.PLOTLYENV || {};\n",
       "                    \n",
       "                if (document.getElementById(\"1dc317e7-c325-4cf7-9fd8-451d9a852279\")) {\n",
       "                    Plotly.newPlot(\n",
       "                        '1dc317e7-c325-4cf7-9fd8-451d9a852279',\n",
       "                        [{\"link\": {\"color\": [\"silver\", \"silver\", \"silver\", \"silver\", \"silver\", \"coral\"], \"label\": [null, \"Filter condition: (titles_1.genres = 'Action'::text)\", null, \"Filter condition: (titles.genres = 'Comedy'::text)\", null, null], \"source\": [0, 1, 2, 3, 4, 5], \"target\": [1, 4, 3, 4, 5, 6], \"value\": [3568850, 15538, 2379234, 171294, 181653, 181653]}, \"node\": {\"color\": [null, null, null, null, null, null], \"label\": [\"Titles\", \"Titles*\", \"Titles\", \"Titles*\", \"Titles* U Titles*\", \"Unique\"], \"pad\": 200}, \"orientation\": \"h\", \"type\": \"sankey\", \"valueformat\": \",\", \"valuesuffix\": [\" Rows\", \" Rows\", \" Rows\", \" Rows\", \" Rows\", \" Rows\"]}],\n",
       "                        {\"font\": {\"size\": 10}, \"height\": 750, \"title\": \"Ineffective Operations\", \"updatemenus\": [{\"buttons\": [{\"args\": [\"orientation\", \"h\"], \"label\": \"Horizontal\", \"method\": \"restyle\"}, {\"args\": [\"orientation\", \"v\"], \"label\": \"Vertical\", \"method\": \"restyle\"}], \"y\": 0.6}]},\n",
       "                        {\"responsive\": true}\n",
       "                    ).then(function(){\n",
       "                            \n",
       "var gd = document.getElementById('1dc317e7-c325-4cf7-9fd8-451d9a852279');\n",
       "var x = new MutationObserver(function (mutations, observer) {{\n",
       "        var display = window.getComputedStyle(gd).display;\n",
       "        if (!display || display === 'none') {{\n",
       "            console.log([gd, 'removed!']);\n",
       "            Plotly.purge(gd);\n",
       "            observer.disconnect();\n",
       "        }}\n",
       "}});\n",
       "\n",
       "// Listen for the removal of the full notebook cells\n",
       "var notebookContainer = gd.closest('#notebook-container');\n",
       "if (notebookContainer) {{\n",
       "    x.observe(notebookContainer, {childList: true});\n",
       "}}\n",
       "\n",
       "// Listen for the clearing of the current output cell\n",
       "var outputEl = gd.closest('.output');\n",
       "if (outputEl) {{\n",
       "    x.observe(outputEl, {childList: true});\n",
       "}}\n",
       "\n",
       "                        })\n",
       "                };\n",
       "                });\n",
       "            </script>\n",
       "        </div>"
      ]
     },
     "metadata": {},
     "output_type": "display_data"
    }
   ],
   "source": [
    "cardinality_df = query_renderer.get_cardinality_df(query, con_str)\n",
    "cardinality_df = pd.read_csv(\"../proposal/data/ineffective_operation_query_flow_representation.csv\")\n",
    "query_renderer.vizualize(cardinality_df, title=\"Ineffective Operations\", metrics=[\"actual_rows\"], open_=False)\n"
   ]
  },
  {
   "cell_type": "code",
   "execution_count": 47,
   "metadata": {},
   "outputs": [
    {
     "data": {
      "application/vnd.plotly.v1+json": {
       "config": {
        "linkText": "Export to plot.ly",
        "plotlyServerURL": "https://plot.ly",
        "showLink": false
       },
       "data": [
        {
         "link": {
          "color": [
           "silver",
           "silver",
           "silver",
           "silver",
           "silver"
          ],
          "label": [
           null,
           "Filter condition: (titles_1.genres = 'Action'::text)",
           null,
           "Filter condition: (titles.genres = 'Comedy'::text)",
           null
          ],
          "source": [
           0,
           1,
           2,
           3,
           4
          ],
          "target": [
           1,
           4,
           3,
           4,
           5
          ],
          "value": [
           3568850,
           15538,
           2379234,
           171294,
           181653
          ]
         },
         "node": {
          "color": [
           null,
           null,
           null,
           null,
           null
          ],
          "label": [
           "Titles",
           "Titles*",
           "Titles",
           "Titles*",
           "Titles* U Titles*"
          ],
          "pad": 200
         },
         "orientation": "h",
         "type": "sankey",
         "valueformat": ",",
         "valuesuffix": [
          " Rows",
          " Rows",
          " Rows",
          " Rows",
          " Rows"
         ]
        }
       ],
       "layout": {
        "font": {
         "size": 10
        },
        "height": 750,
        "title": "Ineffective Operations",
        "updatemenus": [
         {
          "buttons": [
           {
            "args": [
             "orientation",
             "h"
            ],
            "label": "Horizontal",
            "method": "restyle"
           },
           {
            "args": [
             "orientation",
             "v"
            ],
            "label": "Vertical",
            "method": "restyle"
           }
          ],
          "y": 0.6
         }
        ]
       }
      },
      "text/html": [
       "<div>\n",
       "        \n",
       "        \n",
       "            <div id=\"ac53e4ba-f080-4cbb-8e13-c008fec7471b\" class=\"plotly-graph-div\" style=\"height:750px; width:100%;\"></div>\n",
       "            <script type=\"text/javascript\">\n",
       "                require([\"plotly\"], function(Plotly) {\n",
       "                    window.PLOTLYENV=window.PLOTLYENV || {};\n",
       "                    \n",
       "                if (document.getElementById(\"ac53e4ba-f080-4cbb-8e13-c008fec7471b\")) {\n",
       "                    Plotly.newPlot(\n",
       "                        'ac53e4ba-f080-4cbb-8e13-c008fec7471b',\n",
       "                        [{\"link\": {\"color\": [\"silver\", \"silver\", \"silver\", \"silver\", \"silver\"], \"label\": [null, \"Filter condition: (titles_1.genres = 'Action'::text)\", null, \"Filter condition: (titles.genres = 'Comedy'::text)\", null], \"source\": [0, 1, 2, 3, 4], \"target\": [1, 4, 3, 4, 5], \"value\": [3568850, 15538, 2379234, 171294, 181653]}, \"node\": {\"color\": [null, null, null, null, null], \"label\": [\"Titles\", \"Titles*\", \"Titles\", \"Titles*\", \"Titles* U Titles*\"], \"pad\": 200}, \"orientation\": \"h\", \"type\": \"sankey\", \"valueformat\": \",\", \"valuesuffix\": [\" Rows\", \" Rows\", \" Rows\", \" Rows\", \" Rows\"]}],\n",
       "                        {\"font\": {\"size\": 10}, \"height\": 750, \"title\": \"Ineffective Operations\", \"updatemenus\": [{\"buttons\": [{\"args\": [\"orientation\", \"h\"], \"label\": \"Horizontal\", \"method\": \"restyle\"}, {\"args\": [\"orientation\", \"v\"], \"label\": \"Vertical\", \"method\": \"restyle\"}], \"y\": 0.6}]},\n",
       "                        {\"responsive\": true}\n",
       "                    ).then(function(){\n",
       "                            \n",
       "var gd = document.getElementById('ac53e4ba-f080-4cbb-8e13-c008fec7471b');\n",
       "var x = new MutationObserver(function (mutations, observer) {{\n",
       "        var display = window.getComputedStyle(gd).display;\n",
       "        if (!display || display === 'none') {{\n",
       "            console.log([gd, 'removed!']);\n",
       "            Plotly.purge(gd);\n",
       "            observer.disconnect();\n",
       "        }}\n",
       "}});\n",
       "\n",
       "// Listen for the removal of the full notebook cells\n",
       "var notebookContainer = gd.closest('#notebook-container');\n",
       "if (notebookContainer) {{\n",
       "    x.observe(notebookContainer, {childList: true});\n",
       "}}\n",
       "\n",
       "// Listen for the clearing of the current output cell\n",
       "var outputEl = gd.closest('.output');\n",
       "if (outputEl) {{\n",
       "    x.observe(outputEl, {childList: true});\n",
       "}}\n",
       "\n",
       "                        })\n",
       "                };\n",
       "                });\n",
       "            </script>\n",
       "        </div>"
      ]
     },
     "metadata": {},
     "output_type": "display_data"
    }
   ],
   "source": [
    "cardinality_df = pd.read_csv(\"../proposal/data/fixed_ineffective_operation_query_flow_representation.csv\")\n",
    "query_renderer.vizualize(cardinality_df, title=\"Ineffective Operations\", metrics=[\"actual_rows\"], open_=False)\n"
   ]
  },
  {
   "cell_type": "code",
   "execution_count": null,
   "metadata": {},
   "outputs": [],
   "source": []
  },
  {
   "cell_type": "code",
   "execution_count": null,
   "metadata": {},
   "outputs": [],
   "source": []
  },
  {
   "cell_type": "code",
   "execution_count": null,
   "metadata": {},
   "outputs": [],
   "source": []
  },
  {
   "cell_type": "code",
   "execution_count": null,
   "metadata": {},
   "outputs": [],
   "source": []
  },
  {
   "cell_type": "code",
   "execution_count": null,
   "metadata": {},
   "outputs": [],
   "source": []
  }
 ],
 "metadata": {
  "kernelspec": {
   "display_name": "Python 3",
   "language": "python",
   "name": "python3"
  },
  "language_info": {
   "codemirror_mode": {
    "name": "ipython",
    "version": 3
   },
   "file_extension": ".py",
   "mimetype": "text/x-python",
   "name": "python",
   "nbconvert_exporter": "python",
   "pygments_lexer": "ipython3",
   "version": "3.7.4"
  }
 },
 "nbformat": 4,
 "nbformat_minor": 4
}
